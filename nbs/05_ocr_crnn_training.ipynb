{
 "cells": [
  {
   "cell_type": "code",
   "execution_count": null,
   "metadata": {},
   "outputs": [],
   "source": [
    "# default_exp ocr_crnn_training"
   ]
  },
  {
   "cell_type": "code",
   "execution_count": null,
   "metadata": {},
   "outputs": [],
   "source": [
    "#export\n",
    "from fastai import *\n",
    "from fastai.vision import *\n",
    "import pandas as pd\n",
    "import numpy as np\n",
    "import cv2\n",
    "from tqdm.notebook import tqdm"
   ]
  },
  {
   "cell_type": "code",
   "execution_count": null,
   "metadata": {},
   "outputs": [],
   "source": [
    "import matplotlib.pyplot as plt\n",
    "%matplotlib inline"
   ]
  },
  {
   "cell_type": "code",
   "execution_count": null,
   "metadata": {},
   "outputs": [],
   "source": [
    "#export\n",
    "from ocr.core import save_inference, load_inference\n",
    "from ocr.ocr_dataset_fontsynth import create_df as create_fontsynth_df\n",
    "from ocr.ocr_dataset_sroie2019 import create_df as create_sroie_df\n",
    "from ocr.ocr_dataset_brno import create_df as create_brno_df\n",
    "from ocr.ocr_dataset_sroie2019 import sroie_ocr_config, DATA_PATH, char_freq\n",
    "from ocr.ocr_dataset_fontsynth import fontsynth_config, char_freq\n",
    "from ocr.ocr_dataset_brno import brno_ocr_config\n",
    "PAD = sroie_ocr_config.PAD # PAD - how much is data padded\n",
    "PAD = 0\n",
    "DATA_PATH = fontsynth_config.LINES_DIR"
   ]
  },
  {
   "cell_type": "code",
   "execution_count": null,
   "metadata": {},
   "outputs": [],
   "source": [
    "# assert DATA_PATH == os.path.join('../data/ocr/lines')"
   ]
  },
  {
   "cell_type": "code",
   "execution_count": null,
   "metadata": {},
   "outputs": [],
   "source": [
    "#export\n",
    "allowed_chars = {'N', '3', 'V', 'P', '7', '1', '#', '9', '\"', 'C', 'Q', 'B', 'E', '>', '@', ',', 'M', '{', ']', \n",
    "                 ';', '^', \"'\", '&', '6', 'Z', '*', '<', '+', 'G', 'X', '!', ':', '-', '[', '|', '$', '5', 'I', \n",
    "                 'H', '=', 'Y', '.', 'R', 'S', '/', 'T', '}', 'K', '0', '?', 'U', ')', '_', 'D', 'J', 'L', '4', \n",
    "                 'W', '%', '(', ' ', 'F', '8', '~', '\\\\', 'A', '2', 'O'}\n",
    "\n",
    "allowed_chars = fontsynth_config.allowed_chars\n",
    "\n",
    "allowed_fonts = ['Unknown', 'Andale_Mono', 'Arial', 'Arial_Black', 'Arial_Bold', 'Arial_Bold_Italic', 'Arial_Italic',\n",
    "'Comic_Sans_MS_Bold', 'Courier_New', 'Courier_New_Bold', 'Courier_New_Bold_Italic', 'Courier_New_Italic',\n",
    "'Georgia', 'Georgia_Bold', 'Georgia_Bold_Italic', 'Georgia_Italic', 'Impact', 'Times_New_Roman',\n",
    "'Times_New_Roman_Bold', 'Times_New_Roman_Bold_Italic', 'Times_New_Roman_Italic', 'Trebuchet_MS',\n",
    "'Trebuchet_MS_Bold', 'Trebuchet_MS_Bold_Italic', 'Trebuchet_MS_Italic', 'Verdana', 'Verdana_Bold',\n",
    "'Verdana_Bold_Italic', 'Verdana_Italic', 'brno_easy', 'brno_medium', 'sroie2019', 'Comic_Sans_MS']\n",
    "\n",
    "class crnn_config:\n",
    "    LINE_HEIGHT = 48\n",
    "    USE_DEFAULT_CLASSES = True\n",
    "    label_delim = '`'\n",
    "    pad_idx = 0 # aka: label_delim idx\n",
    "    allowed_chars = allowed_chars\n",
    "    allowed_fonts = allowed_fonts"
   ]
  },
  {
   "cell_type": "markdown",
   "metadata": {},
   "source": [
    "### Prep"
   ]
  },
  {
   "cell_type": "code",
   "execution_count": null,
   "metadata": {},
   "outputs": [
    {
     "name": "stdout",
     "output_type": "stream",
     "text": [
      "{'`': 3, '$': 3, '&': 4, 'Q': 7, ']': 14, '[': 17, '*': 19, '?': 19, '~': 27, '|': 29, 'q': 32, '!': 36, 'Ū': 42, '>': 65, '<': 67, 'Y': 80, '_': 80, 'Z': 82, 'x': 105, '+': 111, 'Į': 118, '=': 124, 'W': 126, '/': 131, \"'\": 136, 'w': 158, 'Č': 172, 'U': 202, ';': 236, '%': 481, 'Ž': 485, 'F': 503, 'O': 510, 'C': 524, 'H': 563, '-': 816, ':': 921, 'Š': 1024, 'X': 1083, 'G': 1091, 'N': 1190, '7': 1236, '6': 1252, 'E': 1331, '4': 1413, '8': 1423, 'M': 1501, '3': 1583, 'J': 1659, 'B': 1663, 'D': 1670, 'R': 1681, '5': 1704, 'L': 1746, 'h': 1871, 'ę': 2138, 'T': 2366, '2': 2432, 'S': 2494, 'I': 2622, '9': 2684, '\"': 2685, 'A': 2872, 'K': 2997, 'V': 3038, '0': 3362, 'P': 3502, ')': 3686, '(': 3703, 'f': 3824, 'z': 4043, '1': 4836, 'ū': 4870, 'č': 5023, 'į': 5912, 'c': 6432, 'ą': 7634, 'ž': 9394, 'š': 12233, 'b': 15668, 'y': 16624, 'ė': 17674, 'ų': 17750, '.': 18061, ',': 18377, 'g': 20651, 'v': 25951, 'j': 27463, 'd': 28630, 'p': 31386, 'l': 39217, 'm': 42216, 'k': 47857, 'u': 52494, 'n': 59645, 'e': 64967, 't': 65520, 'r': 67735, 'o': 78793, 's': 92565, 'a': 136916, 'i': 166231, ' ': 173295}\n"
     ]
    }
   ],
   "source": [
    "print(char_freq)"
   ]
  },
  {
   "cell_type": "code",
   "execution_count": null,
   "metadata": {},
   "outputs": [
    {
     "data": {
      "text/plain": [
       "True"
      ]
     },
     "execution_count": null,
     "metadata": {},
     "output_type": "execute_result"
    }
   ],
   "source": [
    "chars = list(char_freq.keys())\n",
    "label_delim = crnn_config.label_delim\n",
    "label_delim in chars"
   ]
  },
  {
   "cell_type": "code",
   "execution_count": null,
   "metadata": {},
   "outputs": [
    {
     "name": "stdout",
     "output_type": "stream",
     "text": [
      "{'M', 'ė', 'ū', 'T', '&', '8', 'H', 'ą', 'l', 'D', ' ', 'E', '*', 'ž', 's', '<', '_', 'C', '1', 'f', 'Ū', 'č', 'O', 'ę', '9', 'p', 'a', 'Z', 'Į', 'P', '=', 'Š', ')', 'o', 'V', 'G', 'i', '!', \"'\", 'h', 'q', 'z', '4', '+', '-', ',', '6', 'n', '3', '>', 'j', 'g', 'r', ':', 'm', 'F', '?', '7', 'R', 'A', 'Y', 'w', 'k', 'W', 'v', 'U', 't', 'b', '(', 'S', 'ų', 'K', 'X', 'š', ']', 'd', '$', 'e', 'u', 'B', 'Ž', '2', '%', 'N', 'I', '~', '[', '|', 'x', 'Q', 'J', 'c', '/', 'L', '0', ';', 'į', '.', 'y', 'Č', '\"', '5'}\n"
     ]
    },
    {
     "data": {
      "text/plain": [
       "102"
      ]
     },
     "execution_count": null,
     "metadata": {},
     "output_type": "execute_result"
    }
   ],
   "source": [
    "allowed_chars = set(chars) - set(['·', label_delim])\n",
    "print(allowed_chars)\n",
    "len(allowed_chars)"
   ]
  },
  {
   "cell_type": "code",
   "execution_count": null,
   "metadata": {},
   "outputs": [],
   "source": [
    "allowed_chars = crnn_config.allowed_chars"
   ]
  },
  {
   "cell_type": "code",
   "execution_count": null,
   "metadata": {},
   "outputs": [
    {
     "data": {
      "text/plain": [
       "'q`w`e`r`t`y'"
      ]
     },
     "execution_count": null,
     "metadata": {},
     "output_type": "execute_result"
    }
   ],
   "source": [
    "split_chars = lambda string, delim: ''.join([char+delim for char in string])[:-1]\n",
    "\n",
    "def preprocess_string(string):\n",
    "    string = string.replace('·', '.')\n",
    "    string = string.replace('`', \"'\")\n",
    "    string = split_chars(string, label_delim)\n",
    "    return string\n",
    "\n",
    "split_chars('qwerty', label_delim)"
   ]
  },
  {
   "cell_type": "code",
   "execution_count": null,
   "metadata": {},
   "outputs": [
    {
     "name": "stdout",
     "output_type": "stream",
     "text": [
      "55915\n"
     ]
    },
    {
     "data": {
      "text/html": [
       "<div>\n",
       "<style scoped>\n",
       "    .dataframe tbody tr th:only-of-type {\n",
       "        vertical-align: middle;\n",
       "    }\n",
       "\n",
       "    .dataframe tbody tr th {\n",
       "        vertical-align: top;\n",
       "    }\n",
       "\n",
       "    .dataframe thead th {\n",
       "        text-align: right;\n",
       "    }\n",
       "</style>\n",
       "<table border=\"1\" class=\"dataframe\">\n",
       "  <thead>\n",
       "    <tr style=\"text-align: right;\">\n",
       "      <th></th>\n",
       "      <th>image_path</th>\n",
       "      <th>string</th>\n",
       "      <th>valid</th>\n",
       "      <th>dataset</th>\n",
       "    </tr>\n",
       "  </thead>\n",
       "  <tbody>\n",
       "    <tr>\n",
       "      <th>0</th>\n",
       "      <td>../data/ocr/sroie2019_lines/X51006327978.0.jpg</td>\n",
       "      <td>Y SOON FATT S/B (81497-P)</td>\n",
       "      <td>False</td>\n",
       "      <td>sroie2019</td>\n",
       "    </tr>\n",
       "    <tr>\n",
       "      <th>1</th>\n",
       "      <td>../data/ocr/sroie2019_lines/X51006327978.1.jpg</td>\n",
       "      <td>LOT 1504, BATU 8 1/2, JALAN KLANG LAMA,</td>\n",
       "      <td>False</td>\n",
       "      <td>sroie2019</td>\n",
       "    </tr>\n",
       "    <tr>\n",
       "      <th>2</th>\n",
       "      <td>../data/ocr/sroie2019_lines/X51006327978.2.jpg</td>\n",
       "      <td>46000 PETALING JAYA, SELANGOR.</td>\n",
       "      <td>False</td>\n",
       "      <td>sroie2019</td>\n",
       "    </tr>\n",
       "    <tr>\n",
       "      <th>3</th>\n",
       "      <td>../data/ocr/sroie2019_lines/X51006327978.3.jpg</td>\n",
       "      <td>TEL : 016-2014209</td>\n",
       "      <td>False</td>\n",
       "      <td>sroie2019</td>\n",
       "    </tr>\n",
       "    <tr>\n",
       "      <th>4</th>\n",
       "      <td>../data/ocr/sroie2019_lines/X51006327978.4.jpg</td>\n",
       "      <td>GST REG NO : 000788250624</td>\n",
       "      <td>False</td>\n",
       "      <td>sroie2019</td>\n",
       "    </tr>\n",
       "  </tbody>\n",
       "</table>\n",
       "</div>"
      ],
      "text/plain": [
       "                                       image_path  \\\n",
       "0  ../data/ocr/sroie2019_lines/X51006327978.0.jpg   \n",
       "1  ../data/ocr/sroie2019_lines/X51006327978.1.jpg   \n",
       "2  ../data/ocr/sroie2019_lines/X51006327978.2.jpg   \n",
       "3  ../data/ocr/sroie2019_lines/X51006327978.3.jpg   \n",
       "4  ../data/ocr/sroie2019_lines/X51006327978.4.jpg   \n",
       "\n",
       "                                    string  valid    dataset  \n",
       "0                Y SOON FATT S/B (81497-P)  False  sroie2019  \n",
       "1  LOT 1504, BATU 8 1/2, JALAN KLANG LAMA,  False  sroie2019  \n",
       "2           46000 PETALING JAYA, SELANGOR.  False  sroie2019  \n",
       "3                        TEL : 016-2014209  False  sroie2019  \n",
       "4                GST REG NO : 000788250624  False  sroie2019  "
      ]
     },
     "execution_count": null,
     "metadata": {},
     "output_type": "execute_result"
    }
   ],
   "source": [
    "sroie_df = create_sroie_df()\n",
    "print(len(sroie_df))\n",
    "sroie_df.head()"
   ]
  },
  {
   "cell_type": "code",
   "execution_count": null,
   "metadata": {},
   "outputs": [
    {
     "name": "stdout",
     "output_type": "stream",
     "text": [
      "438293\n"
     ]
    },
    {
     "data": {
      "text/html": [
       "<div>\n",
       "<style scoped>\n",
       "    .dataframe tbody tr th:only-of-type {\n",
       "        vertical-align: middle;\n",
       "    }\n",
       "\n",
       "    .dataframe tbody tr th {\n",
       "        vertical-align: top;\n",
       "    }\n",
       "\n",
       "    .dataframe thead th {\n",
       "        text-align: right;\n",
       "    }\n",
       "</style>\n",
       "<table border=\"1\" class=\"dataframe\">\n",
       "  <thead>\n",
       "    <tr style=\"text-align: right;\">\n",
       "      <th></th>\n",
       "      <th>image_path</th>\n",
       "      <th>string</th>\n",
       "      <th>valid</th>\n",
       "      <th>dataset</th>\n",
       "    </tr>\n",
       "  </thead>\n",
       "  <tbody>\n",
       "    <tr>\n",
       "      <th>0</th>\n",
       "      <td>../data/ocr/brno_lines/18256865b4b14a458cd50e1...</td>\n",
       "      <td>on-board the USS CORONADO; a deployable CMOC</td>\n",
       "      <td>False</td>\n",
       "      <td>brno_easy</td>\n",
       "    </tr>\n",
       "    <tr>\n",
       "      <th>1</th>\n",
       "      <td>../data/ocr/brno_lines/d2ac2da7d29d2384f6ff36e...</td>\n",
       "      <td>unemployment insurance.</td>\n",
       "      <td>False</td>\n",
       "      <td>brno_easy</td>\n",
       "    </tr>\n",
       "    <tr>\n",
       "      <th>2</th>\n",
       "      <td>../data/ocr/brno_lines/55ef7096ba457a8990e05da...</td>\n",
       "      <td>bound was calculated. The upper bound was calc...</td>\n",
       "      <td>False</td>\n",
       "      <td>brno_easy</td>\n",
       "    </tr>\n",
       "    <tr>\n",
       "      <th>3</th>\n",
       "      <td>../data/ocr/brno_lines/145c6a2d996117b64538681...</td>\n",
       "      <td>process elements, so that the requestor agent</td>\n",
       "      <td>False</td>\n",
       "      <td>brno_easy</td>\n",
       "    </tr>\n",
       "    <tr>\n",
       "      <th>4</th>\n",
       "      <td>../data/ocr/brno_lines/30b35d49bf5250d675bdb8e...</td>\n",
       "      <td>we have to skolemise both using the same skole...</td>\n",
       "      <td>False</td>\n",
       "      <td>brno_easy</td>\n",
       "    </tr>\n",
       "  </tbody>\n",
       "</table>\n",
       "</div>"
      ],
      "text/plain": [
       "                                          image_path  \\\n",
       "0  ../data/ocr/brno_lines/18256865b4b14a458cd50e1...   \n",
       "1  ../data/ocr/brno_lines/d2ac2da7d29d2384f6ff36e...   \n",
       "2  ../data/ocr/brno_lines/55ef7096ba457a8990e05da...   \n",
       "3  ../data/ocr/brno_lines/145c6a2d996117b64538681...   \n",
       "4  ../data/ocr/brno_lines/30b35d49bf5250d675bdb8e...   \n",
       "\n",
       "                                              string  valid    dataset  \n",
       "0       on-board the USS CORONADO; a deployable CMOC  False  brno_easy  \n",
       "1                            unemployment insurance.  False  brno_easy  \n",
       "2  bound was calculated. The upper bound was calc...  False  brno_easy  \n",
       "3      process elements, so that the requestor agent  False  brno_easy  \n",
       "4  we have to skolemise both using the same skole...  False  brno_easy  "
      ]
     },
     "execution_count": null,
     "metadata": {},
     "output_type": "execute_result"
    }
   ],
   "source": [
    "brno_df = create_brno_df()\n",
    "brno_df = brno_df[ brno_df['dataset'].apply(lambda x: 'hard' not in x) ]\n",
    "brno_df['valid'] = False\n",
    "print(len(brno_df))\n",
    "brno_df.head()"
   ]
  },
  {
   "cell_type": "code",
   "execution_count": null,
   "metadata": {},
   "outputs": [
    {
     "name": "stdout",
     "output_type": "stream",
     "text": [
      "50000\n"
     ]
    },
    {
     "data": {
      "text/html": [
       "<div>\n",
       "<style scoped>\n",
       "    .dataframe tbody tr th:only-of-type {\n",
       "        vertical-align: middle;\n",
       "    }\n",
       "\n",
       "    .dataframe tbody tr th {\n",
       "        vertical-align: top;\n",
       "    }\n",
       "\n",
       "    .dataframe thead th {\n",
       "        text-align: right;\n",
       "    }\n",
       "</style>\n",
       "<table border=\"1\" class=\"dataframe\">\n",
       "  <thead>\n",
       "    <tr style=\"text-align: right;\">\n",
       "      <th></th>\n",
       "      <th>image_path</th>\n",
       "      <th>string</th>\n",
       "      <th>valid</th>\n",
       "      <th>dataset</th>\n",
       "    </tr>\n",
       "  </thead>\n",
       "  <tbody>\n",
       "    <tr>\n",
       "      <th>0</th>\n",
       "      <td>../data/ocr/fontsynth_lines/0.jpg</td>\n",
       "      <td>ninės dalies skiria Korinto kanalas, ir</td>\n",
       "      <td>False</td>\n",
       "      <td>Courier_New_Bold_Italic</td>\n",
       "    </tr>\n",
       "    <tr>\n",
       "      <th>1</th>\n",
       "      <td>../data/ocr/fontsynth_lines/1.jpg</td>\n",
       "      <td>d.  1991 m. rugpjūčio 8 d</td>\n",
       "      <td>False</td>\n",
       "      <td>Comic_Sans_MS</td>\n",
       "    </tr>\n",
       "    <tr>\n",
       "      <th>2</th>\n",
       "      <td>../data/ocr/fontsynth_lines/2.jpg</td>\n",
       "      <td>bilietų. Vėliau T. Kukas</td>\n",
       "      <td>False</td>\n",
       "      <td>Impact</td>\n",
       "    </tr>\n",
       "    <tr>\n",
       "      <th>3</th>\n",
       "      <td>../data/ocr/fontsynth_lines/3.jpg</td>\n",
       "      <td>į pietus. Klaipėdos, L</td>\n",
       "      <td>False</td>\n",
       "      <td>Georgia_Bold_Italic</td>\n",
       "    </tr>\n",
       "    <tr>\n",
       "      <th>4</th>\n",
       "      <td>../data/ocr/fontsynth_lines/4.jpg</td>\n",
       "      <td>t mokslinio metodo si</td>\n",
       "      <td>False</td>\n",
       "      <td>Arial</td>\n",
       "    </tr>\n",
       "  </tbody>\n",
       "</table>\n",
       "</div>"
      ],
      "text/plain": [
       "                          image_path                                   string  \\\n",
       "0  ../data/ocr/fontsynth_lines/0.jpg  ninės dalies skiria Korinto kanalas, ir   \n",
       "1  ../data/ocr/fontsynth_lines/1.jpg                d.  1991 m. rugpjūčio 8 d   \n",
       "2  ../data/ocr/fontsynth_lines/2.jpg                 bilietų. Vėliau T. Kukas   \n",
       "3  ../data/ocr/fontsynth_lines/3.jpg                   į pietus. Klaipėdos, L   \n",
       "4  ../data/ocr/fontsynth_lines/4.jpg                    t mokslinio metodo si   \n",
       "\n",
       "   valid                  dataset  \n",
       "0  False  Courier_New_Bold_Italic  \n",
       "1  False            Comic_Sans_MS  \n",
       "2  False                   Impact  \n",
       "3  False      Georgia_Bold_Italic  \n",
       "4  False                    Arial  "
      ]
     },
     "execution_count": null,
     "metadata": {},
     "output_type": "execute_result"
    }
   ],
   "source": [
    "fontsynth_df = create_fontsynth_df()\n",
    "fontsynth_df['valid'] = False\n",
    "print(len(fontsynth_df))\n",
    "fontsynth_df.head()"
   ]
  },
  {
   "cell_type": "code",
   "execution_count": null,
   "metadata": {},
   "outputs": [],
   "source": [
    "# main_df = pd.concat([sroie_df, fontsynth_df, brno_df])\n",
    "main_df = sroie_df.copy()"
   ]
  },
  {
   "cell_type": "code",
   "execution_count": null,
   "metadata": {},
   "outputs": [
    {
     "name": "stdout",
     "output_type": "stream",
     "text": [
      "bfr: 55915 aftr: 55911\n"
     ]
    }
   ],
   "source": [
    "def filter_elems_with_unknown_chars(string):\n",
    "    for char in string:\n",
    "        if char not in crnn_config.allowed_chars: return False\n",
    "    return True\n",
    "valid_elems = main_df['string'].apply(filter_elems_with_unknown_chars)\n",
    "print('bfr: {} aftr: {}'.format(len(main_df), len(main_df[ valid_elems ])))\n",
    "main_df = main_df[ valid_elems ]"
   ]
  },
  {
   "cell_type": "code",
   "execution_count": null,
   "metadata": {},
   "outputs": [
    {
     "data": {
      "text/html": [
       "<div>\n",
       "<style scoped>\n",
       "    .dataframe tbody tr th:only-of-type {\n",
       "        vertical-align: middle;\n",
       "    }\n",
       "\n",
       "    .dataframe tbody tr th {\n",
       "        vertical-align: top;\n",
       "    }\n",
       "\n",
       "    .dataframe thead th {\n",
       "        text-align: right;\n",
       "    }\n",
       "</style>\n",
       "<table border=\"1\" class=\"dataframe\">\n",
       "  <thead>\n",
       "    <tr style=\"text-align: right;\">\n",
       "      <th></th>\n",
       "      <th>image_path</th>\n",
       "      <th>string</th>\n",
       "      <th>valid</th>\n",
       "      <th>dataset</th>\n",
       "    </tr>\n",
       "  </thead>\n",
       "  <tbody>\n",
       "    <tr>\n",
       "      <th>0</th>\n",
       "      <td>../data/ocr/sroie2019_lines/X51006327978.0.jpg</td>\n",
       "      <td>Y` `S`O`O`N` `F`A`T`T` `S`/`B` `(`8`1`4`9`7`-`P`)</td>\n",
       "      <td>False</td>\n",
       "      <td>sroie2019</td>\n",
       "    </tr>\n",
       "    <tr>\n",
       "      <th>1</th>\n",
       "      <td>../data/ocr/sroie2019_lines/X51006327978.1.jpg</td>\n",
       "      <td>L`O`T` `1`5`0`4`,` `B`A`T`U` `8` `1`/`2`,` `J`...</td>\n",
       "      <td>False</td>\n",
       "      <td>sroie2019</td>\n",
       "    </tr>\n",
       "    <tr>\n",
       "      <th>2</th>\n",
       "      <td>../data/ocr/sroie2019_lines/X51006327978.2.jpg</td>\n",
       "      <td>4`6`0`0`0` `P`E`T`A`L`I`N`G` `J`A`Y`A`,` `S`E`...</td>\n",
       "      <td>False</td>\n",
       "      <td>sroie2019</td>\n",
       "    </tr>\n",
       "    <tr>\n",
       "      <th>3</th>\n",
       "      <td>../data/ocr/sroie2019_lines/X51006327978.3.jpg</td>\n",
       "      <td>T`E`L` `:` `0`1`6`-`2`0`1`4`2`0`9</td>\n",
       "      <td>False</td>\n",
       "      <td>sroie2019</td>\n",
       "    </tr>\n",
       "    <tr>\n",
       "      <th>4</th>\n",
       "      <td>../data/ocr/sroie2019_lines/X51006327978.4.jpg</td>\n",
       "      <td>G`S`T` `R`E`G` `N`O` `:` `0`0`0`7`8`8`2`5`0`6`2`4</td>\n",
       "      <td>False</td>\n",
       "      <td>sroie2019</td>\n",
       "    </tr>\n",
       "    <tr>\n",
       "      <th>...</th>\n",
       "      <td>...</td>\n",
       "      <td>...</td>\n",
       "      <td>...</td>\n",
       "      <td>...</td>\n",
       "    </tr>\n",
       "    <tr>\n",
       "      <th>55910</th>\n",
       "      <td>../data/ocr/sroie2019_lines/X51005676548.58.jpg</td>\n",
       "      <td>0`.`6`3</td>\n",
       "      <td>True</td>\n",
       "      <td>sroie2019</td>\n",
       "    </tr>\n",
       "    <tr>\n",
       "      <th>55911</th>\n",
       "      <td>../data/ocr/sroie2019_lines/X51005676548.59.jpg</td>\n",
       "      <td>T`O`T`A`L` `:</td>\n",
       "      <td>True</td>\n",
       "      <td>sroie2019</td>\n",
       "    </tr>\n",
       "    <tr>\n",
       "      <th>55912</th>\n",
       "      <td>../data/ocr/sroie2019_lines/X51005676548.60.jpg</td>\n",
       "      <td>1`0`.`5`0</td>\n",
       "      <td>True</td>\n",
       "      <td>sroie2019</td>\n",
       "    </tr>\n",
       "    <tr>\n",
       "      <th>55913</th>\n",
       "      <td>../data/ocr/sroie2019_lines/X51005676548.61.jpg</td>\n",
       "      <td>0`.`6`3</td>\n",
       "      <td>True</td>\n",
       "      <td>sroie2019</td>\n",
       "    </tr>\n",
       "    <tr>\n",
       "      <th>55914</th>\n",
       "      <td>../data/ocr/sroie2019_lines/X51005676548.62.jpg</td>\n",
       "      <td>G`O`O`D`S` `S`O`L`D` `A`R`E` `N`O`T` `R`E`T`U`...</td>\n",
       "      <td>True</td>\n",
       "      <td>sroie2019</td>\n",
       "    </tr>\n",
       "  </tbody>\n",
       "</table>\n",
       "<p>55911 rows × 4 columns</p>\n",
       "</div>"
      ],
      "text/plain": [
       "                                            image_path  \\\n",
       "0       ../data/ocr/sroie2019_lines/X51006327978.0.jpg   \n",
       "1       ../data/ocr/sroie2019_lines/X51006327978.1.jpg   \n",
       "2       ../data/ocr/sroie2019_lines/X51006327978.2.jpg   \n",
       "3       ../data/ocr/sroie2019_lines/X51006327978.3.jpg   \n",
       "4       ../data/ocr/sroie2019_lines/X51006327978.4.jpg   \n",
       "...                                                ...   \n",
       "55910  ../data/ocr/sroie2019_lines/X51005676548.58.jpg   \n",
       "55911  ../data/ocr/sroie2019_lines/X51005676548.59.jpg   \n",
       "55912  ../data/ocr/sroie2019_lines/X51005676548.60.jpg   \n",
       "55913  ../data/ocr/sroie2019_lines/X51005676548.61.jpg   \n",
       "55914  ../data/ocr/sroie2019_lines/X51005676548.62.jpg   \n",
       "\n",
       "                                                  string  valid    dataset  \n",
       "0      Y` `S`O`O`N` `F`A`T`T` `S`/`B` `(`8`1`4`9`7`-`P`)  False  sroie2019  \n",
       "1      L`O`T` `1`5`0`4`,` `B`A`T`U` `8` `1`/`2`,` `J`...  False  sroie2019  \n",
       "2      4`6`0`0`0` `P`E`T`A`L`I`N`G` `J`A`Y`A`,` `S`E`...  False  sroie2019  \n",
       "3                      T`E`L` `:` `0`1`6`-`2`0`1`4`2`0`9  False  sroie2019  \n",
       "4      G`S`T` `R`E`G` `N`O` `:` `0`0`0`7`8`8`2`5`0`6`2`4  False  sroie2019  \n",
       "...                                                  ...    ...        ...  \n",
       "55910                                            0`.`6`3   True  sroie2019  \n",
       "55911                                      T`O`T`A`L` `:   True  sroie2019  \n",
       "55912                                          1`0`.`5`0   True  sroie2019  \n",
       "55913                                            0`.`6`3   True  sroie2019  \n",
       "55914  G`O`O`D`S` `S`O`L`D` `A`R`E` `N`O`T` `R`E`T`U`...   True  sroie2019  \n",
       "\n",
       "[55911 rows x 4 columns]"
      ]
     },
     "execution_count": null,
     "metadata": {},
     "output_type": "execute_result"
    }
   ],
   "source": [
    "main_df['string'] = main_df['string'].map(preprocess_string)\n",
    "main_df"
   ]
  },
  {
   "cell_type": "code",
   "execution_count": null,
   "metadata": {},
   "outputs": [
    {
     "data": {
      "text/html": [
       "<div>\n",
       "<style scoped>\n",
       "    .dataframe tbody tr th:only-of-type {\n",
       "        vertical-align: middle;\n",
       "    }\n",
       "\n",
       "    .dataframe tbody tr th {\n",
       "        vertical-align: top;\n",
       "    }\n",
       "\n",
       "    .dataframe thead th {\n",
       "        text-align: right;\n",
       "    }\n",
       "</style>\n",
       "<table border=\"1\" class=\"dataframe\">\n",
       "  <thead>\n",
       "    <tr style=\"text-align: right;\">\n",
       "      <th></th>\n",
       "      <th>image_path</th>\n",
       "      <th>string</th>\n",
       "      <th>valid</th>\n",
       "      <th>dataset</th>\n",
       "    </tr>\n",
       "  </thead>\n",
       "  <tbody>\n",
       "    <tr>\n",
       "      <th>0</th>\n",
       "      <td>../data/ocr/sroie2019_lines/X51006327978.0.jpg</td>\n",
       "      <td>[Y` `S`O`O`N` `F`A`T`T` `S`/`B` `(`8`1`4`9`7`-...</td>\n",
       "      <td>False</td>\n",
       "      <td>sroie2019</td>\n",
       "    </tr>\n",
       "    <tr>\n",
       "      <th>1</th>\n",
       "      <td>../data/ocr/sroie2019_lines/X51006327978.1.jpg</td>\n",
       "      <td>[L`O`T` `1`5`0`4`,` `B`A`T`U` `8` `1`/`2`,` `J...</td>\n",
       "      <td>False</td>\n",
       "      <td>sroie2019</td>\n",
       "    </tr>\n",
       "    <tr>\n",
       "      <th>2</th>\n",
       "      <td>../data/ocr/sroie2019_lines/X51006327978.2.jpg</td>\n",
       "      <td>[4`6`0`0`0` `P`E`T`A`L`I`N`G` `J`A`Y`A`,` `S`E...</td>\n",
       "      <td>False</td>\n",
       "      <td>sroie2019</td>\n",
       "    </tr>\n",
       "    <tr>\n",
       "      <th>3</th>\n",
       "      <td>../data/ocr/sroie2019_lines/X51006327978.3.jpg</td>\n",
       "      <td>[T`E`L` `:` `0`1`6`-`2`0`1`4`2`0`9, sroie2019]</td>\n",
       "      <td>False</td>\n",
       "      <td>sroie2019</td>\n",
       "    </tr>\n",
       "    <tr>\n",
       "      <th>4</th>\n",
       "      <td>../data/ocr/sroie2019_lines/X51006327978.4.jpg</td>\n",
       "      <td>[G`S`T` `R`E`G` `N`O` `:` `0`0`0`7`8`8`2`5`0`6...</td>\n",
       "      <td>False</td>\n",
       "      <td>sroie2019</td>\n",
       "    </tr>\n",
       "    <tr>\n",
       "      <th>...</th>\n",
       "      <td>...</td>\n",
       "      <td>...</td>\n",
       "      <td>...</td>\n",
       "      <td>...</td>\n",
       "    </tr>\n",
       "    <tr>\n",
       "      <th>55910</th>\n",
       "      <td>../data/ocr/sroie2019_lines/X51005676548.58.jpg</td>\n",
       "      <td>[0`.`6`3, sroie2019]</td>\n",
       "      <td>True</td>\n",
       "      <td>sroie2019</td>\n",
       "    </tr>\n",
       "    <tr>\n",
       "      <th>55911</th>\n",
       "      <td>../data/ocr/sroie2019_lines/X51005676548.59.jpg</td>\n",
       "      <td>[T`O`T`A`L` `:, sroie2019]</td>\n",
       "      <td>True</td>\n",
       "      <td>sroie2019</td>\n",
       "    </tr>\n",
       "    <tr>\n",
       "      <th>55912</th>\n",
       "      <td>../data/ocr/sroie2019_lines/X51005676548.60.jpg</td>\n",
       "      <td>[1`0`.`5`0, sroie2019]</td>\n",
       "      <td>True</td>\n",
       "      <td>sroie2019</td>\n",
       "    </tr>\n",
       "    <tr>\n",
       "      <th>55913</th>\n",
       "      <td>../data/ocr/sroie2019_lines/X51005676548.61.jpg</td>\n",
       "      <td>[0`.`6`3, sroie2019]</td>\n",
       "      <td>True</td>\n",
       "      <td>sroie2019</td>\n",
       "    </tr>\n",
       "    <tr>\n",
       "      <th>55914</th>\n",
       "      <td>../data/ocr/sroie2019_lines/X51005676548.62.jpg</td>\n",
       "      <td>[G`O`O`D`S` `S`O`L`D` `A`R`E` `N`O`T` `R`E`T`U...</td>\n",
       "      <td>True</td>\n",
       "      <td>sroie2019</td>\n",
       "    </tr>\n",
       "  </tbody>\n",
       "</table>\n",
       "<p>55911 rows × 4 columns</p>\n",
       "</div>"
      ],
      "text/plain": [
       "                                            image_path  \\\n",
       "0       ../data/ocr/sroie2019_lines/X51006327978.0.jpg   \n",
       "1       ../data/ocr/sroie2019_lines/X51006327978.1.jpg   \n",
       "2       ../data/ocr/sroie2019_lines/X51006327978.2.jpg   \n",
       "3       ../data/ocr/sroie2019_lines/X51006327978.3.jpg   \n",
       "4       ../data/ocr/sroie2019_lines/X51006327978.4.jpg   \n",
       "...                                                ...   \n",
       "55910  ../data/ocr/sroie2019_lines/X51005676548.58.jpg   \n",
       "55911  ../data/ocr/sroie2019_lines/X51005676548.59.jpg   \n",
       "55912  ../data/ocr/sroie2019_lines/X51005676548.60.jpg   \n",
       "55913  ../data/ocr/sroie2019_lines/X51005676548.61.jpg   \n",
       "55914  ../data/ocr/sroie2019_lines/X51005676548.62.jpg   \n",
       "\n",
       "                                                  string  valid    dataset  \n",
       "0      [Y` `S`O`O`N` `F`A`T`T` `S`/`B` `(`8`1`4`9`7`-...  False  sroie2019  \n",
       "1      [L`O`T` `1`5`0`4`,` `B`A`T`U` `8` `1`/`2`,` `J...  False  sroie2019  \n",
       "2      [4`6`0`0`0` `P`E`T`A`L`I`N`G` `J`A`Y`A`,` `S`E...  False  sroie2019  \n",
       "3         [T`E`L` `:` `0`1`6`-`2`0`1`4`2`0`9, sroie2019]  False  sroie2019  \n",
       "4      [G`S`T` `R`E`G` `N`O` `:` `0`0`0`7`8`8`2`5`0`6...  False  sroie2019  \n",
       "...                                                  ...    ...        ...  \n",
       "55910                               [0`.`6`3, sroie2019]   True  sroie2019  \n",
       "55911                         [T`O`T`A`L` `:, sroie2019]   True  sroie2019  \n",
       "55912                             [1`0`.`5`0, sroie2019]   True  sroie2019  \n",
       "55913                               [0`.`6`3, sroie2019]   True  sroie2019  \n",
       "55914  [G`O`O`D`S` `S`O`L`D` `A`R`E` `N`O`T` `R`E`T`U...   True  sroie2019  \n",
       "\n",
       "[55911 rows x 4 columns]"
      ]
     },
     "execution_count": null,
     "metadata": {},
     "output_type": "execute_result"
    }
   ],
   "source": [
    "c = '\\n'\n",
    "assert tensor(list(main_df['string'].apply(lambda x: c not in x))).all()\n",
    "main_df['string'] = (main_df['string'] + c + main_df['dataset']).map(lambda x: x.split(c))\n",
    "main_df"
   ]
  },
  {
   "cell_type": "code",
   "execution_count": null,
   "metadata": {},
   "outputs": [
    {
     "data": {
      "text/html": [
       "<div>\n",
       "<style scoped>\n",
       "    .dataframe tbody tr th:only-of-type {\n",
       "        vertical-align: middle;\n",
       "    }\n",
       "\n",
       "    .dataframe tbody tr th {\n",
       "        vertical-align: top;\n",
       "    }\n",
       "\n",
       "    .dataframe thead th {\n",
       "        text-align: right;\n",
       "    }\n",
       "</style>\n",
       "<table border=\"1\" class=\"dataframe\">\n",
       "  <thead>\n",
       "    <tr style=\"text-align: right;\">\n",
       "      <th></th>\n",
       "      <th>image_path</th>\n",
       "      <th>string</th>\n",
       "      <th>valid</th>\n",
       "      <th>dataset</th>\n",
       "    </tr>\n",
       "  </thead>\n",
       "  <tbody>\n",
       "    <tr>\n",
       "      <th>0</th>\n",
       "      <td>../data/ocr/sroie2019_lines/X51006327978.0.jpg</td>\n",
       "      <td>[Y` `S`O`O`N` `F`A`T`T` `S`/`B` `(`8`1`4`9`7`-...</td>\n",
       "      <td>False</td>\n",
       "      <td>sroie2019</td>\n",
       "    </tr>\n",
       "    <tr>\n",
       "      <th>2</th>\n",
       "      <td>../data/ocr/sroie2019_lines/X51006327978.2.jpg</td>\n",
       "      <td>[4`6`0`0`0` `P`E`T`A`L`I`N`G` `J`A`Y`A`,` `S`E...</td>\n",
       "      <td>False</td>\n",
       "      <td>sroie2019</td>\n",
       "    </tr>\n",
       "    <tr>\n",
       "      <th>4</th>\n",
       "      <td>../data/ocr/sroie2019_lines/X51006327978.4.jpg</td>\n",
       "      <td>[G`S`T` `R`E`G` `N`O` `:` `0`0`0`7`8`8`2`5`0`6...</td>\n",
       "      <td>False</td>\n",
       "      <td>sroie2019</td>\n",
       "    </tr>\n",
       "    <tr>\n",
       "      <th>6</th>\n",
       "      <td>../data/ocr/sroie2019_lines/X51006327978.6.jpg</td>\n",
       "      <td>[D`E`S`C, sroie2019]</td>\n",
       "      <td>False</td>\n",
       "      <td>sroie2019</td>\n",
       "    </tr>\n",
       "    <tr>\n",
       "      <th>8</th>\n",
       "      <td>../data/ocr/sroie2019_lines/X51006327978.8.jpg</td>\n",
       "      <td>[P`R`I`C`E, sroie2019]</td>\n",
       "      <td>False</td>\n",
       "      <td>sroie2019</td>\n",
       "    </tr>\n",
       "  </tbody>\n",
       "</table>\n",
       "</div>"
      ],
      "text/plain": [
       "                                       image_path  \\\n",
       "0  ../data/ocr/sroie2019_lines/X51006327978.0.jpg   \n",
       "2  ../data/ocr/sroie2019_lines/X51006327978.2.jpg   \n",
       "4  ../data/ocr/sroie2019_lines/X51006327978.4.jpg   \n",
       "6  ../data/ocr/sroie2019_lines/X51006327978.6.jpg   \n",
       "8  ../data/ocr/sroie2019_lines/X51006327978.8.jpg   \n",
       "\n",
       "                                              string  valid    dataset  \n",
       "0  [Y` `S`O`O`N` `F`A`T`T` `S`/`B` `(`8`1`4`9`7`-...  False  sroie2019  \n",
       "2  [4`6`0`0`0` `P`E`T`A`L`I`N`G` `J`A`Y`A`,` `S`E...  False  sroie2019  \n",
       "4  [G`S`T` `R`E`G` `N`O` `:` `0`0`0`7`8`8`2`5`0`6...  False  sroie2019  \n",
       "6                               [D`E`S`C, sroie2019]  False  sroie2019  \n",
       "8                             [P`R`I`C`E, sroie2019]  False  sroie2019  "
      ]
     },
     "execution_count": null,
     "metadata": {},
     "output_type": "execute_result"
    }
   ],
   "source": [
    "sparse_df = pd.concat([ main_df[ main_df['valid'] == False ].iloc[0:10000:2], main_df[ main_df['valid'] == True ].iloc[:500] ])\n",
    "sparse_df.head()"
   ]
  },
  {
   "cell_type": "markdown",
   "metadata": {},
   "source": [
    "### Databunch"
   ]
  },
  {
   "cell_type": "code",
   "execution_count": null,
   "metadata": {},
   "outputs": [],
   "source": [
    "#export\n",
    "# label_delim = '`' # '<pad>''\n",
    "\n",
    "class TextlineProcessor(PreProcessor):\n",
    "    \"`PreProcessor` that create `classes` from `ds.items` and handle the mapping.\"\n",
    "    def __init__(self, ds:ItemList):\n",
    "        self.create_classes(ds.classes, ds.font_classes)\n",
    "        self.use_default_classes = crnn_config.USE_DEFAULT_CLASSES\n",
    "        self.default_classes = crnn_config.allowed_chars\n",
    "        self.default_font_classes = crnn_config.allowed_fonts\n",
    "    \n",
    "    # optional\n",
    "    def create_classes(self, classes, font_classes):\n",
    "        self.classes, self.font_classes = classes, font_classes\n",
    "        if classes is not None:\n",
    "            self.classes = [crnn_config.label_delim] + classes\n",
    "            self.c2i = {v:k for k,v in enumerate(self.classes)}\n",
    "            self.f2i = {v:k for k,v in enumerate(font_classes)}\n",
    "\n",
    "    def process_one(self,item):\n",
    "        string, font = item\n",
    "        return [ self.c2i[c] for c in string ], self.f2i[font]\n",
    "    \n",
    "    def process(self, ds):\n",
    "        if self.classes is None: self.create_classes(*self.generate_classes(ds.items))\n",
    "        ds.classes = self.classes\n",
    "        ds.c2i = self.c2i\n",
    "        ds.font_classes = self.font_classes\n",
    "        ds.f2i = self.f2i\n",
    "        super().process(ds)\n",
    "    \n",
    "    # optional\n",
    "    def generate_classes(self, items):\n",
    "        if self.use_default_classes:\n",
    "            classes = list(self.default_classes)\n",
    "            font_classes = list(self.default_font_classes)\n",
    "        else:\n",
    "            classes, font_classes = set(), set()\n",
    "            for c,font in items:\n",
    "                classes = classes.union(set(c))\n",
    "                font_classes.add(font)\n",
    "            classes, font_classes = list(classes), list(font_classes)\n",
    "        classes.sort(); font_classes.sort()\n",
    "        return classes, font_classes"
   ]
  },
  {
   "cell_type": "code",
   "execution_count": null,
   "metadata": {},
   "outputs": [],
   "source": [
    "#export\n",
    "class TextlineAndFont(ItemBase):\n",
    "    ''' F = font, S = string\n",
    "    data: tensor(S), tensor(F)\n",
    "    obj: str(S), str(F)\n",
    "    raw: str(S), list(F)\n",
    "    '''\n",
    "    def __init__(self, data, obj, raw):self.data, self.obj, self.raw = data, obj, raw\n",
    "    def __str__(self, n=20):\n",
    "        string = self.obj[0][:n]+['...'] if len(self.obj[0]) > n else self.obj[0]\n",
    "        return self.obj[1][:5] +'...'+ crnn_config.label_delim.join([str(o) for o in string])\n",
    "    def __hash__(self): return hash(str(self))"
   ]
  },
  {
   "cell_type": "code",
   "execution_count": null,
   "metadata": {},
   "outputs": [],
   "source": [
    "#export\n",
    "def one_hot_text(x:Collection[int], c:int):\n",
    "    \"One-hot encode `x` with `c` classes.\"\n",
    "    ''' x w/ len of n returns [n,c] shape arr '''\n",
    "    res = np.zeros((len(x),c), np.float32)\n",
    "    res[np.arange(len(x)), listify(x)] = 1.\n",
    "    return res"
   ]
  },
  {
   "cell_type": "code",
   "execution_count": null,
   "metadata": {},
   "outputs": [],
   "source": [
    "#export\n",
    "def decode_single_ctc(t, blank_char=0): # [s_e] -> [s_d], where s_d < s_e\n",
    "    char_list = []\n",
    "    for i in range(len(t)):\n",
    "        if t[i] != blank_char and (not (i > 0 and t[i - 1] == t[i])):  # removing repeated characters and blank.\n",
    "            char_list.append(t[i])\n",
    "    return char_list\n",
    "\n",
    "def decode_ctc(texts, blank_char=0): # [b,s_e] -> [b,s_d], where s_d < s_e\n",
    "    return [tensor(decode_single_ctc(t, blank_char=blank_char)) for t in texts ]"
   ]
  },
  {
   "cell_type": "code",
   "execution_count": null,
   "metadata": {},
   "outputs": [],
   "source": [
    "#export\n",
    "class TextlineList(ItemList):\n",
    "    _processor = TextlineProcessor\n",
    "    def __init__(self, items:Iterator, classes=None, font_classes=None, label_delim:str=None, one_hot:bool=False, **kwargs):\n",
    "        self.classes = classes\n",
    "        self.font_classes = font_classes\n",
    "        items = [(string.split(crnn_config.label_delim),font) for string,font in items] # CHANGED\n",
    "        super().__init__(items, **kwargs)\n",
    "        self.processor = [TextlineProcessor(self)]\n",
    "\n",
    "    def get(self, i):\n",
    "        stridxs, fontidx = self.items[i] # int, list of ints\n",
    "        return TextlineAndFont( (tensor(stridxs), tensor(fontidx)), \n",
    "                                ([self.classes[c] for c in stridxs], self.font_classes[fontidx]), self.items[i])\n",
    "    \n",
    "    def analyze_pred(self, nn_output, thresh=0.5, _=None):\n",
    "        font_pred, y_pred = nn_output # [c1], [s_e,c2]\n",
    "        assert len(listify(y_pred.shape)) == 2 # (no batch inputs)\n",
    "        return font_pred.argmax(dim=-1), decode_single_ctc(y_pred.argmax(dim=-1)), _, _ # [1], [seq_len], _, _\n",
    "\n",
    "    def reconstruct(self, data_out):\n",
    "        fontidx, t_argmax, _, lengths = data_out # output from data / output from nn_out -> analyze_pred\n",
    "        stridxs = [int(i) for i in t_argmax]\n",
    "        fontidx = int(fontidx)\n",
    "        return TextlineAndFont((one_hot_text(stridxs, self.c), fontidx), \n",
    "                                ([self.classes[c] for c in stridxs], self.font_classes[fontidx]), data_out)\n",
    "    \n",
    "    @property\n",
    "    def c(self): return len(self.classes)"
   ]
  },
  {
   "cell_type": "code",
   "execution_count": null,
   "metadata": {},
   "outputs": [],
   "source": [
    "#export\n",
    "def im2seq_data_collate(batch:ItemsList, pad_idx:int=0)->Tensor:\n",
    "    if isinstance(batch[0][1], int): return data_collate(batch)\n",
    "    \"Convert `batch` items to tensor data.\"\n",
    "    data = to_data(batch) # list of (image, text) pairs\n",
    "    # image: [3,48,w], text: [n,c], where n's and w's are different\n",
    "    max_w = max([image.shape[2] for image, (text,font) in data])\n",
    "    max_h = max([image.shape[1] for image, (text,font) in data])\n",
    "    max_n = max([text.shape[0] for image, (text,font) in data])\n",
    "#     _, num_classes = data[0][1].shape\n",
    "    \n",
    "    images = torch.zeros(len(batch), 3, max_h, max_w)\n",
    "    fonts = torch.zeros(len(batch)).long()\n",
    "#     texts = torch.zeros(len(batch), max_n, num_classes)\n",
    "    texts = []\n",
    "    nn_out_seq_len, texts_len = [], []\n",
    "    for i, (image, (text,font)) in enumerate(data):\n",
    "        fonts[i] = font\n",
    "        c,h,w = image.shape\n",
    "        images[i, : , : , :w ] = image\n",
    "        images[i, : , : , w: ] = image[:,:,w-1].unsqueeze(2).expand(c,h,max_w-w)\n",
    "        nn_out_seq_len.append( image_width2seq_len(w) )\n",
    "        n = text.size(0)\n",
    "        texts.append( tensor(text) )\n",
    "#         texts[i, :n , : ] = tensor(text)\n",
    "#         texts[i, n: , -1 ] = 1\n",
    "        texts_len.append(n)\n",
    "#     texts = torch.cat(texts, axis=0)\n",
    "    return images, (fonts, texts, tensor(nn_out_seq_len).type(torch.int), tensor(texts_len).type(torch.int))"
   ]
  },
  {
   "cell_type": "code",
   "execution_count": null,
   "metadata": {},
   "outputs": [
    {
     "data": {
      "text/plain": [
       "'asdasdasdasdasdasdasdasdasdasdasdasdasdasdasdasdas\\ndasdasdasdasdasdasdasd'"
      ]
     },
     "execution_count": null,
     "metadata": {},
     "output_type": "execute_result"
    }
   ],
   "source": [
    "#export\n",
    "def str2lines(string, n=50):\n",
    "    return ''.join([s+'\\n' if (i+1)%n == 0 else s for i,s in enumerate(string)])\n",
    "\n",
    "str2lines('asdasdasdasdasdasdasdasdasdasdasdasdasdasdasdasdasdasdasdasdasdasdasdasd')"
   ]
  },
  {
   "cell_type": "code",
   "execution_count": null,
   "metadata": {},
   "outputs": [],
   "source": [
    "#export\n",
    "class MyImageList(ImageList):\n",
    "    def show_xys(self, xs, ys, imgsize:int=4, figsize:Optional[Tuple[int,int]]=None, **kwargs):\n",
    "        \"Show the `xs` (inputs) and `ys` (targets) on a figure of `figsize`.\"\n",
    "        rows = int(np.ceil(math.sqrt(len(xs))))\n",
    "        axs = subplots(rows, 1, imgsize=imgsize, figsize=figsize) # CHANGED rows -> 1\n",
    "        for x,y,ax in zip(xs, ys, axs.flatten()): x.show(ax=ax, y=y, **kwargs)\n",
    "        for ax in axs.flatten()[len(xs):]: ax.axis('off')\n",
    "        plt.tight_layout()\n",
    "        \n",
    "    def show_xyzs(self, xs, ys, zs, imgsize:int=10, figsize:Optional[Tuple[int,int]]=None, **kwargs):\n",
    "        \"Show `xs` (inputs), `ys` (targets) and `zs` (predictions) on a figure of `figsize`.\"\n",
    "        title = 'Ground truth\\nPredictions'\n",
    "        rows = int(np.ceil(math.sqrt(len(xs))))\n",
    "        axs = subplots(rows, 1, imgsize=imgsize, figsize=figsize, title=title, weight='bold', size=12).flatten()\n",
    "        for x,y,z,ax in zip(xs,ys,zs,axs):\n",
    "            x.show(ax=ax, title=f'y_true: {str2lines(str(y))}\\ny_pred: {str2lines(str(z))}', **kwargs)\n",
    "#         for ax in axs.flatten()[len(xs):]: ax.axis('off')"
   ]
  },
  {
   "cell_type": "code",
   "execution_count": null,
   "metadata": {},
   "outputs": [],
   "source": [
    "#export\n",
    "def _gaussian_blur(x, size:uniform_int):\n",
    "    blurred = cv2.blur(image2np(x), (size,size)) # np.arr\n",
    "#     blurred = cv2.GaussianBlur(image2np(x), (size,size), 0)\n",
    "    return tensor(blurred).permute(2,0,1)\n",
    "\n",
    "def gaussian_blur(size, p=1.0):\n",
    "    return RandTransform(tfm=TfmPixel(_gaussian_blur), kwargs={'size':size}, p=p, resolved={}, do_run=True, is_random=True, use_on_y=False)"
   ]
  },
  {
   "cell_type": "code",
   "execution_count": null,
   "metadata": {},
   "outputs": [],
   "source": [
    "#export\n",
    "resize_one_img = lambda x, size: F.interpolate(x[None], size=size, mode='bilinear', align_corners=True)[0]\n",
    "\n",
    "def resize_tfm(x, pad:uniform_int, line_height=crnn_config.LINE_HEIGHT):\n",
    "    ''' size of subtracted padding '''\n",
    "    c,h,w = x.shape\n",
    "    x = x[ : , pad:h-pad , pad:w-pad ]\n",
    "    new_w = int(w * line_height / float(h))\n",
    "    return resize_one_img(x, size=(line_height, new_w))\n",
    "\n",
    "def rand_resize(pad, p=1.0):\n",
    "    return RandTransform(tfm=TfmPixel(resize_tfm), kwargs={'pad':pad}, p=p, resolved={}, do_run=True, is_random=True, use_on_y=False)"
   ]
  },
  {
   "cell_type": "code",
   "execution_count": null,
   "metadata": {},
   "outputs": [],
   "source": [
    "#export\n",
    "train_transforms = [\n",
    "    rand_resize(pad=(0,PAD), p=1.0),\n",
    "    rotate(degrees=(-2, 2), p=0.6),\n",
    "    symmetric_warp(magnitude=(-0.03, 0.03), p=0.3),\n",
    "    rand_zoom(scale=(0.9,1.03), p=0.5),\n",
    "    brightness(change=(0.35, 0.65), p=0.4),\n",
    "    contrast(scale=(0.7,1.3), p=0.4),\n",
    "    gaussian_blur(size=(1, 7), p=0.2),\n",
    "#     squish(scale=(0.85,1.15), p=0.3),\n",
    "#     cutout(n_holes=(0,6), length=(1,10)), # black rect\n",
    "#     tilt(direction=(0,3), magnitude=(-0.2,0.2), p=0.3)\n",
    "]\n",
    "\n",
    "valid_transforms = [\n",
    "    rand_resize(pad=(0,0), p=1.0) # (no padding, but need to resize)\n",
    "]"
   ]
  },
  {
   "cell_type": "code",
   "execution_count": null,
   "metadata": {},
   "outputs": [],
   "source": [
    "#export\n",
    "def normalize_images(ims):\n",
    "    _min = ims.min()\n",
    "    ims = ims - _min\n",
    "    _max = ims.max()\n",
    "    return ims/_max, _min, _max\n",
    "\n",
    "def denormalize_images(ims, _min=None, _max=None):\n",
    "    return (ims * _max) + _min"
   ]
  },
  {
   "cell_type": "code",
   "execution_count": null,
   "metadata": {},
   "outputs": [],
   "source": [
    "#export\n",
    "def opencv_transform_images(im_fun):\n",
    "    def transform(ims, **kwargs):\n",
    "        device, dtype = ims.device, ims.dtype\n",
    "        ims, _min, _max = normalize_images(ims)\n",
    "        out_ims = []\n",
    "        for im in (ims*255.).long():\n",
    "#             plot(image2np(im))\n",
    "            im = im_fun(image2np(im).astype(np.uint8), **kwargs)\n",
    "#             plot(im)\n",
    "            out_ims.append( tensor(im).permute(2,0,1)[None] )\n",
    "        ims = torch.cat(out_ims, dim=0) / 255.\n",
    "#         ims = normalize_images(ims)[0]\n",
    "        ims = denormalize_images(ims, _min, _max)\n",
    "        return ims.to(device=device, dtype=dtype)\n",
    "    return transform\n",
    "\n",
    "def threshold_image(im_orig): # [h,w,3]\n",
    "    im_grey = cv2.cvtColor(im_orig, cv2.COLOR_BGR2GRAY)\n",
    "    _,th = cv2.threshold(im_grey,0,1,cv2.THRESH_BINARY_INV+cv2.THRESH_OTSU) # [h,w]\n",
    "    mask = cv2.dilate(th, (5,5), iterations=3).astype(bool)\n",
    "    out = np.zeros_like(im_orig) + 255\n",
    "    text_im,_,_ = normalize_images(im_orig[mask].astype(float))\n",
    "    out[mask] = (text_im*255.).astype(np.uint8)\n",
    "    return out"
   ]
  },
  {
   "cell_type": "code",
   "execution_count": null,
   "metadata": {},
   "outputs": [],
   "source": [
    "#export\n",
    "def create_data(df, bs=32):\n",
    "    ''' DataFrame (df) -> Dataloader (dl) '''\n",
    "    data = (MyImageList.from_df(df, path='.', cols='image_path')\n",
    "        .split_from_df(col='valid')\n",
    "        .label_from_df(cols='string', label_cls=TextlineList, label_delim=crnn_config.label_delim)\n",
    "        .transform((train_transforms, valid_transforms), tfm_y=False)\n",
    "        .databunch(bs=bs, collate_fn=partial(im2seq_data_collate, pad_idx=crnn_config.pad_idx))\n",
    "        .normalize()\n",
    "    )\n",
    "    \n",
    "    def preprocessing(b):\n",
    "        x,y = b\n",
    "        x = opencv_transform_images(threshold_image)(x)\n",
    "#         x = opencv_transform_images(lambda im: normalize_images(im)[0]*255)(x)\n",
    "        return x,y\n",
    "#     data.add_tfm(preprocessing)\n",
    "    \n",
    "    return data"
   ]
  },
  {
   "cell_type": "markdown",
   "metadata": {},
   "source": [
    "### Model"
   ]
  },
  {
   "cell_type": "code",
   "execution_count": null,
   "metadata": {},
   "outputs": [],
   "source": [
    "#export\n",
    "def conv_output(w, ss, ps=None, ks=3):\n",
    "    ''' image width, strides, pools, kernel sizes '''\n",
    "    for s,p,k in zip(ss,ps,ks):\n",
    "        s = s[1] if isinstance(s, tuple) else s\n",
    "        w = w if w%s == 0 else w + 1\n",
    "        w = (w - k + 2*p)/s + 1 if p is not None else w/s\n",
    "    return int(w)"
   ]
  },
  {
   "cell_type": "code",
   "execution_count": null,
   "metadata": {},
   "outputs": [
    {
     "data": {
      "text/plain": [
       "31"
      ]
     },
     "execution_count": null,
     "metadata": {},
     "output_type": "execute_result"
    }
   ],
   "source": [
    "conv_output(129, [2, 1, 2, 1, (2,1), (2,1), 1], [None] * 6 + [0], [3, 3, 3, 3, 3, 3, 3])"
   ]
  },
  {
   "cell_type": "code",
   "execution_count": null,
   "metadata": {},
   "outputs": [],
   "source": [
    "#export\n",
    "class CNN(nn.Module):\n",
    "    def __init__(self, d_model, cnn_layers, kernels, strides, channels, padding, nc=3):\n",
    "        super().__init__()\n",
    "        layers = []\n",
    "        for layer,i,o,k,s,p in zip(cnn_layers, [nc] + channels[:-1], channels, kernels, strides, padding):\n",
    "            layers.append( layer(ni=i, nf=o, ks=k, stride=s, padding=p) )\n",
    "        self.cnn = nn.Sequential(*layers)\n",
    "        b,c,h,w = self.cnn(torch.zeros(1,3,48,128)).shape\n",
    "        self.out = nn.Linear(h*c, d_model)\n",
    "        print('CNN output = h:{} c:{}'.format(h,c))\n",
    "        \n",
    "    def forward(self, x):\n",
    "        x = self.cnn(x).permute(0,3,1,2)\n",
    "        b,w,c,h = x.shape\n",
    "        return self.out(x.view(b,w,-1)) # [b,c,h,w]"
   ]
  },
  {
   "cell_type": "code",
   "execution_count": null,
   "metadata": {},
   "outputs": [],
   "source": [
    "#export\n",
    "import revtorch as rv\n",
    "\n",
    "def RevConv(ni, nf, ks, stride, padding):\n",
    "    assert ni == nf and stride == 1\n",
    "    f_func = conv_layer(ni//2, nf//2, ks, stride=stride, padding=padding)\n",
    "    g_func = conv_layer(ni//2, nf//2, ks, stride=stride, padding=padding)\n",
    "    layers = nn.ModuleList([rv.ReversibleBlock(f_func, g_func)])\n",
    "    return rv.ReversibleSequence(layers, eagerly_discard_variables = True)"
   ]
  },
  {
   "cell_type": "code",
   "execution_count": null,
   "metadata": {},
   "outputs": [
    {
     "name": "stdout",
     "output_type": "stream",
     "text": [
      "torch.Size([1, 2, 512])\n"
     ]
    }
   ],
   "source": [
    "m = nn.AdaptiveAvgPool2d([2,512]) # this([h,w])([B,H,W]) -> [B,h,w]\n",
    "input = torch.randn(1, 64, 512)\n",
    "output = m(input)\n",
    "print(output.shape)"
   ]
  },
  {
   "cell_type": "code",
   "execution_count": null,
   "metadata": {},
   "outputs": [],
   "source": [
    "#export\n",
    "def get_normal_cnn(dx=1):\n",
    "    strides = [2, 1, (2,1), 1, (2,1), 1, (2,1), 1]\n",
    "    channels = [int(c*dx) for c in [64, 64, 128, 128, 256, 256, 512, 512]]\n",
    "    cnn_layers = [conv_layer] * len(strides)\n",
    "    kernels = [3] * len(strides)\n",
    "    padding = [None] * len(strides) # None - out size doesnt change\n",
    "    return cnn_layers, channels, kernels, strides, padding"
   ]
  },
  {
   "cell_type": "code",
   "execution_count": null,
   "metadata": {},
   "outputs": [
    {
     "name": "stdout",
     "output_type": "stream",
     "text": [
      "CNN output = h:3 c:512\n"
     ]
    },
    {
     "data": {
      "text/plain": [
       "torch.Size([2, 64, 512])"
      ]
     },
     "execution_count": null,
     "metadata": {},
     "output_type": "execute_result"
    }
   ],
   "source": [
    "cnn_layers, channels, kernels, strides, padding = get_normal_cnn()\n",
    "cnn = CNN(512, cnn_layers, kernels, strides, channels, padding)\n",
    "cnn(torch.zeros(2,3,48,128)).shape"
   ]
  },
  {
   "cell_type": "code",
   "execution_count": null,
   "metadata": {},
   "outputs": [],
   "source": [
    "#export\n",
    "def get_partially_rev_cnn(dx=1):\n",
    "    strides = [2, 1, (2,1), 1, (2,1), 1, (2,1), 1]\n",
    "    channels = [int(c*dx) for c in [64, 64, 128, 128, 256, 256, 512, 512]]\n",
    "    cnn_layers = [conv_layer, RevConv] * (len(strides)//2)\n",
    "    kernels = [3] * len(strides)\n",
    "    padding = [None] * len(strides) # None - out size doesnt change\n",
    "    return cnn_layers, channels, kernels, strides, padding"
   ]
  },
  {
   "cell_type": "code",
   "execution_count": null,
   "metadata": {},
   "outputs": [
    {
     "name": "stdout",
     "output_type": "stream",
     "text": [
      "CNN output = h:3 c:256\n"
     ]
    },
    {
     "data": {
      "text/plain": [
       "torch.Size([2, 64, 512])"
      ]
     },
     "execution_count": null,
     "metadata": {},
     "output_type": "execute_result"
    }
   ],
   "source": [
    "cnn_layers, channels, kernels, strides, padding = get_partially_rev_cnn(dx=1/2)\n",
    "cnn = CNN(512, cnn_layers, kernels, strides, channels, padding)\n",
    "cnn(torch.zeros(2,3,48,128)).shape"
   ]
  },
  {
   "cell_type": "code",
   "execution_count": null,
   "metadata": {},
   "outputs": [],
   "source": [
    "#export\n",
    "class CRNN(nn.Module):\n",
    "\n",
    "    def __init__(self, fclass=11, nclass=12, nc=3, d_model=512, rnn_hidden=256, bidirectional=True):\n",
    "        super().__init__() # fclass - font classes, nclass - char classes\n",
    "        \n",
    "        cnn_layers, self.channels, self.kernels, self.strides, self.padding = get_partially_rev_cnn(dx=1/2)\n",
    "        self.cnn = CNN(d_model, cnn_layers, self.kernels, self.strides, self.channels, self.padding, nc=nc)\n",
    "        \n",
    "        # font prediction\n",
    "        h,w = 2,d_model\n",
    "        self.adaptive_pool = nn.AdaptiveAvgPool2d([h,w]) # this([h,w])([B,H,W]) -> [B,h,w]\n",
    "        f_model = 2 # font embedding\n",
    "        self.font_ff = nn.Sequential(nn.Linear(h*w, fclass*f_model), nn.ReLU())\n",
    "        self.font_out = nn.Linear(f_model, 1)\n",
    "#         self.font_emb = nn.Linear(f_model, d_model)\n",
    "        \n",
    "        # char prediction\n",
    "        self.rnn = nn.LSTM(d_model, rnn_hidden, bidirectional=bidirectional)\n",
    "        mult = 1 if not bidirectional else 2\n",
    "        d_model = rnn_hidden * mult\n",
    "        \n",
    "        self.out = nn.Linear(d_model, nclass)\n",
    "        \n",
    "        self.nclass, self.d_model, self.fclass, self.f_model = nclass, d_model, fclass, f_model\n",
    "    \n",
    "    def forward(self, x):\n",
    "        ''' [b,c,h,w], [b,s_d] '''\n",
    "        b,c,h,w = x.shape\n",
    "        x = self.cnn(x) # [b,w,512]\n",
    "        f = self.adaptive_pool(x).view(b,-1) # [b,h_a x w_a] (_a = adaptive pool params)\n",
    "        f_enc = self.font_ff(f).view(-1, self.fclass, self.f_model)\n",
    "        f_out = self.font_out(f_enc).view(-1, self.fclass)\n",
    "#         f_emb = self.font_emb(f_enc) # [b,f,512]\n",
    "        x, _ = self.rnn(x)\n",
    "        return f_out, self.out(x)"
   ]
  },
  {
   "cell_type": "code",
   "execution_count": null,
   "metadata": {},
   "outputs": [
    {
     "name": "stdout",
     "output_type": "stream",
     "text": [
      "CNN output = h:3 c:256\n"
     ]
    },
    {
     "data": {
      "text/plain": [
       "(torch.Size([2, 11]), torch.Size([2, 64, 12]))"
      ]
     },
     "execution_count": null,
     "metadata": {},
     "output_type": "execute_result"
    }
   ],
   "source": [
    "font, chars = CRNN()(torch.zeros(2,3,48,128))\n",
    "font.shape, chars.shape"
   ]
  },
  {
   "cell_type": "code",
   "execution_count": null,
   "metadata": {},
   "outputs": [
    {
     "name": "stdout",
     "output_type": "stream",
     "text": [
      "CNN output = h:3 c:256\n"
     ]
    }
   ],
   "source": [
    "crnn = CRNN()"
   ]
  },
  {
   "cell_type": "code",
   "execution_count": null,
   "metadata": {},
   "outputs": [],
   "source": [
    "#export\n",
    "image_width2seq_len = lambda w: conv_output(w, crnn.strides, crnn.padding, crnn.kernels)"
   ]
  },
  {
   "cell_type": "code",
   "execution_count": null,
   "metadata": {},
   "outputs": [
    {
     "data": {
      "text/plain": [
       "65"
      ]
     },
     "execution_count": null,
     "metadata": {},
     "output_type": "execute_result"
    }
   ],
   "source": [
    "image_width2seq_len(129)"
   ]
  },
  {
   "cell_type": "markdown",
   "metadata": {},
   "source": [
    "### Train data"
   ]
  },
  {
   "cell_type": "code",
   "execution_count": null,
   "metadata": {},
   "outputs": [
    {
     "data": {
      "text/plain": [
       "ImageDataBunch;\n",
       "\n",
       "Train: LabelList (5000 items)\n",
       "x: MyImageList\n",
       "Image (3, 48, 502),Image (3, 48, 566),Image (3, 48, 533),Image (3, 48, 96),Image (3, 48, 117)\n",
       "y: TextlineList\n",
       "sroie...Y` `S`O`O`N` `F`A`T`T` `S`/`B` `(`8`1`4`...,sroie...4`6`0`0`0` `P`E`T`A`L`I`N`G` `J`A`Y`A`,`...,sroie...G`S`T` `R`E`G` `N`O` `:` `0`0`0`7`8`8`2`...,sroie...D`E`S`C,sroie...P`R`I`C`E\n",
       "Path: .;\n",
       "\n",
       "Valid: LabelList (500 items)\n",
       "x: MyImageList\n",
       "Image (3, 48, 272),Image (3, 48, 794),Image (3, 48, 432),Image (3, 48, 504),Image (3, 48, 355)\n",
       "y: TextlineList\n",
       "sroie...T`H`O`N`G` `R`E`C`I`P`E,sroie...1`6`G` `B`L`O`C`K` `B` `,`Z`E`N`I`T`H` `...,sroie...J`A`L`A`N` `S`S`7`/`2`6`,` `4`7`3`0`1,sroie...P`E`T`A`L`I`N`G` `J`A`Y`A` `S`E`L`A`N`G`...,sroie...T`E`L` `0`3`-`7`8`8`6` `4`8`7`7\n",
       "Path: .;\n",
       "\n",
       "Test: None"
      ]
     },
     "execution_count": null,
     "metadata": {},
     "output_type": "execute_result"
    }
   ],
   "source": [
    "data = create_data(sparse_df, bs=6)\n",
    "data"
   ]
  },
  {
   "cell_type": "code",
   "execution_count": null,
   "metadata": {},
   "outputs": [],
   "source": [
    "# data.show_batch(4, figsize=(10,10))"
   ]
  },
  {
   "cell_type": "code",
   "execution_count": null,
   "metadata": {},
   "outputs": [
    {
     "data": {
      "text/plain": [
       "torch.Size([6, 3, 48, 794])"
      ]
     },
     "execution_count": null,
     "metadata": {},
     "output_type": "execute_result"
    }
   ],
   "source": [
    "dl = iter(data.valid_dl)\n",
    "i, o = next(dl)\n",
    "i.shape"
   ]
  },
  {
   "cell_type": "code",
   "execution_count": null,
   "metadata": {},
   "outputs": [
    {
     "data": {
      "text/plain": [
       "114"
      ]
     },
     "execution_count": null,
     "metadata": {},
     "output_type": "execute_result"
    }
   ],
   "source": [
    "data.c"
   ]
  },
  {
   "cell_type": "code",
   "execution_count": null,
   "metadata": {},
   "outputs": [
    {
     "data": {
      "image/jpeg": "[encoded data removed]",
      "image/png": "[encoded data removed]",
      "text/plain": [
       "Image (3, 41, 429)"
      ]
     },
     "execution_count": null,
     "metadata": {},
     "output_type": "execute_result"
    }
   ],
   "source": [
    "data.x[0]"
   ]
  },
  {
   "cell_type": "code",
   "execution_count": null,
   "metadata": {},
   "outputs": [
    {
     "data": {
      "text/plain": [
       "TextlineAndFont sroie...Y` `S`O`O`N` `F`A`T`T` `S`/`B` `(`8`1`4`..."
      ]
     },
     "execution_count": null,
     "metadata": {},
     "output_type": "execute_result"
    }
   ],
   "source": [
    "data.y[0]"
   ]
  },
  {
   "cell_type": "code",
   "execution_count": null,
   "metadata": {},
   "outputs": [
    {
     "data": {
      "text/plain": [
       "(tensor([59,  1, 53, 49, 49, 48,  1, 40, 35, 54, 54,  1, 53, 17, 36,  1, 10, 26,\n",
       "         19, 22, 27, 25, 15, 50, 11]), tensor(32))"
      ]
     },
     "execution_count": null,
     "metadata": {},
     "output_type": "execute_result"
    }
   ],
   "source": [
    "data.y[0].data"
   ]
  },
  {
   "cell_type": "markdown",
   "metadata": {},
   "source": [
    "### Learner"
   ]
  },
  {
   "cell_type": "code",
   "execution_count": null,
   "metadata": {},
   "outputs": [],
   "source": [
    "#export\n",
    "class CTCFontLoss(nn.Module):\n",
    "    def __init__(self, ctc_pad_idx=0):\n",
    "        super().__init__()\n",
    "        self.ctc_loss = nn.CTCLoss(blank=ctc_pad_idx, reduction='mean', zero_infinity=True)\n",
    "        self.metric_names = ['ctc_loss', 'font_loss']\n",
    "\n",
    "    def _ctc_loss(self, y_pred, y_true, y_pred_len, y_true_len):\n",
    "        # y_pred: [b,s_e,c], y_true: [[s_d], [s_d], ...], lengths: [b]\n",
    "        b, s_e, c = y_pred.shape\n",
    "#         print([len(x) for x in y_true], [len(x) for x in y_pred])\n",
    "        y_true = torch.cat(y_true, axis=0) # [b*s_d]\n",
    "        y_pred = y_pred.log_softmax(axis=2).permute(1,0,2) # [ s_e, b, c ]\n",
    "        torch.backends.cudnn.enabled = False\n",
    "        loss = self.ctc_loss(y_pred, y_true, y_pred_len, y_true_len)\n",
    "        torch.backends.cudnn.enabled = True\n",
    "        return loss\n",
    "    \n",
    "    def _font_loss(self, y_pred, y_true): # [b,c], [b]\n",
    "        return nn.CrossEntropyLoss()(y_pred, y_true)\n",
    "    \n",
    "    def forward(self, nn_output, font_true, y_true, y_pred_len, y_true_len):\n",
    "        font_pred, y_pred = nn_output\n",
    "        ctc = self._ctc_loss(y_pred, y_true, y_pred_len, y_true_len)\n",
    "        font = self._font_loss(font_pred, font_true)\n",
    "        self.metrics = dict(zip(self.metric_names, [ctc, font]))\n",
    "        return ctc + font"
   ]
  },
  {
   "cell_type": "code",
   "execution_count": null,
   "metadata": {},
   "outputs": [],
   "source": [
    "#export\n",
    "from fastai.callbacks import LossMetrics\n",
    "\n",
    "class AddLossMetrics(LossMetrics):\n",
    "    def on_batch_end(self, last_target, train, **kwargs):\n",
    "        \"Update the metrics if not `train`\"\n",
    "        if train: return\n",
    "        bs = last_target[0].size(0) # CHANGED\n",
    "        for name in filter(lambda n: n.endswith('loss'), self.names):\n",
    "            self.metrics[name] += bs * self.learn.loss_func.metrics[name].detach().cpu()\n",
    "        self.nums += bs"
   ]
  },
  {
   "cell_type": "code",
   "execution_count": null,
   "metadata": {},
   "outputs": [
    {
     "data": {
      "text/plain": [
       "(0.09090909090909091, 0.25)"
      ]
     },
     "execution_count": null,
     "metadata": {},
     "output_type": "execute_result"
    }
   ],
   "source": [
    "#export\n",
    "def wer(s1,s2):\n",
    "    ''' s1 - true text, s2 - pred text '''\n",
    "    d = np.zeros([len(s1)+1,len(s2)+1])\n",
    "    d[:,0] = np.arange(len(s1)+1)\n",
    "    d[0,:] = np.arange(len(s2)+1)\n",
    "\n",
    "    for j in range(1,len(s2)+1):\n",
    "        for i in range(1,len(s1)+1):\n",
    "            if s1[i-1] == s2[j-1]: d[i,j] = d[i-1,j-1]\n",
    "            else: d[i,j] = min(d[i-1,j]+1, d[i,j-1]+1, d[i-1,j-1]+1)\n",
    "\n",
    "    return d[-1,-1]/len(s1)\n",
    "\n",
    "word_error = wer( 'black frog jumped away'.split(' '), 'black frog jumped awayyy'.split(' ') )\n",
    "char_error = wer( 'black frog jumped away', 'black frog jumped awayyy' )\n",
    "char_error, word_error"
   ]
  },
  {
   "cell_type": "code",
   "execution_count": null,
   "metadata": {},
   "outputs": [],
   "source": [
    "#export\n",
    "def decode_true(texts): return texts"
   ]
  },
  {
   "cell_type": "code",
   "execution_count": null,
   "metadata": {},
   "outputs": [],
   "source": [
    "#export\n",
    "class WordErrorRate(LearnerCallback):\n",
    "    _order=-20 # Needs to run before the recorder\n",
    "    def __init__(self, learner, decode_pred_func=decode_ctc, decode_true_func=decode_true):\n",
    "        super().__init__(learner)\n",
    "        self.classes = learner.data.classes\n",
    "        self.decode_pred, self.decode_true = decode_pred_func, decode_true_func\n",
    "        if not hasattr(self.learn.recorder, 'names'):\n",
    "            self.learn.recorder.add_metric_names(['cer', 'wer'])\n",
    "    \n",
    "    def on_epoch_begin(self, **kwargs):\n",
    "        self.wer, self.cer, self.total = 0, 0, 0\n",
    "    \n",
    "    def on_batch_end(self, last_output, last_target, train, **kwargs):\n",
    "        if train: return\n",
    "        font_pred, y_pred = last_output\n",
    "        font_true, y_true, *_ = last_target\n",
    "        y_pred = y_pred.argmax(-1)\n",
    "        y_pred = self.decode_pred(y_pred)\n",
    "        y_true = self.decode_true(y_true)\n",
    "        for yp, yt in zip(y_pred, y_true):\n",
    "            self.total += 1\n",
    "            if yp.shape == torch.Size([]): continue\n",
    "            yt_text = ''.join([self.classes[i] for i in yt])\n",
    "            yp_text = ''.join([self.classes[i] for i in yp])\n",
    "            self.wer += wer(yt_text.split(' '), yp_text.split(' '))\n",
    "            self.cer += wer(yt_text, yp_text)\n",
    "    \n",
    "    def on_epoch_end(self, last_metrics, **kwargs):\n",
    "        if self.total == 0: return {'last_metrics': last_metrics}\n",
    "        metrics = [tensor(self.cer/self.total), tensor(self.wer/self.total)]\n",
    "        return {'last_metrics': [last_metrics[0]] + metrics + last_metrics[1:]}"
   ]
  },
  {
   "cell_type": "code",
   "execution_count": null,
   "metadata": {},
   "outputs": [],
   "source": [
    "# either load or create new learner\n",
    "learner = load_inference('crnn_ocr')\n",
    "learner.data = data\n",
    "model = learner.model"
   ]
  },
  {
   "cell_type": "code",
   "execution_count": null,
   "metadata": {},
   "outputs": [
    {
     "name": "stdout",
     "output_type": "stream",
     "text": [
      "CNN output = h:3 c:256\n"
     ]
    },
    {
     "data": {
      "text/plain": [
       "ImageDataBunch;\n",
       "\n",
       "Train: LabelList (37471 items)\n",
       "x: MyImageList\n",
       "Image (3, 48, 502),Image (3, 48, 756),Image (3, 48, 566),Image (3, 48, 348),Image (3, 48, 533)\n",
       "y: TextlineList\n",
       "sroie...Y` `S`O`O`N` `F`A`T`T` `S`/`B` `(`8`1`4`...,sroie...L`O`T` `1`5`0`4`,` `B`A`T`U` `8` `1`/`2`...,sroie...4`6`0`0`0` `P`E`T`A`L`I`N`G` `J`A`Y`A`,`...,sroie...T`E`L` `:` `0`1`6`-`2`0`1`4`2`0`9,sroie...G`S`T` `R`E`G` `N`O` `:` `0`0`0`7`8`8`2`...\n",
       "Path: .;\n",
       "\n",
       "Valid: LabelList (18440 items)\n",
       "x: MyImageList\n",
       "Image (3, 48, 272),Image (3, 48, 794),Image (3, 48, 432),Image (3, 48, 504),Image (3, 48, 355)\n",
       "y: TextlineList\n",
       "sroie...T`H`O`N`G` `R`E`C`I`P`E,sroie...1`6`G` `B`L`O`C`K` `B` `,`Z`E`N`I`T`H` `...,sroie...J`A`L`A`N` `S`S`7`/`2`6`,` `4`7`3`0`1,sroie...P`E`T`A`L`I`N`G` `J`A`Y`A` `S`E`L`A`N`G`...,sroie...T`E`L` `0`3`-`7`8`8`6` `4`8`7`7\n",
       "Path: .;\n",
       "\n",
       "Test: None"
      ]
     },
     "execution_count": null,
     "metadata": {},
     "output_type": "execute_result"
    }
   ],
   "source": [
    "data = create_data(main_df, bs=8)\n",
    "model = CRNN(nclass=data.c, fclass=len(data.font_classes))\n",
    "loss_func = CTCFontLoss(ctc_pad_idx=data.classes.index(crnn_config.label_delim))\n",
    "data"
   ]
  },
  {
   "cell_type": "code",
   "execution_count": null,
   "metadata": {},
   "outputs": [],
   "source": [
    "# data.show_batch(figsize=(10,10))"
   ]
  },
  {
   "cell_type": "code",
   "execution_count": null,
   "metadata": {},
   "outputs": [],
   "source": [
    "learner = Learner(data, model, loss_func=loss_func, callback_fns=[ShowGraph, AddLossMetrics, WordErrorRate])"
   ]
  },
  {
   "cell_type": "code",
   "execution_count": null,
   "metadata": {},
   "outputs": [
    {
     "data": {
      "text/html": [
       "<table border=\"1\" class=\"dataframe\">\n",
       "  <thead>\n",
       "    <tr style=\"text-align: left;\">\n",
       "      <th>epoch</th>\n",
       "      <th>train_loss</th>\n",
       "      <th>valid_loss</th>\n",
       "      <th>cer</th>\n",
       "      <th>wer</th>\n",
       "      <th>ctc_loss</th>\n",
       "      <th>font_loss</th>\n",
       "      <th>time</th>\n",
       "    </tr>\n",
       "  </thead>\n",
       "  <tbody>\n",
       "    <tr>\n",
       "      <td>0</td>\n",
       "      <td>0.237106</td>\n",
       "      <td>0.246655</td>\n",
       "      <td>0.067450</td>\n",
       "      <td>0.290656</td>\n",
       "      <td>0.246655</td>\n",
       "      <td>0.000000</td>\n",
       "      <td>04:33</td>\n",
       "    </tr>\n",
       "  </tbody>\n",
       "</table>"
      ],
      "text/plain": [
       "<IPython.core.display.HTML object>"
      ]
     },
     "metadata": {},
     "output_type": "display_data"
    },
    {
     "data": {
      "image/png": "[encoded data removed]",
      "text/plain": [
       "<Figure size 432x288 with 1 Axes>"
      ]
     },
     "metadata": {},
     "output_type": "display_data"
    }
   ],
   "source": [
    "learner.fit_one_cycle(1, 1e-3)"
   ]
  },
  {
   "cell_type": "code",
   "execution_count": null,
   "metadata": {},
   "outputs": [
    {
     "data": {
      "text/html": [
       "\n",
       "    <div>\n",
       "        <style>\n",
       "            /* Turns off some styling */\n",
       "            progress {\n",
       "                /* gets rid of default border in Firefox and Opera. */\n",
       "                border: none;\n",
       "                /* Needs to be in here for Safari polyfill so background images work as expected. */\n",
       "                background-size: auto;\n",
       "            }\n",
       "            .progress-bar-interrupted, .progress-bar-interrupted::-webkit-progress-bar {\n",
       "                background: #F44336;\n",
       "            }\n",
       "        </style>\n",
       "      <progress value='9' class='' max='10', style='width:300px; height:20px; vertical-align: middle;'></progress>\n",
       "      90.00% [9/10 41:12<04:34]\n",
       "    </div>\n",
       "    \n",
       "<table border=\"1\" class=\"dataframe\">\n",
       "  <thead>\n",
       "    <tr style=\"text-align: left;\">\n",
       "      <th>epoch</th>\n",
       "      <th>train_loss</th>\n",
       "      <th>valid_loss</th>\n",
       "      <th>cer</th>\n",
       "      <th>wer</th>\n",
       "      <th>ctc_loss</th>\n",
       "      <th>font_loss</th>\n",
       "      <th>time</th>\n",
       "    </tr>\n",
       "  </thead>\n",
       "  <tbody>\n",
       "    <tr>\n",
       "      <td>0</td>\n",
       "      <td>0.246127</td>\n",
       "      <td>0.229327</td>\n",
       "      <td>0.062071</td>\n",
       "      <td>0.271613</td>\n",
       "      <td>0.229327</td>\n",
       "      <td>0.000000</td>\n",
       "      <td>04:34</td>\n",
       "    </tr>\n",
       "    <tr>\n",
       "      <td>1</td>\n",
       "      <td>0.224107</td>\n",
       "      <td>0.215609</td>\n",
       "      <td>0.058351</td>\n",
       "      <td>0.254724</td>\n",
       "      <td>0.215609</td>\n",
       "      <td>0.000000</td>\n",
       "      <td>04:34</td>\n",
       "    </tr>\n",
       "    <tr>\n",
       "      <td>2</td>\n",
       "      <td>0.193052</td>\n",
       "      <td>0.203882</td>\n",
       "      <td>0.056670</td>\n",
       "      <td>0.258322</td>\n",
       "      <td>0.203882</td>\n",
       "      <td>0.000000</td>\n",
       "      <td>04:34</td>\n",
       "    </tr>\n",
       "    <tr>\n",
       "      <td>3</td>\n",
       "      <td>0.162642</td>\n",
       "      <td>0.184741</td>\n",
       "      <td>0.049651</td>\n",
       "      <td>0.225425</td>\n",
       "      <td>0.184741</td>\n",
       "      <td>0.000000</td>\n",
       "      <td>04:32</td>\n",
       "    </tr>\n",
       "    <tr>\n",
       "      <td>4</td>\n",
       "      <td>0.136462</td>\n",
       "      <td>0.179144</td>\n",
       "      <td>0.051424</td>\n",
       "      <td>0.244269</td>\n",
       "      <td>0.179144</td>\n",
       "      <td>0.000000</td>\n",
       "      <td>04:34</td>\n",
       "    </tr>\n",
       "    <tr>\n",
       "      <td>5</td>\n",
       "      <td>0.146467</td>\n",
       "      <td>0.159553</td>\n",
       "      <td>0.042125</td>\n",
       "      <td>0.196718</td>\n",
       "      <td>0.159553</td>\n",
       "      <td>0.000000</td>\n",
       "      <td>04:34</td>\n",
       "    </tr>\n",
       "    <tr>\n",
       "      <td>6</td>\n",
       "      <td>0.132660</td>\n",
       "      <td>0.152502</td>\n",
       "      <td>0.041007</td>\n",
       "      <td>0.187542</td>\n",
       "      <td>0.152502</td>\n",
       "      <td>0.000000</td>\n",
       "      <td>04:36</td>\n",
       "    </tr>\n",
       "    <tr>\n",
       "      <td>7</td>\n",
       "      <td>0.142678</td>\n",
       "      <td>0.150065</td>\n",
       "      <td>0.038942</td>\n",
       "      <td>0.179972</td>\n",
       "      <td>0.150064</td>\n",
       "      <td>0.000000</td>\n",
       "      <td>04:34</td>\n",
       "    </tr>\n",
       "    <tr>\n",
       "      <td>8</td>\n",
       "      <td>0.115218</td>\n",
       "      <td>0.150122</td>\n",
       "      <td>0.039339</td>\n",
       "      <td>0.178554</td>\n",
       "      <td>0.150122</td>\n",
       "      <td>0.000000</td>\n",
       "      <td>04:34</td>\n",
       "    </tr>\n",
       "  </tbody>\n",
       "</table><p>\n",
       "\n",
       "    <div>\n",
       "        <style>\n",
       "            /* Turns off some styling */\n",
       "            progress {\n",
       "                /* gets rid of default border in Firefox and Opera. */\n",
       "                border: none;\n",
       "                /* Needs to be in here for Safari polyfill so background images work as expected. */\n",
       "                background-size: auto;\n",
       "            }\n",
       "            .progress-bar-interrupted, .progress-bar-interrupted::-webkit-progress-bar {\n",
       "                background: #F44336;\n",
       "            }\n",
       "        </style>\n",
       "      <progress value='910' class='' max='2305', style='width:300px; height:20px; vertical-align: middle;'></progress>\n",
       "      39.48% [910/2305 00:57<01:28]\n",
       "    </div>\n",
       "    "
      ],
      "text/plain": [
       "<IPython.core.display.HTML object>"
      ]
     },
     "metadata": {},
     "output_type": "display_data"
    },
    {
     "data": {
      "image/png": "[encoded data removed]",
      "text/plain": [
       "<Figure size 432x288 with 1 Axes>"
      ]
     },
     "metadata": {},
     "output_type": "display_data"
    }
   ],
   "source": [
    "learner.fit_one_cycle(15, 1e-4)"
   ]
  },
  {
   "cell_type": "code",
   "execution_count": null,
   "metadata": {},
   "outputs": [],
   "source": [
    "save_inference(learner, 'crnn_ocr')"
   ]
  },
  {
   "cell_type": "code",
   "execution_count": null,
   "metadata": {},
   "outputs": [
    {
     "data": {
      "text/html": [
       "<table border=\"1\" class=\"dataframe\">\n",
       "  <thead>\n",
       "    <tr style=\"text-align: left;\">\n",
       "      <th>epoch</th>\n",
       "      <th>train_loss</th>\n",
       "      <th>valid_loss</th>\n",
       "      <th>cer</th>\n",
       "      <th>wer</th>\n",
       "      <th>ctc_loss</th>\n",
       "      <th>font_loss</th>\n",
       "      <th>time</th>\n",
       "    </tr>\n",
       "  </thead>\n",
       "  <tbody>\n",
       "    <tr>\n",
       "      <td>0</td>\n",
       "      <td>0.068411</td>\n",
       "      <td>0.136059</td>\n",
       "      <td>0.033100</td>\n",
       "      <td>0.154314</td>\n",
       "      <td>0.136059</td>\n",
       "      <td>0.000000</td>\n",
       "      <td>04:33</td>\n",
       "    </tr>\n",
       "    <tr>\n",
       "      <td>1</td>\n",
       "      <td>0.082450</td>\n",
       "      <td>0.145006</td>\n",
       "      <td>0.035105</td>\n",
       "      <td>0.160422</td>\n",
       "      <td>0.145006</td>\n",
       "      <td>0.000000</td>\n",
       "      <td>04:35</td>\n",
       "    </tr>\n",
       "    <tr>\n",
       "      <td>2</td>\n",
       "      <td>0.080098</td>\n",
       "      <td>0.142361</td>\n",
       "      <td>0.034512</td>\n",
       "      <td>0.161418</td>\n",
       "      <td>0.142361</td>\n",
       "      <td>0.000000</td>\n",
       "      <td>04:35</td>\n",
       "    </tr>\n",
       "    <tr>\n",
       "      <td>3</td>\n",
       "      <td>0.074975</td>\n",
       "      <td>0.142947</td>\n",
       "      <td>0.034823</td>\n",
       "      <td>0.165454</td>\n",
       "      <td>0.142947</td>\n",
       "      <td>0.000000</td>\n",
       "      <td>04:35</td>\n",
       "    </tr>\n",
       "    <tr>\n",
       "      <td>4</td>\n",
       "      <td>0.060825</td>\n",
       "      <td>0.143260</td>\n",
       "      <td>0.034658</td>\n",
       "      <td>0.166857</td>\n",
       "      <td>0.143260</td>\n",
       "      <td>0.000000</td>\n",
       "      <td>04:35</td>\n",
       "    </tr>\n",
       "    <tr>\n",
       "      <td>5</td>\n",
       "      <td>0.072840</td>\n",
       "      <td>0.142390</td>\n",
       "      <td>0.035126</td>\n",
       "      <td>0.165453</td>\n",
       "      <td>0.142390</td>\n",
       "      <td>0.000000</td>\n",
       "      <td>04:36</td>\n",
       "    </tr>\n",
       "    <tr>\n",
       "      <td>6</td>\n",
       "      <td>0.054623</td>\n",
       "      <td>0.135100</td>\n",
       "      <td>0.032179</td>\n",
       "      <td>0.152955</td>\n",
       "      <td>0.135100</td>\n",
       "      <td>0.000000</td>\n",
       "      <td>04:34</td>\n",
       "    </tr>\n",
       "    <tr>\n",
       "      <td>7</td>\n",
       "      <td>0.080391</td>\n",
       "      <td>0.132901</td>\n",
       "      <td>0.032358</td>\n",
       "      <td>0.150744</td>\n",
       "      <td>0.132901</td>\n",
       "      <td>0.000000</td>\n",
       "      <td>04:34</td>\n",
       "    </tr>\n",
       "    <tr>\n",
       "      <td>8</td>\n",
       "      <td>0.056262</td>\n",
       "      <td>0.132906</td>\n",
       "      <td>0.031929</td>\n",
       "      <td>0.150359</td>\n",
       "      <td>0.132906</td>\n",
       "      <td>0.000000</td>\n",
       "      <td>04:34</td>\n",
       "    </tr>\n",
       "    <tr>\n",
       "      <td>9</td>\n",
       "      <td>0.043753</td>\n",
       "      <td>0.131469</td>\n",
       "      <td>0.031623</td>\n",
       "      <td>0.147909</td>\n",
       "      <td>0.131469</td>\n",
       "      <td>0.000000</td>\n",
       "      <td>04:35</td>\n",
       "    </tr>\n",
       "  </tbody>\n",
       "</table>"
      ],
      "text/plain": [
       "<IPython.core.display.HTML object>"
      ]
     },
     "metadata": {},
     "output_type": "display_data"
    },
    {
     "data": {
      "image/png": "[encoded data removed]",
      "text/plain": [
       "<Figure size 432x288 with 1 Axes>"
      ]
     },
     "metadata": {},
     "output_type": "display_data"
    }
   ],
   "source": [
    "learner.fit_one_cycle(10, 1e-4)"
   ]
  },
  {
   "cell_type": "code",
   "execution_count": null,
   "metadata": {},
   "outputs": [],
   "source": [
    "save_inference(learner, 'crnn_ocr')"
   ]
  },
  {
   "cell_type": "markdown",
   "metadata": {},
   "source": [
    "### Examples"
   ]
  },
  {
   "cell_type": "code",
   "execution_count": null,
   "metadata": {},
   "outputs": [],
   "source": [
    "learner = load_inference('crnn_ocr')"
   ]
  },
  {
   "cell_type": "code",
   "execution_count": null,
   "metadata": {},
   "outputs": [],
   "source": [
    "from pathlib import PosixPath\n",
    "from ocr.core import *"
   ]
  },
  {
   "cell_type": "code",
   "execution_count": null,
   "metadata": {},
   "outputs": [
    {
     "data": {
      "image/png": "[encoded data removed]",
      "text/plain": [
       "<Figure size 432x288 with 1 Axes>"
      ]
     },
     "metadata": {
      "needs_background": "light"
     },
     "output_type": "display_data"
    }
   ],
   "source": [
    "im = cv2.imread(str(PosixPath('../data/ocr/fontsynth_lines/').ls()[0]))\n",
    "plot(im)"
   ]
  },
  {
   "cell_type": "code",
   "execution_count": null,
   "metadata": {},
   "outputs": [
    {
     "data": {
      "text/plain": [
       "('A. OPTIKA NA9RIMEJA RE9IMOSI', 'sroie2019')"
      ]
     },
     "execution_count": null,
     "metadata": {},
     "output_type": "execute_result"
    }
   ],
   "source": [
    "pred,_,_ = learner.predict( Image(tensor(im).permute(2,0,1) / 255.) )\n",
    "chars, font = pred.obj\n",
    "string = ''.join(chars)\n",
    "string, font"
   ]
  },
  {
   "cell_type": "markdown",
   "metadata": {},
   "source": [
    "### Eval"
   ]
  },
  {
   "cell_type": "code",
   "execution_count": null,
   "metadata": {},
   "outputs": [],
   "source": [
    "def calc_precision_recall(true_words, pred_words):\n",
    "    num_preds, num_trues = len(pred_words), len(true_words)\n",
    "    \n",
    "    correct = 0\n",
    "    for true_word in true_words:\n",
    "        if true_word in pred_words:\n",
    "            pred_words.remove(true_word)\n",
    "            correct += 1\n",
    "            continue\n",
    "\n",
    "    precision = correct / num_preds\n",
    "    recall = correct / num_trues\n",
    "    # print(precision, recall, correct, num_preds)\n",
    "    return precision, recall"
   ]
  },
  {
   "cell_type": "code",
   "execution_count": null,
   "metadata": {},
   "outputs": [
    {
     "data": {
      "text/plain": [
       "(0.09090909090909091, 0.25)"
      ]
     },
     "execution_count": null,
     "metadata": {},
     "output_type": "execute_result"
    }
   ],
   "source": [
    "def wer(s1,s2):\n",
    "    ''' s1 - true text, s2 - pred text '''\n",
    "    d = np.zeros([len(s1)+1,len(s2)+1])\n",
    "    d[:,0] = np.arange(len(s1)+1)\n",
    "    d[0,:] = np.arange(len(s2)+1)\n",
    "\n",
    "    for j in range(1,len(s2)+1):\n",
    "        for i in range(1,len(s1)+1):\n",
    "            if s1[i-1] == s2[j-1]:\n",
    "                d[i,j] = d[i-1,j-1]\n",
    "            else:\n",
    "                d[i,j] = min(d[i-1,j]+1, d[i,j-1]+1, d[i-1,j-1]+1)\n",
    "\n",
    "    return d[-1,-1]/len(s1)\n",
    "\n",
    "word_error = wer( 'black frog jumped away'.split(' '), 'black frog jumped awayyy'.split(' ') )\n",
    "char_error = wer( 'black frog jumped away', 'black frog jumped awayyy' )\n",
    "char_error, word_error"
   ]
  },
  {
   "cell_type": "code",
   "execution_count": null,
   "metadata": {},
   "outputs": [],
   "source": [
    "def idx2text(indexes):\n",
    "    for i in indexes:\n",
    "        try: data.classes[i]\n",
    "        except: print('asd', i)\n",
    "    return ''.join([data.classes[i] for i in indexes])"
   ]
  },
  {
   "cell_type": "code",
   "execution_count": null,
   "metadata": {},
   "outputs": [],
   "source": [
    "def evaluate_model(model, dl, t2list=lambda t: list(t.cpu().numpy()), total=None):\n",
    "    total = len(dl) if total is None else total\n",
    "    errors = 0\n",
    "    ps, rs, ws, cs = [], [], [], []\n",
    "    for images, (font, texts, im_lens, text_lens) in tqdm(iter(dl), total=total):\n",
    "        font_pred, y_pred = model(images)\n",
    "        y_pred = y_pred.argmax(-1)\n",
    "        pred_texts = decode_ctc(y_pred)\n",
    "        for true_words, pred_words in zip(texts, pred_texts): # go through batch\n",
    "            if list(pred_words.shape) == []:\n",
    "#                 print('list(pred_words.shape) == []')\n",
    "                errors += 1\n",
    "                continue\n",
    "            true_words, pred_words = t2list(true_words), t2list(pred_words)\n",
    "            true_str, pred_str = idx2text(true_words), idx2text(pred_words)\n",
    "            p,r = calc_precision_recall(true_words, pred_words)\n",
    "            c = wer(true_str, pred_str)\n",
    "            w = wer(true_str.split(' '), pred_str.split(' '))\n",
    "            ps.append(p); rs.append(r); ws.append(w); cs.append(c)\n",
    "    print('errors:', errors)\n",
    "    return np.array(ps), np.array(rs), np.array(ws), np.array(cs)\n",
    "\n",
    "# p, r, w, c = evaluate_model(learner.model.train(), data.valid_dl)"
   ]
  },
  {
   "cell_type": "code",
   "execution_count": null,
   "metadata": {},
   "outputs": [],
   "source": [
    "model = learner.model.eval()"
   ]
  },
  {
   "cell_type": "code",
   "execution_count": null,
   "metadata": {},
   "outputs": [],
   "source": [
    "p, r, w, c = evaluate_model(model, learner.data.train_dl)\n",
    "c.mean(), w.mean(), p.mean(), r.mean()"
   ]
  },
  {
   "cell_type": "code",
   "execution_count": null,
   "metadata": {},
   "outputs": [
    {
     "data": {
      "application/vnd.jupyter.widget-view+json": {
       "model_id": "58b7eb39a6f54e7696b57a07919251e6",
       "version_major": 2,
       "version_minor": 0
      },
      "text/plain": [
       "HBox(children=(IntProgress(value=0, max=461), HTML(value='')))"
      ]
     },
     "metadata": {},
     "output_type": "display_data"
    },
    {
     "name": "stdout",
     "output_type": "stream",
     "text": [
      "\n",
      "errors: 12\n"
     ]
    },
    {
     "data": {
      "text/plain": [
       "(0.13151347572210367,\n",
       " 0.5205015823554996,\n",
       " 0.9309294784239218,\n",
       " 0.8799421197150123)"
      ]
     },
     "execution_count": null,
     "metadata": {},
     "output_type": "execute_result"
    }
   ],
   "source": [
    "p, r, w, c = evaluate_model(model, learner.data.valid_dl)\n",
    "c.mean(), w.mean(), p.mean(), r.mean()"
   ]
  },
  {
   "cell_type": "code",
   "execution_count": null,
   "metadata": {},
   "outputs": [],
   "source": []
  }
 ],
 "metadata": {
  "kernelspec": {
   "display_name": "nlp",
   "language": "python",
   "name": "nlp"
  }
 },
 "nbformat": 4,
 "nbformat_minor": 2
}
