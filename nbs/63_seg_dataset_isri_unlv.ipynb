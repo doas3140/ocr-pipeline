{
 "cells": [
  {
   "cell_type": "code",
   "execution_count": null,
   "metadata": {},
   "outputs": [],
   "source": [
    "#default_exp seg_dataset_isri_unlv"
   ]
  },
  {
   "cell_type": "markdown",
   "metadata": {},
   "source": [
    "# ISRI UNLV\n",
    "\n",
    "> [image] -> [segmentation maps]\n",
    "\n",
    "download dataset from https://code.google.com/archive/p/isri-ocr-evaluation-tools/  \n",
    "dir structure: \n",
    "`\n",
    "./data/isri_unlv/\n",
    "    | bus.2B\n",
    "        | 0/\n",
    "            | ...2B.tif\n",
    "            | ...2B.txt\n",
    "            | ...2B.uzn\n",
    "            ...\n",
    "        | 1/\n",
    "        ...\n",
    "    ...\n",
    "`"
   ]
  },
  {
   "cell_type": "code",
   "execution_count": null,
   "metadata": {},
   "outputs": [],
   "source": [
    "#export\n",
    "from ocr.core import save_dict, read_dict, plot\n",
    "from fastai import *\n",
    "from fastai.vision import *\n",
    "import pandas as pd\n",
    "import numpy as np\n",
    "import cv2\n",
    "from tqdm.notebook import tqdm\n",
    "from pathlib import PosixPath"
   ]
  },
  {
   "cell_type": "code",
   "execution_count": null,
   "metadata": {},
   "outputs": [],
   "source": [
    "#export\n",
    "cat2id = {\n",
    "'Background': 0,\n",
    "'Attent_line': 1,\n",
    "'Other_Text': 2,\n",
    "'cc': 3,\n",
    "'Company_Sig': 4,\n",
    "'Subject': 5,\n",
    "'Enclosure': 6,\n",
    "'Sign/Type': 7,\n",
    "'Inside_Addr': 8,\n",
    "'Dateline': 9,\n",
    "'Footnote': 10,\n",
    "'Closing': 10,\n",
    "'Salutat': 11,\n",
    "'Signer': 12,\n",
    "'Letterhead': 13,\n",
    "'Table': 14,\n",
    "'Caption': 15,\n",
    "'Header/Footer': 16,\n",
    "'Text': 17\n",
    "}\n",
    "\n",
    "class isri_unlv_config:\n",
    "    MAIN_DIR = PosixPath('../data/isri_unlv/')\n",
    "    SEG_DIR = PosixPath('../data/seg/labels/')\n",
    "    IMG_DIR = PosixPath('../data/seg/images/')\n",
    "    cat2id = cat2id"
   ]
  },
  {
   "cell_type": "code",
   "execution_count": null,
   "metadata": {},
   "outputs": [
    {
     "data": {
      "image/png": "[encoded data removed]",
      "text/plain": [
       "<Figure size 432x288 with 1 Axes>"
      ]
     },
     "metadata": {
      "needs_background": "light"
     },
     "output_type": "display_data"
    },
    {
     "data": {
      "image/png": "[encoded data removed]",
      "text/plain": [
       "<Figure size 432x288 with 1 Axes>"
      ]
     },
     "metadata": {
      "needs_background": "light"
     },
     "output_type": "display_data"
    }
   ],
   "source": [
    "im = cv2.imread(str(isri_unlv_config.MAIN_DIR/'bus.2B'/'0'/'8500_001.2B.tif'))\n",
    "plot(im)\n",
    "l,t,w,h,cat = [177, 381, 400, 64, 'Dateline']\n",
    "plot(im[t:t+h , l:l+w])"
   ]
  },
  {
   "cell_type": "code",
   "execution_count": null,
   "metadata": {},
   "outputs": [],
   "source": [
    "cat_freq = {\n",
    "'Attent_line': 8,\n",
    "'Other_Text': 28,\n",
    "'cc': 31,\n",
    "'Company_Sig': 32,\n",
    "'Subject': 51,\n",
    "'Enclosure': 116,\n",
    "'Sign/Type': 259,\n",
    "'Inside_Addr': 361,\n",
    "'Dateline': 514,\n",
    "'Footnote': 615,\n",
    "'Closing': 634,\n",
    "'Salutat': 654,\n",
    "'Signer': 761,\n",
    "'Letterhead': 1365,\n",
    "'Table': 1668,\n",
    "'Caption': 3453,\n",
    "'Header/Footer': 6723,\n",
    "'Text': 24762\n",
    "}"
   ]
  },
  {
   "cell_type": "code",
   "execution_count": null,
   "metadata": {},
   "outputs": [],
   "source": [
    "cats = ['Background', 'Attent_line', 'Other_Text', 'cc', 'Company_Sig', 'Subject', 'Enclosure', 'Sign/Type', 'Inside_Addr', 'Dateline', 'Footnote', 'Closing', 'Salutat', 'Signer', 'Letterhead', 'Table', 'Caption', 'Header/Footer', 'Text']\n",
    "cat2id = {c:i for i,c in enumerate(cats)}"
   ]
  },
  {
   "cell_type": "code",
   "execution_count": null,
   "metadata": {},
   "outputs": [],
   "source": [
    "read = lambda fp: open(fp).read()\n",
    "read_lines = lambda fp: open(fp).readlines()\n",
    "\n",
    "cat_freq = defaultdict(lambda: 0)\n",
    "doc2paths = defaultdict(lambda: {'img': None, 'txt': None, 'uzn': None})\n",
    "for fp in isri_unlv_config.MAIN_DIR.iterdir():\n",
    "    if str(fp)[-1] == 'B' or str(fp)[-1] == 'A':\n",
    "        document_category = str(fp).split('/')[-1]\n",
    "        for subfp in fp.iterdir():\n",
    "            if os.path.isdir(subfp):\n",
    "                page_id = str(subfp).split('/')[-1]\n",
    "                for i,fpath in enumerate(subfp.iterdir()):\n",
    "                    doc_name = str(fpath).split('/')[-1][:-4]\n",
    "                    fn = 'isri_unlv_{}_{}'.format(document_category, page_id, i)\n",
    "                    if str(fpath)[-4:] == '.tif':\n",
    "                        doc2paths[doc_name]['img'] = fpath\n",
    "\n",
    "                    if str(fpath)[-4:] == '.txt':\n",
    "                        doc2paths[doc_name]['txt'] = fpath\n",
    "                    \n",
    "                    if str(fpath)[-4:] == '.uzn':\n",
    "                        doc2paths[doc_name]['uzn'] = fpath\n",
    "doc2paths = dict(doc2paths)\n",
    "del doc2paths['total']"
   ]
  },
  {
   "cell_type": "code",
   "execution_count": null,
   "metadata": {},
   "outputs": [],
   "source": [
    "for name in doc2paths.keys():\n",
    "    x = doc2paths[name]\n",
    "    if x['uzn'] is None or  x['img'] is None or  x['txt'] is None:\n",
    "        raise Exception('wtf', name)"
   ]
  },
  {
   "cell_type": "code",
   "execution_count": null,
   "metadata": {},
   "outputs": [],
   "source": [
    "def preprocess_category(cstr): # category string -> id int\n",
    "    return cat2id[cstr] if cstr in cat2id else cat2id['Background']"
   ]
  },
  {
   "cell_type": "code",
   "execution_count": null,
   "metadata": {},
   "outputs": [
    {
     "data": {
      "text/html": [
       "\n",
       "    <div>\n",
       "        <style>\n",
       "            /* Turns off some styling */\n",
       "            progress {\n",
       "                /* gets rid of default border in Firefox and Opera. */\n",
       "                border: none;\n",
       "                /* Needs to be in here for Safari polyfill so background images work as expected. */\n",
       "                background-size: auto;\n",
       "            }\n",
       "            .progress-bar-interrupted, .progress-bar-interrupted::-webkit-progress-bar {\n",
       "                background: #F44336;\n",
       "            }\n",
       "        </style>\n",
       "      <progress value='9090' class='' max='9090', style='width:300px; height:20px; vertical-align: middle;'></progress>\n",
       "      100.00% [9090/9090 23:11<00:00]\n",
       "    </div>\n",
       "    "
      ],
      "text/plain": [
       "<IPython.core.display.HTML object>"
      ]
     },
     "metadata": {},
     "output_type": "display_data"
    }
   ],
   "source": [
    "read = lambda fp: open(fp).read()\n",
    "read_lines = lambda fp: open(fp).readlines()\n",
    "\n",
    "cat_freq = defaultdict(lambda: 0)\n",
    "for i, name in enumerate(progress_bar(doc2paths.keys())):\n",
    "    fn = 'isri_unlv_{}'.format(i)\n",
    "    uzn_path = doc2paths[name]['uzn']\n",
    "    img_path = doc2paths[name]['img']\n",
    "    txt_path = doc2paths[name]['txt']\n",
    "    # img\n",
    "    im = cv2.imread(str(img_path))\n",
    "    cv2.imwrite(str(isri_unlv_config.IMG_DIR/(fn+'.png')), im)\n",
    "    # seg\n",
    "    seg = np.zeros(im.shape[:2] + (1,), dtype=int) + cat2id['Background']\n",
    "    for line in read_lines(uzn_path):\n",
    "        try: l,t,w,h,cat = [w for w in line.split(' ') if w != '']\n",
    "        except: continue # there are some `  ` (double space) lines\n",
    "        cat = cat[:-1]\n",
    "        cat_freq[cat] += 1\n",
    "        cat_id = preprocess_category(cat)\n",
    "        l,t,w,h = map(int, [l,t,w,h])\n",
    "        seg[ t:t+h , l:l+w ] = cat_id\n",
    "    seg = ImageSegment(tensor(seg).permute(2,0,1))\n",
    "    seg.save(str(isri_unlv_config.SEG_DIR/(fn+'.png')))\n",
    "    # txt\n",
    "    # ..."
   ]
  },
  {
   "cell_type": "code",
   "execution_count": null,
   "metadata": {},
   "outputs": [
    {
     "data": {
      "text/plain": [
       "{'Attent_line': 8,\n",
       " 'Other_Text': 28,\n",
       " 'cc': 31,\n",
       " 'Company_Sig': 32,\n",
       " 'Subject': 51,\n",
       " 'Enclosure': 116,\n",
       " 'Sign/Type': 259,\n",
       " 'Inside_Addr': 361,\n",
       " 'Dateline': 514,\n",
       " 'Footnote': 615,\n",
       " 'Closing': 634,\n",
       " 'Salutat': 654,\n",
       " 'Signer': 761,\n",
       " 'Letterhead': 1365,\n",
       " 'Table': 1668,\n",
       " 'Caption': 3453,\n",
       " 'Header/Footer': 6723,\n",
       " 'Text': 24762}"
      ]
     },
     "execution_count": null,
     "metadata": {},
     "output_type": "execute_result"
    }
   ],
   "source": [
    "cat_freq = dict(sorted(cat_freq.items(), key=lambda k:k[1]))\n",
    "cat_freq"
   ]
  },
  {
   "cell_type": "code",
   "execution_count": null,
   "metadata": {},
   "outputs": [],
   "source": []
  }
 ],
 "metadata": {
  "kernelspec": {
   "display_name": "nlp",
   "language": "python",
   "name": "nlp"
  }
 },
 "nbformat": 4,
 "nbformat_minor": 2
}
