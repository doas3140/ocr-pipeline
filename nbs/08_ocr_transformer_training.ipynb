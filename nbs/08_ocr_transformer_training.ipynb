{
 "cells": [
  {
   "cell_type": "code",
   "execution_count": null,
   "metadata": {},
   "outputs": [],
   "source": [
    "#default_exp ocr_transformer_training"
   ]
  },
  {
   "cell_type": "code",
   "execution_count": null,
   "metadata": {},
   "outputs": [],
   "source": [
    "#export\n",
    "from fastai import *\n",
    "from fastai.vision import *\n",
    "import pandas as pd\n",
    "import numpy as np\n",
    "import cv2\n",
    "from tqdm.notebook import tqdm"
   ]
  },
  {
   "cell_type": "code",
   "execution_count": null,
   "metadata": {},
   "outputs": [],
   "source": [
    "import matplotlib.pyplot as plt\n",
    "%matplotlib inline"
   ]
  },
  {
   "cell_type": "code",
   "execution_count": null,
   "metadata": {},
   "outputs": [],
   "source": [
    "#export\n",
    "from ocr.core import save_inference, load_inference\n",
    "from ocr.ocr_dataset_fontsynth import create_df as create_fontsynth_df\n",
    "from ocr.ocr_dataset_sroie2019 import create_df as create_sroie_df\n",
    "from ocr.ocr_dataset_brno import create_df as create_brno_df\n",
    "from ocr.ocr_dataset_sroie2019 import sroie_ocr_config, char_freq\n",
    "from ocr.ocr_dataset_fontsynth import fontsynth_config, char_freq\n",
    "from ocr.ocr_dataset_brno import brno_ocr_config\n",
    "PAD = sroie_ocr_config.PAD # PAD - how much is data padded\n",
    "PAD = 0"
   ]
  },
  {
   "cell_type": "code",
   "execution_count": null,
   "metadata": {},
   "outputs": [],
   "source": [
    "#export\n",
    "allowed_chars = {'L', '*', ':', ' ', 'C', '.', 'D', '%', '-', '\"', 'J', '[', ']', 'H', '1', '<', '@', \n",
    "                 'W', 'K', '+', 'Y', '7', '?', 'T', '5', '!', '#', 'P', '&', 'U', '$', 'G', ';', '~', \"'\", \n",
    "                 ')', 'V', '_', 'O', ',', '/', 'Q', '0', '4', 'B', '=', '9', '8', '3', '>', '6', 'Z', '\\\\', \n",
    "                 'F', 'X', 'R', 'I', 'E', 'S', '|', '{', '^', 'A', '}', '2', 'M', 'N', '('}\n",
    "\n",
    "allowed_chars = fontsynth_config.allowed_chars\n",
    "\n",
    "allowed_fonts = ['Unknown', 'Andale_Mono', 'Arial', 'Arial_Black', 'Arial_Bold', 'Arial_Bold_Italic', 'Arial_Italic',\n",
    "'Comic_Sans_MS_Bold', 'Courier_New', 'Courier_New_Bold', 'Courier_New_Bold_Italic', 'Courier_New_Italic',\n",
    "'Georgia', 'Georgia_Bold', 'Georgia_Bold_Italic', 'Georgia_Italic', 'Impact', 'Times_New_Roman',\n",
    "'Times_New_Roman_Bold', 'Times_New_Roman_Bold_Italic', 'Times_New_Roman_Italic', 'Trebuchet_MS',\n",
    "'Trebuchet_MS_Bold', 'Trebuchet_MS_Bold_Italic', 'Trebuchet_MS_Italic', 'Verdana', 'Verdana_Bold',\n",
    "'Verdana_Bold_Italic', 'Verdana_Italic', 'brno_easy', 'brno_medium', 'sroie2019', 'Comic_Sans_MS']\n",
    "\n",
    "class transformer_config:\n",
    "    LINE_HEIGHT = 48\n",
    "    USE_DEFAULT_CLASSES = True\n",
    "    eos = '</s>'\n",
    "    bos = '<s>'\n",
    "    label_delim = '`' # will used as padding here\n",
    "    pad_idx = 0\n",
    "    bos_idx = 1\n",
    "    eos_idx = 2\n",
    "    allowed_chars = allowed_chars\n",
    "    allowed_fonts = allowed_fonts"
   ]
  },
  {
   "cell_type": "markdown",
   "metadata": {},
   "source": [
    "### Prep"
   ]
  },
  {
   "cell_type": "code",
   "execution_count": null,
   "metadata": {},
   "outputs": [
    {
     "name": "stdout",
     "output_type": "stream",
     "text": [
      "{'`': 3, '$': 3, '&': 4, 'Q': 7, ']': 14, '[': 17, '*': 19, '?': 19, '~': 27, '|': 29, 'q': 32, '!': 36, 'Ū': 42, '>': 65, '<': 67, 'Y': 80, '_': 80, 'Z': 82, 'x': 105, '+': 111, 'Į': 118, '=': 124, 'W': 126, '/': 131, \"'\": 136, 'w': 158, 'Č': 172, 'U': 202, ';': 236, '%': 481, 'Ž': 485, 'F': 503, 'O': 510, 'C': 524, 'H': 563, '-': 816, ':': 921, 'Š': 1024, 'X': 1083, 'G': 1091, 'N': 1190, '7': 1236, '6': 1252, 'E': 1331, '4': 1413, '8': 1423, 'M': 1501, '3': 1583, 'J': 1659, 'B': 1663, 'D': 1670, 'R': 1681, '5': 1704, 'L': 1746, 'h': 1871, 'ę': 2138, 'T': 2366, '2': 2432, 'S': 2494, 'I': 2622, '9': 2684, '\"': 2685, 'A': 2872, 'K': 2997, 'V': 3038, '0': 3362, 'P': 3502, ')': 3686, '(': 3703, 'f': 3824, 'z': 4043, '1': 4836, 'ū': 4870, 'č': 5023, 'į': 5912, 'c': 6432, 'ą': 7634, 'ž': 9394, 'š': 12233, 'b': 15668, 'y': 16624, 'ė': 17674, 'ų': 17750, '.': 18061, ',': 18377, 'g': 20651, 'v': 25951, 'j': 27463, 'd': 28630, 'p': 31386, 'l': 39217, 'm': 42216, 'k': 47857, 'u': 52494, 'n': 59645, 'e': 64967, 't': 65520, 'r': 67735, 'o': 78793, 's': 92565, 'a': 136916, 'i': 166231, ' ': 173295}\n"
     ]
    }
   ],
   "source": [
    "print(char_freq)"
   ]
  },
  {
   "cell_type": "code",
   "execution_count": null,
   "metadata": {},
   "outputs": [
    {
     "data": {
      "text/plain": [
       "True"
      ]
     },
     "execution_count": null,
     "metadata": {},
     "output_type": "execute_result"
    }
   ],
   "source": [
    "chars = list(char_freq.keys())\n",
    "label_delim = transformer_config.label_delim\n",
    "label_delim in chars"
   ]
  },
  {
   "cell_type": "code",
   "execution_count": null,
   "metadata": {},
   "outputs": [
    {
     "name": "stdout",
     "output_type": "stream",
     "text": [
      "{'b', 'i', 'a', ';', 'L', 'k', 'Z', '!', 'y', 'E', 'ę', ':', ')', 'u', 'M', '$', '7', 'J', '1', 'c', 'd', 'r', 'į', 'š', 'o', '?', '%', '~', 'Č', 'G', 'D', \"'\", '|', '-', '5', 'N', '9', 'W', '&', 'T', 'Š', 'm', 'U', 'x', 'ė', 'ų', ',', 't', 'P', 'l', 'ū', '.', '8', '0', 'j', 'K', ' ', 'ž', 'A', 'h', 'v', 'Q', '=', 'ą', 'q', 'C', '4', '6', 'V', 'g', 'F', 'B', 'w', 'Y', 'X', 'p', ']', 'z', 'Ū', 'f', '3', 'Į', '[', 'č', '2', '/', 'n', '(', '_', '+', 's', 'O', '<', 'S', 'e', 'Ž', 'R', '*', 'I', '\"', 'H', '>'}\n"
     ]
    },
    {
     "data": {
      "text/plain": [
       "102"
      ]
     },
     "execution_count": null,
     "metadata": {},
     "output_type": "execute_result"
    }
   ],
   "source": [
    "allowed_chars = set(chars) - set(['·', label_delim])\n",
    "print(allowed_chars)\n",
    "len(allowed_chars)"
   ]
  },
  {
   "cell_type": "code",
   "execution_count": null,
   "metadata": {},
   "outputs": [],
   "source": [
    "allowed_chars = transformer_config.allowed_chars"
   ]
  },
  {
   "cell_type": "code",
   "execution_count": null,
   "metadata": {},
   "outputs": [
    {
     "data": {
      "text/plain": [
       "'q`w`e`r`t`y'"
      ]
     },
     "execution_count": null,
     "metadata": {},
     "output_type": "execute_result"
    }
   ],
   "source": [
    "split_chars = lambda string, delim: ''.join([char+delim for char in string])[:-1]\n",
    "\n",
    "def preprocess_string(string):\n",
    "    string = string.replace('·', '.')\n",
    "    string = string.replace('`', \"'\")\n",
    "    string = split_chars(string, label_delim)\n",
    "    return string\n",
    "\n",
    "split_chars('qwerty', label_delim)"
   ]
  },
  {
   "cell_type": "code",
   "execution_count": null,
   "metadata": {},
   "outputs": [
    {
     "name": "stdout",
     "output_type": "stream",
     "text": [
      "55915\n"
     ]
    },
    {
     "data": {
      "text/html": [
       "<div>\n",
       "<style scoped>\n",
       "    .dataframe tbody tr th:only-of-type {\n",
       "        vertical-align: middle;\n",
       "    }\n",
       "\n",
       "    .dataframe tbody tr th {\n",
       "        vertical-align: top;\n",
       "    }\n",
       "\n",
       "    .dataframe thead th {\n",
       "        text-align: right;\n",
       "    }\n",
       "</style>\n",
       "<table border=\"1\" class=\"dataframe\">\n",
       "  <thead>\n",
       "    <tr style=\"text-align: right;\">\n",
       "      <th></th>\n",
       "      <th>image_path</th>\n",
       "      <th>string</th>\n",
       "      <th>valid</th>\n",
       "      <th>dataset</th>\n",
       "    </tr>\n",
       "  </thead>\n",
       "  <tbody>\n",
       "    <tr>\n",
       "      <th>0</th>\n",
       "      <td>../data/ocr/sroie2019_lines/X51006327978.0.jpg</td>\n",
       "      <td>Y SOON FATT S/B (81497-P)</td>\n",
       "      <td>False</td>\n",
       "      <td>sroie2019</td>\n",
       "    </tr>\n",
       "    <tr>\n",
       "      <th>1</th>\n",
       "      <td>../data/ocr/sroie2019_lines/X51006327978.1.jpg</td>\n",
       "      <td>LOT 1504, BATU 8 1/2, JALAN KLANG LAMA,</td>\n",
       "      <td>False</td>\n",
       "      <td>sroie2019</td>\n",
       "    </tr>\n",
       "    <tr>\n",
       "      <th>2</th>\n",
       "      <td>../data/ocr/sroie2019_lines/X51006327978.2.jpg</td>\n",
       "      <td>46000 PETALING JAYA, SELANGOR.</td>\n",
       "      <td>False</td>\n",
       "      <td>sroie2019</td>\n",
       "    </tr>\n",
       "    <tr>\n",
       "      <th>3</th>\n",
       "      <td>../data/ocr/sroie2019_lines/X51006327978.3.jpg</td>\n",
       "      <td>TEL : 016-2014209</td>\n",
       "      <td>False</td>\n",
       "      <td>sroie2019</td>\n",
       "    </tr>\n",
       "    <tr>\n",
       "      <th>4</th>\n",
       "      <td>../data/ocr/sroie2019_lines/X51006327978.4.jpg</td>\n",
       "      <td>GST REG NO : 000788250624</td>\n",
       "      <td>False</td>\n",
       "      <td>sroie2019</td>\n",
       "    </tr>\n",
       "  </tbody>\n",
       "</table>\n",
       "</div>"
      ],
      "text/plain": [
       "                                       image_path  \\\n",
       "0  ../data/ocr/sroie2019_lines/X51006327978.0.jpg   \n",
       "1  ../data/ocr/sroie2019_lines/X51006327978.1.jpg   \n",
       "2  ../data/ocr/sroie2019_lines/X51006327978.2.jpg   \n",
       "3  ../data/ocr/sroie2019_lines/X51006327978.3.jpg   \n",
       "4  ../data/ocr/sroie2019_lines/X51006327978.4.jpg   \n",
       "\n",
       "                                    string  valid    dataset  \n",
       "0                Y SOON FATT S/B (81497-P)  False  sroie2019  \n",
       "1  LOT 1504, BATU 8 1/2, JALAN KLANG LAMA,  False  sroie2019  \n",
       "2           46000 PETALING JAYA, SELANGOR.  False  sroie2019  \n",
       "3                        TEL : 016-2014209  False  sroie2019  \n",
       "4                GST REG NO : 000788250624  False  sroie2019  "
      ]
     },
     "execution_count": null,
     "metadata": {},
     "output_type": "execute_result"
    }
   ],
   "source": [
    "sroie_df = create_sroie_df()\n",
    "print(len(sroie_df))\n",
    "sroie_df.head()"
   ]
  },
  {
   "cell_type": "code",
   "execution_count": null,
   "metadata": {},
   "outputs": [
    {
     "name": "stdout",
     "output_type": "stream",
     "text": [
      "438293\n"
     ]
    },
    {
     "data": {
      "text/html": [
       "<div>\n",
       "<style scoped>\n",
       "    .dataframe tbody tr th:only-of-type {\n",
       "        vertical-align: middle;\n",
       "    }\n",
       "\n",
       "    .dataframe tbody tr th {\n",
       "        vertical-align: top;\n",
       "    }\n",
       "\n",
       "    .dataframe thead th {\n",
       "        text-align: right;\n",
       "    }\n",
       "</style>\n",
       "<table border=\"1\" class=\"dataframe\">\n",
       "  <thead>\n",
       "    <tr style=\"text-align: right;\">\n",
       "      <th></th>\n",
       "      <th>image_path</th>\n",
       "      <th>string</th>\n",
       "      <th>valid</th>\n",
       "      <th>dataset</th>\n",
       "    </tr>\n",
       "  </thead>\n",
       "  <tbody>\n",
       "    <tr>\n",
       "      <th>0</th>\n",
       "      <td>../data/ocr/brno_lines/18256865b4b14a458cd50e1...</td>\n",
       "      <td>on-board the USS CORONADO; a deployable CMOC</td>\n",
       "      <td>False</td>\n",
       "      <td>brno_easy</td>\n",
       "    </tr>\n",
       "    <tr>\n",
       "      <th>1</th>\n",
       "      <td>../data/ocr/brno_lines/d2ac2da7d29d2384f6ff36e...</td>\n",
       "      <td>unemployment insurance.</td>\n",
       "      <td>False</td>\n",
       "      <td>brno_easy</td>\n",
       "    </tr>\n",
       "    <tr>\n",
       "      <th>2</th>\n",
       "      <td>../data/ocr/brno_lines/55ef7096ba457a8990e05da...</td>\n",
       "      <td>bound was calculated. The upper bound was calc...</td>\n",
       "      <td>False</td>\n",
       "      <td>brno_easy</td>\n",
       "    </tr>\n",
       "    <tr>\n",
       "      <th>3</th>\n",
       "      <td>../data/ocr/brno_lines/145c6a2d996117b64538681...</td>\n",
       "      <td>process elements, so that the requestor agent</td>\n",
       "      <td>False</td>\n",
       "      <td>brno_easy</td>\n",
       "    </tr>\n",
       "    <tr>\n",
       "      <th>4</th>\n",
       "      <td>../data/ocr/brno_lines/30b35d49bf5250d675bdb8e...</td>\n",
       "      <td>we have to skolemise both using the same skole...</td>\n",
       "      <td>False</td>\n",
       "      <td>brno_easy</td>\n",
       "    </tr>\n",
       "  </tbody>\n",
       "</table>\n",
       "</div>"
      ],
      "text/plain": [
       "                                          image_path  \\\n",
       "0  ../data/ocr/brno_lines/18256865b4b14a458cd50e1...   \n",
       "1  ../data/ocr/brno_lines/d2ac2da7d29d2384f6ff36e...   \n",
       "2  ../data/ocr/brno_lines/55ef7096ba457a8990e05da...   \n",
       "3  ../data/ocr/brno_lines/145c6a2d996117b64538681...   \n",
       "4  ../data/ocr/brno_lines/30b35d49bf5250d675bdb8e...   \n",
       "\n",
       "                                              string  valid    dataset  \n",
       "0       on-board the USS CORONADO; a deployable CMOC  False  brno_easy  \n",
       "1                            unemployment insurance.  False  brno_easy  \n",
       "2  bound was calculated. The upper bound was calc...  False  brno_easy  \n",
       "3      process elements, so that the requestor agent  False  brno_easy  \n",
       "4  we have to skolemise both using the same skole...  False  brno_easy  "
      ]
     },
     "execution_count": null,
     "metadata": {},
     "output_type": "execute_result"
    }
   ],
   "source": [
    "brno_df = create_brno_df()\n",
    "brno_df = brno_df[ brno_df['dataset'].apply(lambda x: 'hard' not in x) ]\n",
    "brno_df['valid'] = False\n",
    "print(len(brno_df))\n",
    "brno_df.head()"
   ]
  },
  {
   "cell_type": "code",
   "execution_count": null,
   "metadata": {},
   "outputs": [
    {
     "name": "stdout",
     "output_type": "stream",
     "text": [
      "50000\n"
     ]
    },
    {
     "data": {
      "text/html": [
       "<div>\n",
       "<style scoped>\n",
       "    .dataframe tbody tr th:only-of-type {\n",
       "        vertical-align: middle;\n",
       "    }\n",
       "\n",
       "    .dataframe tbody tr th {\n",
       "        vertical-align: top;\n",
       "    }\n",
       "\n",
       "    .dataframe thead th {\n",
       "        text-align: right;\n",
       "    }\n",
       "</style>\n",
       "<table border=\"1\" class=\"dataframe\">\n",
       "  <thead>\n",
       "    <tr style=\"text-align: right;\">\n",
       "      <th></th>\n",
       "      <th>image_path</th>\n",
       "      <th>string</th>\n",
       "      <th>valid</th>\n",
       "      <th>dataset</th>\n",
       "    </tr>\n",
       "  </thead>\n",
       "  <tbody>\n",
       "    <tr>\n",
       "      <th>0</th>\n",
       "      <td>../data/ocr/fontsynth_lines/0.jpg</td>\n",
       "      <td>ninės dalies skiria Korinto kanalas, ir</td>\n",
       "      <td>False</td>\n",
       "      <td>Courier_New_Bold_Italic</td>\n",
       "    </tr>\n",
       "    <tr>\n",
       "      <th>1</th>\n",
       "      <td>../data/ocr/fontsynth_lines/1.jpg</td>\n",
       "      <td>d.  1991 m. rugpjūčio 8 d</td>\n",
       "      <td>False</td>\n",
       "      <td>Comic_Sans_MS</td>\n",
       "    </tr>\n",
       "    <tr>\n",
       "      <th>2</th>\n",
       "      <td>../data/ocr/fontsynth_lines/2.jpg</td>\n",
       "      <td>bilietų. Vėliau T. Kukas</td>\n",
       "      <td>False</td>\n",
       "      <td>Impact</td>\n",
       "    </tr>\n",
       "    <tr>\n",
       "      <th>3</th>\n",
       "      <td>../data/ocr/fontsynth_lines/3.jpg</td>\n",
       "      <td>į pietus. Klaipėdos, L</td>\n",
       "      <td>False</td>\n",
       "      <td>Georgia_Bold_Italic</td>\n",
       "    </tr>\n",
       "    <tr>\n",
       "      <th>4</th>\n",
       "      <td>../data/ocr/fontsynth_lines/4.jpg</td>\n",
       "      <td>t mokslinio metodo si</td>\n",
       "      <td>False</td>\n",
       "      <td>Arial</td>\n",
       "    </tr>\n",
       "  </tbody>\n",
       "</table>\n",
       "</div>"
      ],
      "text/plain": [
       "                          image_path                                   string  \\\n",
       "0  ../data/ocr/fontsynth_lines/0.jpg  ninės dalies skiria Korinto kanalas, ir   \n",
       "1  ../data/ocr/fontsynth_lines/1.jpg                d.  1991 m. rugpjūčio 8 d   \n",
       "2  ../data/ocr/fontsynth_lines/2.jpg                 bilietų. Vėliau T. Kukas   \n",
       "3  ../data/ocr/fontsynth_lines/3.jpg                   į pietus. Klaipėdos, L   \n",
       "4  ../data/ocr/fontsynth_lines/4.jpg                    t mokslinio metodo si   \n",
       "\n",
       "   valid                  dataset  \n",
       "0  False  Courier_New_Bold_Italic  \n",
       "1  False            Comic_Sans_MS  \n",
       "2  False                   Impact  \n",
       "3  False      Georgia_Bold_Italic  \n",
       "4  False                    Arial  "
      ]
     },
     "execution_count": null,
     "metadata": {},
     "output_type": "execute_result"
    }
   ],
   "source": [
    "fontsynth_df = create_fontsynth_df()\n",
    "fontsynth_df['valid'] = False\n",
    "print(len(fontsynth_df))\n",
    "fontsynth_df.head()"
   ]
  },
  {
   "cell_type": "code",
   "execution_count": null,
   "metadata": {},
   "outputs": [],
   "source": [
    "# main_df = pd.concat([sroie_df, fontsynth_df, brno_df])\n",
    "main_df = sroie_df.copy()"
   ]
  },
  {
   "cell_type": "code",
   "execution_count": null,
   "metadata": {},
   "outputs": [
    {
     "name": "stdout",
     "output_type": "stream",
     "text": [
      "bfr: 55915 aftr: 55911\n"
     ]
    }
   ],
   "source": [
    "def filter_elems_with_unknown_chars(string):\n",
    "    for char in string:\n",
    "        if char not in transformer_config.allowed_chars: return False\n",
    "    return True\n",
    "valid_elems = main_df['string'].apply(filter_elems_with_unknown_chars)\n",
    "print('bfr: {} aftr: {}'.format(len(main_df), len(main_df[ valid_elems ])))\n",
    "main_df = main_df[ valid_elems ]"
   ]
  },
  {
   "cell_type": "code",
   "execution_count": null,
   "metadata": {},
   "outputs": [
    {
     "data": {
      "text/html": [
       "<div>\n",
       "<style scoped>\n",
       "    .dataframe tbody tr th:only-of-type {\n",
       "        vertical-align: middle;\n",
       "    }\n",
       "\n",
       "    .dataframe tbody tr th {\n",
       "        vertical-align: top;\n",
       "    }\n",
       "\n",
       "    .dataframe thead th {\n",
       "        text-align: right;\n",
       "    }\n",
       "</style>\n",
       "<table border=\"1\" class=\"dataframe\">\n",
       "  <thead>\n",
       "    <tr style=\"text-align: right;\">\n",
       "      <th></th>\n",
       "      <th>image_path</th>\n",
       "      <th>string</th>\n",
       "      <th>valid</th>\n",
       "      <th>dataset</th>\n",
       "    </tr>\n",
       "  </thead>\n",
       "  <tbody>\n",
       "    <tr>\n",
       "      <th>0</th>\n",
       "      <td>../data/ocr/sroie2019_lines/X51006327978.0.jpg</td>\n",
       "      <td>Y` `S`O`O`N` `F`A`T`T` `S`/`B` `(`8`1`4`9`7`-`P`)</td>\n",
       "      <td>False</td>\n",
       "      <td>sroie2019</td>\n",
       "    </tr>\n",
       "    <tr>\n",
       "      <th>1</th>\n",
       "      <td>../data/ocr/sroie2019_lines/X51006327978.1.jpg</td>\n",
       "      <td>L`O`T` `1`5`0`4`,` `B`A`T`U` `8` `1`/`2`,` `J`...</td>\n",
       "      <td>False</td>\n",
       "      <td>sroie2019</td>\n",
       "    </tr>\n",
       "    <tr>\n",
       "      <th>2</th>\n",
       "      <td>../data/ocr/sroie2019_lines/X51006327978.2.jpg</td>\n",
       "      <td>4`6`0`0`0` `P`E`T`A`L`I`N`G` `J`A`Y`A`,` `S`E`...</td>\n",
       "      <td>False</td>\n",
       "      <td>sroie2019</td>\n",
       "    </tr>\n",
       "    <tr>\n",
       "      <th>3</th>\n",
       "      <td>../data/ocr/sroie2019_lines/X51006327978.3.jpg</td>\n",
       "      <td>T`E`L` `:` `0`1`6`-`2`0`1`4`2`0`9</td>\n",
       "      <td>False</td>\n",
       "      <td>sroie2019</td>\n",
       "    </tr>\n",
       "    <tr>\n",
       "      <th>4</th>\n",
       "      <td>../data/ocr/sroie2019_lines/X51006327978.4.jpg</td>\n",
       "      <td>G`S`T` `R`E`G` `N`O` `:` `0`0`0`7`8`8`2`5`0`6`2`4</td>\n",
       "      <td>False</td>\n",
       "      <td>sroie2019</td>\n",
       "    </tr>\n",
       "  </tbody>\n",
       "</table>\n",
       "</div>"
      ],
      "text/plain": [
       "                                       image_path  \\\n",
       "0  ../data/ocr/sroie2019_lines/X51006327978.0.jpg   \n",
       "1  ../data/ocr/sroie2019_lines/X51006327978.1.jpg   \n",
       "2  ../data/ocr/sroie2019_lines/X51006327978.2.jpg   \n",
       "3  ../data/ocr/sroie2019_lines/X51006327978.3.jpg   \n",
       "4  ../data/ocr/sroie2019_lines/X51006327978.4.jpg   \n",
       "\n",
       "                                              string  valid    dataset  \n",
       "0  Y` `S`O`O`N` `F`A`T`T` `S`/`B` `(`8`1`4`9`7`-`P`)  False  sroie2019  \n",
       "1  L`O`T` `1`5`0`4`,` `B`A`T`U` `8` `1`/`2`,` `J`...  False  sroie2019  \n",
       "2  4`6`0`0`0` `P`E`T`A`L`I`N`G` `J`A`Y`A`,` `S`E`...  False  sroie2019  \n",
       "3                  T`E`L` `:` `0`1`6`-`2`0`1`4`2`0`9  False  sroie2019  \n",
       "4  G`S`T` `R`E`G` `N`O` `:` `0`0`0`7`8`8`2`5`0`6`2`4  False  sroie2019  "
      ]
     },
     "execution_count": null,
     "metadata": {},
     "output_type": "execute_result"
    }
   ],
   "source": [
    "main_df['string'] = main_df['string'].map(preprocess_string)\n",
    "main_df.head()"
   ]
  },
  {
   "cell_type": "code",
   "execution_count": null,
   "metadata": {},
   "outputs": [
    {
     "data": {
      "text/html": [
       "<div>\n",
       "<style scoped>\n",
       "    .dataframe tbody tr th:only-of-type {\n",
       "        vertical-align: middle;\n",
       "    }\n",
       "\n",
       "    .dataframe tbody tr th {\n",
       "        vertical-align: top;\n",
       "    }\n",
       "\n",
       "    .dataframe thead th {\n",
       "        text-align: right;\n",
       "    }\n",
       "</style>\n",
       "<table border=\"1\" class=\"dataframe\">\n",
       "  <thead>\n",
       "    <tr style=\"text-align: right;\">\n",
       "      <th></th>\n",
       "      <th>image_path</th>\n",
       "      <th>string</th>\n",
       "      <th>valid</th>\n",
       "      <th>dataset</th>\n",
       "    </tr>\n",
       "  </thead>\n",
       "  <tbody>\n",
       "    <tr>\n",
       "      <th>0</th>\n",
       "      <td>../data/ocr/sroie2019_lines/X51006327978.0.jpg</td>\n",
       "      <td>[Y` `S`O`O`N` `F`A`T`T` `S`/`B` `(`8`1`4`9`7`-...</td>\n",
       "      <td>False</td>\n",
       "      <td>sroie2019</td>\n",
       "    </tr>\n",
       "    <tr>\n",
       "      <th>1</th>\n",
       "      <td>../data/ocr/sroie2019_lines/X51006327978.1.jpg</td>\n",
       "      <td>[L`O`T` `1`5`0`4`,` `B`A`T`U` `8` `1`/`2`,` `J...</td>\n",
       "      <td>False</td>\n",
       "      <td>sroie2019</td>\n",
       "    </tr>\n",
       "    <tr>\n",
       "      <th>2</th>\n",
       "      <td>../data/ocr/sroie2019_lines/X51006327978.2.jpg</td>\n",
       "      <td>[4`6`0`0`0` `P`E`T`A`L`I`N`G` `J`A`Y`A`,` `S`E...</td>\n",
       "      <td>False</td>\n",
       "      <td>sroie2019</td>\n",
       "    </tr>\n",
       "    <tr>\n",
       "      <th>3</th>\n",
       "      <td>../data/ocr/sroie2019_lines/X51006327978.3.jpg</td>\n",
       "      <td>[T`E`L` `:` `0`1`6`-`2`0`1`4`2`0`9, sroie2019]</td>\n",
       "      <td>False</td>\n",
       "      <td>sroie2019</td>\n",
       "    </tr>\n",
       "    <tr>\n",
       "      <th>4</th>\n",
       "      <td>../data/ocr/sroie2019_lines/X51006327978.4.jpg</td>\n",
       "      <td>[G`S`T` `R`E`G` `N`O` `:` `0`0`0`7`8`8`2`5`0`6...</td>\n",
       "      <td>False</td>\n",
       "      <td>sroie2019</td>\n",
       "    </tr>\n",
       "  </tbody>\n",
       "</table>\n",
       "</div>"
      ],
      "text/plain": [
       "                                       image_path  \\\n",
       "0  ../data/ocr/sroie2019_lines/X51006327978.0.jpg   \n",
       "1  ../data/ocr/sroie2019_lines/X51006327978.1.jpg   \n",
       "2  ../data/ocr/sroie2019_lines/X51006327978.2.jpg   \n",
       "3  ../data/ocr/sroie2019_lines/X51006327978.3.jpg   \n",
       "4  ../data/ocr/sroie2019_lines/X51006327978.4.jpg   \n",
       "\n",
       "                                              string  valid    dataset  \n",
       "0  [Y` `S`O`O`N` `F`A`T`T` `S`/`B` `(`8`1`4`9`7`-...  False  sroie2019  \n",
       "1  [L`O`T` `1`5`0`4`,` `B`A`T`U` `8` `1`/`2`,` `J...  False  sroie2019  \n",
       "2  [4`6`0`0`0` `P`E`T`A`L`I`N`G` `J`A`Y`A`,` `S`E...  False  sroie2019  \n",
       "3     [T`E`L` `:` `0`1`6`-`2`0`1`4`2`0`9, sroie2019]  False  sroie2019  \n",
       "4  [G`S`T` `R`E`G` `N`O` `:` `0`0`0`7`8`8`2`5`0`6...  False  sroie2019  "
      ]
     },
     "execution_count": null,
     "metadata": {},
     "output_type": "execute_result"
    }
   ],
   "source": [
    "c = '\\n'\n",
    "assert tensor(list(main_df['string'].apply(lambda x: c not in x))).all()\n",
    "main_df['string'] = (main_df['string'] + c + main_df['dataset']).map(lambda x: x.split(c))\n",
    "main_df.head()"
   ]
  },
  {
   "cell_type": "code",
   "execution_count": null,
   "metadata": {},
   "outputs": [
    {
     "data": {
      "text/html": [
       "<div>\n",
       "<style scoped>\n",
       "    .dataframe tbody tr th:only-of-type {\n",
       "        vertical-align: middle;\n",
       "    }\n",
       "\n",
       "    .dataframe tbody tr th {\n",
       "        vertical-align: top;\n",
       "    }\n",
       "\n",
       "    .dataframe thead th {\n",
       "        text-align: right;\n",
       "    }\n",
       "</style>\n",
       "<table border=\"1\" class=\"dataframe\">\n",
       "  <thead>\n",
       "    <tr style=\"text-align: right;\">\n",
       "      <th></th>\n",
       "      <th>image_path</th>\n",
       "      <th>string</th>\n",
       "      <th>valid</th>\n",
       "      <th>dataset</th>\n",
       "    </tr>\n",
       "  </thead>\n",
       "  <tbody>\n",
       "    <tr>\n",
       "      <th>0</th>\n",
       "      <td>../data/ocr/sroie2019_lines/X51006327978.0.jpg</td>\n",
       "      <td>[Y` `S`O`O`N` `F`A`T`T` `S`/`B` `(`8`1`4`9`7`-...</td>\n",
       "      <td>False</td>\n",
       "      <td>sroie2019</td>\n",
       "    </tr>\n",
       "    <tr>\n",
       "      <th>2</th>\n",
       "      <td>../data/ocr/sroie2019_lines/X51006327978.2.jpg</td>\n",
       "      <td>[4`6`0`0`0` `P`E`T`A`L`I`N`G` `J`A`Y`A`,` `S`E...</td>\n",
       "      <td>False</td>\n",
       "      <td>sroie2019</td>\n",
       "    </tr>\n",
       "    <tr>\n",
       "      <th>4</th>\n",
       "      <td>../data/ocr/sroie2019_lines/X51006327978.4.jpg</td>\n",
       "      <td>[G`S`T` `R`E`G` `N`O` `:` `0`0`0`7`8`8`2`5`0`6...</td>\n",
       "      <td>False</td>\n",
       "      <td>sroie2019</td>\n",
       "    </tr>\n",
       "    <tr>\n",
       "      <th>6</th>\n",
       "      <td>../data/ocr/sroie2019_lines/X51006327978.6.jpg</td>\n",
       "      <td>[D`E`S`C, sroie2019]</td>\n",
       "      <td>False</td>\n",
       "      <td>sroie2019</td>\n",
       "    </tr>\n",
       "    <tr>\n",
       "      <th>8</th>\n",
       "      <td>../data/ocr/sroie2019_lines/X51006327978.8.jpg</td>\n",
       "      <td>[P`R`I`C`E, sroie2019]</td>\n",
       "      <td>False</td>\n",
       "      <td>sroie2019</td>\n",
       "    </tr>\n",
       "  </tbody>\n",
       "</table>\n",
       "</div>"
      ],
      "text/plain": [
       "                                       image_path  \\\n",
       "0  ../data/ocr/sroie2019_lines/X51006327978.0.jpg   \n",
       "2  ../data/ocr/sroie2019_lines/X51006327978.2.jpg   \n",
       "4  ../data/ocr/sroie2019_lines/X51006327978.4.jpg   \n",
       "6  ../data/ocr/sroie2019_lines/X51006327978.6.jpg   \n",
       "8  ../data/ocr/sroie2019_lines/X51006327978.8.jpg   \n",
       "\n",
       "                                              string  valid    dataset  \n",
       "0  [Y` `S`O`O`N` `F`A`T`T` `S`/`B` `(`8`1`4`9`7`-...  False  sroie2019  \n",
       "2  [4`6`0`0`0` `P`E`T`A`L`I`N`G` `J`A`Y`A`,` `S`E...  False  sroie2019  \n",
       "4  [G`S`T` `R`E`G` `N`O` `:` `0`0`0`7`8`8`2`5`0`6...  False  sroie2019  \n",
       "6                               [D`E`S`C, sroie2019]  False  sroie2019  \n",
       "8                             [P`R`I`C`E, sroie2019]  False  sroie2019  "
      ]
     },
     "execution_count": null,
     "metadata": {},
     "output_type": "execute_result"
    }
   ],
   "source": [
    "sparse_df = pd.concat([ main_df[ main_df['valid'] == False ].iloc[0:10000:2], main_df[ main_df['valid'] == True ].iloc[:500] ])\n",
    "sparse_df.head()"
   ]
  },
  {
   "cell_type": "markdown",
   "metadata": {},
   "source": [
    "### Databunch"
   ]
  },
  {
   "cell_type": "code",
   "execution_count": null,
   "metadata": {},
   "outputs": [],
   "source": [
    "#export\n",
    "from ocr.ocr_crnn_training import TextlineProcessor, TextlineAndFont, TextlineList, MyImageList, im2seq_data_collate\n",
    "from ocr.ocr_crnn_training import one_hot_text, decode_single_ctc, decode_ctc, gaussian_blur, rand_resize"
   ]
  },
  {
   "cell_type": "code",
   "execution_count": null,
   "metadata": {},
   "outputs": [],
   "source": [
    "#export\n",
    "label_delim = transformer_config.label_delim\n",
    "eos = transformer_config.eos\n",
    "bos = transformer_config.bos\n",
    "\n",
    "pad_idx = transformer_config.pad_idx\n",
    "bos_idx = transformer_config.bos_idx\n",
    "eos_idx = transformer_config.eos_idx\n",
    "\n",
    "class TextlineProcessor(TextlineProcessor):\n",
    "    def __init__(self, ds:ItemList):\n",
    "        self.create_classes(ds.classes, ds.font_classes)\n",
    "        self.use_default_classes = transformer_config.USE_DEFAULT_CLASSES\n",
    "        self.default_classes = transformer_config.allowed_chars\n",
    "        self.default_font_classes = transformer_config.allowed_fonts\n",
    "    \n",
    "    def process_one(self,item):\n",
    "        chars, fontidx = super().process_one(item)\n",
    "        return [bos_idx] + chars + [eos_idx], fontidx\n",
    "\n",
    "    def create_classes(self, classes, font_classes):\n",
    "        self.classes, self.font_classes = classes, font_classes\n",
    "        if classes is not None:\n",
    "            self.classes = [label_delim, bos, eos] + classes\n",
    "            self.c2i = {v:k for k,v in enumerate(self.classes)}\n",
    "            self.f2i = {v:k for k,v in enumerate(font_classes)}"
   ]
  },
  {
   "cell_type": "code",
   "execution_count": null,
   "metadata": {},
   "outputs": [],
   "source": [
    "#export\n",
    "class TextlineAndFont(ItemBase):\n",
    "    ''' F = font, S = string\n",
    "    data: tensor(S), tensor(F)\n",
    "    obj: str(S), str(F)\n",
    "    raw: str(S), list(F)\n",
    "    '''\n",
    "    def __init__(self, data, obj, raw):self.data, self.obj, self.raw = data, obj, raw\n",
    "    def __str__(self, n=20):\n",
    "        string = self.obj[0][:n]+['...'] if len(self.obj[0]) > n else self.obj[0]\n",
    "        return self.obj[1][:5] +'...'+ transformer_config.label_delim.join([str(o) for o in string])\n",
    "    def __hash__(self): return hash(str(self))"
   ]
  },
  {
   "cell_type": "code",
   "execution_count": null,
   "metadata": {},
   "outputs": [],
   "source": [
    "#export\n",
    "class TextlineList(ItemList):\n",
    "    _processor = TextlineProcessor\n",
    "    def __init__(self, items:Iterator, classes=None, font_classes=None, label_delim:str=None, one_hot:bool=False, **kwargs):\n",
    "        self.classes = classes\n",
    "        self.font_classes = font_classes\n",
    "        items = [(string.split(transformer_config.label_delim),font) for string,font in items] # CHANGED\n",
    "        super().__init__(items, **kwargs)\n",
    "        self.processor = [TextlineProcessor(self)]\n",
    "\n",
    "    def get(self, i):\n",
    "        stridxs, fontidx = self.items[i] # int, list of ints\n",
    "        return TextlineAndFont( (tensor(stridxs), tensor(fontidx)), \n",
    "                                ([self.classes[c] for c in stridxs], self.font_classes[fontidx]), self.items[i])\n",
    "    \n",
    "    # no need analyze pred, cuz we wont use learner.show_results\n",
    "\n",
    "    def reconstruct(self, data_out):\n",
    "        fontidx, t_argmax = data_out # output from data / output from nn_out -> analyze_pred\n",
    "        stridxs = [int(i) for i in t_argmax]\n",
    "        fontidx = int(fontidx)\n",
    "        return TextlineAndFont((one_hot_text(stridxs, self.c), fontidx), \n",
    "                                ([self.classes[c] for c in stridxs], self.font_classes[fontidx]), data_out)\n",
    "    \n",
    "    @property\n",
    "    def c(self): return len(self.classes)"
   ]
  },
  {
   "cell_type": "code",
   "execution_count": null,
   "metadata": {},
   "outputs": [],
   "source": [
    "#export\n",
    "train_transforms = [\n",
    "    rand_resize(pad=(0,PAD), p=1.0),\n",
    "    rotate(degrees=(-2, 2), p=0.6),\n",
    "    symmetric_warp(magnitude=(-0.03, 0.03), p=0.3),\n",
    "    rand_zoom(scale=(0.9,1.03), p=0.5),\n",
    "    brightness(change=(0.35, 0.65), p=0.4),\n",
    "    contrast(scale=(0.7,1.3), p=0.4),\n",
    "    gaussian_blur(size=(1, 7), p=0.2),\n",
    "#     squish(scale=(0.85,1.15), p=0.3),\n",
    "#     cutout(n_holes=(0,6), length=(1,10)), # black rect\n",
    "#     tilt(direction=(0,3), magnitude=(-0.2,0.2), p=0.3)\n",
    "]\n",
    "\n",
    "valid_transforms = [\n",
    "    rand_resize(pad=(0,0), p=1.0) # (no padding, but need to resize)\n",
    "]"
   ]
  },
  {
   "cell_type": "code",
   "execution_count": null,
   "metadata": {},
   "outputs": [],
   "source": [
    "#export\n",
    "def im2seq_data_collate(batch, text_pad_idx=pad_idx):\n",
    "    \"Function that collect samples and adds padding. Flips token order if needed\"\n",
    "    if len(batch) == 1: return data_collate(batch)\n",
    "    data = to_data(batch) # list of (image, text) pairs\n",
    "    # image: [3,48,w], text: [n], where n's and w's are different\n",
    "    max_w = max([image.shape[2] for image, (text,font) in data])\n",
    "    max_h = max([image.shape[1] for image, (text,font) in data])\n",
    "    max_n = max([text.shape[0] for image, (text,font) in data])\n",
    "    # results\n",
    "    fonts = torch.zeros(len(batch)).long()\n",
    "    res_x = torch.zeros(len(batch), 3, max_h, max_w)\n",
    "    res_y = torch.zeros(len(batch), max_n).long() + text_pad_idx\n",
    "    for i, (image, (text,font)) in enumerate(data):\n",
    "        fonts[i] = font\n",
    "        c,h,w = image.shape\n",
    "        res_x[i, : , : , :w ] = image\n",
    "        res_x[i, : , : , w: ] = image[:,:,w-1].unsqueeze(2).expand(c,h,max_w-w)\n",
    "        res_y[i, :len(text) ] = LongTensor(text)\n",
    "    return res_x, (fonts, res_y)"
   ]
  },
  {
   "cell_type": "code",
   "execution_count": null,
   "metadata": {},
   "outputs": [],
   "source": [
    "#export\n",
    "def create_data(df, bs=32):\n",
    "    ''' DataFrame (df) -> Dataloader (dl) '''\n",
    "    data = (MyImageList.from_df(df, path='.', cols='image_path')\n",
    "        .split_from_df(col='valid')\n",
    "        .label_from_df(cols='string', label_cls=TextlineList, label_delim=label_delim)\n",
    "        .transform((train_transforms, valid_transforms), tfm_y=False)\n",
    "        .databunch(bs=bs, collate_fn=im2seq_data_collate)\n",
    "        .normalize()\n",
    "    )\n",
    "#     data.train_dl.numworkers=0\n",
    "#     data.valid_dl.numworkers=0\n",
    "    return data"
   ]
  },
  {
   "cell_type": "code",
   "execution_count": null,
   "metadata": {},
   "outputs": [],
   "source": [
    "data = create_data(sparse_df, bs=4)"
   ]
  },
  {
   "cell_type": "code",
   "execution_count": null,
   "metadata": {},
   "outputs": [
    {
     "data": {
      "text/plain": [
       "0"
      ]
     },
     "execution_count": null,
     "metadata": {},
     "output_type": "execute_result"
    }
   ],
   "source": [
    "# override im2seq to pad w/ eos tokens\n",
    "text_pad_idx = data.classes.index(label_delim)\n",
    "im2seq_data_collate = partial(im2seq_data_collate, text_pad_idx=text_pad_idx)\n",
    "text_pad_idx"
   ]
  },
  {
   "cell_type": "markdown",
   "metadata": {},
   "source": [
    "### Train data"
   ]
  },
  {
   "cell_type": "code",
   "execution_count": null,
   "metadata": {},
   "outputs": [
    {
     "data": {
      "text/plain": [
       "ImageDataBunch;\n",
       "\n",
       "Train: LabelList (37471 items)\n",
       "x: MyImageList\n",
       "Image (3, 48, 502),Image (3, 48, 756),Image (3, 48, 566),Image (3, 48, 348),Image (3, 48, 533)\n",
       "y: TextlineList\n",
       "sroie...<s>`Y` `S`O`O`N` `F`A`T`T` `S`/`B` `(`8`1`...,sroie...<s>`L`O`T` `1`5`0`4`,` `B`A`T`U` `8` `1`/`...,sroie...<s>`4`6`0`0`0` `P`E`T`A`L`I`N`G` `J`A`Y`A`...,sroie...<s>`T`E`L` `:` `0`1`6`-`2`0`1`4`2`0`9`</s>,sroie...<s>`G`S`T` `R`E`G` `N`O` `:` `0`0`0`7`8`8`...\n",
       "Path: .;\n",
       "\n",
       "Valid: LabelList (18440 items)\n",
       "x: MyImageList\n",
       "Image (3, 48, 272),Image (3, 48, 794),Image (3, 48, 432),Image (3, 48, 504),Image (3, 48, 355)\n",
       "y: TextlineList\n",
       "sroie...<s>`T`H`O`N`G` `R`E`C`I`P`E`</s>,sroie...<s>`1`6`G` `B`L`O`C`K` `B` `,`Z`E`N`I`T`H`...,sroie...<s>`J`A`L`A`N` `S`S`7`/`2`6`,` `4`7`3`0`1`...,sroie...<s>`P`E`T`A`L`I`N`G` `J`A`Y`A` `S`E`L`A`N`...,sroie...<s>`T`E`L` `0`3`-`7`8`8`6` `4`8`7`7`</s>\n",
       "Path: .;\n",
       "\n",
       "Test: None"
      ]
     },
     "execution_count": null,
     "metadata": {},
     "output_type": "execute_result"
    }
   ],
   "source": [
    "data = create_data(main_df, bs=16)\n",
    "data"
   ]
  },
  {
   "cell_type": "code",
   "execution_count": null,
   "metadata": {},
   "outputs": [
    {
     "data": {
      "image/png": "[encoded data removed]",
      "text/plain": [
       "<Figure size 720x720 with 4 Axes>"
      ]
     },
     "metadata": {
      "needs_background": "light"
     },
     "output_type": "display_data"
    }
   ],
   "source": [
    "data.show_batch(4, figsize=(10,10))"
   ]
  },
  {
   "cell_type": "code",
   "execution_count": null,
   "metadata": {},
   "outputs": [
    {
     "data": {
      "text/plain": [
       "torch.Size([16, 3, 48, 794])"
      ]
     },
     "execution_count": null,
     "metadata": {},
     "output_type": "execute_result"
    }
   ],
   "source": [
    "dl = iter(data.valid_dl)\n",
    "i, o = next(dl)\n",
    "i.shape"
   ]
  },
  {
   "cell_type": "code",
   "execution_count": null,
   "metadata": {},
   "outputs": [
    {
     "data": {
      "text/plain": [
       "116"
      ]
     },
     "execution_count": null,
     "metadata": {},
     "output_type": "execute_result"
    }
   ],
   "source": [
    "data.c"
   ]
  },
  {
   "cell_type": "code",
   "execution_count": null,
   "metadata": {},
   "outputs": [
    {
     "data": {
      "image/jpeg": "[encoded data removed]",
      "image/png": "[encoded data removed]",
      "text/plain": [
       "Image (3, 41, 429)"
      ]
     },
     "execution_count": null,
     "metadata": {},
     "output_type": "execute_result"
    }
   ],
   "source": [
    "data.x[0]"
   ]
  },
  {
   "cell_type": "code",
   "execution_count": null,
   "metadata": {},
   "outputs": [
    {
     "data": {
      "text/plain": [
       "TextlineAndFont sroie...<s>`Y` `S`O`O`N` `F`A`T`T` `S`/`B` `(`8`1`..."
      ]
     },
     "execution_count": null,
     "metadata": {},
     "output_type": "execute_result"
    }
   ],
   "source": [
    "data.y[0]"
   ]
  },
  {
   "cell_type": "code",
   "execution_count": null,
   "metadata": {},
   "outputs": [
    {
     "data": {
      "text/plain": [
       "(tensor([ 1, 61,  3, 55, 51, 51, 50,  3, 42, 37, 56, 56,  3, 55, 19, 38,  3, 12,\n",
       "         28, 21, 24, 29, 27, 17, 52, 13,  2]), tensor(32))"
      ]
     },
     "execution_count": null,
     "metadata": {},
     "output_type": "execute_result"
    }
   ],
   "source": [
    "data.y[0].data"
   ]
  },
  {
   "cell_type": "markdown",
   "metadata": {},
   "source": [
    "### Model"
   ]
  },
  {
   "cell_type": "code",
   "execution_count": null,
   "metadata": {},
   "outputs": [
    {
     "data": {
      "text/plain": [
       "31"
      ]
     },
     "execution_count": null,
     "metadata": {},
     "output_type": "execute_result"
    }
   ],
   "source": [
    "#export\n",
    "def conv_output(w, ss, ps=None, ks=3):\n",
    "    ''' image width, strides, pools, kernel sizes '''\n",
    "    for s,p,k in zip(ss,ps,ks):\n",
    "        s = s[1] if isinstance(s, tuple) else s\n",
    "        w = w if w%s == 0 else w + 1\n",
    "        w = (w - k + 2*p)/s + 1 if p is not None else w/s\n",
    "    return int(w)\n",
    "\n",
    "conv_output(129, [2, 1, 2, 1, (2,1), (2,1), 1], [None] * 6 + [0], [3, 3, 3, 3, 3, 3, 3])"
   ]
  },
  {
   "cell_type": "code",
   "execution_count": null,
   "metadata": {},
   "outputs": [],
   "source": [
    "#export\n",
    "_apply_layer = lambda args: args[1](args[0]) # args[0]: x, args[1]: layer => layer(x)\n",
    "\n",
    "class MultiHeadAttention(nn.Module):\n",
    "    def __init__(self, n_heads, d_model, d_head=None, p=0., bias=True, scale=True, shared_qk=False):\n",
    "        super().__init__()\n",
    "        d_head = ifnone(d_head, d_model//n_heads)\n",
    "        self.n_heads,self.d_head,self.scale = n_heads,d_head,scale\n",
    "        self.q_wgt, self.v_wgt = [nn.Linear(d_model, n_heads*d_head, bias=bias) for o in range(2)]\n",
    "        self.k_wgt = self.q_wgt if shared_qk else nn.Linear(d_model, n_heads*d_head, bias=bias)\n",
    "        self.out = nn.Linear(n_heads * d_head, d_model, bias=bias)\n",
    "        self.drop_att,self.drop_res = nn.Dropout(p),nn.Dropout(p)\n",
    "        self.ln = nn.LayerNorm(d_model)\n",
    "        \n",
    "    def forward(self, q, kv, mask=None):\n",
    "        ''' [b,s_d,512], [b,s_e,512], [1,1,s_d,s_e] -> [b,s_d,512] '''\n",
    "        bs,seq_len = q.size(0),q.size(1)\n",
    "        wq,wk,wv = map(_apply_layer, zip([q,kv,kv], [self.q_wgt,self.k_wgt,self.v_wgt])) # [b,s_d,h*512], [b,s_e,h*512] x 2\n",
    "        wq,wk,wv = map(lambda x:x.view(bs, x.size(1), self.n_heads, self.d_head), (wq,wk,wv)) # [b,s_d,h,512], [b,s_e,h,512] x 2\n",
    "        wq,wv = map(lambda x:x.permute(0, 2, 1, 3), (wq,wv)) # [b,h,s_d,512], [b,h,s_e,512]\n",
    "        wk = wk.permute(0, 2, 3, 1) # [b,h,512,s_e]\n",
    "        attn_score = torch.matmul(wq, wk) # [b,h,s_d,s_e]\n",
    "        if self.scale: attn_score.div_(self.d_head ** 0.5)\n",
    "        if mask is not None: # NOTE: masks only ones, not zeros!\n",
    "            attn_score = attn_score.float().masked_fill(mask, -float('inf')).type_as(attn_score) # [b,h,s_d,s_e]\n",
    "        attn_prob = self.drop_att(F.softmax(attn_score, dim=-1)) # [b,h,s_d,s_e]\n",
    "        attn_vec = torch.matmul(attn_prob, wv) # [b,h,s_d,512]\n",
    "        attn_vec = attn_vec.permute(0, 2, 1, 3).contiguous().contiguous() # [b,s_d,h,512]\n",
    "        attention = attn_vec.view(bs, seq_len, -1) # [b,s_d,h*512]\n",
    "        return self.ln(q + self.drop_res(self.out(attention)))"
   ]
  },
  {
   "cell_type": "code",
   "execution_count": null,
   "metadata": {},
   "outputs": [
    {
     "data": {
      "text/plain": [
       "torch.Size([4, 24, 512])"
      ]
     },
     "execution_count": null,
     "metadata": {},
     "output_type": "execute_result"
    }
   ],
   "source": [
    "mha = MultiHeadAttention(n_heads=8, d_model=512)\n",
    "mha(torch.zeros(4,24,512), torch.zeros(4,16,512), torch.zeros(1,1,24,16, dtype=bool)).shape"
   ]
  },
  {
   "cell_type": "code",
   "execution_count": null,
   "metadata": {},
   "outputs": [],
   "source": [
    "#export\n",
    "def feed_forward(d_model:int, d_ff:int, ff_p:float=0., activ_func=partial(nn.ReLU, inplace=True), double_drop:bool=True):\n",
    "    ''' [...,d] -> [...,d] '''\n",
    "    layers = [nn.Linear(d_model, d_ff), activ_func()]\n",
    "    if double_drop: layers.append(nn.Dropout(ff_p))\n",
    "    return SequentialEx(*layers, nn.Linear(d_ff, d_model), nn.Dropout(ff_p), MergeLayer(), nn.LayerNorm(d_model))"
   ]
  },
  {
   "cell_type": "code",
   "execution_count": null,
   "metadata": {},
   "outputs": [],
   "source": [
    "#export\n",
    "class EncoderBlock(nn.Module):\n",
    "    \"Encoder block of a Transformer model.\"\n",
    "    def __init__(self, n_heads, d_model, d_inner, p=0., bias=True, scale=True, double_drop=True):\n",
    "        super().__init__()\n",
    "        self.mha = MultiHeadAttention(n_heads, d_model, p=p, bias=bias, scale=scale)\n",
    "        self.ff  = feed_forward(d_model, d_inner, ff_p=p, double_drop=double_drop)\n",
    "    \n",
    "    def forward(self, x, mask=None):\n",
    "        ''' [b,s_e,512], [1,1,s_e,s_e] -> [b,s_e,512] '''\n",
    "        return self.ff(self.mha(x, x, mask=mask))"
   ]
  },
  {
   "cell_type": "code",
   "execution_count": null,
   "metadata": {},
   "outputs": [
    {
     "data": {
      "text/plain": [
       "torch.Size([4, 16, 512])"
      ]
     },
     "execution_count": null,
     "metadata": {},
     "output_type": "execute_result"
    }
   ],
   "source": [
    "e = EncoderBlock(n_heads=8, d_model=512, d_inner=1024)\n",
    "e(torch.zeros(4,16,512), torch.zeros(1,1,16,16, dtype=bool)).shape"
   ]
  },
  {
   "cell_type": "code",
   "execution_count": null,
   "metadata": {},
   "outputs": [],
   "source": [
    "#export\n",
    "class DecoderBlock(nn.Module):\n",
    "    \"Decoder block of a Transformer model.\"\n",
    "    def __init__(self, n_heads, d_model, d_inner, p=0., bias=True, scale=True, double_drop=True):\n",
    "        super().__init__()\n",
    "        self.mha1 = MultiHeadAttention(n_heads, d_model, p=p, bias=bias, scale=scale)\n",
    "        self.mha2 = MultiHeadAttention(n_heads, d_model, p=p, bias=bias, scale=scale)\n",
    "        self.ff   = feed_forward(d_model, d_inner, ff_p=p, double_drop=double_drop)\n",
    "    \n",
    "    def forward(self, x, enc, mask_out=None):\n",
    "        ''' [b,s_d,512], [b,s_e,512], [1,1,s_d,s_d] -> [b,s_d,512] '''\n",
    "        return self.ff(self.mha2(self.mha1(x, x, mask_out), enc))"
   ]
  },
  {
   "cell_type": "code",
   "execution_count": null,
   "metadata": {},
   "outputs": [
    {
     "data": {
      "text/plain": [
       "torch.Size([4, 24, 512])"
      ]
     },
     "execution_count": null,
     "metadata": {},
     "output_type": "execute_result"
    }
   ],
   "source": [
    "d = DecoderBlock(n_heads=8, d_model=512, d_inner=1024)\n",
    "d(torch.zeros(4,24,512), torch.zeros(4,16,512), torch.zeros(1,1,24,24, dtype=bool)).shape"
   ]
  },
  {
   "cell_type": "code",
   "execution_count": null,
   "metadata": {},
   "outputs": [],
   "source": [
    "#export\n",
    "def get_output_mask(inp, pad_idx=1):\n",
    "    ''' [b,s_e,...] -> [1,1,s_e,s_e] '''\n",
    "    return torch.triu(inp.new_ones(inp.size(1),inp.size(1)), diagonal=1)[None,None].type(torch.bool)"
   ]
  },
  {
   "cell_type": "code",
   "execution_count": null,
   "metadata": {},
   "outputs": [
    {
     "data": {
      "text/plain": [
       "tensor([[0, 1, 1, 1],\n",
       "        [0, 0, 1, 1],\n",
       "        [0, 0, 0, 1],\n",
       "        [0, 0, 0, 0]], dtype=torch.int32)"
      ]
     },
     "execution_count": null,
     "metadata": {},
     "output_type": "execute_result"
    }
   ],
   "source": [
    "get_output_mask(torch.ones(4,4)).type(torch.int).squeeze()"
   ]
  },
  {
   "cell_type": "code",
   "execution_count": null,
   "metadata": {},
   "outputs": [],
   "source": [
    "#export\n",
    "class PositionalEncoding(Module):\n",
    "    \"Encode the position with a sinusoid.\"\n",
    "    def __init__(self, d:int): self.register_buffer('freq', 1 / (10000 ** (torch.arange(0., d, 2.)/d)))\n",
    "\n",
    "    def forward(self, pos:Tensor):\n",
    "        inp = torch.ger(pos, self.freq)\n",
    "        enc = torch.cat([inp.sin(), inp.cos()], dim=-1)\n",
    "        return enc"
   ]
  },
  {
   "cell_type": "code",
   "execution_count": null,
   "metadata": {},
   "outputs": [],
   "source": [
    "#export\n",
    "class TransformerEmbedding(nn.Module):\n",
    "    \"Embedding + positional encoding + dropout\"\n",
    "    def __init__(self, emb_sz, vocab_sz=None, drop=0.):\n",
    "        super().__init__()\n",
    "        self.emb_sz = emb_sz\n",
    "        if vocab_sz is None: self.embed = None\n",
    "        else: self.embed = nn.Embedding(vocab_sz, emb_sz)\n",
    "        self.pos_enc = PositionalEncoding(emb_sz)\n",
    "        self.drop = nn.Dropout(drop)\n",
    "        self.alpha = nn.Parameter(tensor(1.))\n",
    "    \n",
    "    def forward(self, inp):\n",
    "        ''' [] -> [] '''\n",
    "        pos = torch.arange(0, inp.size(1), device=inp.device).float()\n",
    "        if self.embed is not None: inp = self.embed(inp)\n",
    "        return self.drop(inp + self.alpha * self.pos_enc(pos))\n",
    "#         return self.drop(self.embed(inp) * math.sqrt(self.emb_sz) + self.pos_enc(pos))"
   ]
  },
  {
   "cell_type": "code",
   "execution_count": null,
   "metadata": {},
   "outputs": [],
   "source": [
    "#export\n",
    "def compose(funcs):\n",
    "    def func_out(x, *args):\n",
    "        for f in listify(funcs):\n",
    "            x = f(x, *args)\n",
    "        return x\n",
    "    return func_out"
   ]
  },
  {
   "cell_type": "code",
   "execution_count": null,
   "metadata": {},
   "outputs": [],
   "source": [
    "#export\n",
    "class Transformer(Module):\n",
    "    def __init__(self, out_vsz, n_layers=6, n_heads=8, d_model=512, d_inner=1024, p=0.1, \n",
    "                 bias=True, scale=True, double_drop=True, pad_idx=1, one_hot_encoded=False):\n",
    "        self.enc_emb = TransformerEmbedding(d_model, drop=0.05)\n",
    "        self.dec_emb = TransformerEmbedding(d_model, vocab_sz=out_vsz, drop=0.1)\n",
    "#         self.dec_emb = PositionalEncoding(d_model)\n",
    "        args = (n_heads, d_model, d_inner, p, bias, scale, double_drop)\n",
    "        self.encoders = nn.ModuleList([EncoderBlock(*args) for _ in range(n_layers)])\n",
    "        self.decoders = nn.ModuleList([DecoderBlock(*args) for _ in range(n_layers)])\n",
    "#         self.out = nn.Linear(d_model, out_vsz)\n",
    "        # self.out.weight = self.dec_emb.embed.weight\n",
    "        self.pad_idx = pad_idx\n",
    "        self.one_hot_encoded = one_hot_encoded\n",
    "        \n",
    "    def forward(self, inp, out):\n",
    "        ''' [b,s_e,512], [b,s_d,c] or [b,s_d] -> [b,s_d,c] (c - num classes) '''\n",
    "        if self.one_hot_encoded: out = out.argmax(-1) # [b,s_d]\n",
    "        mask_out = get_output_mask(out, self.pad_idx) # [1,1,s_d,s_d]\n",
    "#         out = self.dec_emb(torch.zeros_like(out)) \n",
    "        out = self.dec_emb(out) \n",
    "        enc = self.enc_emb(inp) # \n",
    "        enc = compose(self.encoders)(enc) # [b,s_e,512]\n",
    "        out = compose(self.decoders)(out, enc, mask_out) # [b,s_d,512]\n",
    "        return out"
   ]
  },
  {
   "cell_type": "code",
   "execution_count": null,
   "metadata": {},
   "outputs": [
    {
     "data": {
      "text/plain": [
       "torch.Size([4, 16, 512])"
      ]
     },
     "execution_count": null,
     "metadata": {},
     "output_type": "execute_result"
    }
   ],
   "source": [
    "Transformer(out_vsz=20, one_hot_encoded=True)( torch.zeros(4,12,512), torch.zeros(4,16,20) ).shape"
   ]
  },
  {
   "cell_type": "code",
   "execution_count": null,
   "metadata": {},
   "outputs": [],
   "source": [
    "#export\n",
    "class CNN(nn.Module):\n",
    "    def __init__(self, d_model, cnn_layers, kernels, strides, channels, padding, nc=3):\n",
    "        super().__init__()\n",
    "        layers = []\n",
    "        for layer,i,o,k,s,p in zip(cnn_layers, [nc] + channels[:-1], channels, kernels, strides, padding):\n",
    "            layers.append( layer(ni=i, nf=o, ks=k, stride=s, padding=p) )\n",
    "        self.cnn = nn.Sequential(*layers)\n",
    "        b,c,h,w = self.cnn(torch.zeros(1,3,48,128)).shape\n",
    "        self.out = nn.Linear(h*c, d_model)\n",
    "        print('CNN output = h:{} c:{}'.format(h,c))\n",
    "        \n",
    "    def forward(self, x):\n",
    "        x = self.cnn(x).permute(0,3,1,2)\n",
    "        b,w,c,h = x.shape\n",
    "        return self.out(x.view(b,w,-1)) # [b,c,h,w]"
   ]
  },
  {
   "cell_type": "code",
   "execution_count": null,
   "metadata": {},
   "outputs": [],
   "source": [
    "#export\n",
    "import revtorch as rv\n",
    "\n",
    "def RevConv(ni, nf, ks, stride, padding):\n",
    "    assert ni == nf and stride == 1\n",
    "    f_func = conv_layer(ni//2, nf//2, ks, stride=stride, padding=padding)\n",
    "    g_func = conv_layer(ni//2, nf//2, ks, stride=stride, padding=padding)\n",
    "    layers = nn.ModuleList([rv.ReversibleBlock(f_func, g_func)])\n",
    "    return rv.ReversibleSequence(layers, eagerly_discard_variables = True)"
   ]
  },
  {
   "cell_type": "code",
   "execution_count": null,
   "metadata": {},
   "outputs": [
    {
     "name": "stdout",
     "output_type": "stream",
     "text": [
      "torch.Size([1, 2, 512])\n"
     ]
    }
   ],
   "source": [
    "m = nn.AdaptiveAvgPool2d([2,512]) # this([h,w])([B,H,W]) -> [B,h,w]\n",
    "input = torch.randn(1, 64, 512)\n",
    "output = m(input)\n",
    "print(output.shape)"
   ]
  },
  {
   "cell_type": "code",
   "execution_count": null,
   "metadata": {},
   "outputs": [],
   "source": [
    "#export\n",
    "def get_normal_cnn(dx=1):\n",
    "    strides = [2, 1, (2,1), 1, (2,1), 1, (2,1), 1]\n",
    "    channels = [int(c*dx) for c in [64, 64, 128, 128, 256, 256, 512, 512]]\n",
    "    cnn_layers = [conv_layer] * len(strides)\n",
    "    kernels = [3] * len(strides)\n",
    "    padding = [None] * len(strides) # None - out size doesnt change\n",
    "    return cnn_layers, channels, kernels, strides, padding"
   ]
  },
  {
   "cell_type": "code",
   "execution_count": null,
   "metadata": {},
   "outputs": [
    {
     "name": "stdout",
     "output_type": "stream",
     "text": [
      "CNN output = h:3 c:512\n"
     ]
    },
    {
     "data": {
      "text/plain": [
       "torch.Size([2, 64, 512])"
      ]
     },
     "execution_count": null,
     "metadata": {},
     "output_type": "execute_result"
    }
   ],
   "source": [
    "cnn_layers, channels, kernels, strides, padding = get_normal_cnn()\n",
    "cnn = CNN(512, cnn_layers, kernels, strides, channels, padding)\n",
    "cnn(torch.zeros(2,3,48,128)).shape"
   ]
  },
  {
   "cell_type": "code",
   "execution_count": null,
   "metadata": {},
   "outputs": [],
   "source": [
    "#export\n",
    "def get_partially_rev_cnn(dx=1):\n",
    "    strides = [2, 1, (2,1), 1, (2,1), 1, (2,1), 1]\n",
    "    channels = [int(c*dx) for c in [64, 64, 128, 128, 256, 256, 512, 512]]\n",
    "    cnn_layers = [conv_layer, RevConv] * (len(strides)//2)\n",
    "    kernels = [3] * len(strides)\n",
    "    padding = [None] * len(strides) # None - out size doesnt change\n",
    "    return cnn_layers, channels, kernels, strides, padding"
   ]
  },
  {
   "cell_type": "code",
   "execution_count": null,
   "metadata": {},
   "outputs": [
    {
     "name": "stdout",
     "output_type": "stream",
     "text": [
      "CNN output = h:3 c:256\n"
     ]
    },
    {
     "data": {
      "text/plain": [
       "torch.Size([2, 64, 512])"
      ]
     },
     "execution_count": null,
     "metadata": {},
     "output_type": "execute_result"
    }
   ],
   "source": [
    "cnn_layers, channels, kernels, strides, padding = get_partially_rev_cnn(dx=1/2)\n",
    "cnn = CNN(512, cnn_layers, kernels, strides, channels, padding)\n",
    "cnn(torch.zeros(2,3,48,128)).shape"
   ]
  },
  {
   "cell_type": "code",
   "execution_count": null,
   "metadata": {},
   "outputs": [],
   "source": [
    "#export\n",
    "class TransformerModel(nn.Module):\n",
    "\n",
    "    def __init__(self, nclass=10, fclass=10, nc=3, n_layers=6, d_model=512, d_ff=1024):\n",
    "        super().__init__()\n",
    "        \n",
    "        cnn_layers, self.channels, self.kernels, self.strides, self.padding = get_partially_rev_cnn(dx=1/2)\n",
    "        self.cnn = CNN(d_model, cnn_layers, self.kernels, self.strides, self.channels, self.padding, nc=nc)\n",
    "        \n",
    "        # font prediction\n",
    "        h,w = 2,d_model\n",
    "        self.adaptive_pool = nn.AdaptiveAvgPool2d([h,w]) # this([h,w])([B,H,W]) -> [B,h,w]\n",
    "        f_model = 2 # font embedding\n",
    "        self.font_ff = nn.Sequential(nn.Linear(h*w, fclass*f_model), nn.ReLU())\n",
    "        self.font_out = nn.Linear(f_model, 1)\n",
    "        \n",
    "        # font embedding x text attention\n",
    "        self.font_emb = nn.Linear(f_model, d_model)\n",
    "        self.font_attention = DecoderBlock(n_heads=8, d_model=d_model, d_inner=d_ff)\n",
    "        \n",
    "        # text prediction\n",
    "        self.transformer = Transformer(nclass, n_layers=n_layers, n_heads=8, d_model=d_model, d_inner=d_ff)\n",
    "        self.out = nn.Linear(d_model, nclass)\n",
    "        \n",
    "        self.nclass, self.d_model, self.fclass, self.f_model = nclass, d_model, fclass, f_model\n",
    "    \n",
    "    def encode_images(self, x):\n",
    "        b,c,h,w = x.shape\n",
    "        x = self.cnn(x) # [b,s_e,512]\n",
    "        f = self.adaptive_pool(x).view(b,-1) # [b,h_a x w_a] (_a = adaptive pool params)\n",
    "        f_enc = self.font_ff(f).view(-1, self.fclass, self.f_model)\n",
    "        f_out = self.font_out(f_enc).view(-1, self.fclass)\n",
    "        f_emb = self.font_emb(f_enc) # [b,f,512]\n",
    "        return x, f_out, f_emb\n",
    "    \n",
    "    def decode(self, x_enc, y_input, f_emb=None):\n",
    "        x = self.transformer(x_enc, y_input) # [b,s_d,c]\n",
    "        if f_emb is not None: x = self.font_attention(x=x, enc=f_emb) # [b,s_d,c]\n",
    "        return self.out(x)\n",
    "    \n",
    "    def forward(self, x, y_input):\n",
    "        ''' [b,c,h,w], [b,s_d] '''\n",
    "        x_enc, f_out, f_emb = self.encode_images(x)\n",
    "        y_pred = self.decode(x_enc, y_input)\n",
    "        return f_out, y_pred"
   ]
  },
  {
   "cell_type": "code",
   "execution_count": null,
   "metadata": {},
   "outputs": [
    {
     "name": "stdout",
     "output_type": "stream",
     "text": [
      "CNN output = h:3 c:256\n"
     ]
    },
    {
     "data": {
      "text/plain": [
       "torch.Size([2, 3, 10])"
      ]
     },
     "execution_count": null,
     "metadata": {},
     "output_type": "execute_result"
    }
   ],
   "source": [
    "font_pred, y_pred = TransformerModel()(torch.zeros(2,3,48,128), torch.zeros(2,3).long())\n",
    "y_pred.shape"
   ]
  },
  {
   "cell_type": "markdown",
   "metadata": {},
   "source": [
    "### Learner"
   ]
  },
  {
   "cell_type": "code",
   "execution_count": null,
   "metadata": {},
   "outputs": [],
   "source": [
    "#export\n",
    "class TextFontLoss(nn.Module):\n",
    "    def __init__(self, text_pad_idx=pad_idx):\n",
    "        super().__init__()\n",
    "        self.pad_idx = text_pad_idx\n",
    "        self.metric_names = ['text_loss', 'font_loss']\n",
    "\n",
    "    def _text_loss(self, y_pred, y_true):\n",
    "        mask = y_true != self.pad_idx\n",
    "        return CrossEntropyFlat()(y_pred[mask], y_true[mask])\n",
    "    \n",
    "    def _font_loss(self, y_pred, y_true):\n",
    "        return CrossEntropyFlat()(y_pred, y_true)\n",
    "    \n",
    "    def forward(self, nn_output, font_true, y_true):\n",
    "        font_pred, y_pred = nn_output\n",
    "        text = self._text_loss(y_pred, y_true)\n",
    "        font = self._font_loss(font_pred, font_true)\n",
    "        self.metrics = dict(zip(self.metric_names, [text, font]))\n",
    "        return text + font"
   ]
  },
  {
   "cell_type": "code",
   "execution_count": null,
   "metadata": {},
   "outputs": [
    {
     "data": {
      "text/plain": [
       "(0.09090909090909091, 0.25)"
      ]
     },
     "execution_count": null,
     "metadata": {},
     "output_type": "execute_result"
    }
   ],
   "source": [
    "#export\n",
    "from ocr.ocr_crnn_training import wer, AddLossMetrics, WordErrorRate\n",
    "\n",
    "word_error = wer( 'black frog jumped away'.split(' '), 'black frog jumped awayyy'.split(' ') )\n",
    "char_error = wer( 'black frog jumped away', 'black frog jumped awayyy' )\n",
    "char_error, word_error"
   ]
  },
  {
   "cell_type": "code",
   "execution_count": null,
   "metadata": {},
   "outputs": [],
   "source": [
    "#export\n",
    "def decode_single_transformer_output(char_idxes, bos_idx, eos_idx, pad_idx):\n",
    "    char_list = []\n",
    "    for i in char_idxes:\n",
    "        if i != pad_idx and i != bos_idx and i != eos_idx:\n",
    "            char_list.append(i)\n",
    "        if i == eos_idx: break\n",
    "    return char_list\n",
    "\n",
    "def decode_transformer_output(texts, bos_idx=bos_idx, eos_idx=eos_idx, pad_idx=pad_idx):\n",
    "    return [tensor(decode_single_transformer_output(t, bos_idx, eos_idx, pad_idx)) for t in texts]"
   ]
  },
  {
   "cell_type": "code",
   "execution_count": null,
   "metadata": {},
   "outputs": [],
   "source": [
    "#export\n",
    "class TransformerWordErrorRate(WordErrorRate):\n",
    "    def __init__(self, learner, eos_idx=eos_idx):\n",
    "        decode_func = partial(decode_transformer_output, eos_idx=eos_idx)\n",
    "        return super().__init__(learner, decode_func, decode_func)"
   ]
  },
  {
   "cell_type": "code",
   "execution_count": null,
   "metadata": {},
   "outputs": [
    {
     "data": {
      "text/plain": [
       "ImageDataBunch;\n",
       "\n",
       "Train: LabelList (37471 items)\n",
       "x: MyImageList\n",
       "Image (3, 48, 502),Image (3, 48, 756),Image (3, 48, 566),Image (3, 48, 348),Image (3, 48, 533)\n",
       "y: TextlineList\n",
       "sroie...<s>`Y` `S`O`O`N` `F`A`T`T` `S`/`B` `(`8`1`...,sroie...<s>`L`O`T` `1`5`0`4`,` `B`A`T`U` `8` `1`/`...,sroie...<s>`4`6`0`0`0` `P`E`T`A`L`I`N`G` `J`A`Y`A`...,sroie...<s>`T`E`L` `:` `0`1`6`-`2`0`1`4`2`0`9`</s>,sroie...<s>`G`S`T` `R`E`G` `N`O` `:` `0`0`0`7`8`8`...\n",
       "Path: .;\n",
       "\n",
       "Valid: LabelList (18440 items)\n",
       "x: MyImageList\n",
       "Image (3, 48, 272),Image (3, 48, 794),Image (3, 48, 432),Image (3, 48, 504),Image (3, 48, 355)\n",
       "y: TextlineList\n",
       "sroie...<s>`T`H`O`N`G` `R`E`C`I`P`E`</s>,sroie...<s>`1`6`G` `B`L`O`C`K` `B` `,`Z`E`N`I`T`H`...,sroie...<s>`J`A`L`A`N` `S`S`7`/`2`6`,` `4`7`3`0`1`...,sroie...<s>`P`E`T`A`L`I`N`G` `J`A`Y`A` `S`E`L`A`N`...,sroie...<s>`T`E`L` `0`3`-`7`8`8`6` `4`8`7`7`</s>\n",
       "Path: .;\n",
       "\n",
       "Test: None"
      ]
     },
     "execution_count": null,
     "metadata": {},
     "output_type": "execute_result"
    }
   ],
   "source": [
    "data = create_data(main_df, bs=8)\n",
    "\n",
    "def shift_tfm(b):\n",
    "    x,(font_true, y_true) = b\n",
    "    y_true = F.pad(y_true, (1, 0), value=text_pad_idx) # add 1 to last dim\n",
    "    return [x,y_true[:,:-1]], (font_true, y_true[:,1:])\n",
    "\n",
    "data.add_tfm(shift_tfm)\n",
    "data"
   ]
  },
  {
   "cell_type": "code",
   "execution_count": null,
   "metadata": {},
   "outputs": [],
   "source": [
    "# learner = load_inference('transformer_ocr')\n",
    "# learner.data = data\n",
    "# model = learner.model"
   ]
  },
  {
   "cell_type": "code",
   "execution_count": null,
   "metadata": {},
   "outputs": [
    {
     "name": "stdout",
     "output_type": "stream",
     "text": [
      "CNN output = h:3 c:256\n"
     ]
    }
   ],
   "source": [
    "model = TransformerModel(nclass=data.c, fclass=len(data.font_classes))"
   ]
  },
  {
   "cell_type": "code",
   "execution_count": null,
   "metadata": {},
   "outputs": [],
   "source": [
    "loss_func = TextFontLoss(text_pad_idx=text_pad_idx)\n",
    "learner = Learner(data, model, loss_func=loss_func, callback_fns=[ShowGraph, AddLossMetrics, TransformerWordErrorRate])"
   ]
  },
  {
   "cell_type": "code",
   "execution_count": null,
   "metadata": {},
   "outputs": [
    {
     "data": {
      "text/html": [],
      "text/plain": [
       "<IPython.core.display.HTML object>"
      ]
     },
     "metadata": {},
     "output_type": "display_data"
    },
    {
     "name": "stdout",
     "output_type": "stream",
     "text": [
      "LR Finder is complete, type {learner_name}.recorder.plot() to see the graph.\n",
      "Min numerical gradient: 4.79E-04\n",
      "Min loss divided by 10: 4.79E-03\n"
     ]
    },
    {
     "data": {
      "image/png": "[encoded data removed]",
      "text/plain": [
       "<Figure size 432x288 with 1 Axes>"
      ]
     },
     "metadata": {
      "needs_background": "light"
     },
     "output_type": "display_data"
    }
   ],
   "source": [
    "learner.lr_find()\n",
    "learner.recorder.plot(skip_end=7,suggestion=True)"
   ]
  },
  {
   "cell_type": "code",
   "execution_count": null,
   "metadata": {},
   "outputs": [
    {
     "data": {
      "text/html": [
       "<table border=\"1\" class=\"dataframe\">\n",
       "  <thead>\n",
       "    <tr style=\"text-align: left;\">\n",
       "      <th>epoch</th>\n",
       "      <th>train_loss</th>\n",
       "      <th>valid_loss</th>\n",
       "      <th>cer</th>\n",
       "      <th>wer</th>\n",
       "      <th>text_loss</th>\n",
       "      <th>font_loss</th>\n",
       "      <th>time</th>\n",
       "    </tr>\n",
       "  </thead>\n",
       "  <tbody>\n",
       "    <tr>\n",
       "      <td>0</td>\n",
       "      <td>1.146647</td>\n",
       "      <td>1.045451</td>\n",
       "      <td>0.331388</td>\n",
       "      <td>0.780108</td>\n",
       "      <td>1.045448</td>\n",
       "      <td>0.000003</td>\n",
       "      <td>11:11</td>\n",
       "    </tr>\n",
       "  </tbody>\n",
       "</table>"
      ],
      "text/plain": [
       "<IPython.core.display.HTML object>"
      ]
     },
     "metadata": {},
     "output_type": "display_data"
    },
    {
     "data": {
      "image/png": "[encoded data removed]",
      "text/plain": [
       "<Figure size 432x288 with 1 Axes>"
      ]
     },
     "metadata": {},
     "output_type": "display_data"
    }
   ],
   "source": [
    "learner.fit_one_cycle(1, 1e-4)"
   ]
  },
  {
   "cell_type": "code",
   "execution_count": null,
   "metadata": {},
   "outputs": [],
   "source": [
    "save_inference(learner, 'transformer_ocr')"
   ]
  },
  {
   "cell_type": "code",
   "execution_count": null,
   "metadata": {},
   "outputs": [
    {
     "data": {
      "text/html": [
       "<table border=\"1\" class=\"dataframe\">\n",
       "  <thead>\n",
       "    <tr style=\"text-align: left;\">\n",
       "      <th>epoch</th>\n",
       "      <th>train_loss</th>\n",
       "      <th>valid_loss</th>\n",
       "      <th>cer</th>\n",
       "      <th>wer</th>\n",
       "      <th>text_loss</th>\n",
       "      <th>font_loss</th>\n",
       "      <th>time</th>\n",
       "    </tr>\n",
       "  </thead>\n",
       "  <tbody>\n",
       "    <tr>\n",
       "      <td>0</td>\n",
       "      <td>0.873840</td>\n",
       "      <td>0.819005</td>\n",
       "      <td>0.232923</td>\n",
       "      <td>0.634137</td>\n",
       "      <td>0.819004</td>\n",
       "      <td>0.000001</td>\n",
       "      <td>11:14</td>\n",
       "    </tr>\n",
       "    <tr>\n",
       "      <td>1</td>\n",
       "      <td>0.558429</td>\n",
       "      <td>0.413575</td>\n",
       "      <td>0.106810</td>\n",
       "      <td>0.330347</td>\n",
       "      <td>0.413575</td>\n",
       "      <td>0.000000</td>\n",
       "      <td>11:10</td>\n",
       "    </tr>\n",
       "    <tr>\n",
       "      <td>2</td>\n",
       "      <td>0.355711</td>\n",
       "      <td>0.246299</td>\n",
       "      <td>0.068400</td>\n",
       "      <td>0.245571</td>\n",
       "      <td>0.246299</td>\n",
       "      <td>0.000000</td>\n",
       "      <td>11:15</td>\n",
       "    </tr>\n",
       "    <tr>\n",
       "      <td>3</td>\n",
       "      <td>0.235101</td>\n",
       "      <td>0.156871</td>\n",
       "      <td>0.053540</td>\n",
       "      <td>0.197602</td>\n",
       "      <td>0.156871</td>\n",
       "      <td>0.000000</td>\n",
       "      <td>11:19</td>\n",
       "    </tr>\n",
       "    <tr>\n",
       "      <td>4</td>\n",
       "      <td>0.109818</td>\n",
       "      <td>0.114830</td>\n",
       "      <td>0.037070</td>\n",
       "      <td>0.165827</td>\n",
       "      <td>0.114830</td>\n",
       "      <td>0.000000</td>\n",
       "      <td>11:15</td>\n",
       "    </tr>\n",
       "    <tr>\n",
       "      <td>5</td>\n",
       "      <td>0.086432</td>\n",
       "      <td>0.078652</td>\n",
       "      <td>0.022837</td>\n",
       "      <td>0.109989</td>\n",
       "      <td>0.078652</td>\n",
       "      <td>0.000000</td>\n",
       "      <td>11:15</td>\n",
       "    </tr>\n",
       "    <tr>\n",
       "      <td>6</td>\n",
       "      <td>0.052492</td>\n",
       "      <td>0.058630</td>\n",
       "      <td>0.017967</td>\n",
       "      <td>0.093877</td>\n",
       "      <td>0.058630</td>\n",
       "      <td>0.000000</td>\n",
       "      <td>11:15</td>\n",
       "    </tr>\n",
       "    <tr>\n",
       "      <td>7</td>\n",
       "      <td>0.038581</td>\n",
       "      <td>0.049377</td>\n",
       "      <td>0.014803</td>\n",
       "      <td>0.076207</td>\n",
       "      <td>0.049377</td>\n",
       "      <td>0.000000</td>\n",
       "      <td>11:19</td>\n",
       "    </tr>\n",
       "    <tr>\n",
       "      <td>8</td>\n",
       "      <td>0.015507</td>\n",
       "      <td>0.042782</td>\n",
       "      <td>0.013027</td>\n",
       "      <td>0.067196</td>\n",
       "      <td>0.042782</td>\n",
       "      <td>0.000000</td>\n",
       "      <td>11:15</td>\n",
       "    </tr>\n",
       "    <tr>\n",
       "      <td>9</td>\n",
       "      <td>0.014326</td>\n",
       "      <td>0.042500</td>\n",
       "      <td>0.012883</td>\n",
       "      <td>0.065452</td>\n",
       "      <td>0.042500</td>\n",
       "      <td>0.000000</td>\n",
       "      <td>11:18</td>\n",
       "    </tr>\n",
       "  </tbody>\n",
       "</table>"
      ],
      "text/plain": [
       "<IPython.core.display.HTML object>"
      ]
     },
     "metadata": {},
     "output_type": "display_data"
    },
    {
     "data": {
      "image/png": "[encoded data removed]",
      "text/plain": [
       "<Figure size 432x288 with 1 Axes>"
      ]
     },
     "metadata": {},
     "output_type": "display_data"
    }
   ],
   "source": [
    "learner.fit_one_cycle(10, 1e-4)"
   ]
  },
  {
   "cell_type": "code",
   "execution_count": null,
   "metadata": {},
   "outputs": [],
   "source": [
    "save_inference(learner, 'transformer_ocr')"
   ]
  },
  {
   "cell_type": "code",
   "execution_count": null,
   "metadata": {},
   "outputs": [
    {
     "data": {
      "text/html": [
       "<table border=\"1\" class=\"dataframe\">\n",
       "  <thead>\n",
       "    <tr style=\"text-align: left;\">\n",
       "      <th>epoch</th>\n",
       "      <th>train_loss</th>\n",
       "      <th>valid_loss</th>\n",
       "      <th>cer</th>\n",
       "      <th>wer</th>\n",
       "      <th>text_loss</th>\n",
       "      <th>font_loss</th>\n",
       "      <th>time</th>\n",
       "    </tr>\n",
       "  </thead>\n",
       "  <tbody>\n",
       "    <tr>\n",
       "      <td>0</td>\n",
       "      <td>0.015442</td>\n",
       "      <td>0.044217</td>\n",
       "      <td>0.012837</td>\n",
       "      <td>0.064893</td>\n",
       "      <td>0.044217</td>\n",
       "      <td>0.000000</td>\n",
       "      <td>11:15</td>\n",
       "    </tr>\n",
       "    <tr>\n",
       "      <td>1</td>\n",
       "      <td>0.025019</td>\n",
       "      <td>0.054486</td>\n",
       "      <td>0.015437</td>\n",
       "      <td>0.075906</td>\n",
       "      <td>0.054486</td>\n",
       "      <td>0.000000</td>\n",
       "      <td>11:18</td>\n",
       "    </tr>\n",
       "    <tr>\n",
       "      <td>2</td>\n",
       "      <td>0.044056</td>\n",
       "      <td>0.061252</td>\n",
       "      <td>0.016958</td>\n",
       "      <td>0.085778</td>\n",
       "      <td>0.061252</td>\n",
       "      <td>0.000000</td>\n",
       "      <td>11:17</td>\n",
       "    </tr>\n",
       "    <tr>\n",
       "      <td>3</td>\n",
       "      <td>0.066019</td>\n",
       "      <td>0.081591</td>\n",
       "      <td>0.029127</td>\n",
       "      <td>0.125114</td>\n",
       "      <td>0.081590</td>\n",
       "      <td>0.000000</td>\n",
       "      <td>11:16</td>\n",
       "    </tr>\n",
       "    <tr>\n",
       "      <td>4</td>\n",
       "      <td>0.086220</td>\n",
       "      <td>0.074741</td>\n",
       "      <td>0.023747</td>\n",
       "      <td>0.118362</td>\n",
       "      <td>0.074741</td>\n",
       "      <td>0.000000</td>\n",
       "      <td>11:17</td>\n",
       "    </tr>\n",
       "    <tr>\n",
       "      <td>5</td>\n",
       "      <td>0.100333</td>\n",
       "      <td>0.077167</td>\n",
       "      <td>0.022042</td>\n",
       "      <td>0.109840</td>\n",
       "      <td>0.077167</td>\n",
       "      <td>0.000000</td>\n",
       "      <td>11:16</td>\n",
       "    </tr>\n",
       "    <tr>\n",
       "      <td>6</td>\n",
       "      <td>0.063167</td>\n",
       "      <td>0.074620</td>\n",
       "      <td>0.022407</td>\n",
       "      <td>0.111716</td>\n",
       "      <td>0.074620</td>\n",
       "      <td>0.000000</td>\n",
       "      <td>11:18</td>\n",
       "    </tr>\n",
       "    <tr>\n",
       "      <td>7</td>\n",
       "      <td>0.061762</td>\n",
       "      <td>0.068424</td>\n",
       "      <td>0.020252</td>\n",
       "      <td>0.102793</td>\n",
       "      <td>0.068424</td>\n",
       "      <td>0.000000</td>\n",
       "      <td>11:19</td>\n",
       "    </tr>\n",
       "    <tr>\n",
       "      <td>8</td>\n",
       "      <td>0.050655</td>\n",
       "      <td>0.055520</td>\n",
       "      <td>0.016153</td>\n",
       "      <td>0.082757</td>\n",
       "      <td>0.055520</td>\n",
       "      <td>0.000000</td>\n",
       "      <td>11:18</td>\n",
       "    </tr>\n",
       "    <tr>\n",
       "      <td>9</td>\n",
       "      <td>0.050391</td>\n",
       "      <td>0.060294</td>\n",
       "      <td>0.017877</td>\n",
       "      <td>0.092796</td>\n",
       "      <td>0.060294</td>\n",
       "      <td>0.000000</td>\n",
       "      <td>11:18</td>\n",
       "    </tr>\n",
       "    <tr>\n",
       "      <td>10</td>\n",
       "      <td>0.040631</td>\n",
       "      <td>0.053244</td>\n",
       "      <td>0.014455</td>\n",
       "      <td>0.077015</td>\n",
       "      <td>0.053244</td>\n",
       "      <td>0.000000</td>\n",
       "      <td>11:18</td>\n",
       "    </tr>\n",
       "    <tr>\n",
       "      <td>11</td>\n",
       "      <td>0.028310</td>\n",
       "      <td>0.049897</td>\n",
       "      <td>0.013892</td>\n",
       "      <td>0.072541</td>\n",
       "      <td>0.049897</td>\n",
       "      <td>0.000000</td>\n",
       "      <td>11:17</td>\n",
       "    </tr>\n",
       "    <tr>\n",
       "      <td>12</td>\n",
       "      <td>0.021514</td>\n",
       "      <td>0.045503</td>\n",
       "      <td>0.013223</td>\n",
       "      <td>0.071170</td>\n",
       "      <td>0.045503</td>\n",
       "      <td>0.000000</td>\n",
       "      <td>11:14</td>\n",
       "    </tr>\n",
       "    <tr>\n",
       "      <td>13</td>\n",
       "      <td>0.023224</td>\n",
       "      <td>0.044822</td>\n",
       "      <td>0.012291</td>\n",
       "      <td>0.068655</td>\n",
       "      <td>0.044822</td>\n",
       "      <td>0.000000</td>\n",
       "      <td>11:17</td>\n",
       "    </tr>\n",
       "    <tr>\n",
       "      <td>14</td>\n",
       "      <td>0.014323</td>\n",
       "      <td>0.042776</td>\n",
       "      <td>0.011780</td>\n",
       "      <td>0.064848</td>\n",
       "      <td>0.042776</td>\n",
       "      <td>0.000000</td>\n",
       "      <td>11:17</td>\n",
       "    </tr>\n",
       "    <tr>\n",
       "      <td>15</td>\n",
       "      <td>0.008502</td>\n",
       "      <td>0.043166</td>\n",
       "      <td>0.011409</td>\n",
       "      <td>0.063394</td>\n",
       "      <td>0.043166</td>\n",
       "      <td>0.000000</td>\n",
       "      <td>11:16</td>\n",
       "    </tr>\n",
       "    <tr>\n",
       "      <td>16</td>\n",
       "      <td>0.007813</td>\n",
       "      <td>0.041101</td>\n",
       "      <td>0.010568</td>\n",
       "      <td>0.057591</td>\n",
       "      <td>0.041101</td>\n",
       "      <td>0.000000</td>\n",
       "      <td>11:15</td>\n",
       "    </tr>\n",
       "    <tr>\n",
       "      <td>17</td>\n",
       "      <td>0.008766</td>\n",
       "      <td>0.041546</td>\n",
       "      <td>0.010430</td>\n",
       "      <td>0.056568</td>\n",
       "      <td>0.041546</td>\n",
       "      <td>0.000000</td>\n",
       "      <td>11:18</td>\n",
       "    </tr>\n",
       "    <tr>\n",
       "      <td>18</td>\n",
       "      <td>0.003718</td>\n",
       "      <td>0.041361</td>\n",
       "      <td>0.010145</td>\n",
       "      <td>0.056024</td>\n",
       "      <td>0.041361</td>\n",
       "      <td>0.000000</td>\n",
       "      <td>11:17</td>\n",
       "    </tr>\n",
       "    <tr>\n",
       "      <td>19</td>\n",
       "      <td>0.003448</td>\n",
       "      <td>0.041536</td>\n",
       "      <td>0.010081</td>\n",
       "      <td>0.056036</td>\n",
       "      <td>0.041536</td>\n",
       "      <td>0.000000</td>\n",
       "      <td>11:16</td>\n",
       "    </tr>\n",
       "  </tbody>\n",
       "</table>"
      ],
      "text/plain": [
       "<IPython.core.display.HTML object>"
      ]
     },
     "metadata": {},
     "output_type": "display_data"
    },
    {
     "data": {
      "text/html": [
       "<table border=\"1\" class=\"dataframe\">\n",
       "  <thead>\n",
       "    <tr style=\"text-align: left;\">\n",
       "      <th>epoch</th>\n",
       "      <th>train_loss</th>\n",
       "      <th>valid_loss</th>\n",
       "      <th>cer</th>\n",
       "      <th>wer</th>\n",
       "      <th>text_loss</th>\n",
       "      <th>font_loss</th>\n",
       "      <th>time</th>\n",
       "    </tr>\n",
       "  </thead>\n",
       "  <tbody>\n",
       "    <tr>\n",
       "      <td>0</td>\n",
       "      <td>0.015442</td>\n",
       "      <td>0.044217</td>\n",
       "      <td>0.012837</td>\n",
       "      <td>0.064893</td>\n",
       "      <td>0.044217</td>\n",
       "      <td>0.000000</td>\n",
       "      <td>11:15</td>\n",
       "    </tr>\n",
       "    <tr>\n",
       "      <td>1</td>\n",
       "      <td>0.025019</td>\n",
       "      <td>0.054486</td>\n",
       "      <td>0.015437</td>\n",
       "      <td>0.075906</td>\n",
       "      <td>0.054486</td>\n",
       "      <td>0.000000</td>\n",
       "      <td>11:18</td>\n",
       "    </tr>\n",
       "    <tr>\n",
       "      <td>2</td>\n",
       "      <td>0.044056</td>\n",
       "      <td>0.061252</td>\n",
       "      <td>0.016958</td>\n",
       "      <td>0.085778</td>\n",
       "      <td>0.061252</td>\n",
       "      <td>0.000000</td>\n",
       "      <td>11:17</td>\n",
       "    </tr>\n",
       "    <tr>\n",
       "      <td>3</td>\n",
       "      <td>0.066019</td>\n",
       "      <td>0.081591</td>\n",
       "      <td>0.029127</td>\n",
       "      <td>0.125114</td>\n",
       "      <td>0.081590</td>\n",
       "      <td>0.000000</td>\n",
       "      <td>11:16</td>\n",
       "    </tr>\n",
       "    <tr>\n",
       "      <td>4</td>\n",
       "      <td>0.086220</td>\n",
       "      <td>0.074741</td>\n",
       "      <td>0.023747</td>\n",
       "      <td>0.118362</td>\n",
       "      <td>0.074741</td>\n",
       "      <td>0.000000</td>\n",
       "      <td>11:17</td>\n",
       "    </tr>\n",
       "    <tr>\n",
       "      <td>5</td>\n",
       "      <td>0.100333</td>\n",
       "      <td>0.077167</td>\n",
       "      <td>0.022042</td>\n",
       "      <td>0.109840</td>\n",
       "      <td>0.077167</td>\n",
       "      <td>0.000000</td>\n",
       "      <td>11:16</td>\n",
       "    </tr>\n",
       "    <tr>\n",
       "      <td>6</td>\n",
       "      <td>0.063167</td>\n",
       "      <td>0.074620</td>\n",
       "      <td>0.022407</td>\n",
       "      <td>0.111716</td>\n",
       "      <td>0.074620</td>\n",
       "      <td>0.000000</td>\n",
       "      <td>11:18</td>\n",
       "    </tr>\n",
       "    <tr>\n",
       "      <td>7</td>\n",
       "      <td>0.061762</td>\n",
       "      <td>0.068424</td>\n",
       "      <td>0.020252</td>\n",
       "      <td>0.102793</td>\n",
       "      <td>0.068424</td>\n",
       "      <td>0.000000</td>\n",
       "      <td>11:19</td>\n",
       "    </tr>\n",
       "    <tr>\n",
       "      <td>8</td>\n",
       "      <td>0.050655</td>\n",
       "      <td>0.055520</td>\n",
       "      <td>0.016153</td>\n",
       "      <td>0.082757</td>\n",
       "      <td>0.055520</td>\n",
       "      <td>0.000000</td>\n",
       "      <td>11:18</td>\n",
       "    </tr>\n",
       "    <tr>\n",
       "      <td>9</td>\n",
       "      <td>0.050391</td>\n",
       "      <td>0.060294</td>\n",
       "      <td>0.017877</td>\n",
       "      <td>0.092796</td>\n",
       "      <td>0.060294</td>\n",
       "      <td>0.000000</td>\n",
       "      <td>11:18</td>\n",
       "    </tr>\n",
       "    <tr>\n",
       "      <td>10</td>\n",
       "      <td>0.040631</td>\n",
       "      <td>0.053244</td>\n",
       "      <td>0.014455</td>\n",
       "      <td>0.077015</td>\n",
       "      <td>0.053244</td>\n",
       "      <td>0.000000</td>\n",
       "      <td>11:18</td>\n",
       "    </tr>\n",
       "    <tr>\n",
       "      <td>11</td>\n",
       "      <td>0.028310</td>\n",
       "      <td>0.049897</td>\n",
       "      <td>0.013892</td>\n",
       "      <td>0.072541</td>\n",
       "      <td>0.049897</td>\n",
       "      <td>0.000000</td>\n",
       "      <td>11:17</td>\n",
       "    </tr>\n",
       "    <tr>\n",
       "      <td>12</td>\n",
       "      <td>0.021514</td>\n",
       "      <td>0.045503</td>\n",
       "      <td>0.013223</td>\n",
       "      <td>0.071170</td>\n",
       "      <td>0.045503</td>\n",
       "      <td>0.000000</td>\n",
       "      <td>11:14</td>\n",
       "    </tr>\n",
       "    <tr>\n",
       "      <td>13</td>\n",
       "      <td>0.023224</td>\n",
       "      <td>0.044822</td>\n",
       "      <td>0.012291</td>\n",
       "      <td>0.068655</td>\n",
       "      <td>0.044822</td>\n",
       "      <td>0.000000</td>\n",
       "      <td>11:17</td>\n",
       "    </tr>\n",
       "    <tr>\n",
       "      <td>14</td>\n",
       "      <td>0.014323</td>\n",
       "      <td>0.042776</td>\n",
       "      <td>0.011780</td>\n",
       "      <td>0.064848</td>\n",
       "      <td>0.042776</td>\n",
       "      <td>0.000000</td>\n",
       "      <td>11:17</td>\n",
       "    </tr>\n",
       "    <tr>\n",
       "      <td>15</td>\n",
       "      <td>0.008502</td>\n",
       "      <td>0.043166</td>\n",
       "      <td>0.011409</td>\n",
       "      <td>0.063394</td>\n",
       "      <td>0.043166</td>\n",
       "      <td>0.000000</td>\n",
       "      <td>11:16</td>\n",
       "    </tr>\n",
       "    <tr>\n",
       "      <td>16</td>\n",
       "      <td>0.007813</td>\n",
       "      <td>0.041101</td>\n",
       "      <td>0.010568</td>\n",
       "      <td>0.057591</td>\n",
       "      <td>0.041101</td>\n",
       "      <td>0.000000</td>\n",
       "      <td>11:15</td>\n",
       "    </tr>\n",
       "    <tr>\n",
       "      <td>17</td>\n",
       "      <td>0.008766</td>\n",
       "      <td>0.041546</td>\n",
       "      <td>0.010430</td>\n",
       "      <td>0.056568</td>\n",
       "      <td>0.041546</td>\n",
       "      <td>0.000000</td>\n",
       "      <td>11:18</td>\n",
       "    </tr>\n",
       "    <tr>\n",
       "      <td>18</td>\n",
       "      <td>0.003718</td>\n",
       "      <td>0.041361</td>\n",
       "      <td>0.010145</td>\n",
       "      <td>0.056024</td>\n",
       "      <td>0.041361</td>\n",
       "      <td>0.000000</td>\n",
       "      <td>11:17</td>\n",
       "    </tr>\n",
       "    <tr>\n",
       "      <td>19</td>\n",
       "      <td>0.003448</td>\n",
       "      <td>0.041536</td>\n",
       "      <td>0.010081</td>\n",
       "      <td>0.056036</td>\n",
       "      <td>0.041536</td>\n",
       "      <td>0.000000</td>\n",
       "      <td>11:16</td>\n",
       "    </tr>\n",
       "  </tbody>\n",
       "</table>"
      ],
      "text/plain": [
       "<IPython.core.display.HTML object>"
      ]
     },
     "metadata": {},
     "output_type": "display_data"
    },
    {
     "data": {
      "image/png": "[encoded data removed]",
      "text/plain": [
       "<Figure size 432x288 with 1 Axes>"
      ]
     },
     "metadata": {},
     "output_type": "display_data"
    },
    {
     "data": {
      "image/png": "[encoded data removed]",
      "text/plain": [
       "<Figure size 432x288 with 1 Axes>"
      ]
     },
     "metadata": {},
     "output_type": "display_data"
    }
   ],
   "source": [
    "learner.fit_one_cycle(20, 1e-4)"
   ]
  },
  {
   "cell_type": "code",
   "execution_count": null,
   "metadata": {},
   "outputs": [],
   "source": [
    "save_inference(learner, 'transformer_ocr')"
   ]
  },
  {
   "cell_type": "markdown",
   "metadata": {},
   "source": [
    "### Examples"
   ]
  },
  {
   "cell_type": "code",
   "execution_count": null,
   "metadata": {},
   "outputs": [],
   "source": [
    "from pathlib import PosixPath\n",
    "from ocr.core import *"
   ]
  },
  {
   "cell_type": "code",
   "execution_count": null,
   "metadata": {},
   "outputs": [
    {
     "data": {
      "image/png": "[encoded data removed]",
      "text/plain": [
       "<Figure size 432x288 with 1 Axes>"
      ]
     },
     "metadata": {
      "needs_background": "light"
     },
     "output_type": "display_data"
    },
    {
     "data": {
      "image/png": "[encoded data removed]",
      "text/plain": [
       "<Figure size 432x288 with 1 Axes>"
      ]
     },
     "metadata": {
      "needs_background": "light"
     },
     "output_type": "display_data"
    }
   ],
   "source": [
    "# im = cv2.imread(str(PosixPath('../data/ocr/sroie2019_lines/').ls()[8]))\n",
    "im = cv2.imread(str(PosixPath('../data/ocr/fontsynth_lines/').ls()[0]))\n",
    "plot(im)"
   ]
  },
  {
   "cell_type": "code",
   "execution_count": null,
   "metadata": {},
   "outputs": [],
   "source": [
    "learner = load_inference('transformer_ocr')"
   ]
  },
  {
   "cell_type": "code",
   "execution_count": null,
   "metadata": {},
   "outputs": [
    {
     "data": {
      "text/plain": [
       "('A. OPTIKA MARINEJA REGINOSI', 'sroie2019')"
      ]
     },
     "execution_count": null,
     "metadata": {},
     "output_type": "execute_result"
    },
    {
     "data": {
      "text/plain": [
       "('A. OPTIKA MARINEJA REGINOSI', 'sroie2019')"
      ]
     },
     "execution_count": null,
     "metadata": {},
     "output_type": "execute_result"
    }
   ],
   "source": [
    "# resize_one_img = lambda x, size: F.interpolate(x[None], size=size, mode='bilinear', align_corners=True)[0]\n",
    "\n",
    "def predict(learner, im, bos=transformer_config.bos_idx, eos=transformer_config.eos_idx, max_len=99):\n",
    "    h,w,c = im.shape\n",
    "    im = tensor(im).permute(2,0,1) / 255.\n",
    "#     new_w = int(w * line_height / float(h))\n",
    "#     im = resize_one_img(im, size=(line_height, new_w))\n",
    "    x, _ = learner.data.one_item(Image(im)) # [1,3,48,w]\n",
    "    b,c,h,w = x.shape\n",
    "    x_enc, f_out, f_emb = learner.model.encode_images(x)\n",
    "    y_input = x.new(b,1).long().fill_(bos)\n",
    "    for i in range(max_len):\n",
    "        y_pred = learner.model.decode(x_enc, y_input) # [b,y+1,c]\n",
    "        y_pred = torch.softmax(y_pred, dim=-1).argmax(-1)\n",
    "        y_input = F.pad(y_input, (0, 1), value=y_pred[0,-1])\n",
    "        if (y_input[:,-1] == eos).all(): break\n",
    "    text = ''.join([learner.data.classes[c] for c in y_input[0]][1:-1]) # remove bos, eos\n",
    "    font = learner.data.font_classes[f_out.argmax(-1).view(1)]\n",
    "    return text, font\n",
    "\n",
    "predict(learner, im)"
   ]
  },
  {
   "cell_type": "code",
   "execution_count": null,
   "metadata": {},
   "outputs": [
    {
     "data": {
      "text/plain": [
       "(Parameter containing:\n",
       " tensor(1.4873, device='cuda:0', requires_grad=True), Parameter containing:\n",
       " tensor(1.1217, device='cuda:0', requires_grad=True))"
      ]
     },
     "execution_count": null,
     "metadata": {},
     "output_type": "execute_result"
    },
    {
     "data": {
      "text/plain": [
       "(Parameter containing:\n",
       " tensor(1.4873, device='cuda:0', requires_grad=True), Parameter containing:\n",
       " tensor(1.1217, device='cuda:0', requires_grad=True))"
      ]
     },
     "execution_count": null,
     "metadata": {},
     "output_type": "execute_result"
    }
   ],
   "source": [
    "learner.model.transformer.enc_emb.alpha, learner.model.transformer.dec_emb.alpha"
   ]
  }
 ],
 "metadata": {
  "kernelspec": {
   "display_name": "nlp",
   "language": "python",
   "name": "nlp"
  }
 },
 "nbformat": 4,
 "nbformat_minor": 2
}
