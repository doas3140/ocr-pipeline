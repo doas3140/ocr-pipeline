{
 "cells": [
  {
   "cell_type": "markdown",
   "metadata": {},
   "source": [
    "> Needs inference + clean up"
   ]
  },
  {
   "cell_type": "code",
   "execution_count": 1,
   "metadata": {},
   "outputs": [],
   "source": [
    "import numpy as np # linear algebra\n",
    "import pandas as pd # data processing, CSV file I/O (e.g. pd.read_csv)\n",
    "from pathlib import Path \n",
    "\n",
    "import os\n",
    "\n",
    "import torch\n",
    "import torch.optim as optim\n",
    "\n",
    "from tqdm.notebook import trange, tqdm\n",
    "\n",
    "import random \n",
    "\n",
    "# fastai\n",
    "from fastai import *\n",
    "from fastai.text import *\n",
    "from fastai.callbacks import *\n",
    "\n",
    "# transformers\n",
    "from transformers import PreTrainedModel, PreTrainedTokenizer, PretrainedConfig\n",
    "\n",
    "from transformers import BertForTokenClassification, BertTokenizer, BertConfig\n",
    "from transformers import DistilBertForTokenClassification, DistilBertTokenizer, DistilBertConfig\n",
    "from transformers import RobertaForTokenClassification, RobertaTokenizer, RobertaConfig\n",
    "\n",
    "from seqeval.metrics import accuracy_score, f1_score, classification_report"
   ]
  },
  {
   "cell_type": "code",
   "execution_count": 2,
   "metadata": {},
   "outputs": [
    {
     "name": "stdout",
     "output_type": "stream",
     "text": [
      "fastai version : 1.0.59\n",
      "transformers version : 2.2.0\n"
     ]
    }
   ],
   "source": [
    "import fastai\n",
    "import transformers\n",
    "print('fastai version :', fastai.__version__)\n",
    "print('transformers version :', transformers.__version__)"
   ]
  },
  {
   "cell_type": "code",
   "execution_count": 3,
   "metadata": {},
   "outputs": [],
   "source": [
    "from spacy.tokenizer import Tokenizer\n",
    "from spacy.lang.en import English"
   ]
  },
  {
   "cell_type": "markdown",
   "metadata": {},
   "source": [
    "# Data"
   ]
  },
  {
   "cell_type": "markdown",
   "metadata": {},
   "source": [
    "### Prepare for NER"
   ]
  },
  {
   "cell_type": "code",
   "execution_count": 4,
   "metadata": {},
   "outputs": [],
   "source": [
    "import cv2\n",
    "import os\n",
    "import shutil\n",
    "import glob\n",
    "import numpy as np\n",
    "from tqdm import tqdm\n",
    "import csv\n",
    "import json\n",
    "from collections import defaultdict\n",
    "import re"
   ]
  },
  {
   "cell_type": "code",
   "execution_count": 5,
   "metadata": {},
   "outputs": [],
   "source": [
    "IMG_DIR = '../data/sroie2019/task3_train_img/'\n",
    "GT_DIR = '../data/sroie2019/task3_train_gt/'\n",
    "TXT_DIR = '../data/sroie2019/train_gt/'"
   ]
  },
  {
   "cell_type": "code",
   "execution_count": 6,
   "metadata": {},
   "outputs": [],
   "source": [
    "JSON_KEYS = ['company', 'date', 'address', 'total']\n",
    "NER_TAGS = ['CMP', 'DAT', 'ADD', 'TOT']\n",
    "OTHER_TAG = 'O'"
   ]
  },
  {
   "cell_type": "code",
   "execution_count": 7,
   "metadata": {},
   "outputs": [],
   "source": [
    "def read_data(csv_path):\n",
    "    ''' returns [([4,2], str),...] '''\n",
    "    out = []\n",
    "    with open(csv_path, encoding=\"utf8\") as csv_file:\n",
    "        csv_reader = csv.reader(csv_file, delimiter=',')\n",
    "        for line in csv_reader:\n",
    "            if len(line) > 8:\n",
    "                x1, y1, x2, y2, x3, y3, x4, y4 = list(map(int, line[:8]))\n",
    "                label = ','.join(line[8:])\n",
    "                points = np.array([ [x1, y1], [x2, y2], [x3, y3], [x4, y4] ])\n",
    "                out.append([points, label])\n",
    "    return out\n",
    "\n",
    "def read_json(path):\n",
    "    ''' returns dict w/ 'company', 'date', 'address', 'total' '''\n",
    "    with open(path, encoding=\"utf8\") as json_file:\n",
    "        out = json.load(json_file)\n",
    "    return out\n",
    "\n",
    "def calc_center(points): # [4,2]\n",
    "    y = np.mean(points[:,1])\n",
    "    x = np.min(points[:,0])\n",
    "    return np.array([x,y], dtype=points.dtype)\n",
    "\n",
    "def sort_by_x(arr):\n",
    "    return [label for x, label in sorted(arr, key=lambda x: x[0])]\n",
    "\n",
    "def parse_gts(gts):\n",
    "    ''' gts: list of [(points,str),...], points - [4,2] array \n",
    "    returns list [[str1,str2], [str1,...], ...], where each element is line in document (y is the same)\n",
    "    '''\n",
    "    gts = [(calc_center(points), label) for points, label in gts]\n",
    "\n",
    "    lines = defaultdict(lambda: [])\n",
    "    y_prev, current_line = -1, 0\n",
    "\n",
    "    for (x,y), label in sorted(gts, key=lambda x: (x[0][1])):\n",
    "        if y - y_prev > 10:\n",
    "            if y_prev != -1: lines[current_line] = sort_by_x(lines[current_line])\n",
    "            current_line += 1\n",
    "        lines[current_line].append((x,label)) # append x to sort later w/ sort_by_x\n",
    "        y_prev = y\n",
    "\n",
    "    lines[current_line] = sort_by_x(lines[current_line]) # sort last line\n",
    "\n",
    "    return [labels for l, labels in lines.items()]\n",
    "\n",
    "def tokenize(text, tokenizer):\n",
    "    ''' return list of words '''\n",
    "    tokens = tokenizer(text)\n",
    "    return [t.text for t in tokens]"
   ]
  },
  {
   "cell_type": "code",
   "execution_count": 8,
   "metadata": {},
   "outputs": [
    {
     "name": "stdout",
     "output_type": "stream",
     "text": [
      "checking...\n",
      "check X51005663280.txt file\n",
      "total missing: 1\n"
     ]
    }
   ],
   "source": [
    "total = 0\n",
    "print('checking...')\n",
    "for fn in os.listdir(GT_DIR):\n",
    "    j = read_json(os.path.join(GT_DIR, fn))\n",
    "\n",
    "    for s in JSON_KEYS:\n",
    "        if s not in j:\n",
    "            total += 1\n",
    "            print('check {} file'.format(fn))\n",
    "\n",
    "print('total missing:', total)"
   ]
  },
  {
   "cell_type": "code",
   "execution_count": 9,
   "metadata": {},
   "outputs": [],
   "source": [
    "def text_fn(text, pattern = re.compile('[^a-zA-Z0-9\\ \\-\\.\\,\\/\\:\\%\\@\\&\\$]')):\n",
    "    return pattern.sub('', text).lower()"
   ]
  },
  {
   "cell_type": "code",
   "execution_count": 10,
   "metadata": {},
   "outputs": [],
   "source": [
    "nlp = English()\n",
    "tokenizer = nlp.Defaults.create_tokenizer(nlp)"
   ]
  },
  {
   "cell_type": "markdown",
   "metadata": {},
   "source": [
    "#### Example"
   ]
  },
  {
   "cell_type": "code",
   "execution_count": 11,
   "metadata": {},
   "outputs": [
    {
     "data": {
      "text/plain": [
       "{'company': 'BOOK TA .K (TAMAN DAYA) SDN BHD',\n",
       " 'date': '25/12/2018',\n",
       " 'address': 'NO.53 55,57 & 59, JALAN SAGU 18, TAMAN DAYA, 81100 JOHOR BAHRU, JOHOR.',\n",
       " 'total': '9.00'}"
      ]
     },
     "execution_count": 11,
     "metadata": {},
     "output_type": "execute_result"
    }
   ],
   "source": [
    "fn = 'X00016469612'\n",
    "\n",
    "gts = read_data('../data/sroie2019/train_gt/' +fn+ '.txt')\n",
    "ats = read_json('../data/sroie2019/task3_train_gt/' +fn+ '.txt')\n",
    "ats"
   ]
  },
  {
   "cell_type": "code",
   "execution_count": 12,
   "metadata": {},
   "outputs": [
    {
     "data": {
      "text/plain": [
       "'tan woon yann\\nbook ta .ktaman daya sdn bnd\\n789417-w\\nno.53 55,57 & 59, jalan sagu 18,\\ntaman daya,\\n81100 johor bahru,\\njohor.\\ndocument no : td01167104\\ndate: 25/12/2018 8:13:39 pm\\ncashier: manis\\nmember:\\ncash bill\\ncode/desc price disc amount\\nqty rm rm\\n9556939040116 kf modelling clay kiddy fish\\n1 pc  9.000 0.00 9.00\\ntotal: 9.00\\nrour ding adjustment: 0.00\\nround d total rm: 9.00\\ncash 10.00\\nchange 1.00\\ngoods sold are not returnable or\\nexchangeable\\n\\n\\nthank you\\nplease come again '"
      ]
     },
     "execution_count": 12,
     "metadata": {},
     "output_type": "execute_result"
    }
   ],
   "source": [
    "def parse_document(gts):\n",
    "    lines = parse_gts(gts)\n",
    "    # lines = [' '.join([text_fn(word) for word in line]) for line in lines]\n",
    "    lines = [' '.join(line) for line in lines]\n",
    "    lines = [text_fn(l) for l in lines]\n",
    "    document = '\\n'.join(lines) # join lines to string\n",
    "    return document\n",
    "\n",
    "gts = read_data('../data/sroie2019/train_gt/' +fn+ '.txt')\n",
    "document = parse_document(gts)\n",
    "document"
   ]
  },
  {
   "cell_type": "code",
   "execution_count": 13,
   "metadata": {},
   "outputs": [
    {
     "name": "stdout",
     "output_type": "stream",
     "text": [
      "[('B-CMP', 'book'), ('I-CMP', 'ta'), ('I-CMP', '.k'), ('I-CMP', 'taman'), ('I-CMP', 'daya'), ('I-CMP', 'sdn'), ('I-CMP', 'bhd'), ('B-DAT', '25/12/2018'), ('B-ADD', 'no.53'), ('I-ADD', '55,57'), ('I-ADD', '&'), ('I-ADD', '59'), ('I-ADD', 'jalan'), ('I-ADD', 'sagu'), ('I-ADD', '18'), ('I-ADD', 'taman'), ('I-ADD', 'daya'), ('I-ADD', '81100'), ('I-ADD', 'johor'), ('I-ADD', 'bahru'), ('I-ADD', 'johor'), ('B-TOT', '9.00')]\n"
     ]
    }
   ],
   "source": [
    "def is_interesting(word):\n",
    "    requirement_bool_list = ['\\n' not in word,\n",
    "    word not in ['.', '', ' ', '(', ')', ',', '{', '}', '/']\n",
    "    ] \n",
    "    return not (False in requirement_bool_list)\n",
    "\n",
    "def info2labels(info_dict, tokenizer): # info_dict (from read_json func)\n",
    "    ''' returns list of [TAG, WORD] pairs '''\n",
    "    labels = []\n",
    "    for key, tag in zip(JSON_KEYS, NER_TAGS):\n",
    "        if key in info_dict:\n",
    "            string = info_dict[key]\n",
    "            for i, word in enumerate(tokenize(string, tokenizer)):\n",
    "                word = text_fn(word)\n",
    "                if is_interesting(word):\n",
    "                    pretag = 'B-' if i == 0 else 'I-'\n",
    "                    labels.append( (pretag + tag, word) )\n",
    "    return labels\n",
    "labels = info2labels(ats, tokenizer)\n",
    "print(labels)"
   ]
  },
  {
   "cell_type": "code",
   "execution_count": 14,
   "metadata": {},
   "outputs": [
    {
     "data": {
      "text/plain": [
       "[('B-CMP', 'book'),\n",
       " ('I-CMP', 'ta'),\n",
       " ('I-CMP', '.k'),\n",
       " ('I-CMP', 'taman'),\n",
       " ('I-CMP', 'daya'),\n",
       " ('I-CMP', 'sdn'),\n",
       " ('I-CMP', 'bhd'),\n",
       " ('B-DAT', '25/12/2018'),\n",
       " ('B-ADD', 'no.53'),\n",
       " ('I-ADD', '55,57'),\n",
       " ('I-ADD', '&'),\n",
       " ('I-ADD', '59'),\n",
       " ('I-ADD', 'jalan'),\n",
       " ('I-ADD', 'sagu'),\n",
       " ('I-ADD', '18'),\n",
       " ('I-ADD', 'taman'),\n",
       " ('I-ADD', 'daya'),\n",
       " ('I-ADD', '81100'),\n",
       " ('I-ADD', 'johor'),\n",
       " ('I-ADD', 'bahru'),\n",
       " ('I-ADD', 'johor'),\n",
       " ('B-TOT', '9.00')]"
      ]
     },
     "execution_count": 14,
     "metadata": {},
     "output_type": "execute_result"
    }
   ],
   "source": [
    "labels"
   ]
  },
  {
   "cell_type": "code",
   "execution_count": 15,
   "metadata": {},
   "outputs": [
    {
     "name": "stdout",
     "output_type": "stream",
     "text": [
      "['tan'] ['woon'] ['yann'] \n",
      "['book'] ['ta'] ['.ktaman'] ['daya'] ['sdn'] ['bnd'] \n",
      "['789417-w'] \n",
      "['no.53'] ['55,57'] ['&'] ['59'] [','] ['jalan'] ['sagu'] ['18'] [','] \n",
      "['taman'] ['daya'] [','] \n",
      "['81100'] ['johor'] ['bahru'] [','] \n",
      "['johor'] ['.'] \n",
      "['document'] ['no'] [':'] ['td01167104'] \n",
      "['date'] [':'] ['25/12/2018'] ['8:13:39'] ['pm'] \n",
      "['cashier'] [':'] ['manis'] \n",
      "['member'] [':'] \n",
      "['cash'] ['bill'] \n",
      "['code'] ['/'] ['desc'] ['price'] ['disc'] ['amount'] \n",
      "['qty'] ['rm'] ['rm'] \n",
      "['9556939040116'] ['kf'] ['modelling'] ['clay'] ['kiddy'] ['fish'] \n",
      "['1'] ['pc'] [' '] ['9.000'] ['0.00'] ['9.00'] \n",
      "['total'] [':'] ['9.00'] \n",
      "['rour'] ['ding'] ['adjustment'] [':'] ['0.00'] \n",
      "['round'] ['d'] ['total'] ['rm'] [':'] ['9.00'] \n",
      "['cash'] ['10.00'] \n",
      "['change'] ['1.00'] \n",
      "['goods'] ['sold'] ['are'] ['not'] ['returnable'] ['or'] \n",
      "['exchangeable'] ['\\n\\n\\n'] ['thank'] ['you'] \n",
      "['please'] ['come'] ['again'] "
     ]
    }
   ],
   "source": [
    "for i, word in enumerate(tokenize(document, tokenizer)):\n",
    "    if word == '\\n': print()\n",
    "    else: print([word], end=' ')"
   ]
  },
  {
   "cell_type": "code",
   "execution_count": 16,
   "metadata": {},
   "outputs": [],
   "source": [
    "def tag_string(document:str, labels:list, tokenizer): # labels: list of <tag, str> pairs\n",
    "    used_labels = []\n",
    "    tags = []\n",
    "    words = []\n",
    "    for i, word in enumerate(tokenize(document, tokenizer)):\n",
    "\n",
    "        word_tags = []\n",
    "        for tag, word_label in labels:\n",
    "            if word == word_label: # and not word_label in used_labels:\n",
    "                word_tags.append(tag)\n",
    "\n",
    "        if len(word_tags) == 0:\n",
    "            word_tag = OTHER_TAG\n",
    "    #     elif len(word_tags) == 1:\n",
    "    #         word_tag = word_tags[0]\n",
    "        else:\n",
    "            idx = np.zeros([len(word_tags)])\n",
    "            for i, tag in enumerate(word_tags):\n",
    "                for how_much_away,w in enumerate(reversed(tags)):\n",
    "                    if tag[2:] == w[2:]:\n",
    "                        idx[i] = -how_much_away\n",
    "                        break\n",
    "\n",
    "            word_tag = word_tags[np.argmin(idx)]\n",
    "\n",
    "    #     used_labels.append(word_label)\n",
    "        if is_interesting(word): # or word == '\\n':\n",
    "            tags.append(word_tag)\n",
    "            words.append(word)\n",
    "\n",
    "        if len(tags) > 2:\n",
    "            # change in the middle `O`s to `I-` something\n",
    "            w3,w2,w1 = tags[-3:]\n",
    "            if w1 != OTHER_TAG and w1.startswith('I-') and is_interesting(w2):\n",
    "                if w2 == OTHER_TAG and (w3.startswith('B-') or w3.startswith('I-')) and w3[2:] == w1[2:]:\n",
    "                    tags[-2] = w1\n",
    "            # TODO remove I- w/out B-\n",
    "    return words, tags"
   ]
  },
  {
   "cell_type": "code",
   "execution_count": 17,
   "metadata": {},
   "outputs": [
    {
     "name": "stdout",
     "output_type": "stream",
     "text": [
      "('tan', 'O') ('woon', 'O') ('yann', 'O') ('book', 'B-CMP') ('ta', 'I-CMP') ('.ktaman', 'I-CMP') ('daya', 'I-CMP') ('sdn', 'I-CMP') ('bnd', 'O') ('789417-w', 'O') ('no.53', 'B-ADD') ('55,57', 'I-ADD') ('&', 'I-ADD') ('59', 'I-ADD') ('jalan', 'I-ADD') ('sagu', 'I-ADD') ('18', 'I-ADD') ('taman', 'I-CMP') ('daya', 'I-ADD') ('81100', 'I-ADD') ('johor', 'I-ADD') ('bahru', 'I-ADD') ('johor', 'I-ADD') ('document', 'O') ('no', 'O') (':', 'O') ('td01167104', 'O') ('date', 'O') (':', 'O') ('25/12/2018', 'B-DAT') ('8:13:39', 'O') ('pm', 'O') ('cashier', 'O') (':', 'O') ('manis', 'O') ('member', 'O') (':', 'O') ('cash', 'O') ('bill', 'O') ('code', 'O') ('desc', 'O') ('price', 'O') ('disc', 'O') ('amount', 'O') ('qty', 'O') ('rm', 'O') ('rm', 'O') ('9556939040116', 'O') ('kf', 'O') ('modelling', 'O') ('clay', 'O') ('kiddy', 'O') ('fish', 'O') ('1', 'O') ('pc', 'O') ('9.000', 'O') ('0.00', 'O') ('9.00', 'B-TOT') ('total', 'O') (':', 'O') ('9.00', 'B-TOT') ('rour', 'O') ('ding', 'O') ('adjustment', 'O') (':', 'O') ('0.00', 'O') ('round', 'O') ('d', 'O') ('total', 'O') ('rm', 'O') (':', 'O') ('9.00', 'B-TOT') ('cash', 'O') ('10.00', 'O') ('change', 'O') ('1.00', 'O') ('goods', 'O') ('sold', 'O') ('are', 'O') ('not', 'O') ('returnable', 'O') ('or', 'O') ('exchangeable', 'O') ('thank', 'O') ('you', 'O') ('please', 'O') ('come', 'O') ('again', 'O') "
     ]
    }
   ],
   "source": [
    "words, tags = tag_string(document, labels, tokenizer)\n",
    "for tag,word in zip(tags, words):\n",
    "    if word == '\\n': print(('/n', tag))\n",
    "    else: print((word, tag), end=' ')"
   ]
  },
  {
   "cell_type": "code",
   "execution_count": 18,
   "metadata": {},
   "outputs": [
    {
     "data": {
      "text/plain": [
       "{'company': 'BOOK TA .K (TAMAN DAYA) SDN BHD',\n",
       " 'date': '25/12/2018',\n",
       " 'address': 'NO.53 55,57 & 59, JALAN SAGU 18, TAMAN DAYA, 81100 JOHOR BAHRU, JOHOR.',\n",
       " 'total': '9.00'}"
      ]
     },
     "execution_count": 18,
     "metadata": {},
     "output_type": "execute_result"
    }
   ],
   "source": [
    "ats"
   ]
  },
  {
   "cell_type": "markdown",
   "metadata": {},
   "source": [
    "### Converter"
   ]
  },
  {
   "cell_type": "code",
   "execution_count": 19,
   "metadata": {},
   "outputs": [],
   "source": [
    "nlp = English()\n",
    "tokenizer = nlp.Defaults.create_tokenizer(nlp)"
   ]
  },
  {
   "cell_type": "code",
   "execution_count": 20,
   "metadata": {},
   "outputs": [
    {
     "name": "stderr",
     "output_type": "stream",
     "text": [
      "100%|██████████| 625/625 [00:01<00:00, 510.20it/s]\n"
     ]
    },
    {
     "data": {
      "text/plain": [
       "625"
      ]
     },
     "execution_count": 20,
     "metadata": {},
     "output_type": "execute_result"
    }
   ],
   "source": [
    "document_data = [] # <list[word], list[tag]> pairs\n",
    "for fn in tqdm(os.listdir(GT_DIR), total=len(os.listdir(GT_DIR))):\n",
    "    gts = read_data(os.path.join(TXT_DIR, fn))\n",
    "    ats = read_json(os.path.join(GT_DIR, fn))\n",
    "    document = parse_document(gts)\n",
    "    labels = info2labels(ats, tokenizer)\n",
    "    words, tags = tag_string(document, labels, tokenizer)\n",
    "    document_data.append((words, tags))\n",
    "\n",
    "len(document_data)"
   ]
  },
  {
   "cell_type": "code",
   "execution_count": 21,
   "metadata": {},
   "outputs": [
    {
     "data": {
      "text/plain": [
       "624"
      ]
     },
     "execution_count": 21,
     "metadata": {},
     "output_type": "execute_result"
    }
   ],
   "source": [
    "def is_correct(document):\n",
    "    words, tags = document\n",
    "    words = ' '.join(words)\n",
    "    tags = ' '.join(tags)\n",
    "    words = words.split(' ')\n",
    "    tags = tags.split(' ')\n",
    "    return len(words) == len(tags)\n",
    "\n",
    "document_data = list(filter(is_correct, document_data))\n",
    "len(document_data)"
   ]
  },
  {
   "cell_type": "markdown",
   "metadata": {},
   "source": [
    "### To pandas"
   ]
  },
  {
   "cell_type": "code",
   "execution_count": 22,
   "metadata": {},
   "outputs": [],
   "source": [
    "#export\n",
    "def readdf(filename):\n",
    "    ''' read file to dataframe '''\n",
    "    f = open(filename)\n",
    "    data, sentence, label = [], [], []\n",
    "    sentence_idx = 0\n",
    "    for line in f:\n",
    "        if len(line) == 0 or line.startswith('-DOCSTART') or line[0] == \"\\n\":\n",
    "            if len(sentence) > 0:\n",
    "                for word, tag in zip(sentence, label):\n",
    "                    data.append( (word, tag, sentence_idx) )\n",
    "                sentence_idx += 1\n",
    "                sentence, label = [], []\n",
    "            continue\n",
    "        splits = line.split(' ')\n",
    "        sentence.append(splits[0])\n",
    "        label.append(splits[-1][:-1])\n",
    "\n",
    "    if len(sentence) > 0:\n",
    "        for word, tag in zip(sentence, label):\n",
    "            if tag != '':\n",
    "                data.append( (word, tag, sentence_idx) )\n",
    "    return pd.DataFrame(data, columns=['word', 'tag', 'sentence_idx'])"
   ]
  },
  {
   "cell_type": "code",
   "execution_count": 23,
   "metadata": {},
   "outputs": [],
   "source": [
    "# df = readdf('datasets/CONLL2003/valid.txt')\n",
    "# assert df['sentence_idx'].max()+1 == 3250\n",
    "# df = readdf('datasets/CONLL2003/test.txt')\n",
    "# assert df['sentence_idx'].max()+1 == 3453\n",
    "# df = readdf('datasets/CONLL2003/train.txt')\n",
    "# assert df['sentence_idx'].max()+1 == 14041"
   ]
  },
  {
   "cell_type": "code",
   "execution_count": 24,
   "metadata": {},
   "outputs": [
    {
     "data": {
      "text/html": [
       "<div>\n",
       "<style scoped>\n",
       "    .dataframe tbody tr th:only-of-type {\n",
       "        vertical-align: middle;\n",
       "    }\n",
       "\n",
       "    .dataframe tbody tr th {\n",
       "        vertical-align: top;\n",
       "    }\n",
       "\n",
       "    .dataframe thead th {\n",
       "        text-align: right;\n",
       "    }\n",
       "</style>\n",
       "<table border=\"1\" class=\"dataframe\">\n",
       "  <thead>\n",
       "    <tr style=\"text-align: right;\">\n",
       "      <th></th>\n",
       "      <th>sentences</th>\n",
       "      <th>labels</th>\n",
       "      <th>valid</th>\n",
       "    </tr>\n",
       "  </thead>\n",
       "  <tbody>\n",
       "    <tr>\n",
       "      <th>0</th>\n",
       "      <td>a pie thing four quarters sdn bhd 1079369-p no...</td>\n",
       "      <td>O O O B-CMP I-CMP I-CMP I-CMP O B-ADD I-ADD I-...</td>\n",
       "      <td>True</td>\n",
       "    </tr>\n",
       "    <tr>\n",
       "      <th>1</th>\n",
       "      <td>three stooges bistro &amp; cafe 109 ss21/1a damans...</td>\n",
       "      <td>B-CMP I-CMP O O O B-ADD I-ADD I-ADD I-ADD O O ...</td>\n",
       "      <td>True</td>\n",
       "    </tr>\n",
       "    <tr>\n",
       "      <th>2</th>\n",
       "      <td>3 180048 shell isni petro trading company no :...</td>\n",
       "      <td>O O B-CMP I-CMP I-CMP I-CMP O O O O B-ADD I-AD...</td>\n",
       "      <td>True</td>\n",
       "    </tr>\n",
       "    <tr>\n",
       "      <th>3</th>\n",
       "      <td>yam fresh no.145 g jalan rimbunan raya 1 laman...</td>\n",
       "      <td>B-CMP I-CMP B-ADD I-ADD I-ADD I-ADD I-ADD I-AD...</td>\n",
       "      <td>True</td>\n",
       "    </tr>\n",
       "    <tr>\n",
       "      <th>4</th>\n",
       "      <td>gardenia bakeries kl sdn bhd 139386 x lot 3 ja...</td>\n",
       "      <td>B-CMP I-CMP I-CMP I-CMP I-CMP O O B-ADD I-ADD ...</td>\n",
       "      <td>True</td>\n",
       "    </tr>\n",
       "  </tbody>\n",
       "</table>\n",
       "</div>"
      ],
      "text/plain": [
       "                                           sentences  \\\n",
       "0  a pie thing four quarters sdn bhd 1079369-p no...   \n",
       "1  three stooges bistro & cafe 109 ss21/1a damans...   \n",
       "2  3 180048 shell isni petro trading company no :...   \n",
       "3  yam fresh no.145 g jalan rimbunan raya 1 laman...   \n",
       "4  gardenia bakeries kl sdn bhd 139386 x lot 3 ja...   \n",
       "\n",
       "                                              labels  valid  \n",
       "0  O O O B-CMP I-CMP I-CMP I-CMP O B-ADD I-ADD I-...   True  \n",
       "1  B-CMP I-CMP O O O B-ADD I-ADD I-ADD I-ADD O O ...   True  \n",
       "2  O O B-CMP I-CMP I-CMP I-CMP O O O O B-ADD I-AD...   True  \n",
       "3  B-CMP I-CMP B-ADD I-ADD I-ADD I-ADD I-ADD I-AD...   True  \n",
       "4  B-CMP I-CMP I-CMP I-CMP I-CMP O O B-ADD I-ADD ...   True  "
      ]
     },
     "execution_count": 24,
     "metadata": {},
     "output_type": "execute_result"
    }
   ],
   "source": [
    "#export\n",
    "def readdfsentences(document_data, valid_pct=0.2):\n",
    "    data = []\n",
    "    for i,document in enumerate(document_data):\n",
    "        words = [word for word,tag in zip(*document)]\n",
    "        tags = [tag for word,tag in zip(*document)]\n",
    "        data.append( (' '.join(words), ' '.join(tags), len(document_data)*valid_pct > i) )\n",
    "    return pd.DataFrame(data, columns=['sentences', 'labels', 'valid'])\n",
    "\n",
    "d = readdfsentences(document_data)\n",
    "d.head()"
   ]
  },
  {
   "cell_type": "code",
   "execution_count": 25,
   "metadata": {},
   "outputs": [],
   "source": [
    "train_df = readdfsentences(document_data)"
   ]
  },
  {
   "cell_type": "markdown",
   "metadata": {},
   "source": [
    "### Config"
   ]
  },
  {
   "cell_type": "code",
   "execution_count": 26,
   "metadata": {},
   "outputs": [],
   "source": [
    "MODEL_CLASSES = {\n",
    "    'roberta': (RobertaForTokenClassification, RobertaTokenizer, RobertaConfig),\n",
    "    'distilbert': (DistilBertForTokenClassification, DistilBertTokenizer, DistilBertConfig),\n",
    "    'bert': (BertForTokenClassification, BertTokenizer, BertConfig)\n",
    "}"
   ]
  },
  {
   "cell_type": "code",
   "execution_count": 27,
   "metadata": {},
   "outputs": [],
   "source": [
    "# Parameters\n",
    "seed = 42\n",
    "use_fp16 = False\n",
    "bs = 4\n",
    "\n",
    "# model_type = 'roberta'\n",
    "# pretrained_model_name = 'roberta-base' # 'roberta-base-openai-detector'\n",
    "\n",
    "model_type = 'bert'\n",
    "pretrained_model_name='bert-base-uncased'\n",
    "\n",
    "# model_type = 'distilbert'\n",
    "# pretrained_model_name = 'distilbert-base-uncased-distilled-squad'#'distilbert-base-uncased'#'distilbert-base-uncased'"
   ]
  },
  {
   "cell_type": "code",
   "execution_count": 28,
   "metadata": {},
   "outputs": [],
   "source": [
    "model_class, tokenizer_class, config_class = MODEL_CLASSES[model_type]"
   ]
  },
  {
   "cell_type": "code",
   "execution_count": 29,
   "metadata": {},
   "outputs": [
    {
     "data": {
      "text/plain": [
       "dict_keys(['bert-base-uncased', 'bert-large-uncased', 'bert-base-cased', 'bert-large-cased', 'bert-base-multilingual-uncased', 'bert-base-multilingual-cased', 'bert-base-chinese', 'bert-base-german-cased', 'bert-large-uncased-whole-word-masking', 'bert-large-cased-whole-word-masking', 'bert-large-uncased-whole-word-masking-finetuned-squad', 'bert-large-cased-whole-word-masking-finetuned-squad', 'bert-base-cased-finetuned-mrpc', 'bert-base-german-dbmdz-cased', 'bert-base-german-dbmdz-uncased'])"
      ]
     },
     "execution_count": 29,
     "metadata": {},
     "output_type": "execute_result"
    }
   ],
   "source": [
    "model_class.pretrained_model_archive_map.keys()"
   ]
  },
  {
   "cell_type": "code",
   "execution_count": 30,
   "metadata": {},
   "outputs": [],
   "source": [
    "def seed_all(seed_value):\n",
    "    random.seed(seed_value) # Python\n",
    "    np.random.seed(seed_value) # cpu vars\n",
    "    torch.manual_seed(seed_value) # cpu  vars\n",
    "    \n",
    "    if torch.cuda.is_available(): \n",
    "        torch.cuda.manual_seed(seed_value)\n",
    "        torch.cuda.manual_seed_all(seed_value) # gpu vars\n",
    "        torch.backends.cudnn.deterministic = True  #needed\n",
    "        torch.backends.cudnn.benchmark = False"
   ]
  },
  {
   "cell_type": "code",
   "execution_count": 31,
   "metadata": {},
   "outputs": [],
   "source": [
    "seed_all(seed)"
   ]
  },
  {
   "cell_type": "markdown",
   "metadata": {},
   "source": [
    "### Tokenizer"
   ]
  },
  {
   "cell_type": "code",
   "execution_count": 32,
   "metadata": {},
   "outputs": [],
   "source": [
    "# fastai\n",
    "from fastai import *\n",
    "from fastai.text import *\n",
    "from fastai.callbacks import *"
   ]
  },
  {
   "cell_type": "code",
   "execution_count": 33,
   "metadata": {},
   "outputs": [],
   "source": [
    "class TransformersBaseTokenizer(BaseTokenizer):\n",
    "    \"\"\"Wrapper around PreTrainedTokenizer to be compatible with fast.ai\"\"\"\n",
    "    def __init__(self, pretrained_tokenizer: PreTrainedTokenizer, model_type = 'bert', **kwargs):\n",
    "        self._pretrained_tokenizer = pretrained_tokenizer\n",
    "        self.max_seq_len = pretrained_tokenizer.max_len\n",
    "        self.model_type = model_type\n",
    "\n",
    "    def __call__(self, *args, **kwargs): \n",
    "        return self\n",
    "\n",
    "    def tokenizer(self, t:str) -> List[str]:\n",
    "        \"\"\"Limits the maximum sequence length and add the spesial tokens\"\"\"\n",
    "        CLS = self._pretrained_tokenizer.cls_token\n",
    "        SEP = self._pretrained_tokenizer.sep_token\n",
    "        if self.model_type in ['roberta']:\n",
    "            tokens = self._pretrained_tokenizer.tokenize(t, add_prefix_space=True)[:self.max_seq_len - 2]\n",
    "        else:\n",
    "            tokens = self._pretrained_tokenizer.tokenize(t)[:self.max_seq_len - 2]\n",
    "        return [CLS] + tokens + [SEP]"
   ]
  },
  {
   "cell_type": "code",
   "execution_count": 34,
   "metadata": {},
   "outputs": [],
   "source": [
    "transformer_tokenizer = tokenizer_class.from_pretrained(pretrained_model_name)\n",
    "transformer_base_tokenizer = TransformersBaseTokenizer(pretrained_tokenizer = transformer_tokenizer, model_type = model_type)\n",
    "fastai_tokenizer = Tokenizer(tok_func = transformer_base_tokenizer, pre_rules=[], post_rules=[])"
   ]
  },
  {
   "cell_type": "code",
   "execution_count": 35,
   "metadata": {},
   "outputs": [
    {
     "data": {
      "text/plain": [
       "{'vocab_file': {'bert-base-uncased': 'https://s3.amazonaws.com/models.huggingface.co/bert/bert-base-uncased-vocab.txt',\n",
       "  'bert-large-uncased': 'https://s3.amazonaws.com/models.huggingface.co/bert/bert-large-uncased-vocab.txt',\n",
       "  'bert-base-cased': 'https://s3.amazonaws.com/models.huggingface.co/bert/bert-base-cased-vocab.txt',\n",
       "  'bert-large-cased': 'https://s3.amazonaws.com/models.huggingface.co/bert/bert-large-cased-vocab.txt',\n",
       "  'bert-base-multilingual-uncased': 'https://s3.amazonaws.com/models.huggingface.co/bert/bert-base-multilingual-uncased-vocab.txt',\n",
       "  'bert-base-multilingual-cased': 'https://s3.amazonaws.com/models.huggingface.co/bert/bert-base-multilingual-cased-vocab.txt',\n",
       "  'bert-base-chinese': 'https://s3.amazonaws.com/models.huggingface.co/bert/bert-base-chinese-vocab.txt',\n",
       "  'bert-base-german-cased': 'https://int-deepset-models-bert.s3.eu-central-1.amazonaws.com/pytorch/bert-base-german-cased-vocab.txt',\n",
       "  'bert-large-uncased-whole-word-masking': 'https://s3.amazonaws.com/models.huggingface.co/bert/bert-large-uncased-whole-word-masking-vocab.txt',\n",
       "  'bert-large-cased-whole-word-masking': 'https://s3.amazonaws.com/models.huggingface.co/bert/bert-large-cased-whole-word-masking-vocab.txt',\n",
       "  'bert-large-uncased-whole-word-masking-finetuned-squad': 'https://s3.amazonaws.com/models.huggingface.co/bert/bert-large-uncased-whole-word-masking-finetuned-squad-vocab.txt',\n",
       "  'bert-large-cased-whole-word-masking-finetuned-squad': 'https://s3.amazonaws.com/models.huggingface.co/bert/bert-large-cased-whole-word-masking-finetuned-squad-vocab.txt',\n",
       "  'bert-base-cased-finetuned-mrpc': 'https://s3.amazonaws.com/models.huggingface.co/bert/bert-base-cased-finetuned-mrpc-vocab.txt',\n",
       "  'bert-base-german-dbmdz-cased': 'https://s3.amazonaws.com/models.huggingface.co/bert/bert-base-german-dbmdz-cased-vocab.txt',\n",
       "  'bert-base-german-dbmdz-uncased': 'https://s3.amazonaws.com/models.huggingface.co/bert/bert-base-german-dbmdz-uncased-vocab.txt'}}"
      ]
     },
     "execution_count": 35,
     "metadata": {},
     "output_type": "execute_result"
    }
   ],
   "source": [
    "tokenizer_class.pretrained_vocab_files_map"
   ]
  },
  {
   "cell_type": "markdown",
   "metadata": {},
   "source": [
    "### Vocab"
   ]
  },
  {
   "cell_type": "code",
   "execution_count": 36,
   "metadata": {},
   "outputs": [],
   "source": [
    "class TransformersVocab(Vocab):\n",
    "    def __init__(self, tokenizer: PreTrainedTokenizer):\n",
    "        super(TransformersVocab, self).__init__(itos = [])\n",
    "        self.tokenizer = tokenizer\n",
    "    \n",
    "    def numericalize(self, t:Collection[str]) -> List[int]:\n",
    "        \"Convert a list of tokens `t` to their ids.\"\n",
    "        return self.tokenizer.convert_tokens_to_ids(t)\n",
    "        #return self.tokenizer.encode(t)\n",
    "\n",
    "    def textify(self, nums:Collection[int], sep=' ') -> List[str]:\n",
    "        \"Convert a list of `nums` to their tokens.\"\n",
    "        nums = np.array(nums).tolist()\n",
    "        return sep.join(self.tokenizer.convert_ids_to_tokens(nums)) if sep is not None else self.tokenizer.convert_ids_to_tokens(nums)"
   ]
  },
  {
   "cell_type": "code",
   "execution_count": 37,
   "metadata": {},
   "outputs": [],
   "source": [
    "transformer_vocab =  TransformersVocab(tokenizer = transformer_tokenizer)\n",
    "numericalize_processor = NumericalizeProcessor(vocab=transformer_vocab)\n",
    "\n",
    "tokenize_processor = TokenizeProcessor(tokenizer=fastai_tokenizer, include_bos=False, include_eos=False)\n",
    "\n",
    "transformer_processor = [tokenize_processor, numericalize_processor]"
   ]
  },
  {
   "cell_type": "markdown",
   "metadata": {},
   "source": [
    "### Label config"
   ]
  },
  {
   "cell_type": "code",
   "execution_count": 38,
   "metadata": {},
   "outputs": [],
   "source": [
    "PAD_label = '<x>'\n",
    "BOS_label = '<s>'\n",
    "EOS_label = '</s>'\n",
    "\n",
    "labels = [\"O\", \"B-CMP\", \"I-CMP\", \"B-DAT\", \"I-DAT\", \"B-ADD\", \"I-ADD\", \"B-TOT\", \"I-TOT\", BOS_label, EOS_label, PAD_label]"
   ]
  },
  {
   "cell_type": "markdown",
   "metadata": {},
   "source": [
    "### Fix labels (to work for byte encoding)"
   ]
  },
  {
   "cell_type": "code",
   "execution_count": 39,
   "metadata": {},
   "outputs": [
    {
     "data": {
      "text/plain": [
       "['[CLS]', 'hey', '!', 'goodbye', '[SEP]']"
      ]
     },
     "execution_count": 39,
     "metadata": {},
     "output_type": "execute_result"
    }
   ],
   "source": [
    "tokenize_processor.process_one('Hey! \\n Goodbye')"
   ]
  },
  {
   "cell_type": "code",
   "execution_count": 40,
   "metadata": {},
   "outputs": [],
   "source": [
    "def pad_labels(df, PAD='<x>', test_length=False):\n",
    "    total = 0\n",
    "    new_labels = []\n",
    "    for i, (str_sentence, labels) in enumerate(tqdm(zip(df['sentences'], df['labels']), total=len(df['labels']))):\n",
    "        labels = labels.split(' ')\n",
    "        sentence = str_sentence.split(' ')\n",
    "        assert len(sentence) == len(labels)\n",
    "\n",
    "        padded_labels = []\n",
    "        for word, label in zip(sentence, labels):\n",
    "\n",
    "            tokens = tokenize_processor.process_one(word)\n",
    "            tokens = tokens[1:-1] # remove <s> and </s>\n",
    "\n",
    "            padded_labels.extend( [label] + [PAD] * int(len(tokens)-1) )\n",
    "\n",
    "        new_sentence_labels = ' '.join(padded_labels)\n",
    "        new_labels.append(new_sentence_labels)\n",
    "        \n",
    "        if test_length:\n",
    "            tokens = tokenize_processor.process_one(str_sentence)\n",
    "            if len(tokens)-2 != len(new_sentence_labels.split(' ')):\n",
    "                print(i)\n",
    "                print(len(tokens[1:-1]), len(new_sentence_labels.split(' ')))\n",
    "#                 print(tokens[1:-1])\n",
    "#                 print(new_sentence_labels.split(' '))\n",
    "                total += 1\n",
    "#             assert len(tokens)-2 == len(new_sentence_labels.split(' '))\n",
    "\n",
    "    if not test_length:\n",
    "        df['labels'] = new_labels\n",
    "    print(total)"
   ]
  },
  {
   "cell_type": "code",
   "execution_count": 41,
   "metadata": {},
   "outputs": [],
   "source": [
    "# test\n",
    "# pad_labels(train_df, PAD_label, test_length=True)"
   ]
  },
  {
   "cell_type": "code",
   "execution_count": 42,
   "metadata": {},
   "outputs": [],
   "source": [
    "train_df = train_df.drop(53).drop(490)"
   ]
  },
  {
   "cell_type": "code",
   "execution_count": 43,
   "metadata": {},
   "outputs": [
    {
     "name": "stderr",
     "output_type": "stream",
     "text": [
      "100%|██████████| 622/622 [00:39<00:00, 15.76it/s]"
     ]
    },
    {
     "name": "stdout",
     "output_type": "stream",
     "text": [
      "0\n"
     ]
    },
    {
     "name": "stderr",
     "output_type": "stream",
     "text": [
      "\n"
     ]
    }
   ],
   "source": [
    "pad_labels(train_df, PAD_label)"
   ]
  },
  {
   "cell_type": "code",
   "execution_count": 44,
   "metadata": {},
   "outputs": [
    {
     "data": {
      "text/html": [
       "<div>\n",
       "<style scoped>\n",
       "    .dataframe tbody tr th:only-of-type {\n",
       "        vertical-align: middle;\n",
       "    }\n",
       "\n",
       "    .dataframe tbody tr th {\n",
       "        vertical-align: top;\n",
       "    }\n",
       "\n",
       "    .dataframe thead th {\n",
       "        text-align: right;\n",
       "    }\n",
       "</style>\n",
       "<table border=\"1\" class=\"dataframe\">\n",
       "  <thead>\n",
       "    <tr style=\"text-align: right;\">\n",
       "      <th></th>\n",
       "      <th>sentences</th>\n",
       "      <th>labels</th>\n",
       "      <th>valid</th>\n",
       "    </tr>\n",
       "  </thead>\n",
       "  <tbody>\n",
       "    <tr>\n",
       "      <th>0</th>\n",
       "      <td>a pie thing four quarters sdn bhd 1079369-p no...</td>\n",
       "      <td>O O O B-CMP I-CMP I-CMP &lt;x&gt; I-CMP &lt;x&gt; O &lt;x&gt; &lt;x...</td>\n",
       "      <td>True</td>\n",
       "    </tr>\n",
       "    <tr>\n",
       "      <th>1</th>\n",
       "      <td>three stooges bistro &amp; cafe 109 ss21/1a damans...</td>\n",
       "      <td>B-CMP I-CMP &lt;x&gt; &lt;x&gt; O &lt;x&gt; O O B-ADD I-ADD &lt;x&gt; ...</td>\n",
       "      <td>True</td>\n",
       "    </tr>\n",
       "    <tr>\n",
       "      <th>2</th>\n",
       "      <td>3 180048 shell isni petro trading company no :...</td>\n",
       "      <td>O O &lt;x&gt; B-CMP I-CMP &lt;x&gt; I-CMP &lt;x&gt; I-CMP O O O ...</td>\n",
       "      <td>True</td>\n",
       "    </tr>\n",
       "    <tr>\n",
       "      <th>3</th>\n",
       "      <td>yam fresh no.145 g jalan rimbunan raya 1 laman...</td>\n",
       "      <td>B-CMP &lt;x&gt; I-CMP B-ADD &lt;x&gt; &lt;x&gt; I-ADD I-ADD I-AD...</td>\n",
       "      <td>True</td>\n",
       "    </tr>\n",
       "    <tr>\n",
       "      <th>4</th>\n",
       "      <td>gardenia bakeries kl sdn bhd 139386 x lot 3 ja...</td>\n",
       "      <td>B-CMP &lt;x&gt; I-CMP &lt;x&gt; I-CMP &lt;x&gt; I-CMP &lt;x&gt; I-CMP ...</td>\n",
       "      <td>True</td>\n",
       "    </tr>\n",
       "  </tbody>\n",
       "</table>\n",
       "</div>"
      ],
      "text/plain": [
       "                                           sentences  \\\n",
       "0  a pie thing four quarters sdn bhd 1079369-p no...   \n",
       "1  three stooges bistro & cafe 109 ss21/1a damans...   \n",
       "2  3 180048 shell isni petro trading company no :...   \n",
       "3  yam fresh no.145 g jalan rimbunan raya 1 laman...   \n",
       "4  gardenia bakeries kl sdn bhd 139386 x lot 3 ja...   \n",
       "\n",
       "                                              labels  valid  \n",
       "0  O O O B-CMP I-CMP I-CMP <x> I-CMP <x> O <x> <x...   True  \n",
       "1  B-CMP I-CMP <x> <x> O <x> O O B-ADD I-ADD <x> ...   True  \n",
       "2  O O <x> B-CMP I-CMP <x> I-CMP <x> I-CMP O O O ...   True  \n",
       "3  B-CMP <x> I-CMP B-ADD <x> <x> I-ADD I-ADD I-AD...   True  \n",
       "4  B-CMP <x> I-CMP <x> I-CMP <x> I-CMP <x> I-CMP ...   True  "
      ]
     },
     "execution_count": 44,
     "metadata": {},
     "output_type": "execute_result"
    }
   ],
   "source": [
    "train_df.head()"
   ]
  },
  {
   "cell_type": "markdown",
   "metadata": {},
   "source": [
    "### Labels"
   ]
  },
  {
   "cell_type": "code",
   "execution_count": 45,
   "metadata": {},
   "outputs": [],
   "source": [
    "class LabelTokenizer(BaseTokenizer):\n",
    "    \"\"\"Wrapper around PreTrainedTokenizer to be compatible with fast.ai\"\"\"\n",
    "    def __init__(self, max_seq_len=999, **kwargs):\n",
    "        self.max_seq_len = max_seq_len\n",
    "\n",
    "    def __call__(self, *args, **kwargs): \n",
    "        return self\n",
    "\n",
    "    def tokenizer(self, t:str) -> List[str]:\n",
    "        \"\"\"Limits the maximum sequence length and add the spesial tokens\"\"\"\n",
    "        return [BOS_label] + t.split(' ') + [EOS_label]"
   ]
  },
  {
   "cell_type": "code",
   "execution_count": 46,
   "metadata": {},
   "outputs": [],
   "source": [
    "label_tokenizer = Tokenizer(tok_func = LabelTokenizer(), pre_rules=[], post_rules=[])"
   ]
  },
  {
   "cell_type": "code",
   "execution_count": 47,
   "metadata": {},
   "outputs": [],
   "source": [
    "class LabelVocab(Vocab):\n",
    "    def __init__(self, labels):\n",
    "        super().__init__(itos = [])\n",
    "        self.int2str = labels\n",
    "        self.str2int = { s:i for i,s in enumerate(labels) }\n",
    "    \n",
    "    def numericalize(self, t:Collection[str]) -> List[int]:\n",
    "        \"Convert a list of tokens `t` to their ids.\"\n",
    "        return list(map(lambda i: self.str2int[i], t))\n",
    "    \n",
    "    def textify(self, nums:Collection[int], sep=' ') -> List[str]:\n",
    "        \"Convert a list of `nums` to their tokens.\"\n",
    "        nums = np.array(nums).tolist()\n",
    "        return sep.join(list(map(lambda i: self.int2str[i], nums)))"
   ]
  },
  {
   "cell_type": "code",
   "execution_count": 48,
   "metadata": {},
   "outputs": [],
   "source": [
    "def LabelNumericalizeProcessor(ds, **kwargs):\n",
    "    return NumericalizeProcessor(ds, vocab=LabelVocab(labels))"
   ]
  },
  {
   "cell_type": "code",
   "execution_count": 49,
   "metadata": {},
   "outputs": [],
   "source": [
    "def LabelTokenizeProcessor(ds, **kwargs):\n",
    "    return TokenizeProcessor(ds, tokenizer=label_tokenizer, include_bos=False, include_eos=False)"
   ]
  },
  {
   "cell_type": "code",
   "execution_count": 50,
   "metadata": {},
   "outputs": [],
   "source": [
    "class TextLabelList(TextList):\n",
    "    _processor = [LabelTokenizeProcessor, LabelNumericalizeProcessor]"
   ]
  },
  {
   "cell_type": "markdown",
   "metadata": {},
   "source": [
    "### Databunch"
   ]
  },
  {
   "cell_type": "code",
   "execution_count": 51,
   "metadata": {},
   "outputs": [],
   "source": [
    "def seq2seq_collate(samples, pad_idx=1, pad_first=True, backwards=False):\n",
    "    \"Function that collect samples and adds padding. Flips token order if needed\"\n",
    "    samples = to_data(samples)\n",
    "    max_len_x,max_len_y = max([len(s[0]) for s in samples]),max([len(s[1]) for s in samples])\n",
    "    res_x = torch.zeros(len(samples), max_len_x).long() + pad_idx\n",
    "    res_y = torch.zeros(len(samples), max_len_y).long() + pad_idx\n",
    "    if backwards: pad_first = not pad_first\n",
    "    for i,s in enumerate(samples):\n",
    "        if pad_first: \n",
    "            res_x[i,-len(s[0]):],res_y[i,-len(s[1]):] = LongTensor(s[0]),LongTensor(s[1])\n",
    "        else:         \n",
    "            res_x[i,:len(s[0]):],res_y[i,:len(s[1]):] = LongTensor(s[0]),LongTensor(s[1])\n",
    "    if backwards: res_x,res_y = res_x.flip(1),res_y.flip(1)\n",
    "    return res_x,res_y"
   ]
  },
  {
   "cell_type": "code",
   "execution_count": 52,
   "metadata": {},
   "outputs": [],
   "source": [
    "class Seq2SeqDataBunch(TextDataBunch):\n",
    "    \"Create a `TextDataBunch` suitable for training an RNN classifier.\"\n",
    "    @classmethod\n",
    "    def create(cls, train_ds, valid_ds, test_ds=None, path:PathOrStr='.', bs:int=32, val_bs:int=None, pad_idx=1,\n",
    "               dl_tfms=None, pad_first=False, device:torch.device=None, no_check:bool=False, backwards:bool=False, **dl_kwargs) -> DataBunch:\n",
    "        \"Function that transform the `datasets` in a `DataBunch` for classification. Passes `**dl_kwargs` on to `DataLoader()`\"\n",
    "        \n",
    "        datasets = cls._init_ds(train_ds, valid_ds, test_ds)\n",
    "        val_bs = ifnone(val_bs, bs)\n",
    "        collate_fn = partial(seq2seq_collate, pad_idx=pad_idx, pad_first=pad_first, backwards=backwards)\n",
    "        train_sampler = SortishSampler(datasets[0].y, key=lambda t: len(datasets[0][t][0].data), bs=bs//2)\n",
    "        train_dl = DataLoader(datasets[0], batch_size=bs, sampler=train_sampler, drop_last=True, **dl_kwargs)\n",
    "        dataloaders = [train_dl]\n",
    "        for ds in datasets[1:]:\n",
    "            lengths = [len(t) for t in ds.x.items]\n",
    "            sampler = SortSampler(ds.x, key=lengths.__getitem__)\n",
    "            dataloaders.append(DataLoader(ds, batch_size=val_bs, sampler=sampler, **dl_kwargs))\n",
    "        return cls(*dataloaders, path=path, device=device, collate_fn=collate_fn, no_check=no_check)"
   ]
  },
  {
   "cell_type": "code",
   "execution_count": 53,
   "metadata": {},
   "outputs": [],
   "source": [
    "class Seq2SeqTextList(TextList):\n",
    "    _bunch = Seq2SeqDataBunch\n",
    "    _label_cls = TextLabelList"
   ]
  },
  {
   "cell_type": "code",
   "execution_count": 54,
   "metadata": {},
   "outputs": [],
   "source": [
    "pad_first = bool(model_type in ['xlnet'])\n",
    "pad_idx = transformer_tokenizer.pad_token_id"
   ]
  },
  {
   "cell_type": "code",
   "execution_count": 55,
   "metadata": {},
   "outputs": [
    {
     "data": {
      "text/html": [],
      "text/plain": [
       "<IPython.core.display.HTML object>"
      ]
     },
     "metadata": {},
     "output_type": "display_data"
    },
    {
     "data": {
      "text/html": [],
      "text/plain": [
       "<IPython.core.display.HTML object>"
      ]
     },
     "metadata": {},
     "output_type": "display_data"
    },
    {
     "data": {
      "text/html": [],
      "text/plain": [
       "<IPython.core.display.HTML object>"
      ]
     },
     "metadata": {},
     "output_type": "display_data"
    },
    {
     "data": {
      "text/html": [],
      "text/plain": [
       "<IPython.core.display.HTML object>"
      ]
     },
     "metadata": {},
     "output_type": "display_data"
    }
   ],
   "source": [
    "data = (Seq2SeqTextList.from_df(train_df, cols='sentences', processor=transformer_processor)\n",
    "       .split_from_df(col='valid')\n",
    "       .label_from_df(cols='labels', label_cls=TextLabelList)\n",
    "       .databunch(bs=bs, pad_first=pad_first, pad_idx=pad_idx))"
   ]
  },
  {
   "cell_type": "code",
   "execution_count": 56,
   "metadata": {},
   "outputs": [],
   "source": [
    "# # NOTE: this is more of a hack for getting metrics on test dataset\n",
    "# # usage: validate_learner(learner, test_dl, metrics=[f1, acc])\n",
    "# # returns \n",
    "# temp = test_df[:31].copy()\n",
    "# temp['test'] = False\n",
    "# test_df['test'] = True\n",
    "\n",
    "# test_df_fastai = pd.concat([test_df, temp])\n",
    "\n",
    "# # Note: test data is saved in 'data_test' as valid data (this can be confusing)\n",
    "# data_test = (Seq2SeqTextList.from_df(test_df_fastai, cols='sentences', processor=transformer_processor)\n",
    "#            .split_from_df(col='test')\n",
    "#            .label_from_df(cols='labels', label_cls=TextLabelList)\n",
    "#            .databunch(bs=bs, pad_first=pad_first, pad_idx=pad_idx))\n",
    "\n",
    "# # use only this var: (ex below)\n",
    "# test_dl = data_test.valid_dl \n",
    "# # validate_learner(learner, test_dl, metrics=[f1, acc])\n",
    "\n",
    "# def validate_learner(learner, dataloader, metrics):\n",
    "#     class Temp:\n",
    "#         def update_graph(*args):\n",
    "#             pass\n",
    "    \n",
    "#     learner.losses = [0]\n",
    "#     learner.nb_batches = [0]\n",
    "#     learner.val_losses = [0]\n",
    "#     learner.pbar = Temp()\n",
    "#     out = learner.validate(dataloader, callbacks=[], metrics=metrics)\n",
    "#     return out[1:]"
   ]
  },
  {
   "cell_type": "code",
   "execution_count": 57,
   "metadata": {},
   "outputs": [
    {
     "name": "stdout",
     "output_type": "stream",
     "text": [
      "(191, 191)\n"
     ]
    },
    {
     "data": {
      "text/plain": [
       "('[CLS] dig ##i telecommunications sd ##n b ##hd 2012 ##8 ##3 - m lot l ##g 315 1 - uta ##ma shopping centre le ##bu ##h banda ##r uta ##ma - banda ##r uta ##ma pet ##aling jaya 47 ##80 ##0 selangor tax in ##vo ##ice gs ##t reg number : 001 ##21 ##19 ##57 ##24 ##8 13 / 10 / 2017 12 : 35 po ##s log ##in i d : d ##mg ##r ##34 ##01 ##3 store name : ds ##00 ##1 - bp ##00 ##9 oscar colour lab & telecommunication sd ##n b ##hd 52 ##38 ##47 - w bill payment paid amount 234 . 40 sub total amount 234 . 40 total amount 234 . 40 credit card 234 . 40 credit card no . : xx ##xx xx ##xx xx ##xx 69 ##7 ##4 total amount collected 234 . 40 customer name : lim rue ##y ch ##yi mobile no : 60 ##14 ##31 ##49 ##31 ##9 account no : 1000 ##00 ##45 ##8 ##7 ##10 ##4 customer copy thank you have a nice day 340 ##13 ##00 ##19 ##29 ##12 ##01 ##7 ##10 ##13 [SEP]',\n",
       " '<s> B-CMP <x> I-CMP I-CMP <x> I-CMP <x> O <x> <x> <x> <x> B-ADD I-ADD <x> I-ADD I-ADD <x> <x> <x> I-ADD I-ADD I-ADD <x> <x> I-ADD <x> I-ADD <x> I-ADD I-ADD <x> I-ADD <x> I-ADD <x> I-ADD I-ADD <x> <x> I-ADD O O <x> <x> O <x> O O O O <x> <x> <x> <x> <x> B-DAT <x> <x> <x> <x> O <x> <x> O <x> O <x> O O O O <x> <x> <x> <x> <x> O O O O <x> <x> <x> <x> <x> <x> O O O O O I-CMP <x> I-CMP <x> O <x> <x> <x> <x> O O O O B-TOT <x> <x> O O O B-TOT <x> <x> O O B-TOT <x> <x> O O B-TOT <x> <x> O O O <x> <x> <x> <x> O <x> O <x> O <x> <x> O O O B-TOT <x> <x> O O O O O <x> O <x> O O O O <x> <x> <x> <x> <x> O O O O <x> <x> <x> <x> <x> <x> O O O O O O O O O <x> <x> <x> <x> <x> <x> <x> <x> <x> </s>')"
      ]
     },
     "execution_count": 57,
     "metadata": {},
     "output_type": "execute_result"
    }
   ],
   "source": [
    "i = 2\n",
    "print((len(data.train_ds[i][0].data), len(data.train_ds[i][1].data)))\n",
    "data.train_ds[i][0].text, data.train_ds[i][1].text"
   ]
  },
  {
   "cell_type": "code",
   "execution_count": 58,
   "metadata": {},
   "outputs": [
    {
     "name": "stdout",
     "output_type": "stream",
     "text": [
      "(array([  101, 10667,  2072, 12108, ...,  2581, 10790, 17134,   102]), array([ 9,  1, 11,  2, ..., 11, 11, 11, 10]))\n"
     ]
    }
   ],
   "source": [
    "print((data.train_ds[i][0].data, data.train_ds[i][1].data))"
   ]
  },
  {
   "cell_type": "code",
   "execution_count": 59,
   "metadata": {},
   "outputs": [],
   "source": [
    "# print('[CLS] id :', transformer_tokenizer.cls_token_id)\n",
    "# print('[SEP] id :', transformer_tokenizer.sep_token_id)\n",
    "# print('[PAD] id :', pad_idx)\n",
    "# test_one_batch = data.one_batch()[0]\n",
    "# print('Batch shape : ',test_one_batch.shape)\n",
    "# print(test_one_batch)"
   ]
  },
  {
   "cell_type": "code",
   "execution_count": 60,
   "metadata": {},
   "outputs": [],
   "source": [
    "# a = test_one_batch\n",
    "# a[1]"
   ]
  },
  {
   "cell_type": "markdown",
   "metadata": {},
   "source": [
    "### Model & Learner"
   ]
  },
  {
   "cell_type": "code",
   "execution_count": 61,
   "metadata": {},
   "outputs": [],
   "source": [
    "# defining our model architecture \n",
    "class CustomTransformerModel(nn.Module):\n",
    "    def __init__(self, transformer_model: PreTrainedModel):\n",
    "        super(CustomTransformerModel,self).__init__()\n",
    "        self.transformer = transformer_model\n",
    "        \n",
    "    def forward(self, input_ids, attention_mask=None):\n",
    "        # input_ids: [b,s] s - words in sentence\n",
    "        \n",
    "#         attention_mask = (input_ids!=1).type(input_ids.type()) # Test attention_mask for RoBERTa\n",
    "        \n",
    "        out = self.transformer(input_ids, attention_mask = attention_mask)\n",
    "        logits = out[0] # [b,s,C]\n",
    "        return logits"
   ]
  },
  {
   "cell_type": "code",
   "execution_count": 62,
   "metadata": {},
   "outputs": [
    {
     "name": "stdout",
     "output_type": "stream",
     "text": [
      "{\n",
      "  \"attention_probs_dropout_prob\": 0.1,\n",
      "  \"finetuning_task\": null,\n",
      "  \"hidden_act\": \"gelu\",\n",
      "  \"hidden_dropout_prob\": 0.1,\n",
      "  \"hidden_size\": 768,\n",
      "  \"initializer_range\": 0.02,\n",
      "  \"intermediate_size\": 3072,\n",
      "  \"is_decoder\": false,\n",
      "  \"layer_norm_eps\": 1e-12,\n",
      "  \"max_position_embeddings\": 512,\n",
      "  \"num_attention_heads\": 12,\n",
      "  \"num_hidden_layers\": 12,\n",
      "  \"num_labels\": 9,\n",
      "  \"output_attentions\": false,\n",
      "  \"output_hidden_states\": false,\n",
      "  \"output_past\": true,\n",
      "  \"pruned_heads\": {},\n",
      "  \"torchscript\": false,\n",
      "  \"type_vocab_size\": 2,\n",
      "  \"use_bfloat16\": false,\n",
      "  \"vocab_size\": 30522\n",
      "}\n",
      "\n"
     ]
    }
   ],
   "source": [
    "config = config_class.from_pretrained(pretrained_model_name)\n",
    "config.num_labels = len(labels) - 3 # <s>, </s>, <x>\n",
    "config.use_bfloat16 = use_fp16\n",
    "print(config)"
   ]
  },
  {
   "cell_type": "code",
   "execution_count": 63,
   "metadata": {},
   "outputs": [],
   "source": [
    "transformer_model = model_class.from_pretrained(pretrained_model_name, config = config)\n",
    "\n",
    "custom_transformer_model = CustomTransformerModel(transformer_model = transformer_model)"
   ]
  },
  {
   "cell_type": "code",
   "execution_count": 64,
   "metadata": {},
   "outputs": [
    {
     "data": {
      "text/plain": [
       "Linear(in_features=768, out_features=9, bias=True)"
      ]
     },
     "execution_count": 64,
     "metadata": {},
     "output_type": "execute_result"
    }
   ],
   "source": [
    "custom_transformer_model.transformer.classifier"
   ]
  },
  {
   "cell_type": "code",
   "execution_count": 65,
   "metadata": {},
   "outputs": [],
   "source": [
    "pad_nr = labels.index(PAD_label)\n",
    "bos_nr = labels.index(BOS_label)\n",
    "eos_nr = labels.index(EOS_label)\n",
    "\n",
    "def f1(y_pred, y_true):\n",
    "    y_pred = torch.argmax(y_pred, dim=-1).view(-1)\n",
    "    y_true = y_true.view(-1)\n",
    "    mask = (y_true != pad_nr) * (y_true != bos_nr) * (y_true != eos_nr)\n",
    "    y_true = list(map(lambda x: labels[x], y_true[mask]))\n",
    "    y_pred = list(map(lambda x: labels[x], y_pred[mask]))\n",
    "    return torch.tensor(f1_score(y_true, y_pred))\n",
    "\n",
    "def acc(y_pred, y_true):\n",
    "    y_pred = torch.argmax(y_pred, dim=-1).view(-1)\n",
    "    y_true = y_true.view(-1)\n",
    "    mask = (y_true != pad_nr) * (y_true != bos_nr) * (y_true != eos_nr)\n",
    "    y_true = list(map(lambda x: labels[x], y_true[mask]))\n",
    "    y_pred = list(map(lambda x: labels[x], y_pred[mask]))\n",
    "    return torch.tensor(accuracy_score(y_true, y_pred))"
   ]
  },
  {
   "cell_type": "code",
   "execution_count": 66,
   "metadata": {},
   "outputs": [],
   "source": [
    "loss = CrossEntropyFlat()\n",
    "def Loss(y_pred, y_true):\n",
    "    mask = (y_true != pad_nr) * (y_true != bos_nr) * (y_true != eos_nr)\n",
    "#     print(mask.shape, y_pred.shape, y_true.shape)\n",
    "    return loss(y_pred[mask], y_true[mask])"
   ]
  },
  {
   "cell_type": "code",
   "execution_count": 67,
   "metadata": {},
   "outputs": [],
   "source": [
    "from fastai.callbacks import *\n",
    "from transformers import AdamW\n",
    "\n",
    "learner = Learner(data, custom_transformer_model, loss_func=Loss,\n",
    "                  opt_func = lambda input_: AdamW(input_, correct_bias=False), \n",
    "                  metrics=[f1, acc])\n",
    "\n",
    "# Show graph of learner stats and metrics after each epoch.\n",
    "learner.callbacks.append(ShowGraph(learner))\n",
    "\n",
    "# Put learn in FP16 precision mode. --> Seems to not working\n",
    "if use_fp16: learner = learner.to_fp16()"
   ]
  },
  {
   "cell_type": "code",
   "execution_count": 68,
   "metadata": {},
   "outputs": [],
   "source": [
    "# print(learner.model)"
   ]
  },
  {
   "cell_type": "code",
   "execution_count": 69,
   "metadata": {},
   "outputs": [
    {
     "name": "stdout",
     "output_type": "stream",
     "text": [
      "Learner split in 15 groups\n"
     ]
    }
   ],
   "source": [
    "model_type = 'bert'\n",
    "if model_type == 'roberta': # For roberta-base\n",
    "    list_layers = [learner.model.transformer.roberta.embeddings,\n",
    "                  learner.model.transformer.roberta.encoder.layer[0],\n",
    "                  learner.model.transformer.roberta.encoder.layer[1],\n",
    "                  learner.model.transformer.roberta.encoder.layer[2],\n",
    "                  learner.model.transformer.roberta.encoder.layer[3],\n",
    "                  learner.model.transformer.roberta.encoder.layer[4],\n",
    "                  learner.model.transformer.roberta.encoder.layer[5],\n",
    "                  learner.model.transformer.roberta.encoder.layer[6],\n",
    "                  learner.model.transformer.roberta.encoder.layer[7],\n",
    "                  learner.model.transformer.roberta.encoder.layer[8],\n",
    "                  learner.model.transformer.roberta.encoder.layer[9],\n",
    "                  learner.model.transformer.roberta.encoder.layer[10],\n",
    "                  learner.model.transformer.roberta.encoder.layer[11],\n",
    "                  learner.model.transformer.roberta.pooler,\n",
    "                  learner.model.transformer.classifier]\n",
    "    \n",
    "elif model_type == 'bert':\n",
    "    list_layers = [learner.model.transformer.bert.embeddings,\n",
    "                  learner.model.transformer.bert.encoder.layer[0],\n",
    "                  learner.model.transformer.bert.encoder.layer[1],\n",
    "                  learner.model.transformer.bert.encoder.layer[2],\n",
    "                  learner.model.transformer.bert.encoder.layer[3],\n",
    "                  learner.model.transformer.bert.encoder.layer[4],\n",
    "                  learner.model.transformer.bert.encoder.layer[5],\n",
    "                  learner.model.transformer.bert.encoder.layer[6],\n",
    "                  learner.model.transformer.bert.encoder.layer[7],\n",
    "                  learner.model.transformer.bert.encoder.layer[8],\n",
    "                  learner.model.transformer.bert.encoder.layer[9],\n",
    "                  learner.model.transformer.bert.encoder.layer[10],\n",
    "                  learner.model.transformer.bert.encoder.layer[11],\n",
    "                  learner.model.transformer.bert.pooler,\n",
    "                  learner.model.transformer.classifier]\n",
    "\n",
    "elif model_type == 'distilbert':\n",
    "    list_layers = [learner.model.transformer.distilbert.embeddings,\n",
    "                   learner.model.transformer.distilbert.transformer.layer[0],\n",
    "                   learner.model.transformer.distilbert.transformer.layer[1],\n",
    "                   learner.model.transformer.distilbert.transformer.layer[2],\n",
    "                   learner.model.transformer.distilbert.transformer.layer[3],\n",
    "                   learner.model.transformer.distilbert.transformer.layer[4],\n",
    "                   learner.model.transformer.distilbert.transformer.layer[5],\n",
    "                   learner.model.transformer.classifier]\n",
    "\n",
    "learner.split(list_layers)\n",
    "num_groups = len(learner.layer_groups)\n",
    "print('Learner split in',num_groups,'groups')\n",
    "# print(learner.layer_groups)"
   ]
  },
  {
   "cell_type": "code",
   "execution_count": 70,
   "metadata": {},
   "outputs": [
    {
     "data": {
      "text/plain": [
       "[Sequential(\n",
       "   (0): Embedding(30522, 768, padding_idx=0)\n",
       "   (1): Embedding(512, 768)\n",
       "   (2): Embedding(2, 768)\n",
       "   (3): LayerNorm((768,), eps=1e-12, elementwise_affine=True)\n",
       "   (4): Dropout(p=0.1, inplace=False)\n",
       " ), Sequential(\n",
       "   (0): Linear(in_features=768, out_features=768, bias=True)\n",
       "   (1): Linear(in_features=768, out_features=768, bias=True)\n",
       "   (2): Linear(in_features=768, out_features=768, bias=True)\n",
       "   (3): Dropout(p=0.1, inplace=False)\n",
       "   (4): Linear(in_features=768, out_features=768, bias=True)\n",
       "   (5): LayerNorm((768,), eps=1e-12, elementwise_affine=True)\n",
       "   (6): Dropout(p=0.1, inplace=False)\n",
       "   (7): Linear(in_features=768, out_features=3072, bias=True)\n",
       "   (8): Linear(in_features=3072, out_features=768, bias=True)\n",
       "   (9): LayerNorm((768,), eps=1e-12, elementwise_affine=True)\n",
       "   (10): Dropout(p=0.1, inplace=False)\n",
       " ), Sequential(\n",
       "   (0): Linear(in_features=768, out_features=768, bias=True)\n",
       "   (1): Linear(in_features=768, out_features=768, bias=True)\n",
       "   (2): Linear(in_features=768, out_features=768, bias=True)\n",
       "   (3): Dropout(p=0.1, inplace=False)\n",
       "   (4): Linear(in_features=768, out_features=768, bias=True)\n",
       "   (5): LayerNorm((768,), eps=1e-12, elementwise_affine=True)\n",
       "   (6): Dropout(p=0.1, inplace=False)\n",
       "   (7): Linear(in_features=768, out_features=3072, bias=True)\n",
       "   (8): Linear(in_features=3072, out_features=768, bias=True)\n",
       "   (9): LayerNorm((768,), eps=1e-12, elementwise_affine=True)\n",
       "   (10): Dropout(p=0.1, inplace=False)\n",
       " ), Sequential(\n",
       "   (0): Linear(in_features=768, out_features=768, bias=True)\n",
       "   (1): Linear(in_features=768, out_features=768, bias=True)\n",
       "   (2): Linear(in_features=768, out_features=768, bias=True)\n",
       "   (3): Dropout(p=0.1, inplace=False)\n",
       "   (4): Linear(in_features=768, out_features=768, bias=True)\n",
       "   (5): LayerNorm((768,), eps=1e-12, elementwise_affine=True)\n",
       "   (6): Dropout(p=0.1, inplace=False)\n",
       "   (7): Linear(in_features=768, out_features=3072, bias=True)\n",
       "   (8): Linear(in_features=3072, out_features=768, bias=True)\n",
       "   (9): LayerNorm((768,), eps=1e-12, elementwise_affine=True)\n",
       "   (10): Dropout(p=0.1, inplace=False)\n",
       " ), Sequential(\n",
       "   (0): Linear(in_features=768, out_features=768, bias=True)\n",
       "   (1): Linear(in_features=768, out_features=768, bias=True)\n",
       "   (2): Linear(in_features=768, out_features=768, bias=True)\n",
       "   (3): Dropout(p=0.1, inplace=False)\n",
       "   (4): Linear(in_features=768, out_features=768, bias=True)\n",
       "   (5): LayerNorm((768,), eps=1e-12, elementwise_affine=True)\n",
       "   (6): Dropout(p=0.1, inplace=False)\n",
       "   (7): Linear(in_features=768, out_features=3072, bias=True)\n",
       "   (8): Linear(in_features=3072, out_features=768, bias=True)\n",
       "   (9): LayerNorm((768,), eps=1e-12, elementwise_affine=True)\n",
       "   (10): Dropout(p=0.1, inplace=False)\n",
       " ), Sequential(\n",
       "   (0): Linear(in_features=768, out_features=768, bias=True)\n",
       "   (1): Linear(in_features=768, out_features=768, bias=True)\n",
       "   (2): Linear(in_features=768, out_features=768, bias=True)\n",
       "   (3): Dropout(p=0.1, inplace=False)\n",
       "   (4): Linear(in_features=768, out_features=768, bias=True)\n",
       "   (5): LayerNorm((768,), eps=1e-12, elementwise_affine=True)\n",
       "   (6): Dropout(p=0.1, inplace=False)\n",
       "   (7): Linear(in_features=768, out_features=3072, bias=True)\n",
       "   (8): Linear(in_features=3072, out_features=768, bias=True)\n",
       "   (9): LayerNorm((768,), eps=1e-12, elementwise_affine=True)\n",
       "   (10): Dropout(p=0.1, inplace=False)\n",
       " ), Sequential(\n",
       "   (0): Linear(in_features=768, out_features=768, bias=True)\n",
       "   (1): Linear(in_features=768, out_features=768, bias=True)\n",
       "   (2): Linear(in_features=768, out_features=768, bias=True)\n",
       "   (3): Dropout(p=0.1, inplace=False)\n",
       "   (4): Linear(in_features=768, out_features=768, bias=True)\n",
       "   (5): LayerNorm((768,), eps=1e-12, elementwise_affine=True)\n",
       "   (6): Dropout(p=0.1, inplace=False)\n",
       "   (7): Linear(in_features=768, out_features=3072, bias=True)\n",
       "   (8): Linear(in_features=3072, out_features=768, bias=True)\n",
       "   (9): LayerNorm((768,), eps=1e-12, elementwise_affine=True)\n",
       "   (10): Dropout(p=0.1, inplace=False)\n",
       " ), Sequential(\n",
       "   (0): Linear(in_features=768, out_features=768, bias=True)\n",
       "   (1): Linear(in_features=768, out_features=768, bias=True)\n",
       "   (2): Linear(in_features=768, out_features=768, bias=True)\n",
       "   (3): Dropout(p=0.1, inplace=False)\n",
       "   (4): Linear(in_features=768, out_features=768, bias=True)\n",
       "   (5): LayerNorm((768,), eps=1e-12, elementwise_affine=True)\n",
       "   (6): Dropout(p=0.1, inplace=False)\n",
       "   (7): Linear(in_features=768, out_features=3072, bias=True)\n",
       "   (8): Linear(in_features=3072, out_features=768, bias=True)\n",
       "   (9): LayerNorm((768,), eps=1e-12, elementwise_affine=True)\n",
       "   (10): Dropout(p=0.1, inplace=False)\n",
       " ), Sequential(\n",
       "   (0): Linear(in_features=768, out_features=768, bias=True)\n",
       "   (1): Linear(in_features=768, out_features=768, bias=True)\n",
       "   (2): Linear(in_features=768, out_features=768, bias=True)\n",
       "   (3): Dropout(p=0.1, inplace=False)\n",
       "   (4): Linear(in_features=768, out_features=768, bias=True)\n",
       "   (5): LayerNorm((768,), eps=1e-12, elementwise_affine=True)\n",
       "   (6): Dropout(p=0.1, inplace=False)\n",
       "   (7): Linear(in_features=768, out_features=3072, bias=True)\n",
       "   (8): Linear(in_features=3072, out_features=768, bias=True)\n",
       "   (9): LayerNorm((768,), eps=1e-12, elementwise_affine=True)\n",
       "   (10): Dropout(p=0.1, inplace=False)\n",
       " ), Sequential(\n",
       "   (0): Linear(in_features=768, out_features=768, bias=True)\n",
       "   (1): Linear(in_features=768, out_features=768, bias=True)\n",
       "   (2): Linear(in_features=768, out_features=768, bias=True)\n",
       "   (3): Dropout(p=0.1, inplace=False)\n",
       "   (4): Linear(in_features=768, out_features=768, bias=True)\n",
       "   (5): LayerNorm((768,), eps=1e-12, elementwise_affine=True)\n",
       "   (6): Dropout(p=0.1, inplace=False)\n",
       "   (7): Linear(in_features=768, out_features=3072, bias=True)\n",
       "   (8): Linear(in_features=3072, out_features=768, bias=True)\n",
       "   (9): LayerNorm((768,), eps=1e-12, elementwise_affine=True)\n",
       "   (10): Dropout(p=0.1, inplace=False)\n",
       " ), Sequential(\n",
       "   (0): Linear(in_features=768, out_features=768, bias=True)\n",
       "   (1): Linear(in_features=768, out_features=768, bias=True)\n",
       "   (2): Linear(in_features=768, out_features=768, bias=True)\n",
       "   (3): Dropout(p=0.1, inplace=False)\n",
       "   (4): Linear(in_features=768, out_features=768, bias=True)\n",
       "   (5): LayerNorm((768,), eps=1e-12, elementwise_affine=True)\n",
       "   (6): Dropout(p=0.1, inplace=False)\n",
       "   (7): Linear(in_features=768, out_features=3072, bias=True)\n",
       "   (8): Linear(in_features=3072, out_features=768, bias=True)\n",
       "   (9): LayerNorm((768,), eps=1e-12, elementwise_affine=True)\n",
       "   (10): Dropout(p=0.1, inplace=False)\n",
       " ), Sequential(\n",
       "   (0): Linear(in_features=768, out_features=768, bias=True)\n",
       "   (1): Linear(in_features=768, out_features=768, bias=True)\n",
       "   (2): Linear(in_features=768, out_features=768, bias=True)\n",
       "   (3): Dropout(p=0.1, inplace=False)\n",
       "   (4): Linear(in_features=768, out_features=768, bias=True)\n",
       "   (5): LayerNorm((768,), eps=1e-12, elementwise_affine=True)\n",
       "   (6): Dropout(p=0.1, inplace=False)\n",
       "   (7): Linear(in_features=768, out_features=3072, bias=True)\n",
       "   (8): Linear(in_features=3072, out_features=768, bias=True)\n",
       "   (9): LayerNorm((768,), eps=1e-12, elementwise_affine=True)\n",
       "   (10): Dropout(p=0.1, inplace=False)\n",
       " ), Sequential(\n",
       "   (0): Linear(in_features=768, out_features=768, bias=True)\n",
       "   (1): Linear(in_features=768, out_features=768, bias=True)\n",
       "   (2): Linear(in_features=768, out_features=768, bias=True)\n",
       "   (3): Dropout(p=0.1, inplace=False)\n",
       "   (4): Linear(in_features=768, out_features=768, bias=True)\n",
       "   (5): LayerNorm((768,), eps=1e-12, elementwise_affine=True)\n",
       "   (6): Dropout(p=0.1, inplace=False)\n",
       "   (7): Linear(in_features=768, out_features=3072, bias=True)\n",
       "   (8): Linear(in_features=3072, out_features=768, bias=True)\n",
       "   (9): LayerNorm((768,), eps=1e-12, elementwise_affine=True)\n",
       "   (10): Dropout(p=0.1, inplace=False)\n",
       " ), Sequential(\n",
       "   (0): Linear(in_features=768, out_features=768, bias=True)\n",
       "   (1): Tanh()\n",
       "   (2): Dropout(p=0.1, inplace=False)\n",
       " ), Sequential(\n",
       "   (0): Linear(in_features=768, out_features=9, bias=True)\n",
       " )]"
      ]
     },
     "execution_count": 70,
     "metadata": {},
     "output_type": "execute_result"
    }
   ],
   "source": [
    "learner.layer_groups"
   ]
  },
  {
   "cell_type": "markdown",
   "metadata": {},
   "source": [
    "### Training"
   ]
  },
  {
   "cell_type": "markdown",
   "metadata": {},
   "source": [
    "#### -1 layers"
   ]
  },
  {
   "cell_type": "code",
   "execution_count": 71,
   "metadata": {},
   "outputs": [],
   "source": [
    "learner.freeze_to(-1)\n",
    "# learner.summary()"
   ]
  },
  {
   "cell_type": "code",
   "execution_count": 72,
   "metadata": {},
   "outputs": [
    {
     "data": {
      "text/html": [
       "<table border=\"1\" class=\"dataframe\">\n",
       "  <thead>\n",
       "    <tr style=\"text-align: left;\">\n",
       "      <th>epoch</th>\n",
       "      <th>train_loss</th>\n",
       "      <th>valid_loss</th>\n",
       "      <th>f1</th>\n",
       "      <th>acc</th>\n",
       "      <th>time</th>\n",
       "    </tr>\n",
       "  </thead>\n",
       "  <tbody>\n",
       "    <tr>\n",
       "      <td>0</td>\n",
       "      <td>0.303594</td>\n",
       "      <td>0.268905</td>\n",
       "      <td>0.376858</td>\n",
       "      <td>0.914834</td>\n",
       "      <td>00:09</td>\n",
       "    </tr>\n",
       "  </tbody>\n",
       "</table>"
      ],
      "text/plain": [
       "<IPython.core.display.HTML object>"
      ]
     },
     "metadata": {},
     "output_type": "display_data"
    },
    {
     "data": {
      "image/png": "[encoded data removed]",
      "text/plain": [
       "<Figure size 432x288 with 1 Axes>"
      ]
     },
     "metadata": {},
     "output_type": "display_data"
    }
   ],
   "source": [
    "lr = 1e-3\n",
    "learner.fit_one_cycle(1, max_lr=lr, moms=(0.8, 0.9))"
   ]
  },
  {
   "cell_type": "code",
   "execution_count": 73,
   "metadata": {},
   "outputs": [
    {
     "data": {
      "text/html": [
       "<table border=\"1\" class=\"dataframe\">\n",
       "  <thead>\n",
       "    <tr style=\"text-align: left;\">\n",
       "      <th>epoch</th>\n",
       "      <th>train_loss</th>\n",
       "      <th>valid_loss</th>\n",
       "      <th>f1</th>\n",
       "      <th>acc</th>\n",
       "      <th>time</th>\n",
       "    </tr>\n",
       "  </thead>\n",
       "  <tbody>\n",
       "    <tr>\n",
       "      <td>0</td>\n",
       "      <td>0.227101</td>\n",
       "      <td>0.242183</td>\n",
       "      <td>0.402093</td>\n",
       "      <td>0.921307</td>\n",
       "      <td>00:09</td>\n",
       "    </tr>\n",
       "    <tr>\n",
       "      <td>1</td>\n",
       "      <td>0.204657</td>\n",
       "      <td>0.206073</td>\n",
       "      <td>0.474374</td>\n",
       "      <td>0.932313</td>\n",
       "      <td>00:09</td>\n",
       "    </tr>\n",
       "    <tr>\n",
       "      <td>2</td>\n",
       "      <td>0.188243</td>\n",
       "      <td>0.193783</td>\n",
       "      <td>0.501980</td>\n",
       "      <td>0.934543</td>\n",
       "      <td>00:09</td>\n",
       "    </tr>\n",
       "    <tr>\n",
       "      <td>3</td>\n",
       "      <td>0.173894</td>\n",
       "      <td>0.187132</td>\n",
       "      <td>0.530122</td>\n",
       "      <td>0.938409</td>\n",
       "      <td>00:09</td>\n",
       "    </tr>\n",
       "    <tr>\n",
       "      <td>4</td>\n",
       "      <td>0.169298</td>\n",
       "      <td>0.186832</td>\n",
       "      <td>0.533086</td>\n",
       "      <td>0.938349</td>\n",
       "      <td>00:09</td>\n",
       "    </tr>\n",
       "  </tbody>\n",
       "</table>"
      ],
      "text/plain": [
       "<IPython.core.display.HTML object>"
      ]
     },
     "metadata": {},
     "output_type": "display_data"
    },
    {
     "data": {
      "image/png": "[encoded data removed]",
      "text/plain": [
       "<Figure size 432x288 with 1 Axes>"
      ]
     },
     "metadata": {},
     "output_type": "display_data"
    }
   ],
   "source": [
    "learner.fit_one_cycle(5, max_lr=lr, moms=(0.8, 0.9))"
   ]
  },
  {
   "cell_type": "markdown",
   "metadata": {},
   "source": [
    "#### -4 layers"
   ]
  },
  {
   "cell_type": "code",
   "execution_count": 76,
   "metadata": {},
   "outputs": [],
   "source": [
    "learner.freeze_to(-4)"
   ]
  },
  {
   "cell_type": "code",
   "execution_count": 77,
   "metadata": {},
   "outputs": [
    {
     "data": {
      "text/html": [
       "<table border=\"1\" class=\"dataframe\">\n",
       "  <thead>\n",
       "    <tr style=\"text-align: left;\">\n",
       "      <th>epoch</th>\n",
       "      <th>train_loss</th>\n",
       "      <th>valid_loss</th>\n",
       "      <th>f1</th>\n",
       "      <th>acc</th>\n",
       "      <th>time</th>\n",
       "    </tr>\n",
       "  </thead>\n",
       "  <tbody>\n",
       "    <tr>\n",
       "      <td>0</td>\n",
       "      <td>0.153758</td>\n",
       "      <td>0.150119</td>\n",
       "      <td>0.607336</td>\n",
       "      <td>0.949056</td>\n",
       "      <td>00:11</td>\n",
       "    </tr>\n",
       "    <tr>\n",
       "      <td>1</td>\n",
       "      <td>0.130194</td>\n",
       "      <td>0.128725</td>\n",
       "      <td>0.687856</td>\n",
       "      <td>0.959719</td>\n",
       "      <td>00:11</td>\n",
       "    </tr>\n",
       "    <tr>\n",
       "      <td>2</td>\n",
       "      <td>0.107350</td>\n",
       "      <td>0.117642</td>\n",
       "      <td>0.723018</td>\n",
       "      <td>0.961782</td>\n",
       "      <td>00:11</td>\n",
       "    </tr>\n",
       "    <tr>\n",
       "      <td>3</td>\n",
       "      <td>0.088011</td>\n",
       "      <td>0.112916</td>\n",
       "      <td>0.757273</td>\n",
       "      <td>0.964184</td>\n",
       "      <td>00:11</td>\n",
       "    </tr>\n",
       "    <tr>\n",
       "      <td>4</td>\n",
       "      <td>0.068872</td>\n",
       "      <td>0.095350</td>\n",
       "      <td>0.761576</td>\n",
       "      <td>0.969258</td>\n",
       "      <td>00:11</td>\n",
       "    </tr>\n",
       "    <tr>\n",
       "      <td>5</td>\n",
       "      <td>0.049968</td>\n",
       "      <td>0.086904</td>\n",
       "      <td>0.790555</td>\n",
       "      <td>0.974171</td>\n",
       "      <td>00:11</td>\n",
       "    </tr>\n",
       "    <tr>\n",
       "      <td>6</td>\n",
       "      <td>0.038292</td>\n",
       "      <td>0.089613</td>\n",
       "      <td>0.781628</td>\n",
       "      <td>0.972497</td>\n",
       "      <td>00:11</td>\n",
       "    </tr>\n",
       "    <tr>\n",
       "      <td>7</td>\n",
       "      <td>0.031367</td>\n",
       "      <td>0.080637</td>\n",
       "      <td>0.793250</td>\n",
       "      <td>0.975812</td>\n",
       "      <td>00:11</td>\n",
       "    </tr>\n",
       "    <tr>\n",
       "      <td>8</td>\n",
       "      <td>0.027924</td>\n",
       "      <td>0.081521</td>\n",
       "      <td>0.799396</td>\n",
       "      <td>0.976151</td>\n",
       "      <td>00:11</td>\n",
       "    </tr>\n",
       "    <tr>\n",
       "      <td>9</td>\n",
       "      <td>0.025193</td>\n",
       "      <td>0.080632</td>\n",
       "      <td>0.803329</td>\n",
       "      <td>0.976706</td>\n",
       "      <td>00:11</td>\n",
       "    </tr>\n",
       "  </tbody>\n",
       "</table>"
      ],
      "text/plain": [
       "<IPython.core.display.HTML object>"
      ]
     },
     "metadata": {},
     "output_type": "display_data"
    },
    {
     "data": {
      "image/png": "[encoded data removed]",
      "text/plain": [
       "<Figure size 432x288 with 1 Axes>"
      ]
     },
     "metadata": {},
     "output_type": "display_data"
    }
   ],
   "source": [
    "lr = 1e-4\n",
    "learner.fit_one_cycle(10, max_lr=slice(lr*0.95**num_groups, lr), moms=(0.8, 0.9))"
   ]
  },
  {
   "cell_type": "code",
   "execution_count": 79,
   "metadata": {},
   "outputs": [
    {
     "name": "stdout",
     "output_type": "stream",
     "text": [
      "freeze to: -5\n"
     ]
    },
    {
     "data": {
      "text/html": [
       "<table border=\"1\" class=\"dataframe\">\n",
       "  <thead>\n",
       "    <tr style=\"text-align: left;\">\n",
       "      <th>epoch</th>\n",
       "      <th>train_loss</th>\n",
       "      <th>valid_loss</th>\n",
       "      <th>f1</th>\n",
       "      <th>acc</th>\n",
       "      <th>time</th>\n",
       "    </tr>\n",
       "  </thead>\n",
       "  <tbody>\n",
       "    <tr>\n",
       "      <td>0</td>\n",
       "      <td>0.024228</td>\n",
       "      <td>0.118917</td>\n",
       "      <td>0.772030</td>\n",
       "      <td>0.970737</td>\n",
       "      <td>00:12</td>\n",
       "    </tr>\n",
       "    <tr>\n",
       "      <td>1</td>\n",
       "      <td>0.039782</td>\n",
       "      <td>0.098202</td>\n",
       "      <td>0.781897</td>\n",
       "      <td>0.973412</td>\n",
       "      <td>00:12</td>\n",
       "    </tr>\n",
       "    <tr>\n",
       "      <td>2</td>\n",
       "      <td>0.024911</td>\n",
       "      <td>0.095323</td>\n",
       "      <td>0.813967</td>\n",
       "      <td>0.978156</td>\n",
       "      <td>00:12</td>\n",
       "    </tr>\n",
       "    <tr>\n",
       "      <td>3</td>\n",
       "      <td>0.012666</td>\n",
       "      <td>0.088693</td>\n",
       "      <td>0.839349</td>\n",
       "      <td>0.980415</td>\n",
       "      <td>00:12</td>\n",
       "    </tr>\n",
       "    <tr>\n",
       "      <td>4</td>\n",
       "      <td>0.008258</td>\n",
       "      <td>0.089601</td>\n",
       "      <td>0.838317</td>\n",
       "      <td>0.980514</td>\n",
       "      <td>00:12</td>\n",
       "    </tr>\n",
       "  </tbody>\n",
       "</table>"
      ],
      "text/plain": [
       "<IPython.core.display.HTML object>"
      ]
     },
     "metadata": {},
     "output_type": "display_data"
    },
    {
     "data": {
      "image/png": "[encoded data removed]",
      "text/plain": [
       "<Figure size 432x288 with 1 Axes>"
      ]
     },
     "metadata": {},
     "output_type": "display_data"
    },
    {
     "name": "stdout",
     "output_type": "stream",
     "text": [
      "freeze to: -7\n"
     ]
    },
    {
     "data": {
      "text/html": [
       "<table border=\"1\" class=\"dataframe\">\n",
       "  <thead>\n",
       "    <tr style=\"text-align: left;\">\n",
       "      <th>epoch</th>\n",
       "      <th>train_loss</th>\n",
       "      <th>valid_loss</th>\n",
       "      <th>f1</th>\n",
       "      <th>acc</th>\n",
       "      <th>time</th>\n",
       "    </tr>\n",
       "  </thead>\n",
       "  <tbody>\n",
       "    <tr>\n",
       "      <td>0</td>\n",
       "      <td>0.026644</td>\n",
       "      <td>0.116546</td>\n",
       "      <td>0.780991</td>\n",
       "      <td>0.974584</td>\n",
       "      <td>00:14</td>\n",
       "    </tr>\n",
       "    <tr>\n",
       "      <td>1</td>\n",
       "      <td>0.051674</td>\n",
       "      <td>0.099330</td>\n",
       "      <td>0.792652</td>\n",
       "      <td>0.973775</td>\n",
       "      <td>00:15</td>\n",
       "    </tr>\n",
       "    <tr>\n",
       "      <td>2</td>\n",
       "      <td>0.024539</td>\n",
       "      <td>0.087218</td>\n",
       "      <td>0.830296</td>\n",
       "      <td>0.979721</td>\n",
       "      <td>00:14</td>\n",
       "    </tr>\n",
       "    <tr>\n",
       "      <td>3</td>\n",
       "      <td>0.011304</td>\n",
       "      <td>0.092221</td>\n",
       "      <td>0.840778</td>\n",
       "      <td>0.981018</td>\n",
       "      <td>00:15</td>\n",
       "    </tr>\n",
       "    <tr>\n",
       "      <td>4</td>\n",
       "      <td>0.005720</td>\n",
       "      <td>0.094649</td>\n",
       "      <td>0.836638</td>\n",
       "      <td>0.980933</td>\n",
       "      <td>00:15</td>\n",
       "    </tr>\n",
       "  </tbody>\n",
       "</table>"
      ],
      "text/plain": [
       "<IPython.core.display.HTML object>"
      ]
     },
     "metadata": {},
     "output_type": "display_data"
    },
    {
     "data": {
      "image/png": "[encoded data removed]",
      "text/plain": [
       "<Figure size 432x288 with 1 Axes>"
      ]
     },
     "metadata": {},
     "output_type": "display_data"
    },
    {
     "name": "stdout",
     "output_type": "stream",
     "text": [
      "freeze to: -9\n"
     ]
    },
    {
     "data": {
      "text/html": [
       "<table border=\"1\" class=\"dataframe\">\n",
       "  <thead>\n",
       "    <tr style=\"text-align: left;\">\n",
       "      <th>epoch</th>\n",
       "      <th>train_loss</th>\n",
       "      <th>valid_loss</th>\n",
       "      <th>f1</th>\n",
       "      <th>acc</th>\n",
       "      <th>time</th>\n",
       "    </tr>\n",
       "  </thead>\n",
       "  <tbody>\n",
       "    <tr>\n",
       "      <td>0</td>\n",
       "      <td>0.029009</td>\n",
       "      <td>0.105832</td>\n",
       "      <td>0.773435</td>\n",
       "      <td>0.972583</td>\n",
       "      <td>00:17</td>\n",
       "    </tr>\n",
       "    <tr>\n",
       "      <td>1</td>\n",
       "      <td>0.046518</td>\n",
       "      <td>0.103243</td>\n",
       "      <td>0.796955</td>\n",
       "      <td>0.976098</td>\n",
       "      <td>00:17</td>\n",
       "    </tr>\n",
       "    <tr>\n",
       "      <td>2</td>\n",
       "      <td>0.023895</td>\n",
       "      <td>0.079908</td>\n",
       "      <td>0.842354</td>\n",
       "      <td>0.981604</td>\n",
       "      <td>00:17</td>\n",
       "    </tr>\n",
       "    <tr>\n",
       "      <td>3</td>\n",
       "      <td>0.011633</td>\n",
       "      <td>0.087416</td>\n",
       "      <td>0.844704</td>\n",
       "      <td>0.980969</td>\n",
       "      <td>00:17</td>\n",
       "    </tr>\n",
       "    <tr>\n",
       "      <td>4</td>\n",
       "      <td>0.005690</td>\n",
       "      <td>0.088831</td>\n",
       "      <td>0.849543</td>\n",
       "      <td>0.981756</td>\n",
       "      <td>00:17</td>\n",
       "    </tr>\n",
       "  </tbody>\n",
       "</table>"
      ],
      "text/plain": [
       "<IPython.core.display.HTML object>"
      ]
     },
     "metadata": {},
     "output_type": "display_data"
    },
    {
     "data": {
      "image/png": "[encoded data removed]",
      "text/plain": [
       "<Figure size 432x288 with 1 Axes>"
      ]
     },
     "metadata": {},
     "output_type": "display_data"
    },
    {
     "name": "stdout",
     "output_type": "stream",
     "text": [
      "freeze to: -11\n"
     ]
    },
    {
     "data": {
      "text/html": [
       "<table border=\"1\" class=\"dataframe\">\n",
       "  <thead>\n",
       "    <tr style=\"text-align: left;\">\n",
       "      <th>epoch</th>\n",
       "      <th>train_loss</th>\n",
       "      <th>valid_loss</th>\n",
       "      <th>f1</th>\n",
       "      <th>acc</th>\n",
       "      <th>time</th>\n",
       "    </tr>\n",
       "  </thead>\n",
       "  <tbody>\n",
       "    <tr>\n",
       "      <td>0</td>\n",
       "      <td>0.024131</td>\n",
       "      <td>0.117937</td>\n",
       "      <td>0.791722</td>\n",
       "      <td>0.973860</td>\n",
       "      <td>00:19</td>\n",
       "    </tr>\n",
       "    <tr>\n",
       "      <td>1</td>\n",
       "      <td>0.041980</td>\n",
       "      <td>0.113500</td>\n",
       "      <td>0.748128</td>\n",
       "      <td>0.968420</td>\n",
       "      <td>00:19</td>\n",
       "    </tr>\n",
       "    <tr>\n",
       "      <td>2</td>\n",
       "      <td>0.022691</td>\n",
       "      <td>0.097398</td>\n",
       "      <td>0.840678</td>\n",
       "      <td>0.980413</td>\n",
       "      <td>00:19</td>\n",
       "    </tr>\n",
       "    <tr>\n",
       "      <td>3</td>\n",
       "      <td>0.007802</td>\n",
       "      <td>0.088077</td>\n",
       "      <td>0.858887</td>\n",
       "      <td>0.983200</td>\n",
       "      <td>00:19</td>\n",
       "    </tr>\n",
       "    <tr>\n",
       "      <td>4</td>\n",
       "      <td>0.004802</td>\n",
       "      <td>0.089011</td>\n",
       "      <td>0.861685</td>\n",
       "      <td>0.982950</td>\n",
       "      <td>00:19</td>\n",
       "    </tr>\n",
       "  </tbody>\n",
       "</table>"
      ],
      "text/plain": [
       "<IPython.core.display.HTML object>"
      ]
     },
     "metadata": {},
     "output_type": "display_data"
    },
    {
     "data": {
      "image/png": "[encoded data removed]",
      "text/plain": [
       "<Figure size 432x288 with 1 Axes>"
      ]
     },
     "metadata": {},
     "output_type": "display_data"
    },
    {
     "name": "stdout",
     "output_type": "stream",
     "text": [
      "freeze to: -13\n"
     ]
    },
    {
     "data": {
      "text/html": [
       "<table border=\"1\" class=\"dataframe\">\n",
       "  <thead>\n",
       "    <tr style=\"text-align: left;\">\n",
       "      <th>epoch</th>\n",
       "      <th>train_loss</th>\n",
       "      <th>valid_loss</th>\n",
       "      <th>f1</th>\n",
       "      <th>acc</th>\n",
       "      <th>time</th>\n",
       "    </tr>\n",
       "  </thead>\n",
       "  <tbody>\n",
       "    <tr>\n",
       "      <td>0</td>\n",
       "      <td>0.019518</td>\n",
       "      <td>0.092758</td>\n",
       "      <td>0.818958</td>\n",
       "      <td>0.978708</td>\n",
       "      <td>00:21</td>\n",
       "    </tr>\n",
       "    <tr>\n",
       "      <td>1</td>\n",
       "      <td>0.043666</td>\n",
       "      <td>0.103607</td>\n",
       "      <td>0.814434</td>\n",
       "      <td>0.977516</td>\n",
       "      <td>00:21</td>\n",
       "    </tr>\n",
       "    <tr>\n",
       "      <td>2</td>\n",
       "      <td>0.027636</td>\n",
       "      <td>0.083630</td>\n",
       "      <td>0.849680</td>\n",
       "      <td>0.981143</td>\n",
       "      <td>00:21</td>\n",
       "    </tr>\n",
       "    <tr>\n",
       "      <td>3</td>\n",
       "      <td>0.009158</td>\n",
       "      <td>0.084356</td>\n",
       "      <td>0.860706</td>\n",
       "      <td>0.983890</td>\n",
       "      <td>00:21</td>\n",
       "    </tr>\n",
       "    <tr>\n",
       "      <td>4</td>\n",
       "      <td>0.003655</td>\n",
       "      <td>0.085883</td>\n",
       "      <td>0.863383</td>\n",
       "      <td>0.984111</td>\n",
       "      <td>00:21</td>\n",
       "    </tr>\n",
       "  </tbody>\n",
       "</table>"
      ],
      "text/plain": [
       "<IPython.core.display.HTML object>"
      ]
     },
     "metadata": {},
     "output_type": "display_data"
    },
    {
     "data": {
      "image/png": "[encoded data removed]",
      "text/plain": [
       "<Figure size 432x288 with 1 Axes>"
      ]
     },
     "metadata": {},
     "output_type": "display_data"
    }
   ],
   "source": [
    "lr = 1e-4\n",
    "for i in range(5,14,4):\n",
    "    print('freeze to:', -i)\n",
    "    learner.freeze_to(-i)\n",
    "    learner.fit_one_cycle(5, max_lr=slice(lr*0.95**num_groups, lr), moms=(0.8, 0.9))"
   ]
  },
  {
   "cell_type": "markdown",
   "metadata": {},
   "source": [
    "#### all layers"
   ]
  },
  {
   "cell_type": "code",
   "execution_count": 80,
   "metadata": {},
   "outputs": [],
   "source": [
    "learner.unfreeze()"
   ]
  },
  {
   "cell_type": "code",
   "execution_count": 82,
   "metadata": {},
   "outputs": [
    {
     "data": {
      "text/html": [
       "<table border=\"1\" class=\"dataframe\">\n",
       "  <thead>\n",
       "    <tr style=\"text-align: left;\">\n",
       "      <th>epoch</th>\n",
       "      <th>train_loss</th>\n",
       "      <th>valid_loss</th>\n",
       "      <th>f1</th>\n",
       "      <th>acc</th>\n",
       "      <th>time</th>\n",
       "    </tr>\n",
       "  </thead>\n",
       "  <tbody>\n",
       "    <tr>\n",
       "      <td>0</td>\n",
       "      <td>0.001494</td>\n",
       "      <td>0.114431</td>\n",
       "      <td>0.873651</td>\n",
       "      <td>0.984596</td>\n",
       "      <td>00:23</td>\n",
       "    </tr>\n",
       "    <tr>\n",
       "      <td>1</td>\n",
       "      <td>0.001195</td>\n",
       "      <td>0.116587</td>\n",
       "      <td>0.875520</td>\n",
       "      <td>0.984855</td>\n",
       "      <td>00:23</td>\n",
       "    </tr>\n",
       "    <tr>\n",
       "      <td>2</td>\n",
       "      <td>0.001162</td>\n",
       "      <td>0.118826</td>\n",
       "      <td>0.873358</td>\n",
       "      <td>0.984510</td>\n",
       "      <td>00:24</td>\n",
       "    </tr>\n",
       "    <tr>\n",
       "      <td>3</td>\n",
       "      <td>0.001914</td>\n",
       "      <td>0.118247</td>\n",
       "      <td>0.867235</td>\n",
       "      <td>0.983975</td>\n",
       "      <td>00:23</td>\n",
       "    </tr>\n",
       "    <tr>\n",
       "      <td>4</td>\n",
       "      <td>0.002169</td>\n",
       "      <td>0.116150</td>\n",
       "      <td>0.870392</td>\n",
       "      <td>0.984049</td>\n",
       "      <td>00:23</td>\n",
       "    </tr>\n",
       "    <tr>\n",
       "      <td>5</td>\n",
       "      <td>0.002945</td>\n",
       "      <td>0.111000</td>\n",
       "      <td>0.865224</td>\n",
       "      <td>0.983836</td>\n",
       "      <td>00:23</td>\n",
       "    </tr>\n",
       "    <tr>\n",
       "      <td>6</td>\n",
       "      <td>0.003927</td>\n",
       "      <td>0.107809</td>\n",
       "      <td>0.867051</td>\n",
       "      <td>0.983594</td>\n",
       "      <td>00:24</td>\n",
       "    </tr>\n",
       "    <tr>\n",
       "      <td>7</td>\n",
       "      <td>0.004857</td>\n",
       "      <td>0.110275</td>\n",
       "      <td>0.848316</td>\n",
       "      <td>0.982187</td>\n",
       "      <td>00:23</td>\n",
       "    </tr>\n",
       "    <tr>\n",
       "      <td>8</td>\n",
       "      <td>0.008337</td>\n",
       "      <td>0.109673</td>\n",
       "      <td>0.818082</td>\n",
       "      <td>0.979122</td>\n",
       "      <td>00:23</td>\n",
       "    </tr>\n",
       "    <tr>\n",
       "      <td>9</td>\n",
       "      <td>0.009986</td>\n",
       "      <td>0.101751</td>\n",
       "      <td>0.836015</td>\n",
       "      <td>0.978567</td>\n",
       "      <td>00:23</td>\n",
       "    </tr>\n",
       "    <tr>\n",
       "      <td>10</td>\n",
       "      <td>0.005728</td>\n",
       "      <td>0.111204</td>\n",
       "      <td>0.852709</td>\n",
       "      <td>0.982426</td>\n",
       "      <td>00:23</td>\n",
       "    </tr>\n",
       "    <tr>\n",
       "      <td>11</td>\n",
       "      <td>0.004946</td>\n",
       "      <td>0.114447</td>\n",
       "      <td>0.849311</td>\n",
       "      <td>0.980614</td>\n",
       "      <td>00:24</td>\n",
       "    </tr>\n",
       "    <tr>\n",
       "      <td>12</td>\n",
       "      <td>0.008106</td>\n",
       "      <td>0.107312</td>\n",
       "      <td>0.844832</td>\n",
       "      <td>0.982525</td>\n",
       "      <td>00:23</td>\n",
       "    </tr>\n",
       "    <tr>\n",
       "      <td>13</td>\n",
       "      <td>0.005582</td>\n",
       "      <td>0.109869</td>\n",
       "      <td>0.853988</td>\n",
       "      <td>0.982624</td>\n",
       "      <td>00:23</td>\n",
       "    </tr>\n",
       "    <tr>\n",
       "      <td>14</td>\n",
       "      <td>0.004031</td>\n",
       "      <td>0.105269</td>\n",
       "      <td>0.863109</td>\n",
       "      <td>0.983325</td>\n",
       "      <td>00:23</td>\n",
       "    </tr>\n",
       "    <tr>\n",
       "      <td>15</td>\n",
       "      <td>0.002090</td>\n",
       "      <td>0.122194</td>\n",
       "      <td>0.858140</td>\n",
       "      <td>0.983083</td>\n",
       "      <td>00:23</td>\n",
       "    </tr>\n",
       "    <tr>\n",
       "      <td>16</td>\n",
       "      <td>0.001406</td>\n",
       "      <td>0.124909</td>\n",
       "      <td>0.861769</td>\n",
       "      <td>0.983856</td>\n",
       "      <td>00:23</td>\n",
       "    </tr>\n",
       "    <tr>\n",
       "      <td>17</td>\n",
       "      <td>0.001361</td>\n",
       "      <td>0.121157</td>\n",
       "      <td>0.864525</td>\n",
       "      <td>0.983573</td>\n",
       "      <td>00:23</td>\n",
       "    </tr>\n",
       "    <tr>\n",
       "      <td>18</td>\n",
       "      <td>0.000781</td>\n",
       "      <td>0.119090</td>\n",
       "      <td>0.863354</td>\n",
       "      <td>0.983805</td>\n",
       "      <td>00:24</td>\n",
       "    </tr>\n",
       "    <tr>\n",
       "      <td>19</td>\n",
       "      <td>0.000377</td>\n",
       "      <td>0.124091</td>\n",
       "      <td>0.868719</td>\n",
       "      <td>0.983703</td>\n",
       "      <td>00:24</td>\n",
       "    </tr>\n",
       "    <tr>\n",
       "      <td>20</td>\n",
       "      <td>0.000344</td>\n",
       "      <td>0.130855</td>\n",
       "      <td>0.864837</td>\n",
       "      <td>0.983722</td>\n",
       "      <td>00:23</td>\n",
       "    </tr>\n",
       "    <tr>\n",
       "      <td>21</td>\n",
       "      <td>0.000534</td>\n",
       "      <td>0.131864</td>\n",
       "      <td>0.858757</td>\n",
       "      <td>0.983230</td>\n",
       "      <td>00:23</td>\n",
       "    </tr>\n",
       "    <tr>\n",
       "      <td>22</td>\n",
       "      <td>0.000296</td>\n",
       "      <td>0.131533</td>\n",
       "      <td>0.862764</td>\n",
       "      <td>0.983129</td>\n",
       "      <td>00:23</td>\n",
       "    </tr>\n",
       "    <tr>\n",
       "      <td>23</td>\n",
       "      <td>0.000201</td>\n",
       "      <td>0.130869</td>\n",
       "      <td>0.861778</td>\n",
       "      <td>0.983630</td>\n",
       "      <td>00:23</td>\n",
       "    </tr>\n",
       "    <tr>\n",
       "      <td>24</td>\n",
       "      <td>0.000208</td>\n",
       "      <td>0.131428</td>\n",
       "      <td>0.862678</td>\n",
       "      <td>0.983756</td>\n",
       "      <td>00:23</td>\n",
       "    </tr>\n",
       "    <tr>\n",
       "      <td>25</td>\n",
       "      <td>0.000131</td>\n",
       "      <td>0.132271</td>\n",
       "      <td>0.862874</td>\n",
       "      <td>0.983618</td>\n",
       "      <td>00:23</td>\n",
       "    </tr>\n",
       "    <tr>\n",
       "      <td>26</td>\n",
       "      <td>0.000166</td>\n",
       "      <td>0.131864</td>\n",
       "      <td>0.865274</td>\n",
       "      <td>0.983825</td>\n",
       "      <td>00:23</td>\n",
       "    </tr>\n",
       "    <tr>\n",
       "      <td>27</td>\n",
       "      <td>0.000137</td>\n",
       "      <td>0.132153</td>\n",
       "      <td>0.864779</td>\n",
       "      <td>0.983787</td>\n",
       "      <td>00:23</td>\n",
       "    </tr>\n",
       "    <tr>\n",
       "      <td>28</td>\n",
       "      <td>0.000133</td>\n",
       "      <td>0.132208</td>\n",
       "      <td>0.864779</td>\n",
       "      <td>0.983787</td>\n",
       "      <td>00:24</td>\n",
       "    </tr>\n",
       "    <tr>\n",
       "      <td>29</td>\n",
       "      <td>0.000140</td>\n",
       "      <td>0.132224</td>\n",
       "      <td>0.864779</td>\n",
       "      <td>0.983787</td>\n",
       "      <td>00:23</td>\n",
       "    </tr>\n",
       "  </tbody>\n",
       "</table>"
      ],
      "text/plain": [
       "<IPython.core.display.HTML object>"
      ]
     },
     "metadata": {},
     "output_type": "display_data"
    },
    {
     "data": {
      "image/png": "[encoded data removed]",
      "text/plain": [
       "<Figure size 432x288 with 1 Axes>"
      ]
     },
     "metadata": {},
     "output_type": "display_data"
    }
   ],
   "source": [
    "lr = 1e-4\n",
    "learner.fit_one_cycle(5, max_lr=slice(lr*0.95**num_groups, lr), moms=(0.8, 0.9))"
   ]
  },
  {
   "cell_type": "markdown",
   "metadata": {},
   "source": [
    "### Test"
   ]
  },
  {
   "cell_type": "code",
   "execution_count": null,
   "metadata": {},
   "outputs": [],
   "source": [
    "import logging\n",
    "logging.basicConfig(format='%(asctime)s - %(levelname)s - %(name)s -   %(message)s',\n",
    "                    datefmt='%m/%d/%Y %H:%M:%S',\n",
    "                    level=logging.INFO)\n",
    "logger = logging.getLogger(__name__)\n",
    "\n",
    "def save_lists(y_pred, y_true):\n",
    "    global y_true_all, y_pred_all\n",
    "    y_pred = torch.argmax(y_pred, dim=-1).view(-1)\n",
    "    y_true = y_true.view(-1)\n",
    "    mask = (y_true != pad_nr) * (y_true != bos_nr) * (y_true != eos_nr)\n",
    "    y_true = list(map(lambda x: labels[x], y_true[mask]))\n",
    "    y_pred = list(map(lambda x: labels[x], y_pred[mask]))\n",
    "    y_true_all.extend(y_true)\n",
    "    y_pred_all.extend(y_pred)\n",
    "    return torch.tensor(1)"
   ]
  },
  {
   "cell_type": "code",
   "execution_count": null,
   "metadata": {},
   "outputs": [],
   "source": [
    "global y_true_all, y_pred_all\n",
    "y_true_all, y_pred_all = [], []\n",
    "\n",
    "_ = validate_learner(learner, test_dl, metrics=[save_lists])"
   ]
  },
  {
   "cell_type": "code",
   "execution_count": null,
   "metadata": {},
   "outputs": [],
   "source": [
    "f1_score(y_true_all, y_pred_all)*100, accuracy_score(y_true_all, y_pred_all)*100   "
   ]
  },
  {
   "cell_type": "code",
   "execution_count": null,
   "metadata": {},
   "outputs": [],
   "source": [
    "print(classification_report(y_true_all, y_pred_all))"
   ]
  },
  {
   "cell_type": "code",
   "execution_count": null,
   "metadata": {},
   "outputs": [],
   "source": []
  }
 ],
 "metadata": {
  "kernelspec": {
   "display_name": "nlp",
   "language": "python",
   "name": "nlp"
  },
  "language_info": {
   "codemirror_mode": {
    "name": "ipython",
    "version": 3
   },
   "file_extension": ".py",
   "mimetype": "text/x-python",
   "name": "python",
   "nbconvert_exporter": "python",
   "pygments_lexer": "ipython3",
   "version": "3.7.5"
  }
 },
 "nbformat": 4,
 "nbformat_minor": 2
}
