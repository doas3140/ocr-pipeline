{
 "cells": [
  {
   "cell_type": "code",
   "execution_count": null,
   "metadata": {},
   "outputs": [],
   "source": [
    "#default_exp core"
   ]
  },
  {
   "cell_type": "markdown",
   "metadata": {},
   "source": [
    "# Helper funcs\n",
    "\n",
    "> API details."
   ]
  },
  {
   "cell_type": "code",
   "execution_count": null,
   "metadata": {},
   "outputs": [],
   "source": [
    "#hide\n",
    "from nbdev.showdoc import *"
   ]
  },
  {
   "cell_type": "code",
   "execution_count": null,
   "metadata": {},
   "outputs": [],
   "source": [
    "#export\n",
    "test = lambda: 'test'"
   ]
  },
  {
   "cell_type": "code",
   "execution_count": null,
   "metadata": {},
   "outputs": [],
   "source": [
    "#export\n",
    "from fastai import *\n",
    "from pathlib import PosixPath\n",
    "\n",
    "def save_inference(learner, name, dir_path='../models'):\n",
    "    temp_path = str(learner.path)\n",
    "    learner.path = PosixPath(dir_path)\n",
    "    learner.export(name)\n",
    "    learner.path = PosixPath(temp_path)"
   ]
  },
  {
   "cell_type": "code",
   "execution_count": null,
   "metadata": {},
   "outputs": [],
   "source": [
    "#export\n",
    "from fastai.vision import *\n",
    "\n",
    "def load_inference(name, dir_path='../models/'):\n",
    "    return load_learner(path=dir_path, file=name)\n",
    "\n",
    "# example:\n",
    "# save_learner(learner, 'unet')\n",
    "# learner = load_learner_inference('unet')"
   ]
  },
  {
   "cell_type": "code",
   "execution_count": null,
   "metadata": {},
   "outputs": [],
   "source": [
    "#export\n",
    "import matplotlib.pyplot as plt\n",
    "\n",
    "def plot(im, figsize=None): # im - np.arr(h,w,3), figsize - tuple(2)\n",
    "    ax = plt.figure(figsize=figsize)\n",
    "    if len(im.squeeze().shape) == 2: plt.imshow(im, cmap='gray')\n",
    "    else: plt.imshow(im)\n",
    "    return plt.show()"
   ]
  },
  {
   "cell_type": "code",
   "execution_count": null,
   "metadata": {},
   "outputs": [],
   "source": [
    "#export\n",
    "import pickle\n",
    "\n",
    "def read_dict(path):\n",
    "    with open(path, 'rb') as handle:\n",
    "        unserialized_data = pickle.load(handle)\n",
    "    return unserialized_data\n",
    "\n",
    "def save_dict(dictionary, path):\n",
    "    with open(path, 'wb') as handle:\n",
    "        pickle.dump(dictionary, handle, protocol=pickle.HIGHEST_PROTOCOL)"
   ]
  }
 ],
 "metadata": {
  "kernelspec": {
   "display_name": "Python 3",
   "language": "python",
   "name": "python3"
  }
 },
 "nbformat": 4,
 "nbformat_minor": 2
}
