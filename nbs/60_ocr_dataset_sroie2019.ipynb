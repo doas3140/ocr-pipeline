{
 "cells": [
  {
   "cell_type": "code",
   "execution_count": null,
   "metadata": {},
   "outputs": [],
   "source": [
    "#default_exp ocr_dataset_sroie2019"
   ]
  },
  {
   "cell_type": "markdown",
   "metadata": {},
   "source": [
    "# SROIE 2019\n",
    "\n",
    "> Creates df of image filename -> text pairs"
   ]
  },
  {
   "cell_type": "code",
   "execution_count": 1,
   "metadata": {},
   "outputs": [],
   "source": [
    "#export\n",
    "from ocr.core import *\n",
    "from ocr.core import save_dict, read_dict\n",
    "from fastai import *\n",
    "from fastai.vision import *\n",
    "import pandas as pd\n",
    "import numpy as np\n",
    "import cv2\n",
    "from tqdm.notebook import tqdm"
   ]
  },
  {
   "cell_type": "code",
   "execution_count": 12,
   "metadata": {},
   "outputs": [],
   "source": [
    "#export\n",
    "class sroie_ocr_config:\n",
    "    LINE_HEIGHT = 48\n",
    "    MAIN_DIR = '../data/sroie2019/'\n",
    "    LINES_DIR = '../data/ocr/'\n",
    "    FILE_PATH = '../data/ocr/sroie2019_gt.pickle'\n",
    "    PAD = 8 # only for training\n",
    "    TEST_PAD = 1 # optional, can be set to zero"
   ]
  },
  {
   "cell_type": "code",
   "execution_count": 13,
   "metadata": {},
   "outputs": [],
   "source": [
    "#export\n",
    "def read_data(csv_path='images/X00016469670.txt'):\n",
    "    ''' returns [([4,2], str),...] '''\n",
    "    out = []\n",
    "    with open(csv_path, encoding=\"utf8\") as csv_file:\n",
    "        csv_reader = csv.reader(csv_file, delimiter=',')\n",
    "        for line in csv_reader:\n",
    "            if len(line) > 8:\n",
    "                x1, y1, x2, y2, x3, y3, x4, y4 = list(map(int, line[:8]))\n",
    "                label = ','.join(line[8:])\n",
    "                points = np.array([ [x1, y1], [x2, y2], [x3, y3], [x4, y4] ])\n",
    "                out.append([points, label])\n",
    "    return out"
   ]
  },
  {
   "cell_type": "code",
   "execution_count": 16,
   "metadata": {},
   "outputs": [],
   "source": [
    "#export\n",
    "def preprocess_label(label):\n",
    "    return label.upper()\n",
    "\n",
    "lines_subdir = os.path.join(sroie_ocr_config.LINES_DIR, 'lines')\n",
    "if not os.path.exists(lines_subdir): os.mkdir(lines_subdir)\n",
    "\n",
    "printstats = lambda arr, s: print(s, '| mean:', arr.mean(), 'min:', arr.min(), 'max:', arr.max())\n",
    "\n",
    "def create_lines(PAD=sroie_ocr_config.PAD, TEST_PAD=sroie_ocr_config.TEST_PAD):\n",
    "    gt_dict = {}\n",
    "    total = 0\n",
    "    hs, ws = [], []\n",
    "    for mode in ['train', 'test']:\n",
    "        filenames = os.listdir(os.path.join(sroie_ocr_config.MAIN_DIR, mode + '_img'))\n",
    "        for fn in tqdm(filenames, total=len(filenames)):\n",
    "            gt = read_data(os.path.join(sroie_ocr_config.MAIN_DIR, mode + '_gt', fn[:-3] + 'txt'))\n",
    "            im = cv2.imread(os.path.join(sroie_ocr_config.MAIN_DIR, mode + '_img', fn[:-3] + 'jpg'))\n",
    "            for i, (points, label) in enumerate(gt):\n",
    "                _min, _max = np.min(points, axis=0), np.max(points, axis=0)\n",
    "                # pad\n",
    "                pad = PAD if mode == 'train' else TEST_PAD\n",
    "                _min -= pad\n",
    "                _max += pad\n",
    "                _max[0] += 8 # pad on right so that padding would be w/out black marks (when batching images)\n",
    "                # crop tlbr\n",
    "                _min[0], _min[1] = max(_min[0], 0), max(_min[1], 0)\n",
    "                _max[0], _max[1] = min(_max[0], im.shape[1]), min(_max[1], im.shape[0])\n",
    "                im_line = im[ _min[1]:_max[1], _min[0]:_max[0] ]\n",
    "\n",
    "                h,w,c = im_line.shape\n",
    "                hs.append(h)\n",
    "                ws.append(w)\n",
    "                new_w = int(w * sroie_ocr_config.LINE_HEIGHT / float(h))\n",
    "                if h < 10+pad*2 or (new_w/4-2) < 1: # or len(label) == 1:\n",
    "#                     plot(im)\n",
    "                    plot(im_line)\n",
    "#                     print(points, [label], [h,w,c])\n",
    "#                     print(_min, _max, im.shape)\n",
    "                    continue\n",
    "#                 im_line = cv2.resize(im_line, (new_w, sroie_ocr_config.LINE_HEIGHT))\n",
    "\n",
    "                line_fn = fn[:-3] + str(i) + '.jpg'\n",
    "                gt_dict[line_fn] = (preprocess_label(label), mode, 'sroie2019')\n",
    "                cv2.imwrite(os.path.join(sroie_ocr_config.LINES_DIR, 'lines', line_fn), im_line)\n",
    "                total += 1\n",
    "    save_dict(gt_dict, sroie_ocr_config.FILE_PATH)\n",
    "    printstats(np.array(hs), 'height')\n",
    "    printstats(np.array(ws), 'width')\n",
    "    print(total)"
   ]
  },
  {
   "cell_type": "code",
   "execution_count": 17,
   "metadata": {},
   "outputs": [
    {
     "data": {
      "application/vnd.jupyter.widget-view+json": {
       "model_id": "e0ce5e868d094ed19070a051c7b0591a",
       "version_major": 2,
       "version_minor": 0
      },
      "text/plain": [
       "HBox(children=(IntProgress(value=0, max=703), HTML(value='')))"
      ]
     },
     "metadata": {},
     "output_type": "display_data"
    },
    {
     "data": {
      "image/png": "[encoded data removed]",
      "text/plain": [
       "<Figure size 432x288 with 1 Axes>"
      ]
     },
     "metadata": {
      "needs_background": "light"
     },
     "output_type": "display_data"
    },
    {
     "data": {
      "image/png": "[encoded data removed]",
      "text/plain": [
       "<Figure size 432x288 with 1 Axes>"
      ]
     },
     "metadata": {
      "needs_background": "light"
     },
     "output_type": "display_data"
    },
    {
     "data": {
      "image/png": "[encoded data removed]",
      "text/plain": [
       "<Figure size 432x288 with 1 Axes>"
      ]
     },
     "metadata": {
      "needs_background": "light"
     },
     "output_type": "display_data"
    },
    {
     "data": {
      "image/png": "[encoded data removed]",
      "text/plain": [
       "<Figure size 432x288 with 1 Axes>"
      ]
     },
     "metadata": {
      "needs_background": "light"
     },
     "output_type": "display_data"
    },
    {
     "data": {
      "image/png": "[encoded data removed]",
      "text/plain": [
       "<Figure size 432x288 with 1 Axes>"
      ]
     },
     "metadata": {
      "needs_background": "light"
     },
     "output_type": "display_data"
    },
    {
     "name": "stdout",
     "output_type": "stream",
     "text": [
      "\n"
     ]
    },
    {
     "data": {
      "application/vnd.jupyter.widget-view+json": {
       "model_id": "72f2d3f716fc47c48c3c4a0cd68088e7",
       "version_major": 2,
       "version_minor": 0
      },
      "text/plain": [
       "HBox(children=(IntProgress(value=0, max=344), HTML(value='')))"
      ]
     },
     "metadata": {},
     "output_type": "display_data"
    },
    {
     "data": {
      "image/png": "[encoded data removed]",
      "text/plain": [
       "<Figure size 432x288 with 1 Axes>"
      ]
     },
     "metadata": {
      "needs_background": "light"
     },
     "output_type": "display_data"
    },
    {
     "data": {
      "image/png": "[encoded data removed]",
      "text/plain": [
       "<Figure size 432x288 with 1 Axes>"
      ]
     },
     "metadata": {
      "needs_background": "light"
     },
     "output_type": "display_data"
    },
    {
     "data": {
      "image/png": "[encoded data removed]",
      "text/plain": [
       "<Figure size 432x288 with 1 Axes>"
      ]
     },
     "metadata": {
      "needs_background": "light"
     },
     "output_type": "display_data"
    },
    {
     "data": {
      "image/png": "[encoded data removed]",
      "text/plain": [
       "<Figure size 432x288 with 1 Axes>"
      ]
     },
     "metadata": {
      "needs_background": "light"
     },
     "output_type": "display_data"
    },
    {
     "name": "stdout",
     "output_type": "stream",
     "text": [
      "\n",
      "height | mean: 47.1850255713315 min: 2 max: 507\n",
      "width | mean: 226.32008869496798 min: 11 max: 1722\n",
      "55913\n"
     ]
    }
   ],
   "source": [
    "create_lines()"
   ]
  },
  {
   "cell_type": "code",
   "execution_count": 5,
   "metadata": {},
   "outputs": [],
   "source": [
    "#export\n",
    "# NOTE: fn2label[fn] returns tuple (str(label), str(mode)), where mode = 'train'/'test'\n",
    "def get_fn2label():\n",
    "     return read_dict(os.path.join(sroie_ocr_config.LINES_DIR, 'sroie2019_gt.pickle'))"
   ]
  },
  {
   "cell_type": "code",
   "execution_count": 6,
   "metadata": {},
   "outputs": [
    {
     "data": {
      "text/plain": [
       "55920"
      ]
     },
     "execution_count": 6,
     "metadata": {},
     "output_type": "execute_result"
    }
   ],
   "source": [
    "len(get_fn2label())"
   ]
  },
  {
   "cell_type": "code",
   "execution_count": 7,
   "metadata": {},
   "outputs": [],
   "source": [
    "#export\n",
    "DATA_PATH = os.path.join(sroie_ocr_config.LINES_DIR, 'lines')"
   ]
  },
  {
   "cell_type": "code",
   "execution_count": 8,
   "metadata": {},
   "outputs": [],
   "source": [
    "#export\n",
    "def create_df(fn2label=None):\n",
    "    if fn2label is None: fn2label = get_fn2label()\n",
    "    data = []\n",
    "    for fn, (label, data_split, dataset_desc) in fn2label.items():\n",
    "        data.append((fn, label, data_split == 'test', dataset_desc))\n",
    "    return pd.DataFrame(data, columns=['image_path', 'string', 'valid', 'dataset'])"
   ]
  },
  {
   "cell_type": "code",
   "execution_count": 9,
   "metadata": {},
   "outputs": [
    {
     "data": {
      "text/html": [
       "<div>\n",
       "<style scoped>\n",
       "    .dataframe tbody tr th:only-of-type {\n",
       "        vertical-align: middle;\n",
       "    }\n",
       "\n",
       "    .dataframe tbody tr th {\n",
       "        vertical-align: top;\n",
       "    }\n",
       "\n",
       "    .dataframe thead th {\n",
       "        text-align: right;\n",
       "    }\n",
       "</style>\n",
       "<table border=\"1\" class=\"dataframe\">\n",
       "  <thead>\n",
       "    <tr style=\"text-align: right;\">\n",
       "      <th></th>\n",
       "      <th>image_path</th>\n",
       "      <th>string</th>\n",
       "      <th>valid</th>\n",
       "      <th>dataset</th>\n",
       "    </tr>\n",
       "  </thead>\n",
       "  <tbody>\n",
       "    <tr>\n",
       "      <th>0</th>\n",
       "      <td>X51006327978.0.jpg</td>\n",
       "      <td>Y SOON FATT S/B (81497-P)</td>\n",
       "      <td>False</td>\n",
       "      <td>sroie2019</td>\n",
       "    </tr>\n",
       "    <tr>\n",
       "      <th>1</th>\n",
       "      <td>X51006327978.1.jpg</td>\n",
       "      <td>LOT 1504, BATU 8 1/2, JALAN KLANG LAMA,</td>\n",
       "      <td>False</td>\n",
       "      <td>sroie2019</td>\n",
       "    </tr>\n",
       "    <tr>\n",
       "      <th>2</th>\n",
       "      <td>X51006327978.2.jpg</td>\n",
       "      <td>46000 PETALING JAYA, SELANGOR.</td>\n",
       "      <td>False</td>\n",
       "      <td>sroie2019</td>\n",
       "    </tr>\n",
       "    <tr>\n",
       "      <th>3</th>\n",
       "      <td>X51006327978.3.jpg</td>\n",
       "      <td>TEL : 016-2014209</td>\n",
       "      <td>False</td>\n",
       "      <td>sroie2019</td>\n",
       "    </tr>\n",
       "    <tr>\n",
       "      <th>4</th>\n",
       "      <td>X51006327978.4.jpg</td>\n",
       "      <td>GST REG NO : 000788250624</td>\n",
       "      <td>False</td>\n",
       "      <td>sroie2019</td>\n",
       "    </tr>\n",
       "  </tbody>\n",
       "</table>\n",
       "</div>"
      ],
      "text/plain": [
       "           image_path                                   string  valid  \\\n",
       "0  X51006327978.0.jpg                Y SOON FATT S/B (81497-P)  False   \n",
       "1  X51006327978.1.jpg  LOT 1504, BATU 8 1/2, JALAN KLANG LAMA,  False   \n",
       "2  X51006327978.2.jpg           46000 PETALING JAYA, SELANGOR.  False   \n",
       "3  X51006327978.3.jpg                        TEL : 016-2014209  False   \n",
       "4  X51006327978.4.jpg                GST REG NO : 000788250624  False   \n",
       "\n",
       "     dataset  \n",
       "0  sroie2019  \n",
       "1  sroie2019  \n",
       "2  sroie2019  \n",
       "3  sroie2019  \n",
       "4  sroie2019  "
      ]
     },
     "execution_count": 9,
     "metadata": {},
     "output_type": "execute_result"
    }
   ],
   "source": [
    "main_df = create_df()\n",
    "main_df.head()"
   ]
  },
  {
   "cell_type": "code",
   "execution_count": 10,
   "metadata": {},
   "outputs": [],
   "source": [
    "char_freq = defaultdict(lambda: 0)\n",
    "for string in main_df['string']:\n",
    "    for char in string:\n",
    "        char_freq[char] += 1\n",
    "char_freq = dict(char_freq)"
   ]
  },
  {
   "cell_type": "code",
   "execution_count": 20,
   "metadata": {},
   "outputs": [
    {
     "name": "stdout",
     "output_type": "stream",
     "text": [
      "{'`': 1, '·': 1, '{': 3, '}': 3, '\\\\': 6, '|': 6, ';': 12, '<': 13, '>': 15, '^': 19, '_': 19, '\\n': 20, '~': 24, '?': 26, '[': 66, ']': 66, '\"': 166, '+': 229, '=': 324, '!': 381, \"'\": 408, '#': 625, '$': 648, '&': 707, 'Z': 768, '@': 1165, 'Q': 1167, '*': 1473, '%': 1831, 'W': 2910, 'J': 2992, 'V': 3438, '/': 3797, 'F': 3843, ',': 4191, 'X': 4732, ')': 4751, '(': 4766, 'K': 4998, '-': 5566, 'Y': 6216, 'B': 6544, '9': 7544, '7': 8285, '8': 9326, 'P': 9432, '4': 9437, '6': 9660, 'H': 9737, ':': 10516, '5': 10837, '3': 11966, 'G': 12409, 'U': 12589, 'D': 12721, 'C': 14645, '2': 15001, 'M': 15211, 'L': 17481, '.': 19307, 'I': 21104, '1': 22127, 'R': 23724, 'O': 25649, 'N': 26187, 'S': 28138, 'E': 30652, 'T': 32246, 'A': 40094, '0': 42829, ' ': 64128}\n"
     ]
    }
   ],
   "source": [
    "char_freq = dict(sorted(char_freq.items(), key=lambda k:k[1]))\n",
    "print(char_freq)"
   ]
  },
  {
   "cell_type": "code",
   "execution_count": null,
   "metadata": {},
   "outputs": [],
   "source": [
    "#export\n",
    "char_freq = {'`': 1, '·': 1, '{': 3, '}': 3, '\\\\': 6, '|': 6, ';': 12, '<': 13, \n",
    "             '>': 15, '^': 19, '_': 19, '\\n': 20, '~': 24, '?': 26, '[': 66, ']': 66, \n",
    "             '\"': 166, '+': 229, '=': 324, '!': 381, \"'\": 408, '#': 625, '$': 648, '&': \n",
    "             707, 'Z': 768, '@': 1165, 'Q': 1167, '*': 1473, '%': 1831, 'W': 2910, 'J': 2992, \n",
    "             'V': 3438, '/': 3797, 'F': 3843, ',': 4191, 'X': 4732, ')': 4751, '(': 4766, \n",
    "             'K': 4998, '-': 5566, 'Y': 6216, 'B': 6544, '9': 7544, '7': 8285, '8': 9326, \n",
    "             'P': 9432, '4': 9437, '6': 9660, 'H': 9737, ':': 10516, '5': 10837, '3': 11966, \n",
    "             'G': 12409, 'U': 12589, 'D': 12721, 'C': 14645, '2': 15001, 'M': 15211, 'L': 17481, \n",
    "             '.': 19307, 'I': 21104, '1': 22127, 'R': 23724, 'O': 25649, 'N': 26187, 'S': 28138, \n",
    "             'E': 30652, 'T': 32246, 'A': 40094, '0': 42829, ' ': 64128}"
   ]
  },
  {
   "cell_type": "code",
   "execution_count": 12,
   "metadata": {},
   "outputs": [
    {
     "data": {
      "text/plain": [
       "True"
      ]
     },
     "execution_count": 12,
     "metadata": {},
     "output_type": "execute_result"
    }
   ],
   "source": [
    "chars = [k for k in char_freq.keys()]\n",
    "label_delim = '`'\n",
    "label_delim in chars"
   ]
  },
  {
   "cell_type": "code",
   "execution_count": 36,
   "metadata": {},
   "outputs": [
    {
     "name": "stdout",
     "output_type": "stream",
     "text": [
      "{'N', '1', '[', 'I', '|', 'Y', '9', 'F', '\"', '\\n', 'W', '5', '@', ')', 'T', 'S', \"'\", '$', '%', ' ', 'U', 'G', '8', 'A', ';', 'B', '>', '*', '.', '&', 'X', 'D', '4', '!', '?', 'J', '#', 'Z', 'O', '3', '/', 'P', '}', 'H', 'E', '2', '+', '\\\\', '_', '7', 'L', '0', '(', 'Q', '<', ':', '^', ',', 'V', '=', '{', '6', 'C', 'M', '-', '~', 'K', 'R', ']'}\n"
     ]
    },
    {
     "data": {
      "text/plain": [
       "69"
      ]
     },
     "execution_count": 36,
     "metadata": {},
     "output_type": "execute_result"
    }
   ],
   "source": [
    "allowed_chars = set(chars + [label_delim]) - set(['·', '`'])\n",
    "print(allowed_chars)\n",
    "len(allowed_chars)"
   ]
  },
  {
   "cell_type": "code",
   "execution_count": 40,
   "metadata": {},
   "outputs": [],
   "source": [
    "#export\n",
    "allowed_chars = ['N', '1', '[', 'I', '|', 'Y', '9', 'F', '\"', '\\n', 'W', '5', '@', ')', 'T', 'S', \"'\", \n",
    "                 '$', '%', ' ', 'U', 'G', '8', 'A', ';', 'B', '>', '*', '.', '&', 'X', 'D', '4', '!', \n",
    "                 '?', 'J', '#', 'Z', 'O', '3', '/', 'P', '}', 'H', 'E', '2', '+', '\\\\', '_', '7', 'L', \n",
    "                 '0', '(', 'Q', '<', ':', '^', ',', 'V', '=', '{', '6', 'C', 'M', '-', '~', 'K', 'R', ']']"
   ]
  },
  {
   "cell_type": "code",
   "execution_count": null,
   "metadata": {},
   "outputs": [],
   "source": []
  }
 ],
 "metadata": {
  "kernelspec": {
   "display_name": "Python 3",
   "language": "python",
   "name": "python3"
  },
  "language_info": {
   "codemirror_mode": {
    "name": "ipython",
    "version": 3
   },
   "file_extension": ".py",
   "mimetype": "text/x-python",
   "name": "python",
   "nbconvert_exporter": "python",
   "pygments_lexer": "ipython3",
   "version": "3.7.5"
  }
 },
 "nbformat": 4,
 "nbformat_minor": 2
}
