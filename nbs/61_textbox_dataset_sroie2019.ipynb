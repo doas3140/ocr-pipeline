{
 "cells": [
  {
   "cell_type": "code",
   "execution_count": null,
   "metadata": {},
   "outputs": [],
   "source": [
    "#default_exp textbox_dataset_sroie2019"
   ]
  },
  {
   "cell_type": "markdown",
   "metadata": {},
   "source": [
    "# SROIE 2019\n",
    "\n",
    "> Creates df of image filenames and dict[filename] -> text coords arr[8]\n",
    "\n",
    "download SROIE 2019 dataset from https://rrc.cvc.uab.es/\n",
    "1. split txt, jpg files from dir `0325updated.task1train(626p)` -> `./data/sroie2019/train_gt`, `./data/sroie2019/train_img`\n",
    "2. move dir `text.task1_2-test（361p)` -> `./data/sroie2019/test_gt`\n",
    "3. move dir `task1_2_test(361p)` -> `./data/sroie2019/test_img`\n",
    "4. split txt, jpg files from dir `0325updated.task2train(626p)` -> `./data/sroie2019/task3_train_gt`, `./data/sroie2019/task3_train_img`\n",
    "5. move dir `task3-test（347p)` -> `./data/sroie2019/task3_test_img`\n",
    "6. make sure that every image has only one gt file with the same name!"
   ]
  },
  {
   "cell_type": "code",
   "execution_count": null,
   "metadata": {},
   "outputs": [],
   "source": [
    "#export\n",
    "from ocr.core import save_dict, read_dict, plot\n",
    "from fastai import *\n",
    "from fastai.vision import *\n",
    "import pandas as pd\n",
    "import numpy as np\n",
    "import cv2\n",
    "from tqdm.notebook import tqdm"
   ]
  },
  {
   "cell_type": "code",
   "execution_count": null,
   "metadata": {},
   "outputs": [],
   "source": [
    "#export\n",
    "class sroie_textbox_config:\n",
    "    MAIN_DIR = '../data/sroie2019/'\n",
    "    FILE_DIR = '../data/textbox/sroie2019bbox.pickle'"
   ]
  },
  {
   "cell_type": "code",
   "execution_count": null,
   "metadata": {},
   "outputs": [],
   "source": [
    "#export\n",
    "def read_data(csv_path='images/X00016469670.txt'):\n",
    "    ''' returns [([4,2], str),...] '''\n",
    "    out = []\n",
    "    with open(csv_path, encoding=\"utf8\") as csv_file:\n",
    "        csv_reader = csv.reader(csv_file, delimiter=',')\n",
    "        for line in csv_reader:\n",
    "            if len(line) > 8:\n",
    "                x1, y1, x2, y2, x3, y3, x4, y4 = list(map(int, line[:8]))\n",
    "                label = ','.join(line[8:])\n",
    "                points = np.array([ [x1, y1], [x2, y2], [x3, y3], [x4, y4] ])\n",
    "                out.append([points, label])\n",
    "    return out"
   ]
  },
  {
   "cell_type": "code",
   "execution_count": null,
   "metadata": {},
   "outputs": [
    {
     "data": {
      "application/vnd.jupyter.widget-view+json": {
       "model_id": "02329cd99f3b4208933ced12c66cb916",
       "version_major": 2,
       "version_minor": 0
      },
      "text/plain": [
       "HBox(children=(IntProgress(value=0, max=703), HTML(value='')))"
      ]
     },
     "metadata": {},
     "output_type": "display_data"
    },
    {
     "name": "stdout",
     "output_type": "stream",
     "text": [
      "\n"
     ]
    },
    {
     "data": {
      "application/vnd.jupyter.widget-view+json": {
       "model_id": "4c86553f0140489ba6a93d5ce190fbe5",
       "version_major": 2,
       "version_minor": 0
      },
      "text/plain": [
       "HBox(children=(IntProgress(value=0, max=344), HTML(value='')))"
      ]
     },
     "metadata": {},
     "output_type": "display_data"
    },
    {
     "name": "stdout",
     "output_type": "stream",
     "text": [
      "\n",
      "total bboxes: 55922\n"
     ]
    }
   ],
   "source": [
    "filename2bbs = defaultdict(lambda: [])\n",
    "total = 0\n",
    "\n",
    "for mode in ['train', 'test']:\n",
    "    filenames = os.listdir(os.path.join(sroie_textbox_config.MAIN_DIR, mode + '_img'))\n",
    "    for fn in tqdm(filenames, total=len(filenames)):\n",
    "        gt = read_data(os.path.join(sroie_textbox_config.MAIN_DIR, mode + '_gt', fn[:-3] + 'txt'))\n",
    "        im = cv2.imread(os.path.join(sroie_textbox_config.MAIN_DIR, mode + '_img', fn[:-3] + 'jpg'))\n",
    "        bboxes = []\n",
    "        for i, (points, label) in enumerate(gt):\n",
    "            _min, _max = np.min(points, axis=0), np.max(points, axis=0)\n",
    "            _min[0], _min[1] = max(_min[0], 0), max(_min[1], 0)\n",
    "            _max[0], _max[1] = min(_max[0], im.shape[1]), min(_max[1], im.shape[0])\n",
    "            bboxes.append(( _min[1], _min[0], _max[1], _max[0] )) # [y1,x1, y2,x2]\n",
    "            total += 1\n",
    "#             bbs.append(points)\n",
    "\n",
    "        filename2bbs[fn] = (bboxes, ['line'] * len(bboxes))\n",
    "    \n",
    "print('total bboxes:', total)\n",
    "save_dict(dict(filename2bbs), sroie_textbox_config.FILE_DIR)"
   ]
  },
  {
   "cell_type": "code",
   "execution_count": null,
   "metadata": {},
   "outputs": [],
   "source": [
    "#export\n",
    "def get_filename2bboxes_dict():\n",
    "    return read_dict(sroie_textbox_config.FILE_DIR)"
   ]
  },
  {
   "cell_type": "code",
   "execution_count": null,
   "metadata": {},
   "outputs": [
    {
     "data": {
      "text/plain": [
       "([(249, 55, 286, 472),\n",
       "  (290, 54, 324, 641),\n",
       "  (332, 54, 367, 502),\n",
       "  (372, 55, 405, 312),\n",
       "  (414, 55, 445, 432)],\n",
       " ['line', 'line', 'line', 'line', 'line'])"
      ]
     },
     "execution_count": null,
     "metadata": {},
     "output_type": "execute_result"
    }
   ],
   "source": [
    "filename2bbs = get_filename2bboxes_dict()\n",
    "bbs, labels = filename2bbs['X51006327978.jpg']\n",
    "bbs[:5], labels[:5]"
   ]
  },
  {
   "cell_type": "code",
   "execution_count": null,
   "metadata": {},
   "outputs": [],
   "source": [
    "#export\n",
    "def create_df():\n",
    "    data = []\n",
    "    for mode in ['train', 'test']:\n",
    "        path = os.path.join(sroie_textbox_config.MAIN_DIR, mode + '_img')\n",
    "        for fn in os.listdir(path):\n",
    "            data.append((os.path.join(path, fn), mode == 'test', 'sroie2019'))\n",
    "    return pd.DataFrame(data, columns=['image_path', 'valid', 'dataset'])"
   ]
  },
  {
   "cell_type": "code",
   "execution_count": null,
   "metadata": {},
   "outputs": [
    {
     "data": {
      "text/html": [
       "<div>\n",
       "<style scoped>\n",
       "    .dataframe tbody tr th:only-of-type {\n",
       "        vertical-align: middle;\n",
       "    }\n",
       "\n",
       "    .dataframe tbody tr th {\n",
       "        vertical-align: top;\n",
       "    }\n",
       "\n",
       "    .dataframe thead th {\n",
       "        text-align: right;\n",
       "    }\n",
       "</style>\n",
       "<table border=\"1\" class=\"dataframe\">\n",
       "  <thead>\n",
       "    <tr style=\"text-align: right;\">\n",
       "      <th></th>\n",
       "      <th>image_path</th>\n",
       "      <th>valid</th>\n",
       "      <th>dataset</th>\n",
       "    </tr>\n",
       "  </thead>\n",
       "  <tbody>\n",
       "    <tr>\n",
       "      <th>0</th>\n",
       "      <td>../data/sroie2019/train_img/X51006327978.jpg</td>\n",
       "      <td>False</td>\n",
       "      <td>sroie2019</td>\n",
       "    </tr>\n",
       "    <tr>\n",
       "      <th>1</th>\n",
       "      <td>../data/sroie2019/train_img/X51006619550.jpg</td>\n",
       "      <td>False</td>\n",
       "      <td>sroie2019</td>\n",
       "    </tr>\n",
       "    <tr>\n",
       "      <th>2</th>\n",
       "      <td>../data/sroie2019/train_img/X51005361883.jpg</td>\n",
       "      <td>False</td>\n",
       "      <td>sroie2019</td>\n",
       "    </tr>\n",
       "    <tr>\n",
       "      <th>3</th>\n",
       "      <td>../data/sroie2019/train_img/X51008123451.jpg</td>\n",
       "      <td>False</td>\n",
       "      <td>sroie2019</td>\n",
       "    </tr>\n",
       "    <tr>\n",
       "      <th>4</th>\n",
       "      <td>../data/sroie2019/train_img/X51005361900.jpg</td>\n",
       "      <td>False</td>\n",
       "      <td>sroie2019</td>\n",
       "    </tr>\n",
       "    <tr>\n",
       "      <th>...</th>\n",
       "      <td>...</td>\n",
       "      <td>...</td>\n",
       "      <td>...</td>\n",
       "    </tr>\n",
       "    <tr>\n",
       "      <th>1042</th>\n",
       "      <td>../data/sroie2019/test_img/X51006619564.jpg</td>\n",
       "      <td>True</td>\n",
       "      <td>sroie2019</td>\n",
       "    </tr>\n",
       "    <tr>\n",
       "      <th>1043</th>\n",
       "      <td>../data/sroie2019/test_img/X51005605287.jpg</td>\n",
       "      <td>True</td>\n",
       "      <td>sroie2019</td>\n",
       "    </tr>\n",
       "    <tr>\n",
       "      <th>1044</th>\n",
       "      <td>../data/sroie2019/test_img/X51005568894.jpg</td>\n",
       "      <td>True</td>\n",
       "      <td>sroie2019</td>\n",
       "    </tr>\n",
       "    <tr>\n",
       "      <th>1045</th>\n",
       "      <td>../data/sroie2019/test_img/X51005677333.jpg</td>\n",
       "      <td>True</td>\n",
       "      <td>sroie2019</td>\n",
       "    </tr>\n",
       "    <tr>\n",
       "      <th>1046</th>\n",
       "      <td>../data/sroie2019/test_img/X51005676548.jpg</td>\n",
       "      <td>True</td>\n",
       "      <td>sroie2019</td>\n",
       "    </tr>\n",
       "  </tbody>\n",
       "</table>\n",
       "<p>1047 rows × 3 columns</p>\n",
       "</div>"
      ],
      "text/plain": [
       "                                        image_path  valid    dataset\n",
       "0     ../data/sroie2019/train_img/X51006327978.jpg  False  sroie2019\n",
       "1     ../data/sroie2019/train_img/X51006619550.jpg  False  sroie2019\n",
       "2     ../data/sroie2019/train_img/X51005361883.jpg  False  sroie2019\n",
       "3     ../data/sroie2019/train_img/X51008123451.jpg  False  sroie2019\n",
       "4     ../data/sroie2019/train_img/X51005361900.jpg  False  sroie2019\n",
       "...                                            ...    ...        ...\n",
       "1042   ../data/sroie2019/test_img/X51006619564.jpg   True  sroie2019\n",
       "1043   ../data/sroie2019/test_img/X51005605287.jpg   True  sroie2019\n",
       "1044   ../data/sroie2019/test_img/X51005568894.jpg   True  sroie2019\n",
       "1045   ../data/sroie2019/test_img/X51005677333.jpg   True  sroie2019\n",
       "1046   ../data/sroie2019/test_img/X51005676548.jpg   True  sroie2019\n",
       "\n",
       "[1047 rows x 3 columns]"
      ]
     },
     "execution_count": null,
     "metadata": {},
     "output_type": "execute_result"
    }
   ],
   "source": [
    "create_df()"
   ]
  },
  {
   "cell_type": "code",
   "execution_count": null,
   "metadata": {},
   "outputs": [],
   "source": []
  }
 ],
 "metadata": {
  "kernelspec": {
   "display_name": "nlp",
   "language": "python",
   "name": "nlp"
  }
 },
 "nbformat": 4,
 "nbformat_minor": 2
}
