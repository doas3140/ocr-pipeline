{
 "cells": [
  {
   "cell_type": "code",
   "execution_count": 1,
   "metadata": {},
   "outputs": [],
   "source": [
    "#default_exp ocr_attention_training"
   ]
  },
  {
   "cell_type": "code",
   "execution_count": 1,
   "metadata": {},
   "outputs": [],
   "source": [
    "#export\n",
    "from fastai import *\n",
    "from fastai.vision import *\n",
    "import pandas as pd\n",
    "import numpy as np\n",
    "import cv2\n",
    "from tqdm.notebook import tqdm"
   ]
  },
  {
   "cell_type": "code",
   "execution_count": 2,
   "metadata": {},
   "outputs": [],
   "source": [
    "import matplotlib.pyplot as plt\n",
    "%matplotlib inline"
   ]
  },
  {
   "cell_type": "code",
   "execution_count": 3,
   "metadata": {},
   "outputs": [],
   "source": [
    "#export\n",
    "from ocr.core import save_inference, load_inference, plot\n",
    "from ocr.ocr_dataset_sroie2019 import create_df as create_sroie_df\n",
    "from ocr.ocr_dataset_sroie2019 import sroie_ocr_config, DATA_PATH, char_freq\n",
    "PAD = sroie_ocr_config.PAD # PAD - how much is data padded"
   ]
  },
  {
   "cell_type": "code",
   "execution_count": 4,
   "metadata": {},
   "outputs": [],
   "source": [
    "#export\n",
    "allowed_chars = {';', 'Q', 'H', '-', ']', 'P', 'L', 'E', '{', ',', '[', 'X', '4', 'K', '@', '&', '(', \n",
    "                 '0', '}', '.', '?', '\\n', 'J', '|', '$', '*', 'D', '6', 'S', '~', '8', '2', '>', ' ', \n",
    "                 'W', 'A', 'V', '/', '_', 'N', 'R', '=', '#', 'O', '7', \"'\", 'Y', '5', 'U', 'T', '+', \n",
    "                 '\\\\', '1', 'I', ':', 'M', 'C', '9', '%', '\"', 'B', '!', '^', 'G', '<', 'Z', '3', ')', 'F'}\n",
    "\n",
    "class attention_config:\n",
    "    LINE_HEIGHT = 48\n",
    "    USE_DEFAULT_CLASSES = True # uses only allowed chars\n",
    "    label_delim = '`'\n",
    "    allowed_chars = allowed_chars"
   ]
  },
  {
   "cell_type": "markdown",
   "metadata": {},
   "source": [
    "### Prep"
   ]
  },
  {
   "cell_type": "code",
   "execution_count": 5,
   "metadata": {},
   "outputs": [
    {
     "name": "stdout",
     "output_type": "stream",
     "text": [
      "{'`': 1, '·': 1, '{': 3, '}': 3, '\\\\': 6, '|': 6, ';': 12, '<': 13, '>': 15, '^': 19, '_': 19, '\\n': 20, '~': 24, '?': 26, '[': 66, ']': 66, '\"': 166, '+': 229, '=': 324, '!': 381, \"'\": 408, '#': 625, '$': 648, '&': 707, 'Z': 768, '@': 1165, 'Q': 1167, '*': 1473, '%': 1831, 'W': 2910, 'J': 2992, 'V': 3438, '/': 3797, 'F': 3843, ',': 4191, 'X': 4732, ')': 4751, '(': 4766, 'K': 4998, '-': 5566, 'Y': 6216, 'B': 6544, '9': 7544, '7': 8285, '8': 9326, 'P': 9432, '4': 9437, '6': 9660, 'H': 9737, ':': 10516, '5': 10837, '3': 11966, 'G': 12409, 'U': 12589, 'D': 12721, 'C': 14645, '2': 15001, 'M': 15211, 'L': 17481, '.': 19307, 'I': 21104, '1': 22127, 'R': 23724, 'O': 25649, 'N': 26187, 'S': 28138, 'E': 30652, 'T': 32246, 'A': 40094, '0': 42829, ' ': 64128}\n"
     ]
    }
   ],
   "source": [
    "print(char_freq)"
   ]
  },
  {
   "cell_type": "code",
   "execution_count": 6,
   "metadata": {},
   "outputs": [
    {
     "data": {
      "text/plain": [
       "True"
      ]
     },
     "execution_count": 6,
     "metadata": {},
     "output_type": "execute_result"
    }
   ],
   "source": [
    "chars = list(char_freq.keys())\n",
    "label_delim = attention_config.label_delim\n",
    "label_delim in chars"
   ]
  },
  {
   "cell_type": "code",
   "execution_count": 7,
   "metadata": {},
   "outputs": [
    {
     "name": "stdout",
     "output_type": "stream",
     "text": [
      "{'#', 'W', '@', '.', 'L', '\\\\', '9', 'Z', '6', '1', ' ', 'Q', '/', '^', '&', '~', '3', 'I', '$', '\\n', '4', 'V', ';', 'B', 'P', 'C', 'M', ')', 'K', '{', 'Y', 'U', \"'\", 'F', 'S', 'H', '!', 'T', 'J', '<', '>', '?', 'G', '8', '=', ':', '2', 'A', 'O', '_', 'X', '(', '\"', 'R', '%', ',', '7', '5', '}', '+', 'E', '|', '*', ']', '0', '-', 'N', 'D', '['}\n"
     ]
    },
    {
     "data": {
      "text/plain": [
       "69"
      ]
     },
     "execution_count": 7,
     "metadata": {},
     "output_type": "execute_result"
    }
   ],
   "source": [
    "allowed_chars = set(chars) - set(['·', label_delim])\n",
    "print(allowed_chars)\n",
    "len(allowed_chars)"
   ]
  },
  {
   "cell_type": "code",
   "execution_count": 8,
   "metadata": {},
   "outputs": [
    {
     "data": {
      "text/plain": [
       "'q`w`e`r`t`y'"
      ]
     },
     "execution_count": 8,
     "metadata": {},
     "output_type": "execute_result"
    }
   ],
   "source": [
    "split_chars = lambda string, delim: ''.join([char+delim for char in string])[:-1]\n",
    "\n",
    "def preprocess_string(string):\n",
    "    string = string.replace('·', '.')\n",
    "    string = string.replace('`', \"'\")\n",
    "    string = split_chars(string, attention_config.label_delim)\n",
    "    return string\n",
    "\n",
    "split_chars('qwerty', label_delim)"
   ]
  },
  {
   "cell_type": "code",
   "execution_count": 9,
   "metadata": {},
   "outputs": [
    {
     "data": {
      "text/html": [
       "<div>\n",
       "<style scoped>\n",
       "    .dataframe tbody tr th:only-of-type {\n",
       "        vertical-align: middle;\n",
       "    }\n",
       "\n",
       "    .dataframe tbody tr th {\n",
       "        vertical-align: top;\n",
       "    }\n",
       "\n",
       "    .dataframe thead th {\n",
       "        text-align: right;\n",
       "    }\n",
       "</style>\n",
       "<table border=\"1\" class=\"dataframe\">\n",
       "  <thead>\n",
       "    <tr style=\"text-align: right;\">\n",
       "      <th></th>\n",
       "      <th>image_path</th>\n",
       "      <th>string</th>\n",
       "      <th>valid</th>\n",
       "      <th>dataset</th>\n",
       "    </tr>\n",
       "  </thead>\n",
       "  <tbody>\n",
       "    <tr>\n",
       "      <th>0</th>\n",
       "      <td>X51006327978.0.jpg</td>\n",
       "      <td>Y SOON FATT S/B (81497-P)</td>\n",
       "      <td>False</td>\n",
       "      <td>sroie2019</td>\n",
       "    </tr>\n",
       "    <tr>\n",
       "      <th>1</th>\n",
       "      <td>X51006327978.1.jpg</td>\n",
       "      <td>LOT 1504, BATU 8 1/2, JALAN KLANG LAMA,</td>\n",
       "      <td>False</td>\n",
       "      <td>sroie2019</td>\n",
       "    </tr>\n",
       "    <tr>\n",
       "      <th>2</th>\n",
       "      <td>X51006327978.2.jpg</td>\n",
       "      <td>46000 PETALING JAYA, SELANGOR.</td>\n",
       "      <td>False</td>\n",
       "      <td>sroie2019</td>\n",
       "    </tr>\n",
       "    <tr>\n",
       "      <th>3</th>\n",
       "      <td>X51006327978.3.jpg</td>\n",
       "      <td>TEL : 016-2014209</td>\n",
       "      <td>False</td>\n",
       "      <td>sroie2019</td>\n",
       "    </tr>\n",
       "    <tr>\n",
       "      <th>4</th>\n",
       "      <td>X51006327978.4.jpg</td>\n",
       "      <td>GST REG NO : 000788250624</td>\n",
       "      <td>False</td>\n",
       "      <td>sroie2019</td>\n",
       "    </tr>\n",
       "  </tbody>\n",
       "</table>\n",
       "</div>"
      ],
      "text/plain": [
       "           image_path                                   string  valid  \\\n",
       "0  X51006327978.0.jpg                Y SOON FATT S/B (81497-P)  False   \n",
       "1  X51006327978.1.jpg  LOT 1504, BATU 8 1/2, JALAN KLANG LAMA,  False   \n",
       "2  X51006327978.2.jpg           46000 PETALING JAYA, SELANGOR.  False   \n",
       "3  X51006327978.3.jpg                        TEL : 016-2014209  False   \n",
       "4  X51006327978.4.jpg                GST REG NO : 000788250624  False   \n",
       "\n",
       "     dataset  \n",
       "0  sroie2019  \n",
       "1  sroie2019  \n",
       "2  sroie2019  \n",
       "3  sroie2019  \n",
       "4  sroie2019  "
      ]
     },
     "execution_count": 9,
     "metadata": {},
     "output_type": "execute_result"
    }
   ],
   "source": [
    "sroie_df = create_sroie_df()\n",
    "sroie_df.head()"
   ]
  },
  {
   "cell_type": "code",
   "execution_count": 10,
   "metadata": {},
   "outputs": [],
   "source": [
    "main_df = sroie_df"
   ]
  },
  {
   "cell_type": "code",
   "execution_count": 11,
   "metadata": {},
   "outputs": [
    {
     "data": {
      "text/html": [
       "<div>\n",
       "<style scoped>\n",
       "    .dataframe tbody tr th:only-of-type {\n",
       "        vertical-align: middle;\n",
       "    }\n",
       "\n",
       "    .dataframe tbody tr th {\n",
       "        vertical-align: top;\n",
       "    }\n",
       "\n",
       "    .dataframe thead th {\n",
       "        text-align: right;\n",
       "    }\n",
       "</style>\n",
       "<table border=\"1\" class=\"dataframe\">\n",
       "  <thead>\n",
       "    <tr style=\"text-align: right;\">\n",
       "      <th></th>\n",
       "      <th>image_path</th>\n",
       "      <th>string</th>\n",
       "      <th>valid</th>\n",
       "      <th>dataset</th>\n",
       "    </tr>\n",
       "  </thead>\n",
       "  <tbody>\n",
       "    <tr>\n",
       "      <th>0</th>\n",
       "      <td>X51006327978.0.jpg</td>\n",
       "      <td>Y` `S`O`O`N` `F`A`T`T` `S`/`B` `(`8`1`4`9`7`-`P`)</td>\n",
       "      <td>False</td>\n",
       "      <td>sroie2019</td>\n",
       "    </tr>\n",
       "    <tr>\n",
       "      <th>1</th>\n",
       "      <td>X51006327978.1.jpg</td>\n",
       "      <td>L`O`T` `1`5`0`4`,` `B`A`T`U` `8` `1`/`2`,` `J`...</td>\n",
       "      <td>False</td>\n",
       "      <td>sroie2019</td>\n",
       "    </tr>\n",
       "    <tr>\n",
       "      <th>2</th>\n",
       "      <td>X51006327978.2.jpg</td>\n",
       "      <td>4`6`0`0`0` `P`E`T`A`L`I`N`G` `J`A`Y`A`,` `S`E`...</td>\n",
       "      <td>False</td>\n",
       "      <td>sroie2019</td>\n",
       "    </tr>\n",
       "    <tr>\n",
       "      <th>3</th>\n",
       "      <td>X51006327978.3.jpg</td>\n",
       "      <td>T`E`L` `:` `0`1`6`-`2`0`1`4`2`0`9</td>\n",
       "      <td>False</td>\n",
       "      <td>sroie2019</td>\n",
       "    </tr>\n",
       "    <tr>\n",
       "      <th>4</th>\n",
       "      <td>X51006327978.4.jpg</td>\n",
       "      <td>G`S`T` `R`E`G` `N`O` `:` `0`0`0`7`8`8`2`5`0`6`2`4</td>\n",
       "      <td>False</td>\n",
       "      <td>sroie2019</td>\n",
       "    </tr>\n",
       "  </tbody>\n",
       "</table>\n",
       "</div>"
      ],
      "text/plain": [
       "           image_path                                             string  \\\n",
       "0  X51006327978.0.jpg  Y` `S`O`O`N` `F`A`T`T` `S`/`B` `(`8`1`4`9`7`-`P`)   \n",
       "1  X51006327978.1.jpg  L`O`T` `1`5`0`4`,` `B`A`T`U` `8` `1`/`2`,` `J`...   \n",
       "2  X51006327978.2.jpg  4`6`0`0`0` `P`E`T`A`L`I`N`G` `J`A`Y`A`,` `S`E`...   \n",
       "3  X51006327978.3.jpg                  T`E`L` `:` `0`1`6`-`2`0`1`4`2`0`9   \n",
       "4  X51006327978.4.jpg  G`S`T` `R`E`G` `N`O` `:` `0`0`0`7`8`8`2`5`0`6`2`4   \n",
       "\n",
       "   valid    dataset  \n",
       "0  False  sroie2019  \n",
       "1  False  sroie2019  \n",
       "2  False  sroie2019  \n",
       "3  False  sroie2019  \n",
       "4  False  sroie2019  "
      ]
     },
     "execution_count": 11,
     "metadata": {},
     "output_type": "execute_result"
    }
   ],
   "source": [
    "main_df['string'] = main_df['string'].map(preprocess_string)\n",
    "main_df.head()"
   ]
  },
  {
   "cell_type": "code",
   "execution_count": 12,
   "metadata": {},
   "outputs": [
    {
     "data": {
      "text/html": [
       "<div>\n",
       "<style scoped>\n",
       "    .dataframe tbody tr th:only-of-type {\n",
       "        vertical-align: middle;\n",
       "    }\n",
       "\n",
       "    .dataframe tbody tr th {\n",
       "        vertical-align: top;\n",
       "    }\n",
       "\n",
       "    .dataframe thead th {\n",
       "        text-align: right;\n",
       "    }\n",
       "</style>\n",
       "<table border=\"1\" class=\"dataframe\">\n",
       "  <thead>\n",
       "    <tr style=\"text-align: right;\">\n",
       "      <th></th>\n",
       "      <th>image_path</th>\n",
       "      <th>string</th>\n",
       "      <th>valid</th>\n",
       "      <th>dataset</th>\n",
       "    </tr>\n",
       "  </thead>\n",
       "  <tbody>\n",
       "    <tr>\n",
       "      <th>0</th>\n",
       "      <td>X51006327978.0.jpg</td>\n",
       "      <td>Y` `S`O`O`N` `F`A`T`T` `S`/`B` `(`8`1`4`9`7`-`P`)</td>\n",
       "      <td>False</td>\n",
       "      <td>sroie2019</td>\n",
       "    </tr>\n",
       "    <tr>\n",
       "      <th>2</th>\n",
       "      <td>X51006327978.2.jpg</td>\n",
       "      <td>4`6`0`0`0` `P`E`T`A`L`I`N`G` `J`A`Y`A`,` `S`E`...</td>\n",
       "      <td>False</td>\n",
       "      <td>sroie2019</td>\n",
       "    </tr>\n",
       "    <tr>\n",
       "      <th>4</th>\n",
       "      <td>X51006327978.4.jpg</td>\n",
       "      <td>G`S`T` `R`E`G` `N`O` `:` `0`0`0`7`8`8`2`5`0`6`2`4</td>\n",
       "      <td>False</td>\n",
       "      <td>sroie2019</td>\n",
       "    </tr>\n",
       "    <tr>\n",
       "      <th>6</th>\n",
       "      <td>X51006327978.6.jpg</td>\n",
       "      <td>D`E`S`C</td>\n",
       "      <td>False</td>\n",
       "      <td>sroie2019</td>\n",
       "    </tr>\n",
       "    <tr>\n",
       "      <th>8</th>\n",
       "      <td>X51006327978.8.jpg</td>\n",
       "      <td>P`R`I`C`E</td>\n",
       "      <td>False</td>\n",
       "      <td>sroie2019</td>\n",
       "    </tr>\n",
       "  </tbody>\n",
       "</table>\n",
       "</div>"
      ],
      "text/plain": [
       "           image_path                                             string  \\\n",
       "0  X51006327978.0.jpg  Y` `S`O`O`N` `F`A`T`T` `S`/`B` `(`8`1`4`9`7`-`P`)   \n",
       "2  X51006327978.2.jpg  4`6`0`0`0` `P`E`T`A`L`I`N`G` `J`A`Y`A`,` `S`E`...   \n",
       "4  X51006327978.4.jpg  G`S`T` `R`E`G` `N`O` `:` `0`0`0`7`8`8`2`5`0`6`2`4   \n",
       "6  X51006327978.6.jpg                                            D`E`S`C   \n",
       "8  X51006327978.8.jpg                                          P`R`I`C`E   \n",
       "\n",
       "   valid    dataset  \n",
       "0  False  sroie2019  \n",
       "2  False  sroie2019  \n",
       "4  False  sroie2019  \n",
       "6  False  sroie2019  \n",
       "8  False  sroie2019  "
      ]
     },
     "execution_count": 12,
     "metadata": {},
     "output_type": "execute_result"
    }
   ],
   "source": [
    "sparse_df = pd.concat([ main_df[ main_df['valid'] == False ].iloc[0:10000:2], main_df[ main_df['valid'] == True ].iloc[:500] ])\n",
    "sparse_df.head()"
   ]
  },
  {
   "cell_type": "markdown",
   "metadata": {},
   "source": [
    "### Databunch"
   ]
  },
  {
   "cell_type": "code",
   "execution_count": 13,
   "metadata": {},
   "outputs": [],
   "source": [
    "#export\n",
    "# label_delim = '`' # '<pad>''\n",
    "\n",
    "class MultiCategoryProcessor(PreProcessor):\n",
    "    \"`PreProcessor` that create `classes` from `ds.items` and handle the mapping.\"\n",
    "    def __init__(self, ds:ItemList):\n",
    "        self.create_classes(ds.classes)\n",
    "        self.use_default_classes = attention_config.USE_DEFAULT_CLASSES\n",
    "        self.default_classes = attention_config.allowed_chars\n",
    "        \n",
    "    def create_classes(self, classes):\n",
    "        self.classes = classes\n",
    "        if classes is not None: self.c2i = {v:k for k,v in enumerate(classes)}\n",
    "\n",
    "    def process_one(self,item):\n",
    "        ''' list of chars from `MultiCategoryList.get()` '''\n",
    "        return [ self.c2i[c] if c in self.c2i else 0 for c in item ]\n",
    "    \n",
    "    def process(self, ds):\n",
    "        if self.classes is None: self.create_classes(self.generate_classes(ds.items))\n",
    "        ds.classes = self.classes\n",
    "        ds.c2i = self.c2i\n",
    "        super().process(ds)\n",
    "\n",
    "    def generate_classes(self, items):\n",
    "        ''' items = [ ['h', 'e', 'l', 'l', 'o'], [...], ...] '''\n",
    "        \"Generate classes from `items` by taking the sorted unique values.\"\n",
    "        if self.use_default_classes:\n",
    "            classes = list(self.default_classes)\n",
    "        else:\n",
    "            classes = set()\n",
    "            for c in items: classes = classes.union(set(c))\n",
    "            classes = list(classes)\n",
    "        classes.sort()\n",
    "        return [attention_config.label_delim] + classes # CHANGED"
   ]
  },
  {
   "cell_type": "code",
   "execution_count": 14,
   "metadata": {},
   "outputs": [],
   "source": [
    "#export\n",
    "class MultiCategory(ItemBase):\n",
    "    \"Basic class for multi-classification labels.\"\n",
    "    def __init__(self, data, obj, raw): self.data, self.obj, self.raw = data, obj, raw\n",
    "    def __str__(self):  return attention_config.label_delim.join([str(o) for o in self.obj])\n",
    "    def __hash__(self): return hash(str(self))"
   ]
  },
  {
   "cell_type": "code",
   "execution_count": 15,
   "metadata": {},
   "outputs": [],
   "source": [
    "#export\n",
    "def one_hot_text(x:Collection[int], c:int):\n",
    "    \"One-hot encode `x` with `c` classes.\"\n",
    "    ''' x w/ len of n returns [n,c] shape arr '''\n",
    "    res = np.zeros((len(x),c), np.float32)\n",
    "    res[np.arange(len(x)), listify(x)] = 1.\n",
    "    return res"
   ]
  },
  {
   "cell_type": "code",
   "execution_count": 16,
   "metadata": {},
   "outputs": [],
   "source": [
    "#export\n",
    "class MultiCategoryList(ItemList):\n",
    "    \"Basic `ItemList` for multi-classification labels.\"\n",
    "    _processor = MultiCategoryProcessor\n",
    "    def __init__(self, items:Iterator, classes:Collection=None, label_delim:str=None, one_hot:bool=False, **kwargs):\n",
    "        self.classes = classes\n",
    "        items = [line.split(attention_config.label_delim) for line in items] # CHANGED\n",
    "        super().__init__(items, **kwargs)\n",
    "        self.processor = [MultiCategoryProcessor(self)]\n",
    "\n",
    "    def get(self, i):\n",
    "        o = self.items[i] # list of ints that represent chars\n",
    "        return MultiCategory(tensor(o), [self.classes[p] for p in o], o) # CHANGED\n",
    "\n",
    "    def analyze_pred(self, pred, thresh:float=0.5):\n",
    "        return (pred >= thresh).float()\n",
    "\n",
    "    def reconstruct(self, data_out):\n",
    "        if isinstance(data_out, list): # output of data\n",
    "            t_argmax, _, lengths = data_out\n",
    "        else: # output from nn\n",
    "#             t_argmax = torch.argmax(data_out, axis=-1) # CHANGED\n",
    "            t_argmax = data_out # CHANGED\n",
    "#         t = data_out[0] if isinstance(data_out, list) else data_out # if train mode it returns tuple\n",
    "        ''' t [n,c] tensor '''\n",
    "        o = [int(i) for i in t_argmax] # CHANGED\n",
    "        return MultiCategory(one_hot_text(o, self.c), [self.classes[p] for p in o], o)\n",
    "    \n",
    "    @property\n",
    "    def c(self): return len(self.classes)"
   ]
  },
  {
   "cell_type": "code",
   "execution_count": 17,
   "metadata": {},
   "outputs": [
    {
     "data": {
      "text/plain": [
       "'asdasdasdasdasdasdasdasdasdasdasdasdasdasdasdasdas\\ndasdasdasdasdasdasdasd'"
      ]
     },
     "execution_count": 17,
     "metadata": {},
     "output_type": "execute_result"
    }
   ],
   "source": [
    "#export\n",
    "def str2lines(string, n=50):\n",
    "    return ''.join([s+'\\n' if (i+1)%n == 0 else s for i,s in enumerate(string)])\n",
    "\n",
    "str2lines('asdasdasdasdasdasdasdasdasdasdasdasdasdasdasdasdasdasdasdasdasdasdasdasd')"
   ]
  },
  {
   "cell_type": "code",
   "execution_count": 18,
   "metadata": {},
   "outputs": [],
   "source": [
    "#export\n",
    "class MyImageList(ImageList):\n",
    "    def show_xys(self, xs, ys, imgsize:int=4, figsize:Optional[Tuple[int,int]]=None, **kwargs):\n",
    "        \"Show the `xs` (inputs) and `ys` (targets) on a figure of `figsize`.\"\n",
    "        rows = int(np.ceil(math.sqrt(len(xs))))\n",
    "        axs = subplots(rows, 1, imgsize=imgsize, figsize=figsize) # CHANGED rows -> 1\n",
    "        for x,y,ax in zip(xs, ys, axs.flatten()): x.show(ax=ax, y=y, **kwargs)\n",
    "        for ax in axs.flatten()[len(xs):]: ax.axis('off')\n",
    "        plt.tight_layout()\n",
    "        \n",
    "    def show_xyzs(self, xs, ys, zs, imgsize:int=20, figsize:Optional[Tuple[int,int]]=None, **kwargs):\n",
    "        \"Show `xs` (inputs), `ys` (targets) and `zs` (predictions) on a figure of `figsize`.\"\n",
    "#         if self._square_show_res:\n",
    "        title = 'Ground truth\\nPredictions'\n",
    "        rows = int(np.ceil(math.sqrt(len(xs))))\n",
    "        axs = subplots(rows, 1, imgsize=imgsize, figsize=figsize, title=title, weight='bold', size=12) # CHANGED rows -> 1\n",
    "        for x,y,z,ax in zip(xs,ys,zs,axs.flatten()):\n",
    "            x.show(ax=ax, title=f'y_true: {str2lines(str(y))}\\n\\ny_pred: {str2lines(str(z))}', **kwargs)\n",
    "        for ax in axs.flatten()[len(xs):]: ax.axis('off')\n",
    "#         else:\n",
    "#             title = 'Ground truth/Predictions'\n",
    "#             axs = subplots(len(xs), 2, imgsize=imgsize, figsize=figsize, title=title, weight='bold', size=14)\n",
    "#             for i,(x,y,z) in enumerate(zip(xs,ys,zs)):\n",
    "#                 x.show(ax=axs[i,0], y=y, **kwargs)\n",
    "#                 x.show(ax=axs[i,1], y=z, **kwargs)"
   ]
  },
  {
   "cell_type": "code",
   "execution_count": 19,
   "metadata": {},
   "outputs": [],
   "source": [
    "#export\n",
    "def _gaussian_blur(x, size:uniform_int):\n",
    "    blurred = cv2.blur(image2np(x), (size,size)) # np.arr\n",
    "#     blurred = cv2.GaussianBlur(image2np(x), (size,size), 0)\n",
    "    return tensor(blurred).permute(2,0,1)\n",
    "\n",
    "def gaussian_blur(size, p=1.0):\n",
    "    return RandTransform(tfm=TfmPixel(_gaussian_blur), kwargs={'size':size}, p=p, resolved={}, do_run=True, is_random=True, use_on_y=False)"
   ]
  },
  {
   "cell_type": "code",
   "execution_count": 20,
   "metadata": {},
   "outputs": [],
   "source": [
    "#export\n",
    "resize_one_img = lambda x, size: F.interpolate(x[None], size=size, mode='bilinear', align_corners=True)[0]\n",
    "\n",
    "def resize_tfm(x, pad:uniform_int, line_height=attention_config.LINE_HEIGHT):\n",
    "    ''' size of subtracted padding '''\n",
    "    c,h,w = x.shape\n",
    "    x = x[ : , pad:h-pad , pad:w-pad ]\n",
    "    new_w = int(w * line_height / float(h))\n",
    "    return resize_one_img(x, size=(line_height, new_w))\n",
    "\n",
    "def rand_resize(pad, p=1.0):\n",
    "    return RandTransform(tfm=TfmPixel(resize_tfm), kwargs={'pad':pad}, p=p, resolved={}, do_run=True, is_random=True, use_on_y=False)"
   ]
  },
  {
   "cell_type": "code",
   "execution_count": 21,
   "metadata": {},
   "outputs": [],
   "source": [
    "#export\n",
    "train_transforms = [\n",
    "    rand_resize(pad=(0,PAD), p=1.0),\n",
    "    rotate(degrees=(-2, 2), p=0.6),\n",
    "    symmetric_warp(magnitude=(-0.03, 0.03), p=0.1),\n",
    "    rand_zoom(scale=(0.9,1.03), p=0.5),\n",
    "    brightness(change=(0.35, 0.65), p=0.4),\n",
    "    contrast(scale=(0.7,1.3), p=0.4),\n",
    "    gaussian_blur(size=(1, 7), p=0.2),\n",
    "#     squish(scale=(0.85,1.15), p=0.3),\n",
    "    cutout(n_holes=(0,6), length=(1,10)), # black rect\n",
    "#     tilt(direction=(0,3), magnitude=(-0.2,0.2), p=0.3)\n",
    "]\n",
    "\n",
    "valid_transforms = [\n",
    "    rand_resize(pad=(0,0), p=1.0) # (no padding, but need to resize)\n",
    "]"
   ]
  },
  {
   "cell_type": "code",
   "execution_count": 24,
   "metadata": {},
   "outputs": [],
   "source": [
    "def im2seq_data_collate(batch, pad_idx=0, pad_first=True, backwards=False):\n",
    "    \"Function that collect samples and adds padding. Flips token order if needed\"\n",
    "    data = to_data(batch) # list of (image, text) pairs\n",
    "    # image: [3,48,w], text: [n], where n's and w's are different\n",
    "    max_w = max([image.shape[2] for image, text in data])\n",
    "    max_h = max([image.shape[1] for image, text in data])\n",
    "    max_n = max([text.shape[0] for image, text in data])\n",
    "    # results\n",
    "#     res_x = torch.zeros(len(batch), 3, max_h, max_w).long() + pad_idx\n",
    "    res_x = torch.zeros(len(batch), 3, max_h, max_w) + pad_idx\n",
    "    texts = []\n",
    "    nn_out_seq_len, texts_len = [], []\n",
    "    for i, (image, text) in enumerate(data):\n",
    "        c,h,w = image.shape\n",
    "        res_x[i, : , : , :w ] = image\n",
    "        res_x[i, : , : , w: ] = image[:,:,w-1].unsqueeze(2).expand(c,h,max_w-w)\n",
    "        nn_out_seq_len.append( image_width2seq_len(w) )\n",
    "        n = text.size(0)\n",
    "        texts.append( tensor(text) )\n",
    "        texts_len.append(n)\n",
    "    return res_x, (texts, tensor(nn_out_seq_len).type(torch.int), tensor(texts_len).type(torch.int))"
   ]
  },
  {
   "cell_type": "code",
   "execution_count": 25,
   "metadata": {},
   "outputs": [],
   "source": [
    "#export\n",
    "def create_data(df, bs=32):\n",
    "    ''' DataFrame (df) -> Dataloader (dl) '''\n",
    "    data = (MyImageList.from_df(df, path=DATA_PATH, cols='image_path')\n",
    "        .split_from_df(col='valid')\n",
    "        .label_from_df(cols='string', label_cls=MultiCategoryList, label_delim=attention_config.label_delim)\n",
    "        .transform((train_transforms, valid_transforms), tfm_y=False)\n",
    "        .databunch(bs=bs, collate_fn=im2seq_data_collate)\n",
    "        .normalize(imagenet_stats)\n",
    "    )\n",
    "\n",
    "#     def add_beggining_and_end(b):\n",
    "#         x,y = b\n",
    "#         y = F.pad(y, (1, 0), value=bos_idx)\n",
    "#         y = F.pad(y, (0, 1), value=eos_idx)\n",
    "#         return x,y\n",
    "\n",
    "#     data.add_tfm(add_beggining_and_end)\n",
    "    return data"
   ]
  },
  {
   "cell_type": "markdown",
   "metadata": {},
   "source": [
    "### Model"
   ]
  },
  {
   "cell_type": "code",
   "execution_count": 26,
   "metadata": {},
   "outputs": [],
   "source": [
    "#export\n",
    "def conv_output(w, ss, ps=None, ks=3):\n",
    "    ''' image width, strides, pools, kernel sizes '''\n",
    "    for s,p,k in zip(ss,ps,ks):\n",
    "        s = s[1] if isinstance(s, tuple) else s\n",
    "        w = w if w%s == 0 else w + 1\n",
    "        w = (w - k + 2*p)/s + 1 if p is not None else w/s\n",
    "    return int(w)"
   ]
  },
  {
   "cell_type": "code",
   "execution_count": 27,
   "metadata": {},
   "outputs": [
    {
     "data": {
      "text/plain": [
       "31"
      ]
     },
     "execution_count": 27,
     "metadata": {},
     "output_type": "execute_result"
    }
   ],
   "source": [
    "conv_output(129, [2, 1, 2, 1, (2,1), (2,1), 1], [None] * 6 + [0], [3, 3, 3, 3, 3, 3, 3])"
   ]
  },
  {
   "cell_type": "code",
   "execution_count": 74,
   "metadata": {},
   "outputs": [],
   "source": [
    "#export\n",
    "_apply_layer = lambda args: args[1](args[0]) # args[0]: x, args[1]: layer => layer(x)\n",
    "\n",
    "class MultiHeadAttention(nn.Module):\n",
    "    def __init__(self, n_heads, d_model, d_head=None, p=0., bias=True, scale=True, shared_qk=True):\n",
    "        super().__init__()\n",
    "        d_head = ifnone(d_head, d_model//n_heads)\n",
    "        self.n_heads,self.d_head,self.scale = n_heads,d_head,scale\n",
    "        self.q_wgt, self.v_wgt = [nn.Linear(d_model, n_heads*d_head, bias=bias) for o in range(2)]\n",
    "        self.k_wgt = self.q_wgt if shared_qk else nn.Linear(d_model, n_heads*d_head, bias=bias)\n",
    "        self.out = nn.Linear(n_heads * d_head, d_model, bias=bias)\n",
    "        self.drop_att,self.drop_res = nn.Dropout(p),nn.Dropout(p)\n",
    "        self.ln = nn.LayerNorm(d_model)\n",
    "        \n",
    "#     def forward(self, q, kv, mask=None):\n",
    "#         ''' [b,s_d,512], [b,s_e,512], [1,1,s_d,s_e] -> [b,s_d,512] '''\n",
    "#         return self.ln(q + self.drop_res(self.out(self._apply_attention(q, kv, mask))))\n",
    "    \n",
    "    def forward(self, q, kv, mask=None):\n",
    "        ''' [b,s_d,512], [b,s_e,512], [1,1,s_d,s_e] -> [b,s_d,512] '''\n",
    "        bs,seq_len = q.size(0),q.size(1)\n",
    "        wq,wk,wv = map(_apply_layer, zip([q,kv,kv], [self.q_wgt,self.k_wgt,self.v_wgt])) # [b,s_d,h*512], [b,s_e,h*512] x 2\n",
    "        wq,wk,wv = map(lambda x:x.view(bs, x.size(1), self.n_heads, self.d_head), (wq,wk,wv)) # [b,s_d,h,512], [b,s_e,h,512] x 2\n",
    "        wq,wv = map(lambda x:x.permute(0, 2, 1, 3), (wq,wv)) # [b,h,s_d,512], [b,h,s_e,512]\n",
    "        wk = wk.permute(0, 2, 3, 1) # [b,h,512,s_e]\n",
    "        attn_score = torch.matmul(wq, wk) # [b,h,s_d,s_e]\n",
    "        if self.scale: attn_score.div_(self.d_head ** 0.5)\n",
    "        if mask is not None: # NOTE: masks only ones, not zeros!\n",
    "            attn_score = attn_score.float().masked_fill(mask, -float('inf')).type_as(attn_score) # [b,h,s_d,s_e]\n",
    "        attn_prob = self.drop_att(F.softmax(attn_score, dim=-1)) # [b,h,s_d,s_e]\n",
    "        attn_vec = torch.matmul(attn_prob, wv) # [b,h,s_d,512]\n",
    "        attn_vec = attn_vec.permute(0, 2, 1, 3).contiguous().contiguous() # [b,s_d,h,512]\n",
    "        attention = attn_vec.view(bs, seq_len, -1) # [b,s_d,h*512]\n",
    "        return self.ln(q + self.drop_res(self.out(attention)))"
   ]
  },
  {
   "cell_type": "code",
   "execution_count": 75,
   "metadata": {},
   "outputs": [
    {
     "data": {
      "text/plain": [
       "torch.Size([4, 24, 512])"
      ]
     },
     "execution_count": 75,
     "metadata": {},
     "output_type": "execute_result"
    }
   ],
   "source": [
    "mha = MultiHeadAttention(n_heads=8, d_model=512)\n",
    "mha(torch.zeros(4,24,512), torch.zeros(4,16,512), torch.zeros(1,1,24,16, dtype=bool)).shape"
   ]
  },
  {
   "cell_type": "code",
   "execution_count": 76,
   "metadata": {},
   "outputs": [],
   "source": [
    "#export\n",
    "def feed_forward(d_model:int, d_ff:int, ff_p:float=0., activ_func=partial(nn.ReLU, inplace=True), double_drop:bool=True):\n",
    "    ''' [...,d] -> [...,d] '''\n",
    "    layers = [nn.Linear(d_model, d_ff), activ_func()]\n",
    "    if double_drop: layers.append(nn.Dropout(ff_p))\n",
    "    return SequentialEx(*layers, nn.Linear(d_ff, d_model), nn.Dropout(ff_p), MergeLayer(), nn.LayerNorm(d_model))"
   ]
  },
  {
   "cell_type": "code",
   "execution_count": 77,
   "metadata": {},
   "outputs": [],
   "source": [
    "#export\n",
    "class EncoderBlock(nn.Module):\n",
    "    \"Encoder block of a Transformer model.\"\n",
    "    def __init__(self, n_heads, d_model, d_inner, p=0., bias=True, scale=True, double_drop=True):\n",
    "        super().__init__()\n",
    "        self.mha = MultiHeadAttention(n_heads, d_model, p=p, bias=bias, scale=scale)\n",
    "        self.ff  = feed_forward(d_model, d_inner, ff_p=p, double_drop=double_drop)\n",
    "    \n",
    "    def forward(self, x, mask=None):\n",
    "        ''' [b,s_e,512], [1,1,s_e,s_e] -> [b,s_e,512] '''\n",
    "        return self.ff(self.mha(x, x, mask=mask))"
   ]
  },
  {
   "cell_type": "code",
   "execution_count": 78,
   "metadata": {},
   "outputs": [
    {
     "data": {
      "text/plain": [
       "torch.Size([4, 16, 512])"
      ]
     },
     "execution_count": 78,
     "metadata": {},
     "output_type": "execute_result"
    }
   ],
   "source": [
    "e = EncoderBlock(n_heads=8, d_model=512, d_inner=1024)\n",
    "e(torch.zeros(4,16,512), torch.zeros(1,1,16,16, dtype=bool)).shape"
   ]
  },
  {
   "cell_type": "code",
   "execution_count": 79,
   "metadata": {},
   "outputs": [],
   "source": [
    "#export\n",
    "class DecoderBlock(nn.Module):\n",
    "    \"Decoder block of a Transformer model.\"\n",
    "    def __init__(self, n_heads, d_model, d_inner, p=0., bias=True, scale=True, double_drop=True):\n",
    "        super().__init__()\n",
    "        self.mha1 = MultiHeadAttention(n_heads, d_model, p=p, bias=bias, scale=scale)\n",
    "        self.mha2 = MultiHeadAttention(n_heads, d_model, p=p, bias=bias, scale=scale)\n",
    "        self.ff   = feed_forward(d_model, d_inner, ff_p=p, double_drop=double_drop)\n",
    "    \n",
    "    def forward(self, x, enc, mask_out=None):\n",
    "        ''' [b,s_d,512], [b,s_e,512], [1,1,s_d,s_d] -> [b,s_d,512] '''\n",
    "        return self.ff(self.mha2(self.mha1(x, x, mask_out), enc))"
   ]
  },
  {
   "cell_type": "code",
   "execution_count": 80,
   "metadata": {},
   "outputs": [
    {
     "data": {
      "text/plain": [
       "torch.Size([4, 24, 512])"
      ]
     },
     "execution_count": 80,
     "metadata": {},
     "output_type": "execute_result"
    }
   ],
   "source": [
    "d = DecoderBlock(n_heads=8, d_model=512, d_inner=1024)\n",
    "d(torch.zeros(4,24,512), torch.zeros(4,16,512), torch.zeros(1,1,24,24, dtype=bool)).shape"
   ]
  },
  {
   "cell_type": "code",
   "execution_count": 81,
   "metadata": {},
   "outputs": [],
   "source": [
    "#export\n",
    "def get_output_mask(inp, pad_idx=1):\n",
    "    ''' [b,s_e,...] -> [1,1,s_e,s_e] '''\n",
    "    return torch.triu(inp.new_ones(inp.size(1),inp.size(1)), diagonal=1)[None,None].type(torch.bool)"
   ]
  },
  {
   "cell_type": "code",
   "execution_count": 82,
   "metadata": {},
   "outputs": [
    {
     "data": {
      "text/plain": [
       "tensor([[0, 1, 1, 1],\n",
       "        [0, 0, 1, 1],\n",
       "        [0, 0, 0, 1],\n",
       "        [0, 0, 0, 0]], dtype=torch.int32)"
      ]
     },
     "execution_count": 82,
     "metadata": {},
     "output_type": "execute_result"
    }
   ],
   "source": [
    "get_output_mask(torch.ones(4,4)).type(torch.int).squeeze()"
   ]
  },
  {
   "cell_type": "code",
   "execution_count": 83,
   "metadata": {},
   "outputs": [],
   "source": [
    "#export\n",
    "class PositionalEncoding(Module):\n",
    "    \"Encode the position with a sinusoid.\"\n",
    "    def __init__(self, d:int): self.register_buffer('freq', 1 / (10000 ** (torch.arange(0., d, 2.)/d)))\n",
    "\n",
    "    def forward(self, pos:Tensor):\n",
    "        inp = torch.ger(pos, self.freq)\n",
    "        enc = torch.cat([inp.sin(), inp.cos()], dim=-1)\n",
    "        return enc"
   ]
  },
  {
   "cell_type": "code",
   "execution_count": 84,
   "metadata": {},
   "outputs": [],
   "source": [
    "#export\n",
    "class TransformerEmbedding(nn.Module):\n",
    "    \"Embedding + positional encoding + dropout\"\n",
    "    def __init__(self, emb_sz, vocab_sz=None, drop=0.):\n",
    "        super().__init__()\n",
    "        self.emb_sz = emb_sz\n",
    "        if vocab_sz is None: self.embed = None\n",
    "        else: self.embed = nn.Embedding(vocab_sz, emb_sz)\n",
    "        self.pos_enc = PositionalEncoding(emb_sz)\n",
    "        self.drop = nn.Dropout(drop)\n",
    "        self.alpha = nn.Parameter(tensor(1.))\n",
    "    \n",
    "    def forward(self, inp):\n",
    "        ''' [] -> [] '''\n",
    "        pos = torch.arange(0, inp.size(1), device=inp.device).float()\n",
    "        if self.embed is not None: inp = self.embed(inp)\n",
    "#         return self.drop(inp + self.alpha * self.pos_enc(pos))\n",
    "        return self.drop(inp * math.sqrt(self.emb_sz) + self.pos_enc(pos))"
   ]
  },
  {
   "cell_type": "code",
   "execution_count": 85,
   "metadata": {},
   "outputs": [],
   "source": [
    "#export\n",
    "def compose(funcs):\n",
    "    def func_out(x, *args):\n",
    "        for f in listify(funcs):\n",
    "            x = f(x, *args)\n",
    "        return x\n",
    "    return func_out"
   ]
  },
  {
   "cell_type": "code",
   "execution_count": 86,
   "metadata": {},
   "outputs": [],
   "source": [
    "#export\n",
    "class TransformerEncoder(Module):\n",
    "    def __init__(self, n_layers=6, n_heads=8, d_model=512, d_inner=1024, p=0.1, \n",
    "                 bias=True, scale=True, double_drop=True, pad_idx=1, one_hot_encoded=False):\n",
    "        self.enc_emb = TransformerEmbedding(d_model, drop=0.) # no need to embed encoding from cnn output\n",
    "        args = (n_heads, d_model, d_inner, p, bias, scale, double_drop)\n",
    "        self.encoders = nn.ModuleList([EncoderBlock(*args) for _ in range(n_layers)])\n",
    "#         self.out = nn.Linear(d_model, out_vsz)\n",
    "        # self.out.weight = self.dec_emb.embed.weight\n",
    "        self.pad_idx = pad_idx\n",
    "        self.one_hot_encoded = one_hot_encoded\n",
    "        \n",
    "    def forward(self, inp):\n",
    "        ''' [b,s_e,512], [b,s_d,c] or [b,s_d] -> [b,s_d,c] (c - num classes) '''\n",
    "#         if self.one_hot_encoded: out = out.argmax(-1) # [b,s_d]\n",
    "#         mask_out = get_output_mask(out, self.pad_idx) # [1,1,s_d,s_d]\n",
    "#         out = self.dec_emb(out) \n",
    "        enc = self.enc_emb(inp) # \n",
    "        enc = compose(self.encoders)(enc) # [b,s_e,512]\n",
    "#         out = compose(self.decoders)(out, enc, mask_out) # [b,s_d,512]\n",
    "        return enc"
   ]
  },
  {
   "cell_type": "code",
   "execution_count": 87,
   "metadata": {},
   "outputs": [
    {
     "data": {
      "text/plain": [
       "torch.Size([4, 12, 512])"
      ]
     },
     "execution_count": 87,
     "metadata": {},
     "output_type": "execute_result"
    }
   ],
   "source": [
    "TransformerEncoder()( torch.zeros(4,12,512) ).shape"
   ]
  },
  {
   "cell_type": "code",
   "execution_count": 88,
   "metadata": {},
   "outputs": [],
   "source": [
    "#export\n",
    "def _create_cnn(kernels, strides, channels, padding):\n",
    "    layers = []\n",
    "    for i,o,k,s,p in zip([3] + channels[:-1], channels, kernels, strides, padding):\n",
    "        layers.append( conv_layer(ni=i, nf=o, ks=k, stride=s, padding=p) )\n",
    "    return nn.Sequential(*layers)"
   ]
  },
  {
   "cell_type": "code",
   "execution_count": 89,
   "metadata": {},
   "outputs": [
    {
     "data": {
      "text/plain": [
       "torch.Size([2, 62, 10])"
      ]
     },
     "execution_count": 89,
     "metadata": {},
     "output_type": "execute_result"
    }
   ],
   "source": [
    "#export\n",
    "class ATTMODEL(nn.Module):\n",
    "\n",
    "    def __init__(self, nclass=10, nc=3, n_layers=6, use_rnn=False, rnn_hidden=256, bidirectional=False):\n",
    "        super().__init__()\n",
    "        self.nclass = nclass\n",
    "        kernels = [3, 3, 3, 3, 3, 3, 3]\n",
    "        strides = [2, 1, (2,1), 1, (2,1), (2,1), 1]\n",
    "        channels = [64, 128, 256, 256, 512, 512, 512]\n",
    "        padding = [None] * 6 + [0] # None - out size doesnt change\n",
    "        \n",
    "        self.kernels, self.strides, self.channels, self.padding = kernels, strides, channels, padding\n",
    "        \n",
    "        self.cnn = _create_cnn(kernels, strides, channels, padding)\n",
    "        \n",
    "        out_channels = channels[-1]\n",
    "        self.transformer = TransformerEncoder(n_layers=n_layers, n_heads=8, d_model=out_channels, d_inner=1024)\n",
    "        \n",
    "        self.use_rnn = use_rnn\n",
    "        if self.use_rnn:\n",
    "            self.rnn = nn.LSTM(out_channels, rnn_hidden, bidirectional=bidirectional)\n",
    "            mult = 1 if not bidirectional else 2\n",
    "            out_channels = rnn_hidden * mult\n",
    "        \n",
    "        self.out = nn.Linear(out_channels, nclass)\n",
    "\n",
    "    def forward(self, x):\n",
    "        ''' [b,c,h,w], [b,s_d] '''\n",
    "        x = self.cnn(x) # [b,512,1,w/4-2]\n",
    "        b, c, h, w = x.size()\n",
    "        assert h == 1, \"the height of conv must be 1\"\n",
    "        x_orig = x.squeeze(2).permute(0, 2, 1) # [b,w,512] (w == s)\n",
    "        x = x_orig\n",
    "        x = self.transformer(x)\n",
    "        if self.use_rnn: x, _ = self.rnn(x)\n",
    "        return self.out(x)\n",
    "\n",
    "ATTMODEL()(torch.zeros(2,3,48,128)).shape"
   ]
  },
  {
   "cell_type": "code",
   "execution_count": 90,
   "metadata": {},
   "outputs": [
    {
     "data": {
      "text/plain": [
       "63"
      ]
     },
     "execution_count": 90,
     "metadata": {},
     "output_type": "execute_result"
    }
   ],
   "source": [
    "crnn = ATTMODEL()\n",
    "image_width2seq_len = lambda w: conv_output(w, crnn.strides, crnn.padding, crnn.kernels)\n",
    "image_width2seq_len(129)"
   ]
  },
  {
   "cell_type": "markdown",
   "metadata": {},
   "source": [
    "### Data"
   ]
  },
  {
   "cell_type": "code",
   "execution_count": 91,
   "metadata": {},
   "outputs": [
    {
     "data": {
      "text/plain": [
       "ImageDataBunch;\n",
       "\n",
       "Train: LabelList (5000 items)\n",
       "x: MyImageList\n",
       "Image (3, 48, 399),Image (3, 48, 444),Image (3, 48, 409),Image (3, 48, 84),Image (3, 48, 100)\n",
       "y: MultiCategoryList\n",
       "Y` `S`O`O`N` `F`A`T`T` `S`/`B` `(`8`1`4`9`7`-`P`),4`6`0`0`0` `P`E`T`A`L`I`N`G` `J`A`Y`A`,` `S`E`L`A`N`G`O`R`.,G`S`T` `R`E`G` `N`O` `:` `0`0`0`7`8`8`2`5`0`6`2`4,D`E`S`C,P`R`I`C`E\n",
       "Path: ../data/ocr/lines;\n",
       "\n",
       "Valid: LabelList (500 items)\n",
       "x: MyImageList\n",
       "Image (3, 48, 272),Image (3, 48, 794),Image (3, 48, 432),Image (3, 48, 504),Image (3, 48, 355)\n",
       "y: MultiCategoryList\n",
       "T`H`O`N`G` `R`E`C`I`P`E,1`6`G` `B`L`O`C`K` `B` `,`Z`E`N`I`T`H` `C`O`R`P`O`R`A`T`E` `P`A`R`K,J`A`L`A`N` `S`S`7`/`2`6`,` `4`7`3`0`1,P`E`T`A`L`I`N`G` `J`A`Y`A` `S`E`L`A`N`G`O`R,T`E`L` `0`3`-`7`8`8`6` `4`8`7`7\n",
       "Path: ../data/ocr/lines;\n",
       "\n",
       "Test: None"
      ]
     },
     "execution_count": 91,
     "metadata": {},
     "output_type": "execute_result"
    }
   ],
   "source": [
    "data = create_data(sparse_df, bs=8)\n",
    "data"
   ]
  },
  {
   "cell_type": "code",
   "execution_count": 92,
   "metadata": {},
   "outputs": [
    {
     "data": {
      "image/png": "[encoded data removed]",
      "text/plain": [
       "<Figure size 720x720 with 3 Axes>"
      ]
     },
     "metadata": {
      "needs_background": "light"
     },
     "output_type": "display_data"
    }
   ],
   "source": [
    "data.show_batch(4, figsize=(10,10))"
   ]
  },
  {
   "cell_type": "code",
   "execution_count": 93,
   "metadata": {},
   "outputs": [
    {
     "data": {
      "text/plain": [
       "torch.Size([8, 3, 48, 794])"
      ]
     },
     "execution_count": 93,
     "metadata": {},
     "output_type": "execute_result"
    }
   ],
   "source": [
    "dl = iter(data.valid_dl)\n",
    "i, o = next(dl)\n",
    "i.shape"
   ]
  },
  {
   "cell_type": "code",
   "execution_count": 94,
   "metadata": {},
   "outputs": [
    {
     "data": {
      "text/plain": [
       "70"
      ]
     },
     "execution_count": 94,
     "metadata": {},
     "output_type": "execute_result"
    }
   ],
   "source": [
    "data.c"
   ]
  },
  {
   "cell_type": "code",
   "execution_count": 95,
   "metadata": {},
   "outputs": [
    {
     "data": {
      "image/jpeg": "[encoded data removed]",
      "image/png": "[encoded data removed]",
      "text/plain": [
       "Image (3, 53, 441)"
      ]
     },
     "execution_count": 95,
     "metadata": {},
     "output_type": "execute_result"
    }
   ],
   "source": [
    "data.x[0]"
   ]
  },
  {
   "cell_type": "code",
   "execution_count": 96,
   "metadata": {},
   "outputs": [
    {
     "data": {
      "text/plain": [
       "MultiCategory Y` `S`O`O`N` `F`A`T`T` `S`/`B` `(`8`1`4`9`7`-`P`)"
      ]
     },
     "execution_count": 96,
     "metadata": {},
     "output_type": "execute_result"
    }
   ],
   "source": [
    "data.y[0]"
   ]
  },
  {
   "cell_type": "code",
   "execution_count": 97,
   "metadata": {},
   "outputs": [
    {
     "data": {
      "text/plain": [
       "tensor([59,  2, 53, 49, 49, 48,  2, 40, 35, 54, 54,  2, 53, 17, 36,  2, 10, 26,\n",
       "        19, 22, 27, 25, 15, 50, 11])"
      ]
     },
     "execution_count": 97,
     "metadata": {},
     "output_type": "execute_result"
    }
   ],
   "source": [
    "data.y[0].data"
   ]
  },
  {
   "cell_type": "markdown",
   "metadata": {},
   "source": [
    "### Learner"
   ]
  },
  {
   "cell_type": "code",
   "execution_count": 98,
   "metadata": {},
   "outputs": [],
   "source": [
    "def loss_func(y_pred, y_true):\n",
    "    # y_pred: [b,s_d,c], y_true: [b,s_d]\n",
    "    mask = y_true != pad_idx\n",
    "    return CrossEntropyFlat()(y_pred[mask], y_true[mask])"
   ]
  },
  {
   "cell_type": "code",
   "execution_count": 99,
   "metadata": {},
   "outputs": [],
   "source": [
    "pad_idx = data.classes.index(label_delim)\n",
    "ctc_loss = nn.CTCLoss(blank=pad_idx, reduction='mean', zero_infinity=True)"
   ]
  },
  {
   "cell_type": "code",
   "execution_count": 100,
   "metadata": {},
   "outputs": [],
   "source": [
    "#export\n",
    "\n",
    "def loss_func(y_pred, y_true, y_pred_len, y_true_len):\n",
    "    # y_pred: [b,s_e,c], y_true: [[s_d], [s_d], ...], lengths: [b]\n",
    "    b, s_e, c = y_pred.shape\n",
    "    y_true = torch.cat(y_true, axis=0) # [b*s_d]\n",
    "    y_pred = y_pred.log_softmax(axis=2).permute(1,0,2) # [ s_e, b, c ]\n",
    "#     torch.backends.cudnn.enabled = False\n",
    "    loss = ctc_loss(y_pred, y_true, y_pred_len, y_true_len)\n",
    "#     torch.backends.cudnn.enabled = True\n",
    "    return loss"
   ]
  },
  {
   "cell_type": "code",
   "execution_count": 101,
   "metadata": {},
   "outputs": [
    {
     "data": {
      "text/plain": [
       "(0.09090909090909091, 0.25)"
      ]
     },
     "execution_count": 101,
     "metadata": {},
     "output_type": "execute_result"
    }
   ],
   "source": [
    "#export\n",
    "def wer(s1,s2):\n",
    "    ''' s1 - true text, s2 - pred text '''\n",
    "    d = np.zeros([len(s1)+1,len(s2)+1])\n",
    "    d[:,0] = np.arange(len(s1)+1)\n",
    "    d[0,:] = np.arange(len(s2)+1)\n",
    "\n",
    "    for j in range(1,len(s2)+1):\n",
    "        for i in range(1,len(s1)+1):\n",
    "            if s1[i-1] == s2[j-1]:\n",
    "                d[i,j] = d[i-1,j-1]\n",
    "            else:\n",
    "                d[i,j] = min(d[i-1,j]+1, d[i,j-1]+1, d[i-1,j-1]+1)\n",
    "\n",
    "    return d[-1,-1]/len(s1)\n",
    "\n",
    "word_error = wer( 'black frog jumped away'.split(' '), 'black frog jumped awayyy'.split(' ') )\n",
    "char_error = wer( 'black frog jumped away', 'black frog jumped awayyy' )\n",
    "char_error, word_error"
   ]
  },
  {
   "cell_type": "code",
   "execution_count": 102,
   "metadata": {},
   "outputs": [],
   "source": [
    "#export\n",
    "def decode_ctc(texts, classes):\n",
    "    \"\"\" convert text-index into text-label. (make sure len(t) doesnt throw length of 0-dim error) \"\"\"\n",
    "    out = []\n",
    "    index = 0\n",
    "    for t in texts:\n",
    "        char_list = []\n",
    "        for i in range(len(t)):\n",
    "            if t[i] != 0 and (not (i > 0 and t[i - 1] == t[i])):  # removing repeated characters and blank.\n",
    "                char_list.append(t[i])\n",
    "#         text = ''.join(char_list)\n",
    "\n",
    "        out.append(tensor(char_list))\n",
    "    return out"
   ]
  },
  {
   "cell_type": "code",
   "execution_count": 103,
   "metadata": {},
   "outputs": [],
   "source": [
    "decode = partial(decode_ctc, classes=data.classes)"
   ]
  },
  {
   "cell_type": "code",
   "execution_count": 104,
   "metadata": {},
   "outputs": [],
   "source": [
    "#export\n",
    "def CER(y_pred, y_true, y_pred_len, y_true_len):\n",
    "    # y_pred: [b,s_e,c], y_true: [[s_d], [s_d], ...], lengths: [b]\n",
    "    y_pred = y_pred.argmax(-1)\n",
    "    y_pred = decode(y_pred)\n",
    "    m = 0\n",
    "    for yp, p_len, yt in zip(y_pred, y_pred_len, y_true):\n",
    "        if yp.shape == torch.Size([]): continue\n",
    "        yt_text = ''.join([learner.data.classes[i] for i in yt])\n",
    "        yp_text = ''.join([learner.data.classes[i] for i in yp])\n",
    "        m += wer(yt_text, yp_text)\n",
    "    return tensor(m / len(y_pred))\n",
    "\n",
    "#export\n",
    "def WER(y_pred, y_true, y_pred_len, y_true_len):\n",
    "    # y_pred: [b,s_e,c], y_true: [[s_d], [s_d], ...], lengths: [b]\n",
    "    y_pred = y_pred.argmax(-1)\n",
    "    y_pred = decode(y_pred)\n",
    "    m = 0\n",
    "    for yp, p_len, yt in zip(y_pred, y_pred_len, y_true):\n",
    "        if yp.shape == torch.Size([]): continue\n",
    "        yt_text = ''.join([learner.data.classes[i] for i in yt])\n",
    "        yp_text = ''.join([learner.data.classes[i] for i in yp])\n",
    "        m += wer(yt_text.split(' '), yp_text.split(' '))\n",
    "    return tensor(m / len(y_pred))"
   ]
  },
  {
   "cell_type": "code",
   "execution_count": 111,
   "metadata": {},
   "outputs": [],
   "source": [
    "# either load or create new learner\n",
    "learner = load_inference('attention_ocr')\n",
    "learner.data = data"
   ]
  },
  {
   "cell_type": "code",
   "execution_count": 106,
   "metadata": {},
   "outputs": [],
   "source": [
    "data = create_data(main_df, bs=8)\n",
    "model = ATTMODEL(nclass=data.c, n_layers=3)\n",
    "pad_idx = data.classes.index(label_delim)"
   ]
  },
  {
   "cell_type": "code",
   "execution_count": 107,
   "metadata": {},
   "outputs": [],
   "source": [
    "learner = Learner(data, model, loss_func=loss_func, metrics=[CER, WER])\n",
    "learner.callbacks.append(ShowGraph(learner))\n",
    "\n",
    "# learner.show_results(DatasetType.Train, rows=1)"
   ]
  },
  {
   "cell_type": "code",
   "execution_count": 108,
   "metadata": {},
   "outputs": [
    {
     "data": {
      "text/html": [],
      "text/plain": [
       "<IPython.core.display.HTML object>"
      ]
     },
     "metadata": {},
     "output_type": "display_data"
    },
    {
     "name": "stdout",
     "output_type": "stream",
     "text": [
      "LR Finder is complete, type {learner_name}.recorder.plot() to see the graph.\n",
      "Min numerical gradient: 4.37E-05\n",
      "Min loss divided by 10: 1.00E-02\n"
     ]
    },
    {
     "data": {
      "image/png": "[encoded data removed]",
      "text/plain": [
       "<Figure size 432x288 with 1 Axes>"
      ]
     },
     "metadata": {
      "needs_background": "light"
     },
     "output_type": "display_data"
    }
   ],
   "source": [
    "learner.lr_find()\n",
    "learner.recorder.plot(skip_end=7,suggestion=True)"
   ]
  },
  {
   "cell_type": "code",
   "execution_count": 109,
   "metadata": {},
   "outputs": [
    {
     "data": {
      "text/html": [
       "<table border=\"1\" class=\"dataframe\">\n",
       "  <thead>\n",
       "    <tr style=\"text-align: left;\">\n",
       "      <th>epoch</th>\n",
       "      <th>train_loss</th>\n",
       "      <th>valid_loss</th>\n",
       "      <th>CER</th>\n",
       "      <th>WER</th>\n",
       "      <th>time</th>\n",
       "    </tr>\n",
       "  </thead>\n",
       "  <tbody>\n",
       "    <tr>\n",
       "      <td>0</td>\n",
       "      <td>0.237017</td>\n",
       "      <td>0.349695</td>\n",
       "      <td>0.100225</td>\n",
       "      <td>0.413914</td>\n",
       "      <td>11:55</td>\n",
       "    </tr>\n",
       "  </tbody>\n",
       "</table>"
      ],
      "text/plain": [
       "<IPython.core.display.HTML object>"
      ]
     },
     "metadata": {},
     "output_type": "display_data"
    },
    {
     "data": {
      "image/png": "[encoded data removed]",
      "text/plain": [
       "<Figure size 432x288 with 1 Axes>"
      ]
     },
     "metadata": {},
     "output_type": "display_data"
    }
   ],
   "source": [
    "learner.fit_one_cycle(1, 1e-4)"
   ]
  },
  {
   "cell_type": "code",
   "execution_count": 69,
   "metadata": {},
   "outputs": [
    {
     "data": {
      "image/png": "[encoded data removed]",
      "text/plain": [
       "<Figure size 864x288 with 2 Axes>"
      ]
     },
     "metadata": {
      "needs_background": "light"
     },
     "output_type": "display_data"
    }
   ],
   "source": [
    "learner.recorder.plot_lr(show_moms=True)"
   ]
  },
  {
   "cell_type": "code",
   "execution_count": 113,
   "metadata": {},
   "outputs": [
    {
     "data": {
      "text/html": [
       "<table border=\"1\" class=\"dataframe\">\n",
       "  <thead>\n",
       "    <tr style=\"text-align: left;\">\n",
       "      <th>epoch</th>\n",
       "      <th>train_loss</th>\n",
       "      <th>valid_loss</th>\n",
       "      <th>CER</th>\n",
       "      <th>WER</th>\n",
       "      <th>time</th>\n",
       "    </tr>\n",
       "  </thead>\n",
       "  <tbody>\n",
       "    <tr>\n",
       "      <td>0</td>\n",
       "      <td>0.240205</td>\n",
       "      <td>0.323071</td>\n",
       "      <td>0.089470</td>\n",
       "      <td>0.368143</td>\n",
       "      <td>11:57</td>\n",
       "    </tr>\n",
       "    <tr>\n",
       "      <td>1</td>\n",
       "      <td>0.102594</td>\n",
       "      <td>0.188289</td>\n",
       "      <td>0.052375</td>\n",
       "      <td>0.246102</td>\n",
       "      <td>11:58</td>\n",
       "    </tr>\n",
       "  </tbody>\n",
       "</table>"
      ],
      "text/plain": [
       "<IPython.core.display.HTML object>"
      ]
     },
     "metadata": {},
     "output_type": "display_data"
    },
    {
     "data": {
      "image/png": "[encoded data removed]",
      "text/plain": [
       "<Figure size 432x288 with 1 Axes>"
      ]
     },
     "metadata": {},
     "output_type": "display_data"
    },
    {
     "name": "stderr",
     "output_type": "stream",
     "text": [
      "IOPub message rate exceeded.\n",
      "The notebook server will temporarily stop sending output\n",
      "to the client in order to avoid crashing it.\n",
      "To change this limit, set the config variable\n",
      "`--NotebookApp.iopub_msg_rate_limit`.\n",
      "\n",
      "Current values:\n",
      "NotebookApp.iopub_msg_rate_limit=1000.0 (msgs/sec)\n",
      "NotebookApp.rate_limit_window=3.0 (secs)\n",
      "\n"
     ]
    }
   ],
   "source": [
    "learner.fit_one_cycle(2, 1e-4)"
   ]
  },
  {
   "cell_type": "code",
   "execution_count": null,
   "metadata": {},
   "outputs": [],
   "source": []
  },
  {
   "cell_type": "code",
   "execution_count": 70,
   "metadata": {},
   "outputs": [
    {
     "data": {
      "text/html": [
       "<table border=\"1\" class=\"dataframe\">\n",
       "  <thead>\n",
       "    <tr style=\"text-align: left;\">\n",
       "      <th>epoch</th>\n",
       "      <th>train_loss</th>\n",
       "      <th>valid_loss</th>\n",
       "      <th>CER</th>\n",
       "      <th>WER</th>\n",
       "      <th>time</th>\n",
       "    </tr>\n",
       "  </thead>\n",
       "  <tbody>\n",
       "    <tr>\n",
       "      <td>0</td>\n",
       "      <td>0.202908</td>\n",
       "      <td>0.196617</td>\n",
       "      <td>0.054401</td>\n",
       "      <td>0.243422</td>\n",
       "      <td>12:44</td>\n",
       "    </tr>\n",
       "    <tr>\n",
       "      <td>1</td>\n",
       "      <td>0.230875</td>\n",
       "      <td>0.230261</td>\n",
       "      <td>0.062382</td>\n",
       "      <td>0.299656</td>\n",
       "      <td>12:44</td>\n",
       "    </tr>\n",
       "    <tr>\n",
       "      <td>2</td>\n",
       "      <td>0.184453</td>\n",
       "      <td>0.184768</td>\n",
       "      <td>0.050692</td>\n",
       "      <td>0.239707</td>\n",
       "      <td>12:43</td>\n",
       "    </tr>\n",
       "    <tr>\n",
       "      <td>3</td>\n",
       "      <td>0.119743</td>\n",
       "      <td>0.148107</td>\n",
       "      <td>0.037876</td>\n",
       "      <td>0.177147</td>\n",
       "      <td>12:47</td>\n",
       "    </tr>\n",
       "    <tr>\n",
       "      <td>4</td>\n",
       "      <td>0.089449</td>\n",
       "      <td>0.112572</td>\n",
       "      <td>0.027303</td>\n",
       "      <td>0.140700</td>\n",
       "      <td>12:47</td>\n",
       "    </tr>\n",
       "    <tr>\n",
       "      <td>5</td>\n",
       "      <td>0.097496</td>\n",
       "      <td>0.104368</td>\n",
       "      <td>0.024799</td>\n",
       "      <td>0.117317</td>\n",
       "      <td>12:48</td>\n",
       "    </tr>\n",
       "    <tr>\n",
       "      <td>6</td>\n",
       "      <td>0.066068</td>\n",
       "      <td>0.087686</td>\n",
       "      <td>0.021050</td>\n",
       "      <td>0.104705</td>\n",
       "      <td>12:47</td>\n",
       "    </tr>\n",
       "    <tr>\n",
       "      <td>7</td>\n",
       "      <td>0.045882</td>\n",
       "      <td>0.078434</td>\n",
       "      <td>0.017442</td>\n",
       "      <td>0.090925</td>\n",
       "      <td>12:50</td>\n",
       "    </tr>\n",
       "    <tr>\n",
       "      <td>8</td>\n",
       "      <td>0.033603</td>\n",
       "      <td>0.075237</td>\n",
       "      <td>0.016991</td>\n",
       "      <td>0.086048</td>\n",
       "      <td>12:48</td>\n",
       "    </tr>\n",
       "    <tr>\n",
       "      <td>9</td>\n",
       "      <td>0.040141</td>\n",
       "      <td>0.074169</td>\n",
       "      <td>0.016440</td>\n",
       "      <td>0.082840</td>\n",
       "      <td>12:49</td>\n",
       "    </tr>\n",
       "  </tbody>\n",
       "</table>"
      ],
      "text/plain": [
       "<IPython.core.display.HTML object>"
      ]
     },
     "metadata": {},
     "output_type": "display_data"
    },
    {
     "name": "stderr",
     "output_type": "stream",
     "text": [
      "IOPub message rate exceeded.\n",
      "The notebook server will temporarily stop sending output\n",
      "to the client in order to avoid crashing it.\n",
      "To change this limit, set the config variable\n",
      "`--NotebookApp.iopub_msg_rate_limit`.\n",
      "\n",
      "Current values:\n",
      "NotebookApp.iopub_msg_rate_limit=1000.0 (msgs/sec)\n",
      "NotebookApp.rate_limit_window=3.0 (secs)\n",
      "\n"
     ]
    }
   ],
   "source": [
    "learner.fit_one_cycle(10, 1e-4)"
   ]
  },
  {
   "cell_type": "code",
   "execution_count": 114,
   "metadata": {},
   "outputs": [],
   "source": [
    "save_inference(learner, 'attention_ocr')"
   ]
  },
  {
   "cell_type": "markdown",
   "metadata": {},
   "source": [
    "### Examples"
   ]
  },
  {
   "cell_type": "code",
   "execution_count": 115,
   "metadata": {},
   "outputs": [],
   "source": [
    "learner = load_inference('attention_ocr')\n",
    "learner.data = data"
   ]
  },
  {
   "cell_type": "code",
   "execution_count": 116,
   "metadata": {},
   "outputs": [],
   "source": [
    "# for fn in easy_df[:1]['image_path']:\n",
    "#     im = open_image(os.path.join(DATA_PATH, fn))\n",
    "#     batch = learner.data.one_item(im)\n",
    "#     preds = learner.model.eval()(batch[0]).squeeze().argmax(-1)\n",
    "#     indexes = [int(i) for i in decode([preds])[0]]\n",
    "#     print(''.join([learner.data.classes[i] for i in indexes]))"
   ]
  },
  {
   "cell_type": "code",
   "execution_count": 117,
   "metadata": {},
   "outputs": [],
   "source": [
    "# learner.show_results(DatasetType.Train, rows=1) # DOESNT WORK"
   ]
  },
  {
   "cell_type": "code",
   "execution_count": 118,
   "metadata": {},
   "outputs": [],
   "source": [
    "dl = iter(learner.data.valid_dl)"
   ]
  },
  {
   "cell_type": "code",
   "execution_count": 119,
   "metadata": {},
   "outputs": [
    {
     "name": "stderr",
     "output_type": "stream",
     "text": [
      "Clipping input data to the valid range for imshow with RGB data ([0..1] for floats or [0..255] for integers).\n"
     ]
    },
    {
     "name": "stdout",
     "output_type": "stream",
     "text": [
      "PRED: ````````1`````````````````````````6```````````````````````G``````````````````````` ` `````````````````B```````````L`L```````````````````````````````O`````````````````````C`````````````````K`K````````````````````````` ` ```````````````````B```````````````````````````````````````````````.`````````````Z`Z`````````````````````````E`E`````````````````````N`N`````````````I`````````````````````T`````````````````````````````H``````````````````````` ```````````````````C```````````````````````O```````````````````R`R`````````````````````P```````````````````````O```````````````````R`R```````````````````A`````````````````T`````````````````````````````E``````````````````````` ```````````````````P```````````````````A`A`````````````````````R`R`````````````````K`K````````````````````````````````\n",
      "TRUE: 1`6`G` `B`L`O`C`K` `B` `,`Z`E`N`I`T`H` `C`O`R`P`O`R`A`T`E` `P`A`R`K\n"
     ]
    },
    {
     "data": {
      "image/png": "[encoded data removed]",
      "text/plain": [
       "<Figure size 1440x144 with 1 Axes>"
      ]
     },
     "metadata": {
      "needs_background": "light"
     },
     "output_type": "display_data"
    }
   ],
   "source": [
    "model = learner.model\n",
    "model = model.eval()\n",
    "a = next(dl)\n",
    "i = 1\n",
    "y_pred = model(a[0])\n",
    "o = y_pred.argmax(-1)[i].cpu().numpy()\n",
    "print('PRED:', MultiCategory(one_hot_text(o, data.c), [data.classes[p] for p in o], o))\n",
    "print('TRUE:', MultiCategory(a[1], [data.classes[p] for p in a[1][0][i]], o))\n",
    "plt.figure(figsize = (20,2))\n",
    "_ = plt.imshow(a[0][i].permute(1,2,0).cpu().numpy(), interpolation='nearest')"
   ]
  },
  {
   "cell_type": "code",
   "execution_count": 120,
   "metadata": {},
   "outputs": [
    {
     "data": {
      "text/plain": [
       "'16G BLOCK B.ZENITH CORPORATE PARK'"
      ]
     },
     "execution_count": 120,
     "metadata": {},
     "output_type": "execute_result"
    }
   ],
   "source": [
    "''.join([data.classes[i] for i in decode([o])[0]])"
   ]
  },
  {
   "cell_type": "markdown",
   "metadata": {},
   "source": [
    "### Eval"
   ]
  },
  {
   "cell_type": "code",
   "execution_count": 70,
   "metadata": {},
   "outputs": [],
   "source": [
    "def calc_precision_recall(true_words, pred_words):\n",
    "    num_preds, num_trues = len(pred_words), len(true_words)\n",
    "    \n",
    "    correct = 0\n",
    "    for true_word in true_words:\n",
    "        if true_word in pred_words:\n",
    "            pred_words.remove(true_word)\n",
    "            correct += 1\n",
    "            continue\n",
    "\n",
    "    precision = correct / num_preds\n",
    "    recall = correct / num_trues\n",
    "    # print(precision, recall, correct, num_preds)\n",
    "    return precision, recall"
   ]
  },
  {
   "cell_type": "code",
   "execution_count": 71,
   "metadata": {},
   "outputs": [
    {
     "data": {
      "text/plain": [
       "(0.09090909090909091, 0.25)"
      ]
     },
     "execution_count": 71,
     "metadata": {},
     "output_type": "execute_result"
    }
   ],
   "source": [
    "def wer(s1,s2):\n",
    "    ''' s1 - true text, s2 - pred text '''\n",
    "    d = np.zeros([len(s1)+1,len(s2)+1])\n",
    "    d[:,0] = np.arange(len(s1)+1)\n",
    "    d[0,:] = np.arange(len(s2)+1)\n",
    "\n",
    "    for j in range(1,len(s2)+1):\n",
    "        for i in range(1,len(s1)+1):\n",
    "            if s1[i-1] == s2[j-1]:\n",
    "                d[i,j] = d[i-1,j-1]\n",
    "            else:\n",
    "                d[i,j] = min(d[i-1,j]+1, d[i,j-1]+1, d[i-1,j-1]+1)\n",
    "\n",
    "    return d[-1,-1]/len(s1)\n",
    "\n",
    "word_error = wer( 'black frog jumped away'.split(' '), 'black frog jumped awayyy'.split(' ') )\n",
    "char_error = wer( 'black frog jumped away', 'black frog jumped awayyy' )\n",
    "char_error, word_error"
   ]
  },
  {
   "cell_type": "code",
   "execution_count": 72,
   "metadata": {},
   "outputs": [],
   "source": [
    "def idx2text(indexes):\n",
    "    for i in indexes:\n",
    "        try:\n",
    "            data.classes[i]\n",
    "        except:\n",
    "            print('asd', i)\n",
    "    return ''.join([data.classes[i] for i in indexes])"
   ]
  },
  {
   "cell_type": "code",
   "execution_count": 73,
   "metadata": {},
   "outputs": [],
   "source": [
    "def evaluate_model(model, dl, t2list=lambda t: list(t.cpu().numpy()), total=None):\n",
    "    total = len(dl) if total is None else total\n",
    "    errors = 0\n",
    "    ps, rs, ws, cs = [], [], [], []\n",
    "    for images, (texts, im_lens, text_lens) in tqdm(iter(dl), total=total):\n",
    "        y_pred = model(images).argmax(-1)\n",
    "        pred_texts = decode(y_pred)\n",
    "        for true_words, pred_words in zip(texts, pred_texts): # go through batch\n",
    "            if list(pred_words.shape) == []:\n",
    "#                 print('list(pred_words.shape) == []')\n",
    "                errors += 1\n",
    "                continue\n",
    "            true_words, pred_words = t2list(true_words), t2list(pred_words)\n",
    "            true_str, pred_str = idx2text(true_words), idx2text(pred_words)\n",
    "            p,r = calc_precision_recall(true_words, pred_words)\n",
    "            c = wer(true_str, pred_str)\n",
    "            w = wer(true_str.split(' '), pred_str.split(' '))\n",
    "            ps.append(p); rs.append(r); ws.append(w); cs.append(c)\n",
    "    print('errors:', errors)\n",
    "    return np.array(ps), np.array(rs), np.array(ws), np.array(cs)\n",
    "\n",
    "# p, r, w, c = evaluate_model(learner.model.train(), data.valid_dl)"
   ]
  },
  {
   "cell_type": "code",
   "execution_count": 74,
   "metadata": {},
   "outputs": [],
   "source": [
    "model = learner.model.eval()"
   ]
  },
  {
   "cell_type": "code",
   "execution_count": 75,
   "metadata": {},
   "outputs": [
    {
     "data": {
      "application/vnd.jupyter.widget-view+json": {
       "model_id": "912002e7b3bc442f9576194ed2f1db56",
       "version_major": 2,
       "version_minor": 0
      },
      "text/plain": [
       "HBox(children=(IntProgress(value=0, max=4684), HTML(value='')))"
      ]
     },
     "metadata": {},
     "output_type": "display_data"
    },
    {
     "name": "stdout",
     "output_type": "stream",
     "text": [
      "\n",
      "errors: 2\n"
     ]
    },
    {
     "data": {
      "text/plain": [
       "(0.007755478969301162,\n",
       " 0.04339869379501086,\n",
       " 0.9956939948055978,\n",
       " 0.9947688724869667)"
      ]
     },
     "execution_count": 75,
     "metadata": {},
     "output_type": "execute_result"
    }
   ],
   "source": [
    "p, r, w, c = evaluate_model(model, learner.data.train_dl)\n",
    "c.mean(), w.mean(), p.mean(), r.mean()"
   ]
  },
  {
   "cell_type": "code",
   "execution_count": 76,
   "metadata": {},
   "outputs": [
    {
     "data": {
      "application/vnd.jupyter.widget-view+json": {
       "model_id": "5b09070cf7e84fd8b0a7a71d9639ff9f",
       "version_major": 2,
       "version_minor": 0
      },
      "text/plain": [
       "HBox(children=(IntProgress(value=0, max=2306), HTML(value='')))"
      ]
     },
     "metadata": {},
     "output_type": "display_data"
    },
    {
     "name": "stdout",
     "output_type": "stream",
     "text": [
      "\n",
      "errors: 9\n"
     ]
    },
    {
     "data": {
      "text/plain": [
       "(0.01527761868750126,\n",
       " 0.07418353684529119,\n",
       " 0.9913311770598332,\n",
       " 0.9895199015760962)"
      ]
     },
     "execution_count": 76,
     "metadata": {},
     "output_type": "execute_result"
    }
   ],
   "source": [
    "p, r, w, c = evaluate_model(model, learner.data.valid_dl)\n",
    "c.mean(), w.mean(), p.mean(), r.mean()"
   ]
  }
 ],
 "metadata": {
  "kernelspec": {
   "display_name": "nlp",
   "language": "python",
   "name": "nlp"
  },
  "language_info": {
   "codemirror_mode": {
    "name": "ipython",
    "version": 3
   },
   "file_extension": ".py",
   "mimetype": "text/x-python",
   "name": "python",
   "nbconvert_exporter": "python",
   "pygments_lexer": "ipython3",
   "version": "3.7.5"
  }
 },
 "nbformat": 4,
 "nbformat_minor": 2
}
